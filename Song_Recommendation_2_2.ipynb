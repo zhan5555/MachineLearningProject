{
  "cells": [
    {
      "cell_type": "markdown",
      "metadata": {
        "id": "view-in-github",
        "colab_type": "text"
      },
      "source": [
        "<a href=\"https://colab.research.google.com/github/zhan5555/MachineLearningProject/blob/main/Song_Recommendation_2_2.ipynb\" target=\"_parent\"><img src=\"https://colab.research.google.com/assets/colab-badge.svg\" alt=\"Open In Colab\"/></a>"
      ]
    },
    {
      "cell_type": "markdown",
      "source": [
        "**Notebook on NLP and Graph Neural Network Recommendation System Solution**"
      ],
      "metadata": {
        "id": "LSuLaWXptRmP"
      }
    },
    {
      "cell_type": "markdown",
      "metadata": {
        "id": "SLOufxWacmA2"
      },
      "source": [
        "TPU Set Up\n",
        "https://colab.research.google.com/github/tensorflow/docs/blob/master/site/en/guide/tpu.ipynb#scrollTo=Mv7kehTZ1Lq_"
      ]
    },
    {
      "cell_type": "code",
      "execution_count": null,
      "metadata": {
        "colab": {
          "base_uri": "https://localhost:8080/"
        },
        "id": "O7lzqhfahAcf",
        "outputId": "6566fe67-00fa-4aa4-b5d8-7a784adbf845"
      },
      "outputs": [
        {
          "output_type": "stream",
          "name": "stdout",
          "text": [
            "Looking in links: https://data.pyg.org/whl/torch-2.4.1+cu121.html\n",
            "Collecting torch-scatter\n",
            "  Downloading torch_scatter-2.1.2.tar.gz (108 kB)\n",
            "\u001b[2K     \u001b[90m━━━━━━━━━━━━━━━━━━━━━━━━━━━━━━━━━━━━━━━━\u001b[0m \u001b[32m108.0/108.0 kB\u001b[0m \u001b[31m2.8 MB/s\u001b[0m eta \u001b[36m0:00:00\u001b[0m\n",
            "\u001b[?25h  Preparing metadata (setup.py) ... \u001b[?25l\u001b[?25hdone\n",
            "Building wheels for collected packages: torch-scatter\n",
            "  Building wheel for torch-scatter (setup.py) ... \u001b[?25l\u001b[?25hdone\n",
            "  Created wheel for torch-scatter: filename=torch_scatter-2.1.2-cp310-cp310-linux_x86_64.whl size=3662068 sha256=5734b9f5aa05fe9a32ca9410248586e2ee1aede22bf82486c467613150104e71\n",
            "  Stored in directory: /root/.cache/pip/wheels/92/f1/2b/3b46d54b134259f58c8363568569053248040859b1a145b3ce\n",
            "Successfully built torch-scatter\n",
            "Installing collected packages: torch-scatter\n",
            "Successfully installed torch-scatter-2.1.2\n",
            "Looking in links: https://data.pyg.org/whl/torch-2.4.1+cu121.html\n",
            "Collecting torch-sparse\n",
            "  Downloading torch_sparse-0.6.18.tar.gz (209 kB)\n",
            "\u001b[2K     \u001b[90m━━━━━━━━━━━━━━━━━━━━━━━━━━━━━━━━━━━━━━━━\u001b[0m \u001b[32m210.0/210.0 kB\u001b[0m \u001b[31m4.3 MB/s\u001b[0m eta \u001b[36m0:00:00\u001b[0m\n",
            "\u001b[?25h  Preparing metadata (setup.py) ... \u001b[?25l\u001b[?25hdone\n",
            "Requirement already satisfied: scipy in /usr/local/lib/python3.10/dist-packages (from torch-sparse) (1.13.1)\n",
            "Requirement already satisfied: numpy<2.3,>=1.22.4 in /usr/local/lib/python3.10/dist-packages (from scipy->torch-sparse) (1.26.4)\n",
            "Building wheels for collected packages: torch-sparse\n",
            "  Building wheel for torch-sparse (setup.py) ... \u001b[?25l\u001b[?25hdone\n",
            "  Created wheel for torch-sparse: filename=torch_sparse-0.6.18-cp310-cp310-linux_x86_64.whl size=2795429 sha256=5fb73016d00d666d77f329286cdbb79b5da4ff61bcdbebacd148674f8e617a5c\n",
            "  Stored in directory: /root/.cache/pip/wheels/c9/dd/0f/a6a16f9f3b0236733d257b4b4ea91b548b984a341ed3b8f38c\n",
            "Successfully built torch-sparse\n",
            "Installing collected packages: torch-sparse\n",
            "Successfully installed torch-sparse-0.6.18\n",
            "Looking in links: https://data.pyg.org/whl/torch-2.4.1+cu121.html\n",
            "Collecting torch-cluster\n",
            "  Downloading torch_cluster-1.6.3.tar.gz (54 kB)\n",
            "\u001b[2K     \u001b[90m━━━━━━━━━━━━━━━━━━━━━━━━━━━━━━━━━━━━━━━━\u001b[0m \u001b[32m54.5/54.5 kB\u001b[0m \u001b[31m2.4 MB/s\u001b[0m eta \u001b[36m0:00:00\u001b[0m\n",
            "\u001b[?25h  Preparing metadata (setup.py) ... \u001b[?25l\u001b[?25hdone\n",
            "Requirement already satisfied: scipy in /usr/local/lib/python3.10/dist-packages (from torch-cluster) (1.13.1)\n",
            "Requirement already satisfied: numpy<2.3,>=1.22.4 in /usr/local/lib/python3.10/dist-packages (from scipy->torch-cluster) (1.26.4)\n",
            "Building wheels for collected packages: torch-cluster\n",
            "  Building wheel for torch-cluster (setup.py) ... \u001b[?25l\u001b[?25hdone\n",
            "  Created wheel for torch-cluster: filename=torch_cluster-1.6.3-cp310-cp310-linux_x86_64.whl size=2033944 sha256=08edb5858e9d993e58f1c36f1914e3682d5ed64ff33be33a82438e0fce12a1aa\n",
            "  Stored in directory: /root/.cache/pip/wheels/51/78/c3/536637b3cdcc3313aa5e8851a6c72b97f6a01877e68c7595e3\n",
            "Successfully built torch-cluster\n",
            "Installing collected packages: torch-cluster\n",
            "Successfully installed torch-cluster-1.6.3\n",
            "Looking in links: https://data.pyg.org/whl/torch-2.4.1+cu121.html\n",
            "Collecting torch-spline-conv\n",
            "  Downloading torch_spline_conv-1.2.2.tar.gz (25 kB)\n",
            "  Preparing metadata (setup.py) ... \u001b[?25l\u001b[?25hdone\n",
            "Building wheels for collected packages: torch-spline-conv\n",
            "  Building wheel for torch-spline-conv (setup.py) ... \u001b[?25l\u001b[?25hdone\n",
            "  Created wheel for torch-spline-conv: filename=torch_spline_conv-1.2.2-cp310-cp310-linux_x86_64.whl size=562334 sha256=85cb13909d49a47bfdeb73ec1445491c2bb122d3c279651fff4f597003c506c3\n",
            "  Stored in directory: /root/.cache/pip/wheels/fc/34/be/187e4b5f5ccefecca2c1a5dfc8da244ec50baa1f33c7b8c9a1\n",
            "Successfully built torch-spline-conv\n",
            "Installing collected packages: torch-spline-conv\n",
            "Successfully installed torch-spline-conv-1.2.2\n",
            "Collecting torch-geometric\n",
            "  Downloading torch_geometric-2.6.1-py3-none-any.whl.metadata (63 kB)\n",
            "\u001b[2K     \u001b[90m━━━━━━━━━━━━━━━━━━━━━━━━━━━━━━━━━━━━━━━━\u001b[0m \u001b[32m63.1/63.1 kB\u001b[0m \u001b[31m1.8 MB/s\u001b[0m eta \u001b[36m0:00:00\u001b[0m\n",
            "\u001b[?25hRequirement already satisfied: aiohttp in /usr/local/lib/python3.10/dist-packages (from torch-geometric) (3.10.10)\n",
            "Requirement already satisfied: fsspec in /usr/local/lib/python3.10/dist-packages (from torch-geometric) (2024.6.1)\n",
            "Requirement already satisfied: jinja2 in /usr/local/lib/python3.10/dist-packages (from torch-geometric) (3.1.4)\n",
            "Requirement already satisfied: numpy in /usr/local/lib/python3.10/dist-packages (from torch-geometric) (1.26.4)\n",
            "Requirement already satisfied: psutil>=5.8.0 in /usr/local/lib/python3.10/dist-packages (from torch-geometric) (5.9.5)\n",
            "Requirement already satisfied: pyparsing in /usr/local/lib/python3.10/dist-packages (from torch-geometric) (3.2.0)\n",
            "Requirement already satisfied: requests in /usr/local/lib/python3.10/dist-packages (from torch-geometric) (2.32.3)\n",
            "Requirement already satisfied: tqdm in /usr/local/lib/python3.10/dist-packages (from torch-geometric) (4.66.5)\n",
            "Requirement already satisfied: aiohappyeyeballs>=2.3.0 in /usr/local/lib/python3.10/dist-packages (from aiohttp->torch-geometric) (2.4.3)\n",
            "Requirement already satisfied: aiosignal>=1.1.2 in /usr/local/lib/python3.10/dist-packages (from aiohttp->torch-geometric) (1.3.1)\n",
            "Requirement already satisfied: attrs>=17.3.0 in /usr/local/lib/python3.10/dist-packages (from aiohttp->torch-geometric) (24.2.0)\n",
            "Requirement already satisfied: frozenlist>=1.1.1 in /usr/local/lib/python3.10/dist-packages (from aiohttp->torch-geometric) (1.4.1)\n",
            "Requirement already satisfied: multidict<7.0,>=4.5 in /usr/local/lib/python3.10/dist-packages (from aiohttp->torch-geometric) (6.1.0)\n",
            "Requirement already satisfied: yarl<2.0,>=1.12.0 in /usr/local/lib/python3.10/dist-packages (from aiohttp->torch-geometric) (1.16.0)\n",
            "Requirement already satisfied: async-timeout<5.0,>=4.0 in /usr/local/lib/python3.10/dist-packages (from aiohttp->torch-geometric) (4.0.3)\n",
            "Requirement already satisfied: MarkupSafe>=2.0 in /usr/local/lib/python3.10/dist-packages (from jinja2->torch-geometric) (3.0.2)\n",
            "Requirement already satisfied: charset-normalizer<4,>=2 in /usr/local/lib/python3.10/dist-packages (from requests->torch-geometric) (3.4.0)\n",
            "Requirement already satisfied: idna<4,>=2.5 in /usr/local/lib/python3.10/dist-packages (from requests->torch-geometric) (3.10)\n",
            "Requirement already satisfied: urllib3<3,>=1.21.1 in /usr/local/lib/python3.10/dist-packages (from requests->torch-geometric) (2.2.3)\n",
            "Requirement already satisfied: certifi>=2017.4.17 in /usr/local/lib/python3.10/dist-packages (from requests->torch-geometric) (2024.8.30)\n",
            "Requirement already satisfied: typing-extensions>=4.1.0 in /usr/local/lib/python3.10/dist-packages (from multidict<7.0,>=4.5->aiohttp->torch-geometric) (4.12.2)\n",
            "Requirement already satisfied: propcache>=0.2.0 in /usr/local/lib/python3.10/dist-packages (from yarl<2.0,>=1.12.0->aiohttp->torch-geometric) (0.2.0)\n",
            "Downloading torch_geometric-2.6.1-py3-none-any.whl (1.1 MB)\n",
            "\u001b[2K   \u001b[90m━━━━━━━━━━━━━━━━━━━━━━━━━━━━━━━━━━━━━━━━\u001b[0m \u001b[32m1.1/1.1 MB\u001b[0m \u001b[31m18.6 MB/s\u001b[0m eta \u001b[36m0:00:00\u001b[0m\n",
            "\u001b[?25hInstalling collected packages: torch-geometric\n",
            "Successfully installed torch-geometric-2.6.1\n",
            "Collecting scikit-surprise\n",
            "  Downloading scikit_surprise-1.1.4.tar.gz (154 kB)\n",
            "\u001b[2K     \u001b[90m━━━━━━━━━━━━━━━━━━━━━━━━━━━━━━━━━━━━━━━━\u001b[0m \u001b[32m154.4/154.4 kB\u001b[0m \u001b[31m3.4 MB/s\u001b[0m eta \u001b[36m0:00:00\u001b[0m\n",
            "\u001b[?25h  Installing build dependencies ... \u001b[?25l\u001b[?25hdone\n",
            "  Getting requirements to build wheel ... \u001b[?25l\u001b[?25hdone\n",
            "  Preparing metadata (pyproject.toml) ... \u001b[?25l\u001b[?25hdone\n",
            "Requirement already satisfied: joblib>=1.2.0 in /usr/local/lib/python3.10/dist-packages (from scikit-surprise) (1.4.2)\n",
            "Requirement already satisfied: numpy>=1.19.5 in /usr/local/lib/python3.10/dist-packages (from scikit-surprise) (1.26.4)\n",
            "Requirement already satisfied: scipy>=1.6.0 in /usr/local/lib/python3.10/dist-packages (from scikit-surprise) (1.13.1)\n",
            "Building wheels for collected packages: scikit-surprise\n",
            "  Building wheel for scikit-surprise (pyproject.toml) ... \u001b[?25l\u001b[?25hdone\n",
            "  Created wheel for scikit-surprise: filename=scikit_surprise-1.1.4-cp310-cp310-linux_x86_64.whl size=2357274 sha256=427c1838bfd579da24779f159b0e39e78c28d0c62d87d3d92013b102847737b5\n",
            "  Stored in directory: /root/.cache/pip/wheels/4b/3f/df/6acbf0a40397d9bf3ff97f582cc22fb9ce66adde75bc71fd54\n",
            "Successfully built scikit-surprise\n",
            "Installing collected packages: scikit-surprise\n",
            "Successfully installed scikit-surprise-1.1.4\n",
            "Requirement already satisfied: transformers in /usr/local/lib/python3.10/dist-packages (4.44.2)\n",
            "Requirement already satisfied: filelock in /usr/local/lib/python3.10/dist-packages (from transformers) (3.16.1)\n",
            "Requirement already satisfied: huggingface-hub<1.0,>=0.23.2 in /usr/local/lib/python3.10/dist-packages (from transformers) (0.24.7)\n",
            "Requirement already satisfied: numpy>=1.17 in /usr/local/lib/python3.10/dist-packages (from transformers) (1.26.4)\n",
            "Requirement already satisfied: packaging>=20.0 in /usr/local/lib/python3.10/dist-packages (from transformers) (24.1)\n",
            "Requirement already satisfied: pyyaml>=5.1 in /usr/local/lib/python3.10/dist-packages (from transformers) (6.0.2)\n",
            "Requirement already satisfied: regex!=2019.12.17 in /usr/local/lib/python3.10/dist-packages (from transformers) (2024.9.11)\n",
            "Requirement already satisfied: requests in /usr/local/lib/python3.10/dist-packages (from transformers) (2.32.3)\n",
            "Requirement already satisfied: safetensors>=0.4.1 in /usr/local/lib/python3.10/dist-packages (from transformers) (0.4.5)\n",
            "Requirement already satisfied: tokenizers<0.20,>=0.19 in /usr/local/lib/python3.10/dist-packages (from transformers) (0.19.1)\n",
            "Requirement already satisfied: tqdm>=4.27 in /usr/local/lib/python3.10/dist-packages (from transformers) (4.66.5)\n",
            "Requirement already satisfied: fsspec>=2023.5.0 in /usr/local/lib/python3.10/dist-packages (from huggingface-hub<1.0,>=0.23.2->transformers) (2024.6.1)\n",
            "Requirement already satisfied: typing-extensions>=3.7.4.3 in /usr/local/lib/python3.10/dist-packages (from huggingface-hub<1.0,>=0.23.2->transformers) (4.12.2)\n",
            "Requirement already satisfied: charset-normalizer<4,>=2 in /usr/local/lib/python3.10/dist-packages (from requests->transformers) (3.4.0)\n",
            "Requirement already satisfied: idna<4,>=2.5 in /usr/local/lib/python3.10/dist-packages (from requests->transformers) (3.10)\n",
            "Requirement already satisfied: urllib3<3,>=1.21.1 in /usr/local/lib/python3.10/dist-packages (from requests->transformers) (2.2.3)\n",
            "Requirement already satisfied: certifi>=2017.4.17 in /usr/local/lib/python3.10/dist-packages (from requests->transformers) (2024.8.30)\n"
          ]
        }
      ],
      "source": [
        "#  Install PyTorch and PyTorch Geometric Dependencies\n",
        "!pip install torch-scatter -f https://data.pyg.org/whl/torch-2.4.1+cu121.html\n",
        "!pip install torch-sparse -f https://data.pyg.org/whl/torch-2.4.1+cu121.html\n",
        "!pip install torch-cluster -f https://data.pyg.org/whl/torch-2.4.1+cu121.html\n",
        "!pip install torch-spline-conv -f https://data.pyg.org/whl/torch-2.4.1+cu121.html\n",
        "!pip install torch-geometric\n",
        "!pip install scikit-surprise\n",
        "!pip install transformers\n",
        "!pip install torch-xla\n",
        "!pip install optuna # to use Bayesian Optimization on GNN model parameter search\n",
        "!pip install joblib"
      ]
    },
    {
      "cell_type": "code",
      "execution_count": null,
      "metadata": {
        "colab": {
          "base_uri": "https://localhost:8080/"
        },
        "collapsed": true,
        "id": "hKRj_haxe7_U",
        "outputId": "3877ff8e-2da5-4a3d-c733-ef79ce832eeb"
      },
      "outputs": [
        {
          "output_type": "stream",
          "name": "stdout",
          "text": [
            "Collecting torch-xla\n",
            "  Downloading torch_xla-2.5.0-cp310-cp310-manylinux_2_28_x86_64.whl.metadata (14 kB)\n",
            "Requirement already satisfied: absl-py>=1.0.0 in /usr/local/lib/python3.10/dist-packages (from torch-xla) (1.4.0)\n",
            "Requirement already satisfied: numpy in /usr/local/lib/python3.10/dist-packages (from torch-xla) (1.26.4)\n",
            "Requirement already satisfied: pyyaml in /usr/local/lib/python3.10/dist-packages (from torch-xla) (6.0.2)\n",
            "Requirement already satisfied: requests in /usr/local/lib/python3.10/dist-packages (from torch-xla) (2.32.3)\n",
            "Requirement already satisfied: charset-normalizer<4,>=2 in /usr/local/lib/python3.10/dist-packages (from requests->torch-xla) (3.4.0)\n",
            "Requirement already satisfied: idna<4,>=2.5 in /usr/local/lib/python3.10/dist-packages (from requests->torch-xla) (3.10)\n",
            "Requirement already satisfied: urllib3<3,>=1.21.1 in /usr/local/lib/python3.10/dist-packages (from requests->torch-xla) (2.2.3)\n",
            "Requirement already satisfied: certifi>=2017.4.17 in /usr/local/lib/python3.10/dist-packages (from requests->torch-xla) (2024.8.30)\n",
            "Downloading torch_xla-2.5.0-cp310-cp310-manylinux_2_28_x86_64.whl (90.6 MB)\n",
            "\u001b[2K   \u001b[90m━━━━━━━━━━━━━━━━━━━━━━━━━━━━━━━━━━━━━━━━\u001b[0m \u001b[32m90.6/90.6 MB\u001b[0m \u001b[31m19.1 MB/s\u001b[0m eta \u001b[36m0:00:00\u001b[0m\n",
            "\u001b[?25hInstalling collected packages: torch-xla\n",
            "Successfully installed torch-xla-2.5.0\n"
          ]
        }
      ],
      "source": [
        "!pip install torch-xla"
      ]
    },
    {
      "cell_type": "code",
      "execution_count": null,
      "metadata": {
        "colab": {
          "base_uri": "https://localhost:8080/"
        },
        "collapsed": true,
        "id": "ZH3X2wczd4xn",
        "outputId": "90e98608-7e27-4c3b-d276-e9bc0e68bd02"
      },
      "outputs": [
        {
          "output_type": "stream",
          "name": "stdout",
          "text": [
            "Collecting optuna\n",
            "  Downloading optuna-4.0.0-py3-none-any.whl.metadata (16 kB)\n",
            "Collecting alembic>=1.5.0 (from optuna)\n",
            "  Downloading alembic-1.13.3-py3-none-any.whl.metadata (7.4 kB)\n",
            "Collecting colorlog (from optuna)\n",
            "  Downloading colorlog-6.8.2-py3-none-any.whl.metadata (10 kB)\n",
            "Requirement already satisfied: numpy in /usr/local/lib/python3.10/dist-packages (from optuna) (1.26.4)\n",
            "Requirement already satisfied: packaging>=20.0 in /usr/local/lib/python3.10/dist-packages (from optuna) (24.1)\n",
            "Requirement already satisfied: sqlalchemy>=1.3.0 in /usr/local/lib/python3.10/dist-packages (from optuna) (2.0.36)\n",
            "Requirement already satisfied: tqdm in /usr/local/lib/python3.10/dist-packages (from optuna) (4.66.5)\n",
            "Requirement already satisfied: PyYAML in /usr/local/lib/python3.10/dist-packages (from optuna) (6.0.2)\n",
            "Collecting Mako (from alembic>=1.5.0->optuna)\n",
            "  Downloading Mako-1.3.6-py3-none-any.whl.metadata (2.9 kB)\n",
            "Requirement already satisfied: typing-extensions>=4 in /usr/local/lib/python3.10/dist-packages (from alembic>=1.5.0->optuna) (4.12.2)\n",
            "Requirement already satisfied: greenlet!=0.4.17 in /usr/local/lib/python3.10/dist-packages (from sqlalchemy>=1.3.0->optuna) (3.1.1)\n",
            "Requirement already satisfied: MarkupSafe>=0.9.2 in /usr/local/lib/python3.10/dist-packages (from Mako->alembic>=1.5.0->optuna) (3.0.2)\n",
            "Downloading optuna-4.0.0-py3-none-any.whl (362 kB)\n",
            "\u001b[2K   \u001b[90m━━━━━━━━━━━━━━━━━━━━━━━━━━━━━━━━━━━━━━━━\u001b[0m \u001b[32m362.8/362.8 kB\u001b[0m \u001b[31m7.8 MB/s\u001b[0m eta \u001b[36m0:00:00\u001b[0m\n",
            "\u001b[?25hDownloading alembic-1.13.3-py3-none-any.whl (233 kB)\n",
            "\u001b[2K   \u001b[90m━━━━━━━━━━━━━━━━━━━━━━━━━━━━━━━━━━━━━━━━\u001b[0m \u001b[32m233.2/233.2 kB\u001b[0m \u001b[31m24.6 MB/s\u001b[0m eta \u001b[36m0:00:00\u001b[0m\n",
            "\u001b[?25hDownloading colorlog-6.8.2-py3-none-any.whl (11 kB)\n",
            "Downloading Mako-1.3.6-py3-none-any.whl (78 kB)\n",
            "\u001b[2K   \u001b[90m━━━━━━━━━━━━━━━━━━━━━━━━━━━━━━━━━━━━━━━━\u001b[0m \u001b[32m78.6/78.6 kB\u001b[0m \u001b[31m8.4 MB/s\u001b[0m eta \u001b[36m0:00:00\u001b[0m\n",
            "\u001b[?25hInstalling collected packages: Mako, colorlog, alembic, optuna\n",
            "Successfully installed Mako-1.3.6 alembic-1.13.3 colorlog-6.8.2 optuna-4.0.0\n"
          ]
        }
      ],
      "source": [
        "pip install optuna # to use Bayesian Optimization on GNN model parameter search"
      ]
    },
    {
      "cell_type": "code",
      "execution_count": null,
      "metadata": {
        "colab": {
          "base_uri": "https://localhost:8080/"
        },
        "id": "62GudItEe_Z_",
        "outputId": "c7edcb81-65d1-4b54-d096-e33d6612516b"
      },
      "outputs": [
        {
          "output_type": "stream",
          "name": "stdout",
          "text": [
            "Requirement already satisfied: joblib in /usr/local/lib/python3.10/dist-packages (1.4.2)\n"
          ]
        }
      ],
      "source": [
        "pip install joblib"
      ]
    },
    {
      "cell_type": "code",
      "execution_count": null,
      "metadata": {
        "id": "IKFrkmXDMRem"
      },
      "outputs": [],
      "source": [
        "import tensorflow as tf\n",
        "import os\n",
        "import tensorflow_datasets as tfds\n",
        "import torch\n",
        "import torch_geometric"
      ]
    },
    {
      "cell_type": "code",
      "execution_count": null,
      "metadata": {
        "colab": {
          "base_uri": "https://localhost:8080/",
          "height": 356
        },
        "collapsed": true,
        "id": "xZep6g62dQks",
        "outputId": "1d6b5bfe-d91b-4baf-d43b-e3db3cf91a31"
      },
      "outputs": [
        {
          "ename": "ValueError",
          "evalue": "Please provide a TPU Name to connect to.",
          "output_type": "error",
          "traceback": [
            "\u001b[0;31m---------------------------------------------------------------------------\u001b[0m",
            "\u001b[0;31mValueError\u001b[0m                                Traceback (most recent call last)",
            "\u001b[0;32m<ipython-input-14-b12d8b7f68d1>\u001b[0m in \u001b[0;36m<cell line: 2>\u001b[0;34m()\u001b[0m\n\u001b[1;32m      1\u001b[0m \u001b[0;31m# Initialize the TPU strategy - intall packages before this cell\u001b[0m\u001b[0;34m\u001b[0m\u001b[0;34m\u001b[0m\u001b[0m\n\u001b[0;32m----> 2\u001b[0;31m \u001b[0mresolver\u001b[0m \u001b[0;34m=\u001b[0m \u001b[0mtf\u001b[0m\u001b[0;34m.\u001b[0m\u001b[0mdistribute\u001b[0m\u001b[0;34m.\u001b[0m\u001b[0mcluster_resolver\u001b[0m\u001b[0;34m.\u001b[0m\u001b[0mTPUClusterResolver\u001b[0m\u001b[0;34m(\u001b[0m\u001b[0;34m)\u001b[0m\u001b[0;34m\u001b[0m\u001b[0;34m\u001b[0m\u001b[0m\n\u001b[0m\u001b[1;32m      3\u001b[0m \u001b[0mtf\u001b[0m\u001b[0;34m.\u001b[0m\u001b[0mconfig\u001b[0m\u001b[0;34m.\u001b[0m\u001b[0mexperimental_connect_to_cluster\u001b[0m\u001b[0;34m(\u001b[0m\u001b[0mresolver\u001b[0m\u001b[0;34m)\u001b[0m\u001b[0;34m\u001b[0m\u001b[0;34m\u001b[0m\u001b[0m\n\u001b[1;32m      4\u001b[0m \u001b[0;34m\u001b[0m\u001b[0m\n\u001b[1;32m      5\u001b[0m \u001b[0;31m# This is the TPU initialization code that has to be at the beginning.\u001b[0m\u001b[0;34m\u001b[0m\u001b[0;34m\u001b[0m\u001b[0m\n",
            "\u001b[0;32m/usr/local/lib/python3.10/dist-packages/tensorflow/python/distribute/cluster_resolver/tpu/tpu_cluster_resolver.py\u001b[0m in \u001b[0;36m__init__\u001b[0;34m(self, tpu, zone, project, job_name, coordinator_name, coordinator_address, credentials, service, discovery_url)\u001b[0m\n\u001b[1;32m    233\u001b[0m     \u001b[0;32mif\u001b[0m \u001b[0mtpu\u001b[0m \u001b[0;34m!=\u001b[0m \u001b[0;34m'local'\u001b[0m\u001b[0;34m:\u001b[0m\u001b[0;34m\u001b[0m\u001b[0;34m\u001b[0m\u001b[0m\n\u001b[1;32m    234\u001b[0m       \u001b[0;31m# Default Cloud environment\u001b[0m\u001b[0;34m\u001b[0m\u001b[0;34m\u001b[0m\u001b[0m\n\u001b[0;32m--> 235\u001b[0;31m       self._cloud_tpu_client = client.Client(\n\u001b[0m\u001b[1;32m    236\u001b[0m           \u001b[0mtpu\u001b[0m\u001b[0;34m=\u001b[0m\u001b[0mtpu\u001b[0m\u001b[0;34m,\u001b[0m\u001b[0;34m\u001b[0m\u001b[0;34m\u001b[0m\u001b[0m\n\u001b[1;32m    237\u001b[0m           \u001b[0mzone\u001b[0m\u001b[0;34m=\u001b[0m\u001b[0mzone\u001b[0m\u001b[0;34m,\u001b[0m\u001b[0;34m\u001b[0m\u001b[0;34m\u001b[0m\u001b[0m\n",
            "\u001b[0;32m/usr/local/lib/python3.10/dist-packages/tensorflow/python/tpu/client/client.py\u001b[0m in \u001b[0;36m__init__\u001b[0;34m(self, tpu, zone, project, credentials, service, discovery_url)\u001b[0m\n\u001b[1;32m    157\u001b[0m         \u001b[0mzone\u001b[0m \u001b[0;34m=\u001b[0m \u001b[0mzone\u001b[0m \u001b[0;32mor\u001b[0m \u001b[0mtpu_node_config\u001b[0m\u001b[0;34m.\u001b[0m\u001b[0mget\u001b[0m\u001b[0;34m(\u001b[0m\u001b[0;34m'zone'\u001b[0m\u001b[0;34m)\u001b[0m\u001b[0;34m\u001b[0m\u001b[0;34m\u001b[0m\u001b[0m\n\u001b[1;32m    158\u001b[0m       \u001b[0;32melse\u001b[0m\u001b[0;34m:\u001b[0m\u001b[0;34m\u001b[0m\u001b[0;34m\u001b[0m\u001b[0m\n\u001b[0;32m--> 159\u001b[0;31m         \u001b[0;32mraise\u001b[0m \u001b[0mValueError\u001b[0m\u001b[0;34m(\u001b[0m\u001b[0;34m'Please provide a TPU Name to connect to.'\u001b[0m\u001b[0;34m)\u001b[0m\u001b[0;34m\u001b[0m\u001b[0;34m\u001b[0m\u001b[0m\n\u001b[0m\u001b[1;32m    160\u001b[0m \u001b[0;34m\u001b[0m\u001b[0m\n\u001b[1;32m    161\u001b[0m     \u001b[0mself\u001b[0m\u001b[0;34m.\u001b[0m\u001b[0m_tpu\u001b[0m \u001b[0;34m=\u001b[0m \u001b[0m_as_text\u001b[0m\u001b[0;34m(\u001b[0m\u001b[0mtpu\u001b[0m\u001b[0;34m)\u001b[0m\u001b[0;34m\u001b[0m\u001b[0;34m\u001b[0m\u001b[0m\n",
            "\u001b[0;31mValueError\u001b[0m: Please provide a TPU Name to connect to."
          ]
        }
      ],
      "source": [
        "# Initialize the TPU strategy - intall packages before this cell\n",
        "resolver = tf.distribute.cluster_resolver.TPUClusterResolver()\n",
        "tf.config.experimental_connect_to_cluster(resolver)\n",
        "\n",
        "# This is the TPU initialization code that has to be at the beginning.\n",
        "tf.tpu.experimental.initialize_tpu_system(resolver)\n",
        "strategy = tf.distribute.TPUStrategy(resolver)  # Use resolver directly\n",
        "\n",
        "print(\"All devices: \", tf.config.list_logical_devices('TPU'))\n",
        "print('TPU initialized successfully')"
      ]
    },
    {
      "cell_type": "code",
      "execution_count": null,
      "metadata": {
        "colab": {
          "base_uri": "https://localhost:8080/"
        },
        "id": "GFoZcRYCboU6",
        "outputId": "91509b9b-156d-4f63-e6ce-86bbac4f8032"
      },
      "outputs": [
        {
          "name": "stdout",
          "output_type": "stream",
          "text": [
            "c device:  /job:localhost/replica:0/task:0/device:TPU:0\n",
            "tf.Tensor(\n",
            "[[22. 28.]\n",
            " [49. 64.]], shape=(2, 2), dtype=float32)\n"
          ]
        }
      ],
      "source": [
        "a = tf.constant([[1.0, 2.0, 3.0], [4.0, 5.0, 6.0]])\n",
        "b = tf.constant([[1.0, 2.0], [3.0, 4.0], [5.0, 6.0]])\n",
        "\n",
        "with tf.device('/TPU:0'):\n",
        "  c = tf.matmul(a, b)\n",
        "\n",
        "print(\"c device: \", c.device)\n",
        "print(c)"
      ]
    },
    {
      "cell_type": "code",
      "execution_count": null,
      "metadata": {
        "colab": {
          "base_uri": "https://localhost:8080/"
        },
        "id": "01MBvLb1bxGB",
        "outputId": "208dc906-e105-420b-b627-ca697fa7c8f5"
      },
      "outputs": [
        {
          "output_type": "stream",
          "name": "stdout",
          "text": [
            "Mounted at /content/drive\n"
          ]
        }
      ],
      "source": [
        "# Run me 1 - Mounting the drive\n",
        "from google.colab import drive\n",
        "drive.mount('/content/drive')"
      ]
    },
    {
      "cell_type": "code",
      "execution_count": null,
      "metadata": {
        "collapsed": true,
        "id": "udBPgCdgfLFd"
      },
      "outputs": [],
      "source": [
        "# Run me 2\n",
        "import warnings\n",
        "warnings.filterwarnings('ignore')\n",
        "\n",
        "# Basic libraries of python for numeric and dataframe computations\n",
        "import numpy as np\n",
        "import pandas as pd\n",
        "\n",
        "# Basic library for data visualization\n",
        "import matplotlib.pyplot as plt\n",
        "\n",
        "# Slightly advanced library for data visualization\n",
        "import seaborn as sns\n",
        "\n",
        "# To compute the cosine similarity between two vectors\n",
        "from sklearn.metrics.pairwise import cosine_similarity\n",
        "# To compute the accuracy of models\n",
        "from sklearn.metrics import accuracy_score\n",
        "\n",
        "# A dictionary output that does not raise a key error\n",
        "from collections import defaultdict\n",
        "\n",
        "# A performance metrics in sklearn\n",
        "from sklearn.metrics import mean_squared_error\n",
        "\n",
        "# To compute the accuracy of models\n",
        "from surprise import accuracy\n",
        "\n",
        "# This class is used to parse a file containing play_counts, data should be in structure - user; item; play_count\n",
        "from surprise.reader import Reader\n",
        "\n",
        "# Class for loading datasets\n",
        "from surprise.dataset import Dataset\n",
        "\n",
        "# For tuning model hyperparameters\n",
        "from surprise.model_selection import GridSearchCV\n",
        "\n",
        "# For splitting the data in train and test dataset\n",
        "from surprise.model_selection import train_test_split\n",
        "\n",
        "# For implementing similarity-based recommendation system\n",
        "from surprise.prediction_algorithms.knns import KNNBasic\n",
        "\n",
        "# For implementing matrix factorization based recommendation system\n",
        "from surprise.prediction_algorithms.matrix_factorization import SVD\n",
        "\n",
        "# For implementing KFold cross-validation\n",
        "from surprise.model_selection import KFold\n",
        "\n",
        "# For implementing clustering-based recommendation system\n",
        "from surprise import CoClustering\n",
        "\n",
        "import random\n",
        "from surprise.model_selection import GridSearchCV, train_test_split\n",
        "from surprise import Dataset, Reader, SVD, accuracy, KNNBasic\n",
        "from surprise.model_selection import train_test_split\n",
        "\n",
        "from sklearn.cluster import KMeans\n",
        "from sklearn.model_selection import train_test_split\n",
        "from sklearn.metrics import silhouette_score, davies_bouldin_score\n",
        "from math import log2\n",
        "from collections import defaultdict\n",
        "import networkx as nx"
      ]
    },
    {
      "cell_type": "code",
      "execution_count": null,
      "metadata": {
        "colab": {
          "base_uri": "https://localhost:8080/"
        },
        "id": "XjIPND-kf5IG",
        "outputId": "d0d3c9cb-a209-4411-bf10-60b6d1dd64bc"
      },
      "outputs": [
        {
          "output_type": "stream",
          "name": "stdout",
          "text": [
            "2.17.0\n",
            "PyTorch version: 2.5.0+cu121\n",
            "PyTorch Geometric version: 2.6.1\n"
          ]
        }
      ],
      "source": [
        "print(tf.__version__)  # Make sure TensorFlow is still the correct version\n",
        "print(f\"PyTorch version: {torch.__version__}\")  # Verify Installation of PyTorch\n",
        "print(f\"PyTorch Geometric version: {torch_geometric.__version__}\")"
      ]
    },
    {
      "cell_type": "code",
      "execution_count": null,
      "metadata": {
        "id": "DthpcGWYffn9"
      },
      "outputs": [],
      "source": [
        "# Run me 3 - importing the datasets\n",
        "count_df = pd.read_csv('/content/drive/MyDrive/Python Course/count_data.csv')\n",
        "song_df = pd.read_csv('/content/drive/MyDrive/Python Course/song_data.csv')\n",
        "# df_Bert = pd.read_csv('/content/drive/MyDrive/Python Course/df_Bert.csv')"
      ]
    },
    {
      "cell_type": "markdown",
      "metadata": {
        "id": "mc6qaCBw7Lqz"
      },
      "source": [
        "## Create final df for text embedding"
      ]
    },
    {
      "cell_type": "code",
      "execution_count": null,
      "metadata": {
        "colab": {
          "base_uri": "https://localhost:8080/"
        },
        "id": "wR-GG-rOfUFI",
        "outputId": "0ddf7066-7f00-49ed-9609-2ceae583af4c"
      },
      "outputs": [
        {
          "name": "stdout",
          "output_type": "stream",
          "text": [
            "Number of songs that did not get joined to count_df: 0\n",
            "Number of rows in df: 2000000\n",
            "Number of columns in df: 7\n",
            "Number of unique user IDs: 76353\n",
            "Number of unique song IDs: 10000\n",
            "                                    user_id             song_id  play_count  \\\n",
            "0  b80344d063b5ccb3212f76538f3d9e43d87dca9e  SOAKIMP12A8C130995           1   \n",
            "1  b80344d063b5ccb3212f76538f3d9e43d87dca9e  SOBBMDR12A8C13253B           2   \n",
            "2  b80344d063b5ccb3212f76538f3d9e43d87dca9e  SOBXHDL12A81C204C0           1   \n",
            "3  b80344d063b5ccb3212f76538f3d9e43d87dca9e  SOBYHAJ12A6701BF1D           1   \n",
            "4  b80344d063b5ccb3212f76538f3d9e43d87dca9e  SODACBL12A8C13C273           1   \n",
            "\n",
            "             title                        release    artist_name  year  \n",
            "0         The Cove             Thicker Than Water   Jack Johnson     0  \n",
            "1  Entre Dos Aguas            Flamenco Para Niños  Paco De Lucia  1976  \n",
            "2         Stronger                     Graduation     Kanye West  2007  \n",
            "3   Constellations              In Between Dreams   Jack Johnson  2005  \n",
            "4     Learn To Fly  There Is Nothing Left To Lose   Foo Fighters  1999  \n"
          ]
        }
      ],
      "source": [
        "# Run me 4 - create final df\n",
        "# drop duplicated rows in sound_df. Then join sound_df to count_df on song ID and drop the column 'Unnamed: 0'. name new dataset df. print how many songs did not get joined to count df,print number rows and columns of df, print number of unique user IDs and song IDs from df, print top 5 rows\n",
        "\n",
        "# Drop duplicate rows in song_df based on 'song_id'\n",
        "song_df = song_df.drop_duplicates(subset=['song_id'])\n",
        "\n",
        "# Merge song_df and count_df on 'song_id'\n",
        "df = pd.merge(count_df, song_df, on='song_id', how='left')\n",
        "\n",
        "# Drop the 'Unnamed: 0' column if it exists\n",
        "if 'Unnamed: 0' in df.columns:\n",
        "  df = df.drop('Unnamed: 0', axis=1)\n",
        "\n",
        "# Calculate the number of songs that did not get joined\n",
        "songs_not_joined = count_df.shape[0] - df.shape[0]\n",
        "print(f\"Number of songs that did not get joined to count_df: {songs_not_joined}\")\n",
        "\n",
        "# Print number of rows and columns of the merged DataFrame\n",
        "print(f\"Number of rows in df: {df.shape[0]}\")\n",
        "print(f\"Number of columns in df: {df.shape[1]}\")\n",
        "\n",
        "# Print number of unique user IDs and song IDs from df\n",
        "print(f\"Number of unique user IDs: {df['user_id'].nunique()}\")\n",
        "print(f\"Number of unique song IDs: {df['song_id'].nunique()}\")\n",
        "\n",
        "# Print the top 5 rows of df\n",
        "print(df.head(5))"
      ]
    },
    {
      "cell_type": "code",
      "execution_count": null,
      "metadata": {
        "colab": {
          "base_uri": "https://localhost:8080/"
        },
        "id": "jM-blBH1gSIb",
        "outputId": "592ee526-0b53-497a-9579-d2cedd85233c"
      },
      "outputs": [
        {
          "name": "stdout",
          "output_type": "stream",
          "text": [
            "   user_id  song_id  play_count            title  \\\n",
            "0    54961      153           1         The Cove   \n",
            "1    54961      413           2  Entre Dos Aguas   \n",
            "2    54961      736           1         Stronger   \n",
            "3    54961      750           1   Constellations   \n",
            "4    54961     1188           1     Learn To Fly   \n",
            "\n",
            "                         release    artist_name  year  \n",
            "0             Thicker Than Water   Jack Johnson     0  \n",
            "1            Flamenco Para Niños  Paco De Lucia  1976  \n",
            "2                     Graduation     Kanye West  2007  \n",
            "3              In Between Dreams   Jack Johnson  2005  \n",
            "4  There Is Nothing Left To Lose   Foo Fighters  1999  \n"
          ]
        }
      ],
      "source": [
        "# Run me 5 -  Apply label encoding for \"user_id\" and \"song_id\"\n",
        "# # Label encoding code\n",
        "\n",
        "from sklearn.preprocessing import LabelEncoder\n",
        "\n",
        "le_user = LabelEncoder()\n",
        "le_song = LabelEncoder()\n",
        "\n",
        "df['user_id'] = le_user.fit_transform(df['user_id'])\n",
        "df['song_id'] = le_song.fit_transform(df['song_id'])\n",
        "\n",
        "print(df.head())"
      ]
    },
    {
      "cell_type": "code",
      "execution_count": null,
      "metadata": {
        "colab": {
          "base_uri": "https://localhost:8080/"
        },
        "id": "kBa4h6jOgXoT",
        "outputId": "35eba39a-1689-42db-ea1b-d44609d164d7"
      },
      "outputs": [
        {
          "name": "stdout",
          "output_type": "stream",
          "text": [
            "Row count: 940730\n",
            "Column count: 7\n",
            "Unique user IDs: 20642\n",
            "Unique song IDs: 7711\n"
          ]
        }
      ],
      "source": [
        "# Run me 6 - filter for FINAL DATASET\n",
        "\n",
        "#We include users who have listened to at least 3 unique songs.\n",
        "#Users have a total play count of 80 times or more.\n",
        "#We include only songs that have an average user play count of over 2 times.\n",
        "\n",
        "# Step 1: Filter songs that have an average play count of over 2 times\n",
        "popular_songs = df.groupby('song_id')['play_count'].mean()\n",
        "popular_songs = popular_songs[popular_songs > 2].index.tolist()\n",
        "df_popular_songs = df[df['song_id'].isin(popular_songs)]\n",
        "\n",
        "# Step 2: From the filtered songs, identify users who have total play counts of 80 or more and have listened to at least 3 unique songs\n",
        "user_stats = df_popular_songs.groupby('user_id').agg({'play_count': 'sum', 'song_id': 'nunique'})\n",
        "active_users = user_stats[(user_stats['play_count'] >= 80) & (user_stats['song_id'] >= 3)].index.tolist()\n",
        "df_final = df_popular_songs[df_popular_songs['user_id'].isin(active_users)]\n",
        "\n",
        "\n",
        "# Display info for the final DataFrame\n",
        "print(f\"Row count: {df_final.shape[0]}\")\n",
        "print(f\"Column count: {df_final.shape[1]}\")\n",
        "print(f\"Unique user IDs: {df_final['user_id'].nunique()}\")\n",
        "print(f\"Unique song IDs: {df_final['song_id'].nunique()}\")"
      ]
    },
    {
      "cell_type": "code",
      "execution_count": null,
      "metadata": {
        "colab": {
          "base_uri": "https://localhost:8080/"
        },
        "id": "pFpbk0_Ygb-P",
        "outputId": "0c64be00-5423-4bd2-8dba-76f17072df5d"
      },
      "outputs": [
        {
          "name": "stdout",
          "output_type": "stream",
          "text": [
            "   user_id  song_id  play_count                                         title  \\\n",
            "0    22570     1286           6                              Somebody To Love   \n",
            "1    22570     1811          13  Ghosts 'n' Stuff (Original Instrumental Mix)   \n",
            "2    22570     2409           6                           My Dad's Gone Crazy   \n",
            "3    22570     2430           4                                   Missing You   \n",
            "4    22570     3781           2                                 Ya Nada Queda   \n",
            "\n",
            "                release           artist_name  year  popularity_score  \n",
            "0             My Worlds         Justin Bieber  2010          0.134081  \n",
            "1      Ghosts 'n' Stuff              Deadmau5  2009          0.094275  \n",
            "2       The Eminem Show  Eminem / Hailie Jade  2006          0.034575  \n",
            "3          Love To Love            John Waite  1984          0.084749  \n",
            "4  Ultimate Hits Latino                 Kudai  2004          0.037017  \n"
          ]
        }
      ],
      "source": [
        "# Ran me 8\n",
        "# add a new column to update df final name \"Popularity Score\", for each song\n",
        "# the formula is Unique Users Played per song ×(Unique Users Played per song / Total Play Count per song) and normalized with min and max calues. Display top 5 rows\n",
        "\n",
        "# Assuming df_final is your DataFrame with columns: user_id, song_id, play_count\n",
        "\n",
        "# Step 1: Calculate total play count per song\n",
        "df_total_play_count = df_final.groupby('song_id')['play_count'].sum().reset_index()\n",
        "df_total_play_count.rename(columns={'play_count': 'total_play_count'}, inplace=True)\n",
        "\n",
        "# Step 2: Calculate the average play per user for each song\n",
        "df_avg_play_per_user = df_final.groupby('song_id')['play_count'].mean().reset_index()\n",
        "df_avg_play_per_user.rename(columns={'play_count': 'avg_play_per_user'}, inplace=True)\n",
        "\n",
        "# Step 3: Merge total play count and average play per user into one DataFrame\n",
        "df_song_popularity = pd.merge(df_total_play_count, df_avg_play_per_user, on='song_id')\n",
        "\n",
        "# Step 4: Normalize both total play count and average play per user\n",
        "df_song_popularity['total_play_count_norm'] = (df_song_popularity['total_play_count'] - df_song_popularity['total_play_count'].min()) / \\\n",
        "                                              (df_song_popularity['total_play_count'].max() - df_song_popularity['total_play_count'].min())\n",
        "\n",
        "df_song_popularity['avg_play_per_user_norm'] = (df_song_popularity['avg_play_per_user'] - df_song_popularity['avg_play_per_user'].min()) / \\\n",
        "                                               (df_song_popularity['avg_play_per_user'].max() - df_song_popularity['avg_play_per_user'].min())\n",
        "\n",
        "# Step 5: Calculate the final popularity score by combining the normalized values (you can adjust the weights)\n",
        "df_song_popularity['popularity_score'] = (df_song_popularity['total_play_count_norm'] * 0.6) + \\\n",
        "                                         (df_song_popularity['avg_play_per_user_norm'] * 0.4)\n",
        "\n",
        "# Step 6: Merge the popularity score back to the original DataFrame\n",
        "df_final = pd.merge(df_final, df_song_popularity[['song_id', 'popularity_score']], on='song_id', how='left')\n",
        "\n",
        "# df_final now has a new column 'popularity_score'\n",
        "print(df_final.head())\n"
      ]
    },
    {
      "cell_type": "markdown",
      "metadata": {
        "id": "4hkhChifgeen"
      },
      "source": [
        "## Create Test Embedding DistilBERT"
      ]
    },
    {
      "cell_type": "code",
      "execution_count": null,
      "metadata": {
        "colab": {
          "base_uri": "https://localhost:8080/"
        },
        "id": "ydZGe2yogkNU",
        "outputId": "8a8f5911-5652-45ec-8d1d-34055bbaaaf6"
      },
      "outputs": [
        {
          "name": "stdout",
          "output_type": "stream",
          "text": [
            "                                          title               release  \\\n",
            "0                              Somebody To Love             My Worlds   \n",
            "1  Ghosts 'n' Stuff (Original Instrumental Mix)      Ghosts 'n' Stuff   \n",
            "2                           My Dad's Gone Crazy       The Eminem Show   \n",
            "3                                   Missing You          Love To Love   \n",
            "4                                 Ya Nada Queda  Ultimate Hits Latino   \n",
            "\n",
            "            artist_name                                               text  \n",
            "0         Justin Bieber           Somebody To Love My Worlds Justin Bieber  \n",
            "1              Deadmau5  Ghosts 'n' Stuff (Original Instrumental Mix) G...  \n",
            "2  Eminem / Hailie Jade  My Dad's Gone Crazy The Eminem Show Eminem / H...  \n",
            "3            John Waite                Missing You Love To Love John Waite  \n",
            "4                 Kudai           Ya Nada Queda Ultimate Hits Latino Kudai  \n",
            "Index(['user_id', 'song_id', 'play_count', 'title', 'release', 'artist_name',\n",
            "       'year', 'popularity_score', 'text'],\n",
            "      dtype='object')\n"
          ]
        }
      ],
      "source": [
        "# Make a copy of df_final\n",
        "df_Bert = df_final.copy()\n",
        "\n",
        "# Ensure all parts being concatenated are strings and create a new column 'text'\n",
        "df_Bert['text'] = df_Bert['title'].astype(str) + \" \" + df_Bert['release'].astype(str) + \" \" + df_Bert['artist_name'].astype(str)\n",
        "\n",
        "# Print the first few rows of df_Bert to check if the new column was added and the original columns were retained\n",
        "print(df_Bert[['title', 'release', 'artist_name', 'text']].head())\n",
        "\n",
        "# Optionally, print the column names to ensure no columns were dropped\n",
        "print(df_Bert.columns)"
      ]
    },
    {
      "cell_type": "markdown",
      "metadata": {
        "id": "fDZk7LvZ8Qa-"
      },
      "source": [
        "### Run embeddings to text column, saving all columns and embeddings to dataframe [using GPU accelerator]"
      ]
    },
    {
      "cell_type": "code",
      "execution_count": null,
      "metadata": {
        "colab": {
          "base_uri": "https://localhost:8080/",
          "height": 353,
          "referenced_widgets": [
            "7e83cdc93e7e441bbfc3f5787bdc291f",
            "8768cee66d60445692e0282656fa7b2d",
            "efa5a4e4a494448495a03ed0bc33c5f0",
            "92d68de1b5944f51b0d2c85c26444036",
            "f7f3d49c9c174fd3b22d5df5b8ede87f",
            "0002ebd199094c06a527e4d7d4af0fb6",
            "068cd48b6c9a472fa1e41fefd6170abc",
            "9b6a710605a648598ee216599cf157a7",
            "372439554271423394d67486747f7422",
            "a0787f0af7e54c0d864507b22a6b9be4",
            "429c47e843d84b3a90e7f054346f2aaf",
            "34bfedbce9194e69ac053281ab21344c",
            "43ac27f104b24a04902dd289bb522541",
            "5bf61f17b3244545b8bcbca85c01e1ee",
            "ee4a82fab54d4e6790474d35322e5704",
            "dc06f2d3bace433d8bdae9b92b28d201",
            "50f82436943248bfa1438d7b6715fcef",
            "e2f1f1e4d47f4c68aa0bbb43a9bde97a",
            "77a1da7e3e9840dbae4043efa0d2721e",
            "4b010e5a0272489db7decd5684d3364a",
            "68c1a24464fc4c689d5e36cf8556d819",
            "6f8937b8e4e84e578efbaecb6e0207f3",
            "be16923cf0e44d82ae6bbccd473599b3",
            "012dce7d37384ff9b6af4c2defbc940d",
            "cc26407580ec44d4bc7e680bbefd8fee",
            "66100ef2fa1b4e56bbcc9aec12f7e35e",
            "79dc6af6c4c44fa4b99536af8e067bb1",
            "c2e1ffd9188449368db51cb350a0731c",
            "d6318d7cbde44993b5cd03c231594034",
            "0b07384060d04d5785d0fb6ec938ae11",
            "7973ec02313b49a3aba8b5346b3715bc",
            "874e0ccee1c54765ad8715decf6dc473",
            "748023cb8a9e40c6930b3982e19c6060",
            "85246481eee1438f9ac404a3aeea5835",
            "a262bf8ca37f47bfa0be53a332f0dfeb",
            "3cb7463a4b344d5a82dde612605b2eff",
            "c43ee43531e94548a1c2b58d3436e082",
            "f8d94fe864874ba1b7081b38283a07c9",
            "e64b8fe6804f45a5a45d77fb1e11cc77",
            "c515d27d281d4e51aa008b4556615d88",
            "458d0e7c18ef40a6b80470082208c4e0",
            "943b4757543c41989ab805d7b25d4597",
            "38c8bcaccfdd4d6fb75550a61d47e403",
            "b8f62614939847bc97e7956688d2807c",
            "6e700176e15b4344b24dcbd8d17c51f3",
            "d097e0e83cad4b278c7ae5f75a734896",
            "cd3e4544cd5446c18edbbc37d8c2800d",
            "e7191da831554ff3a0a64e2d7113433f",
            "2a873839a5904f858e885d2a28183c6f",
            "068e09e5337941be9c2ebd1800a14651",
            "d2ca4b5813be4069ab46f0ca64173614",
            "ba2dbfd1bb184d398a72adf85920390e",
            "0cc219dfe1b7492aa9f38b6a955b3bc5",
            "d0dd5925b7144a7c90e336bc2d450a9d",
            "4b6591103e574261a350c9a0b238a7a2"
          ]
        },
        "id": "_dyfsgaJWk3p",
        "outputId": "f23f5f8f-0b38-4363-d1b8-77e950b4e574"
      },
      "outputs": [
        {
          "name": "stdout",
          "output_type": "stream",
          "text": [
            "Drive already mounted at /content/drive; to attempt to forcibly remount, call drive.mount(\"/content/drive\", force_remount=True).\n",
            "GPU is available. Using GPU for embedding generation.\n"
          ]
        },
        {
          "data": {
            "application/vnd.jupyter.widget-view+json": {
              "model_id": "7e83cdc93e7e441bbfc3f5787bdc291f",
              "version_major": 2,
              "version_minor": 0
            },
            "text/plain": [
              "tokenizer_config.json:   0%|          | 0.00/48.0 [00:00<?, ?B/s]"
            ]
          },
          "metadata": {},
          "output_type": "display_data"
        },
        {
          "data": {
            "application/vnd.jupyter.widget-view+json": {
              "model_id": "34bfedbce9194e69ac053281ab21344c",
              "version_major": 2,
              "version_minor": 0
            },
            "text/plain": [
              "vocab.txt:   0%|          | 0.00/232k [00:00<?, ?B/s]"
            ]
          },
          "metadata": {},
          "output_type": "display_data"
        },
        {
          "data": {
            "application/vnd.jupyter.widget-view+json": {
              "model_id": "be16923cf0e44d82ae6bbccd473599b3",
              "version_major": 2,
              "version_minor": 0
            },
            "text/plain": [
              "tokenizer.json:   0%|          | 0.00/466k [00:00<?, ?B/s]"
            ]
          },
          "metadata": {},
          "output_type": "display_data"
        },
        {
          "data": {
            "application/vnd.jupyter.widget-view+json": {
              "model_id": "85246481eee1438f9ac404a3aeea5835",
              "version_major": 2,
              "version_minor": 0
            },
            "text/plain": [
              "config.json:   0%|          | 0.00/483 [00:00<?, ?B/s]"
            ]
          },
          "metadata": {},
          "output_type": "display_data"
        },
        {
          "data": {
            "application/vnd.jupyter.widget-view+json": {
              "model_id": "6e700176e15b4344b24dcbd8d17c51f3",
              "version_major": 2,
              "version_minor": 0
            },
            "text/plain": [
              "model.safetensors:   0%|          | 0.00/268M [00:00<?, ?B/s]"
            ]
          },
          "metadata": {},
          "output_type": "display_data"
        },
        {
          "name": "stderr",
          "output_type": "stream",
          "text": [
            "Some weights of the PyTorch model were not used when initializing the TF 2.0 model TFDistilBertModel: ['vocab_layer_norm.weight', 'vocab_transform.bias', 'vocab_transform.weight', 'vocab_layer_norm.bias', 'vocab_projector.bias']\n",
            "- This IS expected if you are initializing TFDistilBertModel from a PyTorch model trained on another task or with another architecture (e.g. initializing a TFBertForSequenceClassification model from a BertForPreTraining model).\n",
            "- This IS NOT expected if you are initializing TFDistilBertModel from a PyTorch model that you expect to be exactly identical (e.g. initializing a TFBertForSequenceClassification model from a BertForSequenceClassification model).\n",
            "All the weights of TFDistilBertModel were initialized from the PyTorch model.\n",
            "If your task is similar to the task the model of the checkpoint was trained on, you can already use TFDistilBertModel for predictions without further training.\n"
          ]
        },
        {
          "name": "stdout",
          "output_type": "stream",
          "text": [
            "Generated DistilBERT embeddings shape: (940730, 768)\n",
            "DataFrame with embeddings saved to /content/drive/MyDrive/Python Course/df_with_embeddings.pkl.\n"
          ]
        }
      ],
      "source": [
        "from transformers import DistilBertTokenizer, TFDistilBertModel\n",
        "import tensorflow as tf\n",
        "import logging  # Import logging\n",
        "import numpy as np\n",
        "import pandas as pd\n",
        "import pickle  # Import pickle for saving the DataFrame\n",
        "\n",
        "# Mount Google Drive\n",
        "from google.colab import drive\n",
        "drive.mount('/content/drive')\n",
        "\n",
        "# Configure logging\n",
        "logging.basicConfig(level=logging.INFO)\n",
        "\n",
        "# Set TensorFlow to use GPU if available\n",
        "if tf.config.list_physical_devices('GPU'):\n",
        "    print(\"GPU is available. Using GPU for embedding generation.\")\n",
        "else:\n",
        "    print(\"GPU is not available. Check runtime settings.\")\n",
        "\n",
        "# Step 1: Set the default (float32) policy to avoid mixed precision conflicts\n",
        "tf.keras.mixed_precision.set_global_policy('float32')\n",
        "\n",
        "# Step 2: Load the DistilBERT tokenizer and model (using GPU)\n",
        "tokenizer = DistilBertTokenizer.from_pretrained('distilbert-base-uncased')\n",
        "distilbert_model = TFDistilBertModel.from_pretrained('distilbert-base-uncased')\n",
        "\n",
        "# Ensure the model is used in inference mode (no training)\n",
        "distilbert_model.trainable = False\n",
        "\n",
        "# Step 3: Efficient function to generate DistilBERT embeddings on GPU\n",
        "def generate_distilbert_embeddings(text_data, batch_size=64, max_len=35):\n",
        "    \"\"\"\n",
        "    Generate DistilBERT embeddings for text data in batches using GPU.\n",
        "\n",
        "    Args:\n",
        "    - text_data: List of concatenated text strings.\n",
        "    - batch_size: Number of texts to process per batch.\n",
        "    - max_len: Maximum sequence length for DistilBERT input.\n",
        "\n",
        "    Returns:\n",
        "    - embeddings: Numpy array of DistilBERT embeddings for the text data.\n",
        "    \"\"\"\n",
        "    embeddings = []\n",
        "\n",
        "    # Process data in batches to manage memory\n",
        "    for i in range(0, len(text_data), batch_size):\n",
        "        logging.info(f\"Processing batch {i // batch_size + 1} / {len(text_data) // batch_size + 1}...\")\n",
        "\n",
        "        # Get the current batch\n",
        "        batch_texts = text_data[i:i + batch_size]\n",
        "\n",
        "        # Tokenize text inputs\n",
        "        inputs = tokenizer(batch_texts, return_tensors=\"tf\", padding=True, truncation=True, max_length=max_len)\n",
        "\n",
        "        # Run model inference with DistilBERT to get embeddings on GPU\n",
        "        outputs = distilbert_model(inputs)\n",
        "\n",
        "        # Extract [CLS] token embedding (the first token)\n",
        "        batch_embeddings = outputs.last_hidden_state[:, 0, :]  # Keep as Tensor for now\n",
        "\n",
        "        # Accumulate embeddings (convert to numpy)\n",
        "        embeddings.append(batch_embeddings.numpy())\n",
        "\n",
        "        logging.info(f\"Finished processing batch {i // batch_size + 1}.\")\n",
        "\n",
        "        # Clear memory after each batch\n",
        "        tf.keras.backend.clear_session()\n",
        "\n",
        "        logging.info(\"Cleared memory after batch processing.\")\n",
        "\n",
        "    # Concatenate all batch embeddings\n",
        "    return np.concatenate(embeddings, axis=0)\n",
        "\n",
        "# Step 4: Run DistilBERT on the 'text' column in df_Bert using GPU\n",
        "logging.info(\"Generating embeddings...\")\n",
        "text_data = df_Bert['text'].tolist()  # Convert the 'text' column to a list of strings\n",
        "distilbert_embeddings = generate_distilbert_embeddings(text_data, batch_size=256, max_len=35)  # Adjust batch size as needed\n",
        "\n",
        "# Check the output shape to ensure successful embedding generation\n",
        "print(f\"Generated DistilBERT embeddings shape: {distilbert_embeddings.shape}\")\n",
        "\n",
        "# Step 5: Add the generated embeddings to the original DataFrame\n",
        "df_Bert['distilbert_embeddings'] = list(distilbert_embeddings)\n",
        "\n",
        "# Step 6: Save the entire DataFrame (including embeddings) to Google Drive using Pickle\n",
        "pickle_save_path = '/content/drive/MyDrive/Python Course/df_with_embeddings.pkl'\n",
        "with open(pickle_save_path, 'wb') as f:\n",
        "    pickle.dump(df_Bert, f)\n",
        "\n",
        "print(f\"DataFrame with embeddings saved to {pickle_save_path}.\")"
      ]
    },
    {
      "cell_type": "markdown",
      "metadata": {
        "id": "Oa8plnq98Klu"
      },
      "source": [
        "### deparacte- Saving all columns and embeddings to csv file"
      ]
    },
    {
      "cell_type": "code",
      "execution_count": null,
      "metadata": {
        "colab": {
          "base_uri": "https://localhost:8080/"
        },
        "id": "tF73rcHUiJPq",
        "outputId": "8496696c-0fe1-4ec8-e29f-1eca4b9f36ba"
      },
      "outputs": [
        {
          "name": "stderr",
          "output_type": "stream",
          "text": [
            "Some weights of the PyTorch model were not used when initializing the TF 2.0 model TFDistilBertModel: ['vocab_layer_norm.bias', 'vocab_layer_norm.weight', 'vocab_transform.weight', 'vocab_projector.bias', 'vocab_transform.bias']\n",
            "- This IS expected if you are initializing TFDistilBertModel from a PyTorch model trained on another task or with another architecture (e.g. initializing a TFBertForSequenceClassification model from a BertForPreTraining model).\n",
            "- This IS NOT expected if you are initializing TFDistilBertModel from a PyTorch model that you expect to be exactly identical (e.g. initializing a TFBertForSequenceClassification model from a BertForSequenceClassification model).\n",
            "All the weights of TFDistilBertModel were initialized from the PyTorch model.\n",
            "If your task is similar to the task the model of the checkpoint was trained on, you can already use TFDistilBertModel for predictions without further training.\n"
          ]
        },
        {
          "name": "stdout",
          "output_type": "stream",
          "text": [
            "Generated DistilBERT embeddings shape: (940730, 768)\n"
          ]
        }
      ],
      "source": [
        "from transformers import DistilBertTokenizer, TFDistilBertModel\n",
        "import tensorflow as tf\n",
        "import logging  # Import logging\n",
        "import numpy as np\n",
        "\n",
        "# Configure logging\n",
        "logging.basicConfig(level=logging.INFO)\n",
        "\n",
        "# Step 1: Initialize TPU strategy\n",
        "# Step 2: Reset any precision policy to avoid mixed precision conflicts\n",
        "# This ensures we use the default (float32) policy\n",
        "tf.keras.mixed_precision.set_global_policy('float32')\n",
        "\n",
        "# Step 3: Load the DistilBERT tokenizer and model within TPU strategy scope\n",
        "with strategy.scope():\n",
        "    tokenizer = DistilBertTokenizer.from_pretrained('distilbert-base-uncased')\n",
        "    distilbert_model = TFDistilBertModel.from_pretrained('distilbert-base-uncased')\n",
        "\n",
        "    # Ensure the model is used in inference mode (no training)\n",
        "    distilbert_model.trainable = False\n",
        "\n",
        "# Step 4: Efficient function to generate DistilBERT embeddings on TPU\n",
        "def generate_distilbert_embeddings(text_data, batch_size=64, max_len=35, from_pt=False):\n",
        "    \"\"\"\n",
        "    Generate DistilBERT embeddings for text data in batches using TPU.\n",
        "\n",
        "    Args:\n",
        "    - text_data: List of concatenated text strings.\n",
        "    - batch_size: Number of texts to process per batch.\n",
        "    - max_len: Maximum sequence length for DistilBERT input.\n",
        "\n",
        "    Returns:\n",
        "    - embeddings: Numpy array of DistilBERT embeddings for the text data.\n",
        "    \"\"\"\n",
        "    embeddings = []\n",
        "\n",
        "    # Process data in batches to manage memory\n",
        "    for i in range(0, len(text_data), batch_size):\n",
        "        logging.info(f\"Processing batch {i // batch_size + 1} / {len(text_data) // batch_size + 1}...\")\n",
        "\n",
        "        # Get the current batch\n",
        "        batch_texts = text_data[i:i + batch_size]\n",
        "\n",
        "        # Tokenize text inputs\n",
        "        inputs = tokenizer(batch_texts, return_tensors=\"tf\", padding=True, truncation=True, max_length=max_len)\n",
        "\n",
        "        # Move computation inside the TPU strategy scope\n",
        "        with strategy.scope():\n",
        "            # Run model inference with DistilBERT to get embeddings\n",
        "            outputs = distilbert_model(inputs)\n",
        "\n",
        "            # Extract [CLS] token embedding (the first token)\n",
        "            batch_embeddings = outputs.last_hidden_state[:, 0, :]  # Keep as Tensor for now\n",
        "\n",
        "        # Accumulate embeddings (convert to numpy outside the TPU scope)\n",
        "        embeddings.append(batch_embeddings.numpy())\n",
        "\n",
        "        logging.info(f\"Finished processing batch {i // batch_size + 1}.\")\n",
        "\n",
        "        # Clear memory after each batch\n",
        "        tf.keras.backend.clear_session()\n",
        "\n",
        "        logging.info(\"Cleared memory after batch processing.\")\n",
        "\n",
        "    # Concatenate all batch embeddings\n",
        "    return np.concatenate(embeddings, axis=0)\n",
        "\n",
        "# Step 5: Run DistilBERT on the 'text' column in df_Bert using TPU\n",
        "logging.info(\"Generating embeddings...\")\n",
        "text_data = df_Bert['text'].tolist()  # Convert the 'text' column to a list of strings\n",
        "distilbert_embeddings = generate_distilbert_embeddings(text_data, batch_size=256, max_len=35)  # Adjust batch size as needed\n",
        "\n",
        "# Check the output shape to ensure successful embedding generation\n",
        "print(f\"Generated DistilBERT embeddings shape: {distilbert_embeddings.shape}\")\n",
        "\n",
        "np.save('distilbert_embeddings.npy', distilbert_embeddings)  # Save to file\n"
      ]
    },
    {
      "cell_type": "code",
      "execution_count": null,
      "metadata": {
        "colab": {
          "base_uri": "https://localhost:8080/"
        },
        "id": "TdQ3ne1McavO",
        "outputId": "f6fb119d-bd73-4142-d3e2-c65ecf254017"
      },
      "outputs": [
        {
          "name": "stdout",
          "output_type": "stream",
          "text": [
            "Loaded embeddings shape: (940730, 768)\n",
            "DataFrame shape: (940730, 9)\n"
          ]
        },
        {
          "data": {
            "application/vnd.google.colaboratory.intrinsic+json": {
              "type": "dataframe",
              "variable_name": "df_Bert"
            },
            "text/html": [
              "\n",
              "  <div id=\"df-9da771bb-6e47-4199-ac31-d7ded1917339\" class=\"colab-df-container\">\n",
              "    <div>\n",
              "<style scoped>\n",
              "    .dataframe tbody tr th:only-of-type {\n",
              "        vertical-align: middle;\n",
              "    }\n",
              "\n",
              "    .dataframe tbody tr th {\n",
              "        vertical-align: top;\n",
              "    }\n",
              "\n",
              "    .dataframe thead th {\n",
              "        text-align: right;\n",
              "    }\n",
              "</style>\n",
              "<table border=\"1\" class=\"dataframe\">\n",
              "  <thead>\n",
              "    <tr style=\"text-align: right;\">\n",
              "      <th></th>\n",
              "      <th>user_id</th>\n",
              "      <th>song_id</th>\n",
              "      <th>play_count</th>\n",
              "      <th>title</th>\n",
              "      <th>release</th>\n",
              "      <th>artist_name</th>\n",
              "      <th>year</th>\n",
              "      <th>popularity_score</th>\n",
              "      <th>text</th>\n",
              "      <th>distilbert_embeddings</th>\n",
              "    </tr>\n",
              "  </thead>\n",
              "  <tbody>\n",
              "    <tr>\n",
              "      <th>0</th>\n",
              "      <td>22570</td>\n",
              "      <td>1286</td>\n",
              "      <td>6</td>\n",
              "      <td>Somebody To Love</td>\n",
              "      <td>My Worlds</td>\n",
              "      <td>Justin Bieber</td>\n",
              "      <td>2010</td>\n",
              "      <td>0.134081</td>\n",
              "      <td>Somebody To Love My Worlds Justin Bieber</td>\n",
              "      <td>[-0.04428858, -0.11217374, 0.10928344, 0.02291...</td>\n",
              "    </tr>\n",
              "    <tr>\n",
              "      <th>1</th>\n",
              "      <td>22570</td>\n",
              "      <td>1811</td>\n",
              "      <td>13</td>\n",
              "      <td>Ghosts 'n' Stuff (Original Instrumental Mix)</td>\n",
              "      <td>Ghosts 'n' Stuff</td>\n",
              "      <td>Deadmau5</td>\n",
              "      <td>2009</td>\n",
              "      <td>0.094275</td>\n",
              "      <td>Ghosts 'n' Stuff (Original Instrumental Mix) G...</td>\n",
              "      <td>[0.02514749, -0.38314658, 0.09424855, 0.083873...</td>\n",
              "    </tr>\n",
              "    <tr>\n",
              "      <th>2</th>\n",
              "      <td>22570</td>\n",
              "      <td>2409</td>\n",
              "      <td>6</td>\n",
              "      <td>My Dad's Gone Crazy</td>\n",
              "      <td>The Eminem Show</td>\n",
              "      <td>Eminem / Hailie Jade</td>\n",
              "      <td>2006</td>\n",
              "      <td>0.034575</td>\n",
              "      <td>My Dad's Gone Crazy The Eminem Show Eminem / H...</td>\n",
              "      <td>[0.069457486, -0.058404543, 0.0692633, 0.00753...</td>\n",
              "    </tr>\n",
              "    <tr>\n",
              "      <th>3</th>\n",
              "      <td>22570</td>\n",
              "      <td>2430</td>\n",
              "      <td>4</td>\n",
              "      <td>Missing You</td>\n",
              "      <td>Love To Love</td>\n",
              "      <td>John Waite</td>\n",
              "      <td>1984</td>\n",
              "      <td>0.084749</td>\n",
              "      <td>Missing You Love To Love John Waite</td>\n",
              "      <td>[-0.15310472, 0.0046700044, -0.13837491, -0.15...</td>\n",
              "    </tr>\n",
              "    <tr>\n",
              "      <th>4</th>\n",
              "      <td>22570</td>\n",
              "      <td>3781</td>\n",
              "      <td>2</td>\n",
              "      <td>Ya Nada Queda</td>\n",
              "      <td>Ultimate Hits Latino</td>\n",
              "      <td>Kudai</td>\n",
              "      <td>2004</td>\n",
              "      <td>0.037017</td>\n",
              "      <td>Ya Nada Queda Ultimate Hits Latino Kudai</td>\n",
              "      <td>[-0.33876556, -0.34565505, 0.35807294, 0.11415...</td>\n",
              "    </tr>\n",
              "  </tbody>\n",
              "</table>\n",
              "</div>\n",
              "    <div class=\"colab-df-buttons\">\n",
              "\n",
              "  <div class=\"colab-df-container\">\n",
              "    <button class=\"colab-df-convert\" onclick=\"convertToInteractive('df-9da771bb-6e47-4199-ac31-d7ded1917339')\"\n",
              "            title=\"Convert this dataframe to an interactive table.\"\n",
              "            style=\"display:none;\">\n",
              "\n",
              "  <svg xmlns=\"http://www.w3.org/2000/svg\" height=\"24px\" viewBox=\"0 -960 960 960\">\n",
              "    <path d=\"M120-120v-720h720v720H120Zm60-500h600v-160H180v160Zm220 220h160v-160H400v160Zm0 220h160v-160H400v160ZM180-400h160v-160H180v160Zm440 0h160v-160H620v160ZM180-180h160v-160H180v160Zm440 0h160v-160H620v160Z\"/>\n",
              "  </svg>\n",
              "    </button>\n",
              "\n",
              "  <style>\n",
              "    .colab-df-container {\n",
              "      display:flex;\n",
              "      gap: 12px;\n",
              "    }\n",
              "\n",
              "    .colab-df-convert {\n",
              "      background-color: #E8F0FE;\n",
              "      border: none;\n",
              "      border-radius: 50%;\n",
              "      cursor: pointer;\n",
              "      display: none;\n",
              "      fill: #1967D2;\n",
              "      height: 32px;\n",
              "      padding: 0 0 0 0;\n",
              "      width: 32px;\n",
              "    }\n",
              "\n",
              "    .colab-df-convert:hover {\n",
              "      background-color: #E2EBFA;\n",
              "      box-shadow: 0px 1px 2px rgba(60, 64, 67, 0.3), 0px 1px 3px 1px rgba(60, 64, 67, 0.15);\n",
              "      fill: #174EA6;\n",
              "    }\n",
              "\n",
              "    .colab-df-buttons div {\n",
              "      margin-bottom: 4px;\n",
              "    }\n",
              "\n",
              "    [theme=dark] .colab-df-convert {\n",
              "      background-color: #3B4455;\n",
              "      fill: #D2E3FC;\n",
              "    }\n",
              "\n",
              "    [theme=dark] .colab-df-convert:hover {\n",
              "      background-color: #434B5C;\n",
              "      box-shadow: 0px 1px 3px 1px rgba(0, 0, 0, 0.15);\n",
              "      filter: drop-shadow(0px 1px 2px rgba(0, 0, 0, 0.3));\n",
              "      fill: #FFFFFF;\n",
              "    }\n",
              "  </style>\n",
              "\n",
              "    <script>\n",
              "      const buttonEl =\n",
              "        document.querySelector('#df-9da771bb-6e47-4199-ac31-d7ded1917339 button.colab-df-convert');\n",
              "      buttonEl.style.display =\n",
              "        google.colab.kernel.accessAllowed ? 'block' : 'none';\n",
              "\n",
              "      async function convertToInteractive(key) {\n",
              "        const element = document.querySelector('#df-9da771bb-6e47-4199-ac31-d7ded1917339');\n",
              "        const dataTable =\n",
              "          await google.colab.kernel.invokeFunction('convertToInteractive',\n",
              "                                                    [key], {});\n",
              "        if (!dataTable) return;\n",
              "\n",
              "        const docLinkHtml = 'Like what you see? Visit the ' +\n",
              "          '<a target=\"_blank\" href=https://colab.research.google.com/notebooks/data_table.ipynb>data table notebook</a>'\n",
              "          + ' to learn more about interactive tables.';\n",
              "        element.innerHTML = '';\n",
              "        dataTable['output_type'] = 'display_data';\n",
              "        await google.colab.output.renderOutput(dataTable, element);\n",
              "        const docLink = document.createElement('div');\n",
              "        docLink.innerHTML = docLinkHtml;\n",
              "        element.appendChild(docLink);\n",
              "      }\n",
              "    </script>\n",
              "  </div>\n",
              "\n",
              "\n",
              "<div id=\"df-cf559fe5-0a2a-427b-aa4b-625cb573e937\">\n",
              "  <button class=\"colab-df-quickchart\" onclick=\"quickchart('df-cf559fe5-0a2a-427b-aa4b-625cb573e937')\"\n",
              "            title=\"Suggest charts\"\n",
              "            style=\"display:none;\">\n",
              "\n",
              "<svg xmlns=\"http://www.w3.org/2000/svg\" height=\"24px\"viewBox=\"0 0 24 24\"\n",
              "     width=\"24px\">\n",
              "    <g>\n",
              "        <path d=\"M19 3H5c-1.1 0-2 .9-2 2v14c0 1.1.9 2 2 2h14c1.1 0 2-.9 2-2V5c0-1.1-.9-2-2-2zM9 17H7v-7h2v7zm4 0h-2V7h2v10zm4 0h-2v-4h2v4z\"/>\n",
              "    </g>\n",
              "</svg>\n",
              "  </button>\n",
              "\n",
              "<style>\n",
              "  .colab-df-quickchart {\n",
              "      --bg-color: #E8F0FE;\n",
              "      --fill-color: #1967D2;\n",
              "      --hover-bg-color: #E2EBFA;\n",
              "      --hover-fill-color: #174EA6;\n",
              "      --disabled-fill-color: #AAA;\n",
              "      --disabled-bg-color: #DDD;\n",
              "  }\n",
              "\n",
              "  [theme=dark] .colab-df-quickchart {\n",
              "      --bg-color: #3B4455;\n",
              "      --fill-color: #D2E3FC;\n",
              "      --hover-bg-color: #434B5C;\n",
              "      --hover-fill-color: #FFFFFF;\n",
              "      --disabled-bg-color: #3B4455;\n",
              "      --disabled-fill-color: #666;\n",
              "  }\n",
              "\n",
              "  .colab-df-quickchart {\n",
              "    background-color: var(--bg-color);\n",
              "    border: none;\n",
              "    border-radius: 50%;\n",
              "    cursor: pointer;\n",
              "    display: none;\n",
              "    fill: var(--fill-color);\n",
              "    height: 32px;\n",
              "    padding: 0;\n",
              "    width: 32px;\n",
              "  }\n",
              "\n",
              "  .colab-df-quickchart:hover {\n",
              "    background-color: var(--hover-bg-color);\n",
              "    box-shadow: 0 1px 2px rgba(60, 64, 67, 0.3), 0 1px 3px 1px rgba(60, 64, 67, 0.15);\n",
              "    fill: var(--button-hover-fill-color);\n",
              "  }\n",
              "\n",
              "  .colab-df-quickchart-complete:disabled,\n",
              "  .colab-df-quickchart-complete:disabled:hover {\n",
              "    background-color: var(--disabled-bg-color);\n",
              "    fill: var(--disabled-fill-color);\n",
              "    box-shadow: none;\n",
              "  }\n",
              "\n",
              "  .colab-df-spinner {\n",
              "    border: 2px solid var(--fill-color);\n",
              "    border-color: transparent;\n",
              "    border-bottom-color: var(--fill-color);\n",
              "    animation:\n",
              "      spin 1s steps(1) infinite;\n",
              "  }\n",
              "\n",
              "  @keyframes spin {\n",
              "    0% {\n",
              "      border-color: transparent;\n",
              "      border-bottom-color: var(--fill-color);\n",
              "      border-left-color: var(--fill-color);\n",
              "    }\n",
              "    20% {\n",
              "      border-color: transparent;\n",
              "      border-left-color: var(--fill-color);\n",
              "      border-top-color: var(--fill-color);\n",
              "    }\n",
              "    30% {\n",
              "      border-color: transparent;\n",
              "      border-left-color: var(--fill-color);\n",
              "      border-top-color: var(--fill-color);\n",
              "      border-right-color: var(--fill-color);\n",
              "    }\n",
              "    40% {\n",
              "      border-color: transparent;\n",
              "      border-right-color: var(--fill-color);\n",
              "      border-top-color: var(--fill-color);\n",
              "    }\n",
              "    60% {\n",
              "      border-color: transparent;\n",
              "      border-right-color: var(--fill-color);\n",
              "    }\n",
              "    80% {\n",
              "      border-color: transparent;\n",
              "      border-right-color: var(--fill-color);\n",
              "      border-bottom-color: var(--fill-color);\n",
              "    }\n",
              "    90% {\n",
              "      border-color: transparent;\n",
              "      border-bottom-color: var(--fill-color);\n",
              "    }\n",
              "  }\n",
              "</style>\n",
              "\n",
              "  <script>\n",
              "    async function quickchart(key) {\n",
              "      const quickchartButtonEl =\n",
              "        document.querySelector('#' + key + ' button');\n",
              "      quickchartButtonEl.disabled = true;  // To prevent multiple clicks.\n",
              "      quickchartButtonEl.classList.add('colab-df-spinner');\n",
              "      try {\n",
              "        const charts = await google.colab.kernel.invokeFunction(\n",
              "            'suggestCharts', [key], {});\n",
              "      } catch (error) {\n",
              "        console.error('Error during call to suggestCharts:', error);\n",
              "      }\n",
              "      quickchartButtonEl.classList.remove('colab-df-spinner');\n",
              "      quickchartButtonEl.classList.add('colab-df-quickchart-complete');\n",
              "    }\n",
              "    (() => {\n",
              "      let quickchartButtonEl =\n",
              "        document.querySelector('#df-cf559fe5-0a2a-427b-aa4b-625cb573e937 button');\n",
              "      quickchartButtonEl.style.display =\n",
              "        google.colab.kernel.accessAllowed ? 'block' : 'none';\n",
              "    })();\n",
              "  </script>\n",
              "</div>\n",
              "\n",
              "    </div>\n",
              "  </div>\n"
            ],
            "text/plain": [
              "   user_id  song_id  play_count                                         title  \\\n",
              "0    22570     1286           6                              Somebody To Love   \n",
              "1    22570     1811          13  Ghosts 'n' Stuff (Original Instrumental Mix)   \n",
              "2    22570     2409           6                           My Dad's Gone Crazy   \n",
              "3    22570     2430           4                                   Missing You   \n",
              "4    22570     3781           2                                 Ya Nada Queda   \n",
              "\n",
              "                release           artist_name  year  popularity_score  \\\n",
              "0             My Worlds         Justin Bieber  2010          0.134081   \n",
              "1      Ghosts 'n' Stuff              Deadmau5  2009          0.094275   \n",
              "2       The Eminem Show  Eminem / Hailie Jade  2006          0.034575   \n",
              "3          Love To Love            John Waite  1984          0.084749   \n",
              "4  Ultimate Hits Latino                 Kudai  2004          0.037017   \n",
              "\n",
              "                                                text  \\\n",
              "0           Somebody To Love My Worlds Justin Bieber   \n",
              "1  Ghosts 'n' Stuff (Original Instrumental Mix) G...   \n",
              "2  My Dad's Gone Crazy The Eminem Show Eminem / H...   \n",
              "3                Missing You Love To Love John Waite   \n",
              "4           Ya Nada Queda Ultimate Hits Latino Kudai   \n",
              "\n",
              "                               distilbert_embeddings  \n",
              "0  [-0.04428858, -0.11217374, 0.10928344, 0.02291...  \n",
              "1  [0.02514749, -0.38314658, 0.09424855, 0.083873...  \n",
              "2  [0.069457486, -0.058404543, 0.0692633, 0.00753...  \n",
              "3  [-0.15310472, 0.0046700044, -0.13837491, -0.15...  \n",
              "4  [-0.33876556, -0.34565505, 0.35807294, 0.11415...  "
            ]
          },
          "execution_count": 21,
          "metadata": {},
          "output_type": "execute_result"
        }
      ],
      "source": [
        "# Load the saved embeddings\n",
        "distilbert_embeddings = np.load('distilbert_embeddings.npy')\n",
        "\n",
        "# Verify the shape to ensure it matches the number of rows in df_Bert\n",
        "print(f\"Loaded embeddings shape: {distilbert_embeddings.shape}\")\n",
        "print(f\"DataFrame shape: {df_Bert.shape}\")\n",
        "\n",
        "# Add the embeddings as a new column in df_final_content\n",
        "df_Bert['distilbert_embeddings'] = list(distilbert_embeddings)\n",
        "\n",
        "df_Bert.head()"
      ]
    },
    {
      "cell_type": "code",
      "execution_count": null,
      "metadata": {
        "colab": {
          "base_uri": "https://localhost:8080/"
        },
        "id": "JIiBvOKJckhq",
        "outputId": "aa781f71-aa48-4542-8579-8704e2ea0dae"
      },
      "outputs": [
        {
          "name": "stdout",
          "output_type": "stream",
          "text": [
            "df_Bert saved to: /content/drive/MyDrive/Python Course/df_Bert.csv\n"
          ]
        }
      ],
      "source": [
        "# Save df_Bert as a CSV file\n",
        "csv_file_path = '/content/drive/MyDrive/Python Course/df_Bert.csv'  # Adjust the path if needed\n",
        "df_Bert.to_csv(csv_file_path, index=False)\n",
        "\n",
        "print(f\"df_Bert saved to: {csv_file_path}\")"
      ]
    },
    {
      "cell_type": "markdown",
      "metadata": {
        "id": "9zMW9F-67TKa"
      },
      "source": [
        "## Create GNN"
      ]
    },
    {
      "cell_type": "markdown",
      "metadata": {
        "id": "iA7Po05M-aM7"
      },
      "source": [
        "**Graph Structure:**\n",
        "\n",
        "The GNN needs to understand the relationship between users and songs. Each user and song can be treated as nodes in the graph, and the interactions (like play counts) can be treated as edges between nodes.\n",
        "Node Features:\n",
        "\n",
        "For the song nodes, you can use the distilbert_embeddings column (which contains the embeddings of the song metadata) as the node feature. This provides rich feature information for the songs in your graph.\n",
        "For users, you might also need features, like user profile embeddings or other metadata, depending on what is available.\n",
        "\n",
        "**Model Input:**\n",
        "\n",
        "The distilbert_embeddings can be directly passed into the GNN as the feature vector for each song node.\n",
        "The GNN will then use these embeddings (along with other features if provided) to propagate information through the graph and learn to predict the play count for each user-song pair.\n",
        "Steps to Implement:\n",
        "\n",
        "\n",
        "**Nodes**: You will have user and song nodes.\n",
        "**Edges**: The edges will represent interactions between users and songs (e.g., a user listening to a song).\n",
        "**Node Features:** The distilbert_embeddings will be used as the feature for the song nodes.\n",
        "\n",
        "**Define GNN Model:**\n",
        "You can use a GNN library like PyTorch Geometric or DGL to build your GNN model.\n",
        "The distilbert_embeddings will be passed as input features for the song nodes."
      ]
    },
    {
      "cell_type": "code",
      "execution_count": null,
      "metadata": {
        "colab": {
          "base_uri": "https://localhost:8080/",
          "height": 293
        },
        "id": "VT8P-gkK6xa9",
        "outputId": "cfa4f686-024e-4303-8fd3-b7f6a3a5df5d"
      },
      "outputs": [
        {
          "data": {
            "application/vnd.google.colaboratory.intrinsic+json": {
              "type": "dataframe",
              "variable_name": "df_Bert"
            },
            "text/html": [
              "\n",
              "  <div id=\"df-89e1d224-3916-44f8-859d-8b897670eb6d\" class=\"colab-df-container\">\n",
              "    <div>\n",
              "<style scoped>\n",
              "    .dataframe tbody tr th:only-of-type {\n",
              "        vertical-align: middle;\n",
              "    }\n",
              "\n",
              "    .dataframe tbody tr th {\n",
              "        vertical-align: top;\n",
              "    }\n",
              "\n",
              "    .dataframe thead th {\n",
              "        text-align: right;\n",
              "    }\n",
              "</style>\n",
              "<table border=\"1\" class=\"dataframe\">\n",
              "  <thead>\n",
              "    <tr style=\"text-align: right;\">\n",
              "      <th></th>\n",
              "      <th>user_id</th>\n",
              "      <th>song_id</th>\n",
              "      <th>play_count</th>\n",
              "      <th>title</th>\n",
              "      <th>release</th>\n",
              "      <th>artist_name</th>\n",
              "      <th>year</th>\n",
              "      <th>popularity_score</th>\n",
              "      <th>text</th>\n",
              "      <th>distilbert_embeddings</th>\n",
              "    </tr>\n",
              "  </thead>\n",
              "  <tbody>\n",
              "    <tr>\n",
              "      <th>0</th>\n",
              "      <td>22570</td>\n",
              "      <td>1286</td>\n",
              "      <td>6</td>\n",
              "      <td>Somebody To Love</td>\n",
              "      <td>My Worlds</td>\n",
              "      <td>Justin Bieber</td>\n",
              "      <td>2010</td>\n",
              "      <td>0.134081</td>\n",
              "      <td>Somebody To Love My Worlds Justin Bieber</td>\n",
              "      <td>[-4.42885794e-02 -1.12173744e-01  1.09283440e-...</td>\n",
              "    </tr>\n",
              "    <tr>\n",
              "      <th>1</th>\n",
              "      <td>22570</td>\n",
              "      <td>1811</td>\n",
              "      <td>13</td>\n",
              "      <td>Ghosts 'n' Stuff (Original Instrumental Mix)</td>\n",
              "      <td>Ghosts 'n' Stuff</td>\n",
              "      <td>Deadmau5</td>\n",
              "      <td>2009</td>\n",
              "      <td>0.094275</td>\n",
              "      <td>Ghosts 'n' Stuff (Original Instrumental Mix) G...</td>\n",
              "      <td>[ 2.51474902e-02 -3.83146584e-01  9.42485482e-...</td>\n",
              "    </tr>\n",
              "    <tr>\n",
              "      <th>2</th>\n",
              "      <td>22570</td>\n",
              "      <td>2409</td>\n",
              "      <td>6</td>\n",
              "      <td>My Dad's Gone Crazy</td>\n",
              "      <td>The Eminem Show</td>\n",
              "      <td>Eminem / Hailie Jade</td>\n",
              "      <td>2006</td>\n",
              "      <td>0.034575</td>\n",
              "      <td>My Dad's Gone Crazy The Eminem Show Eminem / H...</td>\n",
              "      <td>[ 6.94574863e-02 -5.84045425e-02  6.92633018e-...</td>\n",
              "    </tr>\n",
              "    <tr>\n",
              "      <th>3</th>\n",
              "      <td>22570</td>\n",
              "      <td>2430</td>\n",
              "      <td>4</td>\n",
              "      <td>Missing You</td>\n",
              "      <td>Love To Love</td>\n",
              "      <td>John Waite</td>\n",
              "      <td>1984</td>\n",
              "      <td>0.084749</td>\n",
              "      <td>Missing You Love To Love John Waite</td>\n",
              "      <td>[-1.53104722e-01  4.67000436e-03 -1.38374910e-...</td>\n",
              "    </tr>\n",
              "    <tr>\n",
              "      <th>4</th>\n",
              "      <td>22570</td>\n",
              "      <td>3781</td>\n",
              "      <td>2</td>\n",
              "      <td>Ya Nada Queda</td>\n",
              "      <td>Ultimate Hits Latino</td>\n",
              "      <td>Kudai</td>\n",
              "      <td>2004</td>\n",
              "      <td>0.037017</td>\n",
              "      <td>Ya Nada Queda Ultimate Hits Latino Kudai</td>\n",
              "      <td>[-3.38765562e-01 -3.45655054e-01  3.58072937e-...</td>\n",
              "    </tr>\n",
              "  </tbody>\n",
              "</table>\n",
              "</div>\n",
              "    <div class=\"colab-df-buttons\">\n",
              "\n",
              "  <div class=\"colab-df-container\">\n",
              "    <button class=\"colab-df-convert\" onclick=\"convertToInteractive('df-89e1d224-3916-44f8-859d-8b897670eb6d')\"\n",
              "            title=\"Convert this dataframe to an interactive table.\"\n",
              "            style=\"display:none;\">\n",
              "\n",
              "  <svg xmlns=\"http://www.w3.org/2000/svg\" height=\"24px\" viewBox=\"0 -960 960 960\">\n",
              "    <path d=\"M120-120v-720h720v720H120Zm60-500h600v-160H180v160Zm220 220h160v-160H400v160Zm0 220h160v-160H400v160ZM180-400h160v-160H180v160Zm440 0h160v-160H620v160ZM180-180h160v-160H180v160Zm440 0h160v-160H620v160Z\"/>\n",
              "  </svg>\n",
              "    </button>\n",
              "\n",
              "  <style>\n",
              "    .colab-df-container {\n",
              "      display:flex;\n",
              "      gap: 12px;\n",
              "    }\n",
              "\n",
              "    .colab-df-convert {\n",
              "      background-color: #E8F0FE;\n",
              "      border: none;\n",
              "      border-radius: 50%;\n",
              "      cursor: pointer;\n",
              "      display: none;\n",
              "      fill: #1967D2;\n",
              "      height: 32px;\n",
              "      padding: 0 0 0 0;\n",
              "      width: 32px;\n",
              "    }\n",
              "\n",
              "    .colab-df-convert:hover {\n",
              "      background-color: #E2EBFA;\n",
              "      box-shadow: 0px 1px 2px rgba(60, 64, 67, 0.3), 0px 1px 3px 1px rgba(60, 64, 67, 0.15);\n",
              "      fill: #174EA6;\n",
              "    }\n",
              "\n",
              "    .colab-df-buttons div {\n",
              "      margin-bottom: 4px;\n",
              "    }\n",
              "\n",
              "    [theme=dark] .colab-df-convert {\n",
              "      background-color: #3B4455;\n",
              "      fill: #D2E3FC;\n",
              "    }\n",
              "\n",
              "    [theme=dark] .colab-df-convert:hover {\n",
              "      background-color: #434B5C;\n",
              "      box-shadow: 0px 1px 3px 1px rgba(0, 0, 0, 0.15);\n",
              "      filter: drop-shadow(0px 1px 2px rgba(0, 0, 0, 0.3));\n",
              "      fill: #FFFFFF;\n",
              "    }\n",
              "  </style>\n",
              "\n",
              "    <script>\n",
              "      const buttonEl =\n",
              "        document.querySelector('#df-89e1d224-3916-44f8-859d-8b897670eb6d button.colab-df-convert');\n",
              "      buttonEl.style.display =\n",
              "        google.colab.kernel.accessAllowed ? 'block' : 'none';\n",
              "\n",
              "      async function convertToInteractive(key) {\n",
              "        const element = document.querySelector('#df-89e1d224-3916-44f8-859d-8b897670eb6d');\n",
              "        const dataTable =\n",
              "          await google.colab.kernel.invokeFunction('convertToInteractive',\n",
              "                                                    [key], {});\n",
              "        if (!dataTable) return;\n",
              "\n",
              "        const docLinkHtml = 'Like what you see? Visit the ' +\n",
              "          '<a target=\"_blank\" href=https://colab.research.google.com/notebooks/data_table.ipynb>data table notebook</a>'\n",
              "          + ' to learn more about interactive tables.';\n",
              "        element.innerHTML = '';\n",
              "        dataTable['output_type'] = 'display_data';\n",
              "        await google.colab.output.renderOutput(dataTable, element);\n",
              "        const docLink = document.createElement('div');\n",
              "        docLink.innerHTML = docLinkHtml;\n",
              "        element.appendChild(docLink);\n",
              "      }\n",
              "    </script>\n",
              "  </div>\n",
              "\n",
              "\n",
              "<div id=\"df-0913f901-ee1b-4d56-ba9f-8721c94a1abb\">\n",
              "  <button class=\"colab-df-quickchart\" onclick=\"quickchart('df-0913f901-ee1b-4d56-ba9f-8721c94a1abb')\"\n",
              "            title=\"Suggest charts\"\n",
              "            style=\"display:none;\">\n",
              "\n",
              "<svg xmlns=\"http://www.w3.org/2000/svg\" height=\"24px\"viewBox=\"0 0 24 24\"\n",
              "     width=\"24px\">\n",
              "    <g>\n",
              "        <path d=\"M19 3H5c-1.1 0-2 .9-2 2v14c0 1.1.9 2 2 2h14c1.1 0 2-.9 2-2V5c0-1.1-.9-2-2-2zM9 17H7v-7h2v7zm4 0h-2V7h2v10zm4 0h-2v-4h2v4z\"/>\n",
              "    </g>\n",
              "</svg>\n",
              "  </button>\n",
              "\n",
              "<style>\n",
              "  .colab-df-quickchart {\n",
              "      --bg-color: #E8F0FE;\n",
              "      --fill-color: #1967D2;\n",
              "      --hover-bg-color: #E2EBFA;\n",
              "      --hover-fill-color: #174EA6;\n",
              "      --disabled-fill-color: #AAA;\n",
              "      --disabled-bg-color: #DDD;\n",
              "  }\n",
              "\n",
              "  [theme=dark] .colab-df-quickchart {\n",
              "      --bg-color: #3B4455;\n",
              "      --fill-color: #D2E3FC;\n",
              "      --hover-bg-color: #434B5C;\n",
              "      --hover-fill-color: #FFFFFF;\n",
              "      --disabled-bg-color: #3B4455;\n",
              "      --disabled-fill-color: #666;\n",
              "  }\n",
              "\n",
              "  .colab-df-quickchart {\n",
              "    background-color: var(--bg-color);\n",
              "    border: none;\n",
              "    border-radius: 50%;\n",
              "    cursor: pointer;\n",
              "    display: none;\n",
              "    fill: var(--fill-color);\n",
              "    height: 32px;\n",
              "    padding: 0;\n",
              "    width: 32px;\n",
              "  }\n",
              "\n",
              "  .colab-df-quickchart:hover {\n",
              "    background-color: var(--hover-bg-color);\n",
              "    box-shadow: 0 1px 2px rgba(60, 64, 67, 0.3), 0 1px 3px 1px rgba(60, 64, 67, 0.15);\n",
              "    fill: var(--button-hover-fill-color);\n",
              "  }\n",
              "\n",
              "  .colab-df-quickchart-complete:disabled,\n",
              "  .colab-df-quickchart-complete:disabled:hover {\n",
              "    background-color: var(--disabled-bg-color);\n",
              "    fill: var(--disabled-fill-color);\n",
              "    box-shadow: none;\n",
              "  }\n",
              "\n",
              "  .colab-df-spinner {\n",
              "    border: 2px solid var(--fill-color);\n",
              "    border-color: transparent;\n",
              "    border-bottom-color: var(--fill-color);\n",
              "    animation:\n",
              "      spin 1s steps(1) infinite;\n",
              "  }\n",
              "\n",
              "  @keyframes spin {\n",
              "    0% {\n",
              "      border-color: transparent;\n",
              "      border-bottom-color: var(--fill-color);\n",
              "      border-left-color: var(--fill-color);\n",
              "    }\n",
              "    20% {\n",
              "      border-color: transparent;\n",
              "      border-left-color: var(--fill-color);\n",
              "      border-top-color: var(--fill-color);\n",
              "    }\n",
              "    30% {\n",
              "      border-color: transparent;\n",
              "      border-left-color: var(--fill-color);\n",
              "      border-top-color: var(--fill-color);\n",
              "      border-right-color: var(--fill-color);\n",
              "    }\n",
              "    40% {\n",
              "      border-color: transparent;\n",
              "      border-right-color: var(--fill-color);\n",
              "      border-top-color: var(--fill-color);\n",
              "    }\n",
              "    60% {\n",
              "      border-color: transparent;\n",
              "      border-right-color: var(--fill-color);\n",
              "    }\n",
              "    80% {\n",
              "      border-color: transparent;\n",
              "      border-right-color: var(--fill-color);\n",
              "      border-bottom-color: var(--fill-color);\n",
              "    }\n",
              "    90% {\n",
              "      border-color: transparent;\n",
              "      border-bottom-color: var(--fill-color);\n",
              "    }\n",
              "  }\n",
              "</style>\n",
              "\n",
              "  <script>\n",
              "    async function quickchart(key) {\n",
              "      const quickchartButtonEl =\n",
              "        document.querySelector('#' + key + ' button');\n",
              "      quickchartButtonEl.disabled = true;  // To prevent multiple clicks.\n",
              "      quickchartButtonEl.classList.add('colab-df-spinner');\n",
              "      try {\n",
              "        const charts = await google.colab.kernel.invokeFunction(\n",
              "            'suggestCharts', [key], {});\n",
              "      } catch (error) {\n",
              "        console.error('Error during call to suggestCharts:', error);\n",
              "      }\n",
              "      quickchartButtonEl.classList.remove('colab-df-spinner');\n",
              "      quickchartButtonEl.classList.add('colab-df-quickchart-complete');\n",
              "    }\n",
              "    (() => {\n",
              "      let quickchartButtonEl =\n",
              "        document.querySelector('#df-0913f901-ee1b-4d56-ba9f-8721c94a1abb button');\n",
              "      quickchartButtonEl.style.display =\n",
              "        google.colab.kernel.accessAllowed ? 'block' : 'none';\n",
              "    })();\n",
              "  </script>\n",
              "</div>\n",
              "\n",
              "    </div>\n",
              "  </div>\n"
            ],
            "text/plain": [
              "   user_id  song_id  play_count                                         title  \\\n",
              "0    22570     1286           6                              Somebody To Love   \n",
              "1    22570     1811          13  Ghosts 'n' Stuff (Original Instrumental Mix)   \n",
              "2    22570     2409           6                           My Dad's Gone Crazy   \n",
              "3    22570     2430           4                                   Missing You   \n",
              "4    22570     3781           2                                 Ya Nada Queda   \n",
              "\n",
              "                release           artist_name  year  popularity_score  \\\n",
              "0             My Worlds         Justin Bieber  2010          0.134081   \n",
              "1      Ghosts 'n' Stuff              Deadmau5  2009          0.094275   \n",
              "2       The Eminem Show  Eminem / Hailie Jade  2006          0.034575   \n",
              "3          Love To Love            John Waite  1984          0.084749   \n",
              "4  Ultimate Hits Latino                 Kudai  2004          0.037017   \n",
              "\n",
              "                                                text  \\\n",
              "0           Somebody To Love My Worlds Justin Bieber   \n",
              "1  Ghosts 'n' Stuff (Original Instrumental Mix) G...   \n",
              "2  My Dad's Gone Crazy The Eminem Show Eminem / H...   \n",
              "3                Missing You Love To Love John Waite   \n",
              "4           Ya Nada Queda Ultimate Hits Latino Kudai   \n",
              "\n",
              "                               distilbert_embeddings  \n",
              "0  [-4.42885794e-02 -1.12173744e-01  1.09283440e-...  \n",
              "1  [ 2.51474902e-02 -3.83146584e-01  9.42485482e-...  \n",
              "2  [ 6.94574863e-02 -5.84045425e-02  6.92633018e-...  \n",
              "3  [-1.53104722e-01  4.67000436e-03 -1.38374910e-...  \n",
              "4  [-3.38765562e-01 -3.45655054e-01  3.58072937e-...  "
            ]
          },
          "execution_count": 7,
          "metadata": {},
          "output_type": "execute_result"
        }
      ],
      "source": [
        "df_Bert.head()"
      ]
    },
    {
      "cell_type": "code",
      "execution_count": null,
      "metadata": {
        "colab": {
          "base_uri": "https://localhost:8080/"
        },
        "id": "1T61nDX_Fp_s",
        "outputId": "20547ba3-08b4-4002-da4b-8a490405b198"
      },
      "outputs": [
        {
          "name": "stdout",
          "output_type": "stream",
          "text": [
            "Minimum Popularity Score: 0.0002217513428275\n",
            "Maximum Popularity Score: 0.7612439090521799\n",
            "Minimum Play Count: 1\n",
            "Maximum Play Count: 2213\n"
          ]
        }
      ],
      "source": [
        "# minimum and maxmium of popoularity score and play count\n",
        "min_popularity = df_Bert['popularity_score'].min()\n",
        "max_popularity = df_Bert['popularity_score'].max()\n",
        "min_play_count = df_Bert['play_count'].min()\n",
        "max_play_count = df_Bert['play_count'].max()\n",
        "\n",
        "print(f\"Minimum Popularity Score: {min_popularity}\")\n",
        "print(f\"Maximum Popularity Score: {max_popularity}\")\n",
        "print(f\"Minimum Play Count: {min_play_count}\")\n",
        "print(f\"Maximum Play Count: {max_play_count}\")"
      ]
    },
    {
      "cell_type": "code",
      "execution_count": null,
      "metadata": {
        "colab": {
          "base_uri": "https://localhost:8080/"
        },
        "id": "sD5JEmiLJW2A",
        "outputId": "e1771548-5468-43f1-c566-52da472852c2"
      },
      "outputs": [
        {
          "name": "stdout",
          "output_type": "stream",
          "text": [
            "<class 'str'>\n"
          ]
        }
      ],
      "source": [
        "# prompt: check format of distilbert_embeddings\n",
        "print(type(df_Bert['distilbert_embeddings'][0]))"
      ]
    },
    {
      "cell_type": "code",
      "execution_count": null,
      "metadata": {
        "colab": {
          "base_uri": "https://localhost:8080/"
        },
        "collapsed": true,
        "id": "7D5BtGXH6qtI",
        "outputId": "3c5c1edb-d71d-450c-e342-fe6e4b99a8bb"
      },
      "outputs": [
        {
          "name": "stdout",
          "output_type": "stream",
          "text": [
            "        user_id  song_id  play_count  \\\n",
            "0         22570     1286           6   \n",
            "1         22570     1811          13   \n",
            "2         22570     2409           6   \n",
            "3         22570     2430           4   \n",
            "4         22570     3781           2   \n",
            "...         ...      ...         ...   \n",
            "940725    64590     3660           2   \n",
            "940726    64590     3736           4   \n",
            "940727    64590     3744           3   \n",
            "940728    64590     3893           1   \n",
            "940729    64590     3963           1   \n",
            "\n",
            "                                               title               release  \\\n",
            "0                                   Somebody To Love             My Worlds   \n",
            "1       Ghosts 'n' Stuff (Original Instrumental Mix)      Ghosts 'n' Stuff   \n",
            "2                                My Dad's Gone Crazy       The Eminem Show   \n",
            "3                                        Missing You          Love To Love   \n",
            "4                                      Ya Nada Queda  Ultimate Hits Latino   \n",
            "...                                              ...                   ...   \n",
            "940725                     Ignorance (Album Version)             Ignorance   \n",
            "940726                        Two Is Better Than One            Love Drunk   \n",
            "940727                What I've Done (Album Version)        What I've Done   \n",
            "940728                                            Up             My Worlds   \n",
            "940729                    Soil_ Soil (Album Version)               The Con   \n",
            "\n",
            "                                   artist_name  year  popularity_score  \\\n",
            "0                                Justin Bieber  2010          0.134081   \n",
            "1                                     Deadmau5  2009          0.094275   \n",
            "2                         Eminem / Hailie Jade  2006          0.034575   \n",
            "3                                   John Waite  1984          0.084749   \n",
            "4                                        Kudai  2004          0.037017   \n",
            "...                                        ...   ...               ...   \n",
            "940725                                Paramore     0          0.052671   \n",
            "940726  Boys Like Girls featuring Taylor Swift  2009          0.074000   \n",
            "940727                             Linkin Park  2007          0.083246   \n",
            "940728                           Justin Bieber  2010          0.039192   \n",
            "940729                          Tegan And Sara  2007          0.029112   \n",
            "\n",
            "                                                     text  \\\n",
            "0                Somebody To Love My Worlds Justin Bieber   \n",
            "1       Ghosts 'n' Stuff (Original Instrumental Mix) G...   \n",
            "2       My Dad's Gone Crazy The Eminem Show Eminem / H...   \n",
            "3                     Missing You Love To Love John Waite   \n",
            "4                Ya Nada Queda Ultimate Hits Latino Kudai   \n",
            "...                                                   ...   \n",
            "940725       Ignorance (Album Version) Ignorance Paramore   \n",
            "940726  Two Is Better Than One Love Drunk Boys Like Gi...   \n",
            "940727  What I've Done (Album Version) What I've Done ...   \n",
            "940728                         Up My Worlds Justin Bieber   \n",
            "940729  Soil_ Soil (Album Version) The Con Tegan And Sara   \n",
            "\n",
            "                                    distilbert_embeddings  \n",
            "0       [-4.42885794e-02 -1.12173744e-01  1.09283440e-...  \n",
            "1       [ 2.51474902e-02 -3.83146584e-01  9.42485482e-...  \n",
            "2       [ 6.94574863e-02 -5.84045425e-02  6.92633018e-...  \n",
            "3       [-1.53104722e-01  4.67000436e-03 -1.38374910e-...  \n",
            "4       [-3.38765562e-01 -3.45655054e-01  3.58072937e-...  \n",
            "...                                                   ...  \n",
            "940725  [ 2.04436854e-02 -1.43112138e-01 -1.02970347e-...  \n",
            "940726  [-1.75091594e-01 -1.73190519e-01  1.25673681e-...  \n",
            "940727  [-8.93462375e-02 -3.56747568e-01 -4.12052795e-...  \n",
            "940728  [-6.46436363e-02 -8.08990076e-02  1.88490897e-...  \n",
            "940729  [-1.26493454e-01 -2.00214222e-01 -9.71245021e-...  \n",
            "\n",
            "[940730 rows x 10 columns]\n"
          ]
        }
      ],
      "source": [
        "# Check if any rows are missing proper format\n",
        "invalid_rows = df_Bert[df_Bert['distilbert_embeddings'].apply(lambda x: not (isinstance(x, str) and x.startswith('[') and x.endswith(']') and ',' in x))]\n",
        "\n",
        "# Print out invalid rows\n",
        "print(invalid_rows)"
      ]
    },
    {
      "cell_type": "markdown",
      "metadata": {
        "id": "mAmONQlSF726"
      },
      "source": [
        "1. Popularity Score Scaling:\n",
        "The popularity score is already between 0 and a little under 1, so further scaling might not be necessary. However, MinMax scaling will ensure it falls perfectly within a 0-1 range, which can help keep all features on a comparable scale.\n",
        "\n",
        "Recommended Scaling: MinMax scaling from 0 to 1 (this will not drastically change the range).\n",
        "\n",
        "2. Play Count Scaling:\n",
        "The play count has a much wider range (1 to 2213), with high skewness (many small values, few large values). Applying a log transformation will compress this range and reduce skewness, making it easier for the GNN to learn from the data.\n",
        "\n",
        "Recommended Scaling: Apply log transformation to compress the large range, followed by optional MinMax scaling to normalize between 0 and 1."
      ]
    },
    {
      "cell_type": "markdown",
      "metadata": {
        "id": "Ksw_leqKH4qK"
      },
      "source": [
        "Create a simple 2-layer GNN Model with using GCNConv. The input is the concatenated song embeddings and normalized popularity score."
      ]
    },
    {
      "cell_type": "markdown",
      "metadata": {
        "id": "aATm4zrDIfaf"
      },
      "source": [
        "**Feature Representation Capacity:**\n",
        "\n",
        "The hidden dimension size (128) controls the capacity of the network to learn feature representations. Higher values give the network more capacity to learn complex patterns but can lead to overfitting, especially with limited data.\n",
        "In this case, the GCNConv layers map the input features (concatenated song embeddings + popularity score) to a latent space of 128 dimensions.\n",
        "Flexibility and Tuning:\n",
        "\n",
        "The hidden layer size (128 in this case) is a hyperparameter that can be tuned. You can experiment with different values (e.g., 64, 256, etc.) to see which one works best for your dataset and task.\n",
        "\n",
        "**Trade-offs:**\n",
        "\n",
        "Larger Sizes (e.g., 256, 512): Increase the model's ability to learn more complex representations, but require more computational resources and are more prone to overfitting.\n",
        "Smaller Sizes (e.g., 64): Reduce model complexity and computational cost, but might not capture enough useful patterns from the input features."
      ]
    },
    {
      "cell_type": "markdown",
      "metadata": {
        "id": "Qk5YnNI2QoQD"
      },
      "source": [
        "run on CPU"
      ]
    },
    {
      "cell_type": "markdown",
      "metadata": {
        "id": "gNSAmecoWPVU"
      },
      "source": [
        "Graph Neural Network (GNN): This is a broad category of neural networks designed to work with graph-structured data.\n",
        "GCNConv: This is a particular kind of layer within a GNN. It stands for Graph Convolutional Network Convolution. It's one of the most common and fundamental building blocks for constructing GNNs.\n",
        "What GCNConv Does\n",
        "\n",
        "GCNConv performs a type of \"message passing\" where information is aggregated from neighboring nodes in the graph. Here's a simplified explanation:\n",
        "\n",
        "Feature Gathering: For each node, the GCNConv layer gathers the feature vectors of its immediate neighbors.\n",
        "Aggregation: It combines (aggregates) these neighbor features, often by averaging them.\n",
        "Transformation: It applies a linear transformation (like a weight matrix multiplication) to the aggregated features.\n",
        "Update: The node's own feature vector is updated based on this transformed information.\n",
        "This process allows the GNN to learn representations of nodes that take into account the structure of the graph and the features of their neighbors.\n",
        "\n",
        "How GCNConv Fits into a GNN Model\n",
        "\n",
        "You typically use multiple GCNConv layers stacked together to create a deeper GNN model. This allows the network to learn more complex patterns and relationships within the graph."
      ]
    },
    {
      "cell_type": "markdown",
      "metadata": {
        "id": "g5JJjlxP1LOu"
      },
      "source": [
        "### **Train a simple GNN model using 2 layers of GCNConv, 64 hidden layer, Learning rate set to 0.0001**"
      ]
    },
    {
      "cell_type": "code",
      "execution_count": null,
      "metadata": {
        "colab": {
          "base_uri": "https://localhost:8080/"
        },
        "id": "Egl1jaw-CVSD",
        "outputId": "0aacf5ef-2b29-41f8-bbf0-7766b864e346"
      },
      "outputs": [
        {
          "name": "stdout",
          "output_type": "stream",
          "text": [
            "Epoch 1, Loss: 0.17438112199306488\n",
            "Epoch 2, Loss: 0.14012163877487183\n",
            "Epoch 3, Loss: 0.10928932577371597\n",
            "Epoch 4, Loss: 0.08229158073663712\n",
            "Epoch 5, Loss: 0.059502746909856796\n",
            "Epoch 6, Loss: 0.041335225105285645\n",
            "Epoch 7, Loss: 0.02814849279820919\n",
            "Epoch 8, Loss: 0.02021971344947815\n",
            "Epoch 9, Loss: 0.017533522099256516\n",
            "Epoch 10, Loss: 0.01946721039712429\n",
            "Epoch 11, Loss: 0.024339616298675537\n",
            "Epoch 12, Loss: 0.029787564650177956\n",
            "Epoch 13, Loss: 0.03398742154240608\n",
            "Epoch 14, Loss: 0.03609348088502884\n",
            "Epoch 15, Loss: 0.03601711243391037\n",
            "Epoch 16, Loss: 0.03411194682121277\n",
            "Epoch 17, Loss: 0.030944067984819412\n",
            "Epoch 18, Loss: 0.027147794142365456\n",
            "Epoch 19, Loss: 0.023325225338339806\n",
            "Epoch 20, Loss: 0.01999030075967312\n",
            "Epoch 21, Loss: 0.01750047318637371\n",
            "Epoch 22, Loss: 0.016005517914891243\n",
            "Epoch 23, Loss: 0.015442807227373123\n",
            "Epoch 24, Loss: 0.015609272755682468\n",
            "Epoch 25, Loss: 0.016234857961535454\n",
            "Epoch 26, Loss: 0.017048152163624763\n",
            "Epoch 27, Loss: 0.017814552411437035\n",
            "Epoch 28, Loss: 0.018364306539297104\n",
            "Epoch 29, Loss: 0.018598712980747223\n",
            "Epoch 30, Loss: 0.018490340560674667\n",
            "Predicted play count for user 22570 and song 1286: [5.135879]\n",
            "RMSE on the entire dataset: 2295668.0\n",
            "MAE on the entire dataset: 9629.5400390625\n",
            "Precision for user 22570: 1.0\n",
            "Recall for user 22570: 1.0\n",
            "F1 score for user 22570: 1.0\n"
          ]
        }
      ],
      "source": [
        "import torch\n",
        "import torch.nn.functional as F\n",
        "from torch_geometric.data import Data\n",
        "from torch_geometric.nn import GCNConv\n",
        "from torch_geometric.loader import DataLoader\n",
        "from sklearn.metrics import mean_absolute_error, mean_squared_error, precision_score, recall_score, f1_score\n",
        "from sklearn.preprocessing import MinMaxScaler\n",
        "import numpy as np\n",
        "import re\n",
        "import ast\n",
        "\n",
        "# Option 1: Use 20% of the dataset (random sampling)\n",
        "# Uncomment the following line if you want to use 20% of the dataset:\n",
        "df_sampled = df_Bert.sample(frac=0.2, random_state=42)\n",
        "#df_sampled = df_Bert  # Use the entire dataset without sampling\n",
        "\n",
        "# Step 1: Log transform and normalize play count, and normalize popularity score\n",
        "df_sampled['play_count_log'] = np.log1p(df_sampled['play_count'])  # log(1 + play_count)\n",
        "scaler_play_count = MinMaxScaler()\n",
        "df_sampled['play_count_scaled'] = scaler_play_count.fit_transform(df_sampled[['play_count_log']])\n",
        "\n",
        "scaler_popularity = MinMaxScaler()\n",
        "df_sampled['popularity_score_scaled'] = scaler_popularity.fit_transform(df_sampled[['popularity_score']])\n",
        "\n",
        "# Step 2: Ensure distilbert_embeddings and other columns are processed\n",
        "def fix_embedding_string(embedding_str):\n",
        "    fixed_str = re.sub(r'(?<=\\d)\\s+(?=-?\\d)', ',', embedding_str)\n",
        "    return fixed_str\n",
        "\n",
        "df_sampled['distilbert_embeddings'] = df_sampled['distilbert_embeddings'].apply(\n",
        "    lambda x: np.array(ast.literal_eval(fix_embedding_string(x)), dtype=np.float32) if isinstance(x, str) else np.array(x, dtype=np.float32)\n",
        ")\n",
        "\n",
        "# Step 3: Prepare tensors for GNN input\n",
        "user_ids = torch.tensor(df_sampled['user_id'].values, dtype=torch.long)\n",
        "song_ids = torch.tensor(df_sampled['song_id'].values, dtype=torch.long)\n",
        "play_counts = torch.tensor(df_sampled['play_count_scaled'].values, dtype=torch.float32)\n",
        "popularity_scores = torch.tensor(df_sampled['popularity_score_scaled'].values, dtype=torch.float32).unsqueeze(1)\n",
        "\n",
        "# Combine song embeddings with the scaled popularity score\n",
        "song_embeddings = torch.tensor(np.stack(df_sampled['distilbert_embeddings'].values), dtype=torch.float32)\n",
        "song_node_features = torch.cat([song_embeddings, popularity_scores], dim=1)\n",
        "\n",
        "# Construct Graph Edges\n",
        "edges = torch.stack([user_ids, song_ids], dim=0)\n",
        "\n",
        "# Create Graph Data object for training\n",
        "graph_data = Data(x=song_node_features, edge_index=edges)\n",
        "\n",
        "# Step 4: Define Graph Neural Network (GNN)\n",
        "class GNNModel(torch.nn.Module):\n",
        "    def __init__(self, in_channels, hidden_channels, out_channels):\n",
        "        super(GNNModel, self).__init__()\n",
        "        self.conv1 = GCNConv(in_channels, hidden_channels)\n",
        "        self.conv2 = GCNConv(hidden_channels, out_channels)\n",
        "\n",
        "    def forward(self, x, edge_index):\n",
        "        x = self.conv1(x, edge_index)\n",
        "        x = F.relu(x)\n",
        "        x = self.conv2(x, edge_index)\n",
        "        return x\n",
        "\n",
        "# Step 5: Alternative Loss Function (Log-Cosh Loss)\n",
        "def logcosh_loss(pred, target):\n",
        "    return torch.mean(torch.log(torch.cosh(pred - target)))\n",
        "\n",
        "# Step 6: Training the GNN model\n",
        "# Initialize the model\n",
        "hidden_layer_size = 64\n",
        "model = GNNModel(in_channels=song_node_features.shape[1], hidden_channels=hidden_layer_size, out_channels=1)\n",
        "\n",
        "# Use CPU or GPU based on availability\n",
        "device = 'cuda' if torch.cuda.is_available() else 'cpu'\n",
        "model = model.to(device)\n",
        "\n",
        "# Optimizer with adjustable learning rate\n",
        "optimizer = torch.optim.Adam(model.parameters(), lr=0.0001)  # Learning rate set to 0.0001\n",
        "\n",
        "# Move data to device\n",
        "graph_data = graph_data.to(device)\n",
        "play_counts = play_counts.to(device)\n",
        "\n",
        "# Training loop\n",
        "data_loader = DataLoader([graph_data], batch_size=8, shuffle=True)  # You can adjust batch size\n",
        "\n",
        "for epoch in range(30):  # Increased number of epochs to 30\n",
        "    model.train()\n",
        "\n",
        "    for batch in data_loader:\n",
        "        optimizer.zero_grad()\n",
        "\n",
        "        # Forward pass\n",
        "        out = model(batch.x, batch.edge_index)\n",
        "\n",
        "        # Choose between MSE and Log-Cosh loss\n",
        "        # train_loss = F.mse_loss(out.squeeze(), play_counts)  # MSE loss\n",
        "        train_loss = logcosh_loss(out.squeeze(), play_counts)  # Log-Cosh loss\n",
        "\n",
        "        # Backward pass and optimize\n",
        "        train_loss.backward()\n",
        "        optimizer.step()\n",
        "\n",
        "    print(f\"Epoch {epoch+1}, Loss: {train_loss.item()}\")\n",
        "\n",
        "# Step 7: Make predictions on the entire dataset\n",
        "model.eval()\n",
        "with torch.no_grad():\n",
        "    predicted_play_counts = model(graph_data.x, graph_data.edge_index).cpu().numpy()\n",
        "\n",
        "# Step 8: Inverse scale the predicted play counts\n",
        "predicted_play_counts_log = predicted_play_counts.reshape(-1, 1)  # Ensure predicted values are also 2D\n",
        "predicted_play_counts = np.expm1(scaler_play_count.inverse_transform(predicted_play_counts_log))  # Reverse log scaling\n",
        "\n",
        "# Actual play counts\n",
        "actual_play_counts_log = play_counts.cpu().numpy().reshape(-1, 1)  # Reshape to 2D\n",
        "actual_play_counts = np.expm1(scaler_play_count.inverse_transform(actual_play_counts_log))  # Reverse log scaling\n",
        "\n",
        "# Step 9: Get predictions for specific users and songs\n",
        "def get_prediction(user_id, song_id):\n",
        "    matching_user_idx = (user_ids == user_id).nonzero(as_tuple=True)[0]\n",
        "    matching_song_idx = (song_ids == song_id).nonzero(as_tuple=True)[0]\n",
        "\n",
        "    if matching_user_idx.numel() == 0 or matching_song_idx.numel() == 0:\n",
        "        print(f\"No match found for user {user_id} and song {song_id}.\")\n",
        "        return None\n",
        "\n",
        "    user_idx = matching_user_idx[0].item()\n",
        "    return predicted_play_counts[user_idx]\n",
        "\n",
        "# Display predictions for user 22570 and song 1286 (if in sample)\n",
        "pred_22570_1286 = get_prediction(22570, 1286)\n",
        "if pred_22570_1286 is not None:\n",
        "    print(f\"Predicted play count for user 22570 and song 1286: {pred_22570_1286}\")\n",
        "\n",
        "# Step 10: Calculate RMSE and MAE for the entire dataset\n",
        "rmse = np.sqrt(mean_squared_error(actual_play_counts, predicted_play_counts))\n",
        "mae = mean_absolute_error(actual_play_counts, predicted_play_counts)\n",
        "\n",
        "print(f\"RMSE on the entire dataset: {rmse}\")\n",
        "print(f\"MAE on the entire dataset: {mae}\")\n",
        "\n",
        "# Step 11: Calculate Precision, Recall, and F1 Score for Top 30 Recommendations\n",
        "def calculate_top_30_metrics(user_id, threshold=0.5, confidence_threshold=2.5):\n",
        "    # Get predictions for the user\n",
        "    user_song_idxs = (user_ids == user_id).nonzero(as_tuple=True)[0]\n",
        "\n",
        "    # Sort predicted play counts for that user\n",
        "    user_predicted_play_counts = predicted_play_counts[user_song_idxs]\n",
        "    top_30_indices = np.argsort(-user_predicted_play_counts)[:30]  # Get top 30 indices\n",
        "\n",
        "    # Actual play counts (relevant items) for this user\n",
        "    user_actual_play_counts = actual_play_counts[user_song_idxs]\n",
        "\n",
        "    # Calculate \"relevant\" predictions based on thresholds (convert to binary)\n",
        "    relevant_predictions = (user_predicted_play_counts[top_30_indices] > confidence_threshold).astype(int)  # Convert to binary (0/1)\n",
        "    relevant_actual = (user_actual_play_counts[top_30_indices] > threshold).astype(int)  # Convert to binary (0/1)\n",
        "\n",
        "    # Ensure both arrays are 1D and of the same length\n",
        "    relevant_predictions = relevant_predictions.flatten()\n",
        "    relevant_actual = relevant_actual.flatten()\n",
        "\n",
        "    # Calculate precision, recall, and f1 score\n",
        "    precision = precision_score(relevant_actual, relevant_predictions, zero_division=0)\n",
        "    recall = recall_score(relevant_actual, relevant_predictions, zero_division=0)\n",
        "    f1 = f1_score(relevant_actual, relevant_predictions, zero_division=0)\n",
        "\n",
        "    return precision, recall, f1\n",
        "\n",
        "\n",
        "# Example for user 22570\n",
        "precision_22570, recall_22570, f1_22570 = calculate_top_30_metrics(22570)\n",
        "print(f\"Precision for user 22570: {precision_22570}\")\n",
        "print(f\"Recall for user 22570: {recall_22570}\")\n",
        "print(f\"F1 score for user 22570: {f1_22570}\")\n"
      ]
    },
    {
      "cell_type": "markdown",
      "metadata": {
        "id": "nFf9KJG7dr4T"
      },
      "source": [
        "### Hyperparameter tuning"
      ]
    },
    {
      "cell_type": "markdown",
      "metadata": {
        "id": "8FOvFDdt_HxX"
      },
      "source": [
        "search on full dataset size"
      ]
    },
    {
      "cell_type": "code",
      "execution_count": null,
      "metadata": {
        "colab": {
          "base_uri": "https://localhost:8080/"
        },
        "id": "zYj6g7uX1rwt",
        "outputId": "6bc11818-1e06-4e02-c4a7-2ef73688dafb"
      },
      "outputs": [
        {
          "name": "stdout",
          "output_type": "stream",
          "text": [
            "True\n",
            "Tesla T4\n"
          ]
        }
      ],
      "source": [
        "print(torch.cuda.is_available())  # Should return True if GPU is enabled\n",
        "print(torch.cuda.get_device_name(0))  # To display the name of the GPU"
      ]
    },
    {
      "cell_type": "markdown",
      "metadata": {
        "id": "1PQMlyXaui9Q"
      },
      "source": [
        "### Optuna's Bayesian optimization hyperparamater search using data frame saved in Pickle\n",
        "\n",
        "Best MAE:  4.262037551767267\n",
        "Best Hyperparameters:  {'learning_rate': 8.032781689976049e-05, 'hidden_size': 128, 'epochs': 11}"
      ]
    },
    {
      "cell_type": "code",
      "execution_count": null,
      "metadata": {
        "colab": {
          "base_uri": "https://localhost:8080/"
        },
        "id": "7kmG1LD3uRz1",
        "outputId": "a527a904-bcee-46fb-d2ca-545dae734e27"
      },
      "outputs": [
        {
          "name": "stdout",
          "output_type": "stream",
          "text": [
            "Using device: cuda\n"
          ]
        },
        {
          "name": "stderr",
          "output_type": "stream",
          "text": [
            "[I 2024-10-21 00:35:38,785] A new study created in memory with name: no-name-c07e1b11-27f1-48c3-b989-7587f350bfa2\n",
            "[I 2024-10-21 00:35:46,275] Trial 0 finished with value: 32.87287403933503 and parameters: {'learning_rate': 3.630647784776808e-06, 'hidden_size': 64, 'epochs': 27}. Best is trial 0 with value: 32.87287403933503.\n"
          ]
        },
        {
          "name": "stdout",
          "output_type": "stream",
          "text": [
            "Trial 0: MAE: 32.87287403933503, RMSE: 115.5219714096843\n"
          ]
        },
        {
          "name": "stderr",
          "output_type": "stream",
          "text": [
            "[I 2024-10-21 00:35:59,929] Trial 1 finished with value: 6163.131255290593 and parameters: {'learning_rate': 7.459742265851282e-06, 'hidden_size': 128, 'epochs': 38}. Best is trial 0 with value: 32.87287403933503.\n"
          ]
        },
        {
          "name": "stdout",
          "output_type": "stream",
          "text": [
            "Trial 1: MAE: 6163.131255290593, RMSE: 568313.4202824809\n"
          ]
        },
        {
          "name": "stderr",
          "output_type": "stream",
          "text": [
            "[I 2024-10-21 00:36:07,938] Trial 2 finished with value: 85.09008880334343 and parameters: {'learning_rate': 2.321838940281175e-06, 'hidden_size': 64, 'epochs': 33}. Best is trial 0 with value: 32.87287403933503.\n"
          ]
        },
        {
          "name": "stdout",
          "output_type": "stream",
          "text": [
            "Trial 2: MAE: 85.09008880334343, RMSE: 6092.795064915696\n"
          ]
        },
        {
          "name": "stderr",
          "output_type": "stream",
          "text": [
            "[I 2024-10-21 00:36:10,670] Trial 3 finished with value: 4.885592324409615 and parameters: {'learning_rate': 5.049949858465191e-05, 'hidden_size': 64, 'epochs': 11}. Best is trial 3 with value: 4.885592324409615.\n"
          ]
        },
        {
          "name": "stdout",
          "output_type": "stream",
          "text": [
            "Trial 3: MAE: 4.885592324409615, RMSE: 10.797397205255686\n"
          ]
        },
        {
          "name": "stderr",
          "output_type": "stream",
          "text": [
            "[I 2024-10-21 00:36:20,935] Trial 4 finished with value: 7.9046617291812105 and parameters: {'learning_rate': 1.1865217991526783e-06, 'hidden_size': 128, 'epochs': 28}. Best is trial 3 with value: 4.885592324409615.\n"
          ]
        },
        {
          "name": "stdout",
          "output_type": "stream",
          "text": [
            "Trial 4: MAE: 7.9046617291812105, RMSE: 24.959017717710182\n"
          ]
        },
        {
          "name": "stderr",
          "output_type": "stream",
          "text": [
            "[I 2024-10-21 00:36:33,157] Trial 5 finished with value: 415.90362852630625 and parameters: {'learning_rate': 2.3199214718896057e-05, 'hidden_size': 64, 'epochs': 50}. Best is trial 3 with value: 4.885592324409615.\n"
          ]
        },
        {
          "name": "stdout",
          "output_type": "stream",
          "text": [
            "Trial 5: MAE: 415.90362852630625, RMSE: 9877.104064217845\n"
          ]
        },
        {
          "name": "stderr",
          "output_type": "stream",
          "text": [
            "[I 2024-10-21 00:36:43,641] Trial 6 finished with value: 6.212716091944542 and parameters: {'learning_rate': 7.914234159035532e-05, 'hidden_size': 64, 'epochs': 43}. Best is trial 3 with value: 4.885592324409615.\n"
          ]
        },
        {
          "name": "stdout",
          "output_type": "stream",
          "text": [
            "Trial 6: MAE: 6.212716091944542, RMSE: 34.43292696384454\n"
          ]
        },
        {
          "name": "stderr",
          "output_type": "stream",
          "text": [
            "[I 2024-10-21 00:37:01,044] Trial 7 finished with value: 585.7367180047131 and parameters: {'learning_rate': 2.0655028129018144e-06, 'hidden_size': 128, 'epochs': 48}. Best is trial 3 with value: 4.885592324409615.\n"
          ]
        },
        {
          "name": "stdout",
          "output_type": "stream",
          "text": [
            "Trial 7: MAE: 585.7367180047131, RMSE: 36773.51307364062\n"
          ]
        },
        {
          "name": "stderr",
          "output_type": "stream",
          "text": [
            "[I 2024-10-21 00:37:05,203] Trial 8 finished with value: 10.948807315771 and parameters: {'learning_rate': 8.088652662100201e-05, 'hidden_size': 64, 'epochs': 17}. Best is trial 3 with value: 4.885592324409615.\n"
          ]
        },
        {
          "name": "stdout",
          "output_type": "stream",
          "text": [
            "Trial 8: MAE: 10.948807315771, RMSE: 37.53244184867303\n"
          ]
        },
        {
          "name": "stderr",
          "output_type": "stream",
          "text": [
            "[I 2024-10-21 00:37:16,562] Trial 9 finished with value: 359089.80000564933 and parameters: {'learning_rate': 5.377968634814907e-06, 'hidden_size': 64, 'epochs': 47}. Best is trial 3 with value: 4.885592324409615.\n"
          ]
        },
        {
          "name": "stdout",
          "output_type": "stream",
          "text": [
            "Trial 9: MAE: 359089.80000564933, RMSE: 28711511.86690874\n"
          ]
        },
        {
          "name": "stderr",
          "output_type": "stream",
          "text": [
            "[I 2024-10-21 00:37:20,223] Trial 10 finished with value: 42.5059611732552 and parameters: {'learning_rate': 2.5512148089511867e-05, 'hidden_size': 128, 'epochs': 10}. Best is trial 3 with value: 4.885592324409615.\n"
          ]
        },
        {
          "name": "stdout",
          "output_type": "stream",
          "text": [
            "Trial 10: MAE: 42.5059611732552, RMSE: 209.89336031093228\n"
          ]
        },
        {
          "name": "stderr",
          "output_type": "stream",
          "text": [
            "[I 2024-10-21 00:37:29,885] Trial 11 finished with value: 33.12495173194495 and parameters: {'learning_rate': 8.371797812290041e-05, 'hidden_size': 64, 'epochs': 40}. Best is trial 3 with value: 4.885592324409615.\n"
          ]
        },
        {
          "name": "stdout",
          "output_type": "stream",
          "text": [
            "Trial 11: MAE: 33.12495173194495, RMSE: 309.11981673338755\n"
          ]
        },
        {
          "name": "stderr",
          "output_type": "stream",
          "text": [
            "[I 2024-10-21 00:37:35,047] Trial 12 finished with value: 154.85743771398373 and parameters: {'learning_rate': 3.306102071781343e-05, 'hidden_size': 64, 'epochs': 21}. Best is trial 3 with value: 4.885592324409615.\n"
          ]
        },
        {
          "name": "stdout",
          "output_type": "stream",
          "text": [
            "Trial 12: MAE: 154.85743771398373, RMSE: 4054.9063344661645\n"
          ]
        },
        {
          "name": "stderr",
          "output_type": "stream",
          "text": [
            "[I 2024-10-21 00:37:37,781] Trial 13 finished with value: 4.867378622653304 and parameters: {'learning_rate': 4.869430516146076e-05, 'hidden_size': 64, 'epochs': 11}. Best is trial 13 with value: 4.867378622653304.\n"
          ]
        },
        {
          "name": "stdout",
          "output_type": "stream",
          "text": [
            "Trial 13: MAE: 4.867378622653304, RMSE: 10.495041808702672\n"
          ]
        },
        {
          "name": "stderr",
          "output_type": "stream",
          "text": [
            "[I 2024-10-21 00:37:40,260] Trial 14 finished with value: 4.786822474878309 and parameters: {'learning_rate': 1.4223777989805664e-05, 'hidden_size': 64, 'epochs': 10}. Best is trial 14 with value: 4.786822474878309.\n"
          ]
        },
        {
          "name": "stdout",
          "output_type": "stream",
          "text": [
            "Trial 14: MAE: 4.786822474878309, RMSE: 10.384358252662762\n"
          ]
        },
        {
          "name": "stderr",
          "output_type": "stream",
          "text": [
            "[I 2024-10-21 00:37:44,848] Trial 15 finished with value: 4.906619687628922 and parameters: {'learning_rate': 1.3696465658053708e-05, 'hidden_size': 64, 'epochs': 18}. Best is trial 14 with value: 4.786822474878309.\n"
          ]
        },
        {
          "name": "stdout",
          "output_type": "stream",
          "text": [
            "Trial 15: MAE: 4.906619687628922, RMSE: 10.289614105524429\n"
          ]
        },
        {
          "name": "stderr",
          "output_type": "stream",
          "text": [
            "[I 2024-10-21 00:37:48,544] Trial 16 finished with value: 19.07318028372204 and parameters: {'learning_rate': 1.3587148064635472e-05, 'hidden_size': 64, 'epochs': 15}. Best is trial 14 with value: 4.786822474878309.\n"
          ]
        },
        {
          "name": "stdout",
          "output_type": "stream",
          "text": [
            "Trial 16: MAE: 19.07318028372204, RMSE: 77.23891866239165\n"
          ]
        },
        {
          "name": "stderr",
          "output_type": "stream",
          "text": [
            "[I 2024-10-21 00:37:54,184] Trial 17 finished with value: 53.11937433552678 and parameters: {'learning_rate': 4.534746860430133e-05, 'hidden_size': 64, 'epochs': 23}. Best is trial 14 with value: 4.786822474878309.\n"
          ]
        },
        {
          "name": "stdout",
          "output_type": "stream",
          "text": [
            "Trial 17: MAE: 53.11937433552678, RMSE: 428.7652715763598\n"
          ]
        },
        {
          "name": "stderr",
          "output_type": "stream",
          "text": [
            "[I 2024-10-21 00:37:59,000] Trial 18 finished with value: 5.140030268107195 and parameters: {'learning_rate': 1.4425537428270816e-05, 'hidden_size': 128, 'epochs': 13}. Best is trial 14 with value: 4.786822474878309.\n"
          ]
        },
        {
          "name": "stdout",
          "output_type": "stream",
          "text": [
            "Trial 18: MAE: 5.140030268107195, RMSE: 16.244059241037768\n"
          ]
        },
        {
          "name": "stderr",
          "output_type": "stream",
          "text": [
            "[I 2024-10-21 00:38:03,914] Trial 19 finished with value: 5.310305082808742 and parameters: {'learning_rate': 9.33549407965467e-06, 'hidden_size': 64, 'epochs': 20}. Best is trial 14 with value: 4.786822474878309.\n"
          ]
        },
        {
          "name": "stdout",
          "output_type": "stream",
          "text": [
            "Trial 19: MAE: 5.310305082808742, RMSE: 12.59188873080127\n"
          ]
        },
        {
          "name": "stderr",
          "output_type": "stream",
          "text": [
            "[I 2024-10-21 00:38:10,076] Trial 20 finished with value: 7.5348824775471535 and parameters: {'learning_rate': 2.0766652262467576e-05, 'hidden_size': 64, 'epochs': 25}. Best is trial 14 with value: 4.786822474878309.\n"
          ]
        },
        {
          "name": "stdout",
          "output_type": "stream",
          "text": [
            "Trial 20: MAE: 7.5348824775471535, RMSE: 34.369602756608806\n"
          ]
        },
        {
          "name": "stderr",
          "output_type": "stream",
          "text": [
            "[I 2024-10-21 00:38:12,594] Trial 21 finished with value: 4.837976194783404 and parameters: {'learning_rate': 4.693580448478379e-05, 'hidden_size': 64, 'epochs': 10}. Best is trial 14 with value: 4.786822474878309.\n"
          ]
        },
        {
          "name": "stdout",
          "output_type": "stream",
          "text": [
            "Trial 21: MAE: 4.837976194783404, RMSE: 10.684987988242588\n"
          ]
        },
        {
          "name": "stderr",
          "output_type": "stream",
          "text": [
            "[I 2024-10-21 00:38:16,028] Trial 22 finished with value: 41.04659545768288 and parameters: {'learning_rate': 4.691926149311023e-05, 'hidden_size': 64, 'epochs': 14}. Best is trial 14 with value: 4.786822474878309.\n"
          ]
        },
        {
          "name": "stdout",
          "output_type": "stream",
          "text": [
            "Trial 22: MAE: 41.04659545768288, RMSE: 147.62050069797505\n"
          ]
        },
        {
          "name": "stderr",
          "output_type": "stream",
          "text": [
            "[I 2024-10-21 00:38:18,489] Trial 23 finished with value: 4.769899744049932 and parameters: {'learning_rate': 3.435267476353166e-05, 'hidden_size': 64, 'epochs': 10}. Best is trial 23 with value: 4.769899744049932.\n"
          ]
        },
        {
          "name": "stdout",
          "output_type": "stream",
          "text": [
            "Trial 23: MAE: 4.769899744049932, RMSE: 10.874869433121477\n"
          ]
        },
        {
          "name": "stderr",
          "output_type": "stream",
          "text": [
            "[I 2024-10-21 00:38:26,567] Trial 24 finished with value: 1144.6018006550253 and parameters: {'learning_rate': 3.219313688061086e-05, 'hidden_size': 64, 'epochs': 33}. Best is trial 23 with value: 4.769899744049932.\n"
          ]
        },
        {
          "name": "stdout",
          "output_type": "stream",
          "text": [
            "Trial 24: MAE: 1144.6018006550253, RMSE: 17095.24357414189\n"
          ]
        },
        {
          "name": "stderr",
          "output_type": "stream",
          "text": [
            "[I 2024-10-21 00:38:30,700] Trial 25 finished with value: 22.529655070064464 and parameters: {'learning_rate': 1.5995525148307153e-05, 'hidden_size': 64, 'epochs': 17}. Best is trial 23 with value: 4.769899744049932.\n"
          ]
        },
        {
          "name": "stdout",
          "output_type": "stream",
          "text": [
            "Trial 25: MAE: 22.529655070064464, RMSE: 74.77663516154212\n"
          ]
        },
        {
          "name": "stderr",
          "output_type": "stream",
          "text": [
            "[I 2024-10-21 00:38:34,365] Trial 26 finished with value: 8.42876764625511 and parameters: {'learning_rate': 3.208943622114702e-05, 'hidden_size': 128, 'epochs': 10}. Best is trial 23 with value: 4.769899744049932.\n"
          ]
        },
        {
          "name": "stdout",
          "output_type": "stream",
          "text": [
            "Trial 26: MAE: 8.42876764625511, RMSE: 18.024784596048857\n"
          ]
        },
        {
          "name": "stderr",
          "output_type": "stream",
          "text": [
            "[I 2024-10-21 00:38:37,848] Trial 27 finished with value: 5.52108193493554 and parameters: {'learning_rate': 6.520151168015501e-06, 'hidden_size': 64, 'epochs': 14}. Best is trial 23 with value: 4.769899744049932.\n"
          ]
        },
        {
          "name": "stdout",
          "output_type": "stream",
          "text": [
            "Trial 27: MAE: 5.52108193493554, RMSE: 13.22810900139278\n"
          ]
        },
        {
          "name": "stderr",
          "output_type": "stream",
          "text": [
            "[I 2024-10-21 00:38:42,725] Trial 28 finished with value: 5.824962272452334 and parameters: {'learning_rate': 6.645776246402978e-05, 'hidden_size': 64, 'epochs': 20}. Best is trial 23 with value: 4.769899744049932.\n"
          ]
        },
        {
          "name": "stdout",
          "output_type": "stream",
          "text": [
            "Trial 28: MAE: 5.824962272452334, RMSE: 17.40206856064021\n"
          ]
        },
        {
          "name": "stderr",
          "output_type": "stream",
          "text": [
            "[I 2024-10-21 00:38:46,727] Trial 29 finished with value: 70.66202913597996 and parameters: {'learning_rate': 1.8910177510459128e-05, 'hidden_size': 64, 'epochs': 16}. Best is trial 23 with value: 4.769899744049932.\n"
          ]
        },
        {
          "name": "stdout",
          "output_type": "stream",
          "text": [
            "Trial 29: MAE: 70.66202913597996, RMSE: 281.1741952566366\n"
          ]
        },
        {
          "name": "stderr",
          "output_type": "stream",
          "text": [
            "[I 2024-10-21 00:38:49,714] Trial 30 finished with value: 4.892296259227176 and parameters: {'learning_rate': 4.235514853805677e-06, 'hidden_size': 64, 'epochs': 12}. Best is trial 23 with value: 4.769899744049932.\n"
          ]
        },
        {
          "name": "stdout",
          "output_type": "stream",
          "text": [
            "Trial 30: MAE: 4.892296259227176, RMSE: 10.283665894478602\n"
          ]
        },
        {
          "name": "stderr",
          "output_type": "stream",
          "text": [
            "[I 2024-10-21 00:38:52,215] Trial 31 finished with value: 4.350614610324949 and parameters: {'learning_rate': 5.916305576031817e-05, 'hidden_size': 64, 'epochs': 10}. Best is trial 31 with value: 4.350614610324949.\n"
          ]
        },
        {
          "name": "stdout",
          "output_type": "stream",
          "text": [
            "Trial 31: MAE: 4.350614610324949, RMSE: 9.988014237669738\n"
          ]
        },
        {
          "name": "stderr",
          "output_type": "stream",
          "text": [
            "[I 2024-10-21 00:38:54,716] Trial 32 finished with value: 5.9527067910429565 and parameters: {'learning_rate': 5.842394367697067e-05, 'hidden_size': 64, 'epochs': 10}. Best is trial 31 with value: 4.350614610324949.\n"
          ]
        },
        {
          "name": "stdout",
          "output_type": "stream",
          "text": [
            "Trial 32: MAE: 5.9527067910429565, RMSE: 18.310637400500287\n"
          ]
        },
        {
          "name": "stderr",
          "output_type": "stream",
          "text": [
            "[I 2024-10-21 00:38:58,008] Trial 33 finished with value: 4.55127857638739 and parameters: {'learning_rate': 3.777029616059908e-05, 'hidden_size': 64, 'epochs': 13}. Best is trial 31 with value: 4.350614610324949.\n"
          ]
        },
        {
          "name": "stdout",
          "output_type": "stream",
          "text": [
            "Trial 33: MAE: 4.55127857638739, RMSE: 10.096026095235203\n"
          ]
        },
        {
          "name": "stderr",
          "output_type": "stream",
          "text": [
            "[I 2024-10-21 00:39:01,234] Trial 34 finished with value: 15.02044998297653 and parameters: {'learning_rate': 9.822813877553972e-05, 'hidden_size': 64, 'epochs': 13}. Best is trial 31 with value: 4.350614610324949.\n"
          ]
        },
        {
          "name": "stdout",
          "output_type": "stream",
          "text": [
            "Trial 34: MAE: 15.02044998297653, RMSE: 47.71524956516054\n"
          ]
        },
        {
          "name": "stderr",
          "output_type": "stream",
          "text": [
            "[I 2024-10-21 00:39:12,862] Trial 35 finished with value: 10.31178982348139 and parameters: {'learning_rate': 3.561788776905702e-05, 'hidden_size': 128, 'epochs': 32}. Best is trial 31 with value: 4.350614610324949.\n"
          ]
        },
        {
          "name": "stdout",
          "output_type": "stream",
          "text": [
            "Trial 35: MAE: 10.31178982348139, RMSE: 264.7284828377029\n"
          ]
        },
        {
          "name": "stderr",
          "output_type": "stream",
          "text": [
            "[I 2024-10-21 00:39:17,315] Trial 36 finished with value: 79.89695848835837 and parameters: {'learning_rate': 2.6620937479113767e-05, 'hidden_size': 64, 'epochs': 18}. Best is trial 31 with value: 4.350614610324949.\n"
          ]
        },
        {
          "name": "stdout",
          "output_type": "stream",
          "text": [
            "Trial 36: MAE: 79.89695848835837, RMSE: 1213.5415753725558\n"
          ]
        },
        {
          "name": "stderr",
          "output_type": "stream",
          "text": [
            "[I 2024-10-21 00:39:20,548] Trial 37 finished with value: 5.019319964820933 and parameters: {'learning_rate': 1.1083689454316804e-05, 'hidden_size': 64, 'epochs': 13}. Best is trial 31 with value: 4.350614610324949.\n"
          ]
        },
        {
          "name": "stdout",
          "output_type": "stream",
          "text": [
            "Trial 37: MAE: 5.019319964820933, RMSE: 10.342995277643318\n"
          ]
        },
        {
          "name": "stderr",
          "output_type": "stream",
          "text": [
            "[I 2024-10-21 00:39:26,049] Trial 38 finished with value: 59.483666984899294 and parameters: {'learning_rate': 6.429551322864621e-05, 'hidden_size': 128, 'epochs': 15}. Best is trial 31 with value: 4.350614610324949.\n"
          ]
        },
        {
          "name": "stdout",
          "output_type": "stream",
          "text": [
            "Trial 38: MAE: 59.483666984899294, RMSE: 289.65393937620274\n"
          ]
        },
        {
          "name": "stderr",
          "output_type": "stream",
          "text": [
            "[I 2024-10-21 00:39:33,237] Trial 39 finished with value: 69.75583895024675 and parameters: {'learning_rate': 3.6324282168633355e-05, 'hidden_size': 64, 'epochs': 29}. Best is trial 31 with value: 4.350614610324949.\n"
          ]
        },
        {
          "name": "stdout",
          "output_type": "stream",
          "text": [
            "Trial 39: MAE: 69.75583895024675, RMSE: 548.1822230675134\n"
          ]
        },
        {
          "name": "stderr",
          "output_type": "stream",
          "text": [
            "[I 2024-10-21 00:39:38,880] Trial 40 finished with value: 9.283825886785568 and parameters: {'learning_rate': 9.165505275346865e-06, 'hidden_size': 64, 'epochs': 23}. Best is trial 31 with value: 4.350614610324949.\n"
          ]
        },
        {
          "name": "stdout",
          "output_type": "stream",
          "text": [
            "Trial 40: MAE: 9.283825886785568, RMSE: 149.54376133942577\n"
          ]
        },
        {
          "name": "stderr",
          "output_type": "stream",
          "text": [
            "[I 2024-10-21 00:39:41,367] Trial 41 finished with value: 5.095993785806849 and parameters: {'learning_rate': 4.175700552108445e-05, 'hidden_size': 64, 'epochs': 10}. Best is trial 31 with value: 4.350614610324949.\n"
          ]
        },
        {
          "name": "stdout",
          "output_type": "stream",
          "text": [
            "Trial 41: MAE: 5.095993785806849, RMSE: 11.05558750522348\n"
          ]
        },
        {
          "name": "stderr",
          "output_type": "stream",
          "text": [
            "[I 2024-10-21 00:39:44,320] Trial 42 finished with value: 11.185710771037414 and parameters: {'learning_rate': 5.719363249234683e-05, 'hidden_size': 64, 'epochs': 12}. Best is trial 31 with value: 4.350614610324949.\n"
          ]
        },
        {
          "name": "stdout",
          "output_type": "stream",
          "text": [
            "Trial 42: MAE: 11.185710771037414, RMSE: 25.037492972152446\n"
          ]
        },
        {
          "name": "stderr",
          "output_type": "stream",
          "text": [
            "[I 2024-10-21 00:39:47,330] Trial 43 finished with value: 5.854137666599194 and parameters: {'learning_rate': 2.6377219148074062e-05, 'hidden_size': 64, 'epochs': 12}. Best is trial 31 with value: 4.350614610324949.\n"
          ]
        },
        {
          "name": "stdout",
          "output_type": "stream",
          "text": [
            "Trial 43: MAE: 5.854137666599194, RMSE: 15.126294163199784\n"
          ]
        },
        {
          "name": "stderr",
          "output_type": "stream",
          "text": [
            "[I 2024-10-21 00:39:51,286] Trial 44 finished with value: 8.296737806992716 and parameters: {'learning_rate': 2.2669244878737795e-06, 'hidden_size': 64, 'epochs': 16}. Best is trial 31 with value: 4.350614610324949.\n"
          ]
        },
        {
          "name": "stdout",
          "output_type": "stream",
          "text": [
            "Trial 44: MAE: 8.296737806992716, RMSE: 33.2910451992095\n"
          ]
        },
        {
          "name": "stderr",
          "output_type": "stream",
          "text": [
            "[I 2024-10-21 00:40:00,356] Trial 45 finished with value: 168.72313673701538 and parameters: {'learning_rate': 1.925304146085447e-05, 'hidden_size': 64, 'epochs': 37}. Best is trial 31 with value: 4.350614610324949.\n"
          ]
        },
        {
          "name": "stdout",
          "output_type": "stream",
          "text": [
            "Trial 45: MAE: 168.72313673701538, RMSE: 2181.677289568242\n"
          ]
        },
        {
          "name": "stderr",
          "output_type": "stream",
          "text": [
            "[I 2024-10-21 00:40:02,858] Trial 46 finished with value: 4.8650391798113946 and parameters: {'learning_rate': 1.1546170364785227e-06, 'hidden_size': 64, 'epochs': 10}. Best is trial 31 with value: 4.350614610324949.\n"
          ]
        },
        {
          "name": "stdout",
          "output_type": "stream",
          "text": [
            "Trial 46: MAE: 4.8650391798113946, RMSE: 10.271689261219828\n"
          ]
        },
        {
          "name": "stderr",
          "output_type": "stream",
          "text": [
            "[I 2024-10-21 00:40:07,272] Trial 47 finished with value: 4.838695290126632 and parameters: {'learning_rate': 7.127221567781242e-05, 'hidden_size': 128, 'epochs': 12}. Best is trial 31 with value: 4.350614610324949.\n"
          ]
        },
        {
          "name": "stdout",
          "output_type": "stream",
          "text": [
            "Trial 47: MAE: 4.838695290126632, RMSE: 12.098326075292505\n"
          ]
        },
        {
          "name": "stderr",
          "output_type": "stream",
          "text": [
            "[I 2024-10-21 00:40:10,812] Trial 48 finished with value: 4.912196402222802 and parameters: {'learning_rate': 9.596835502509413e-05, 'hidden_size': 64, 'epochs': 14}. Best is trial 31 with value: 4.350614610324949.\n"
          ]
        },
        {
          "name": "stdout",
          "output_type": "stream",
          "text": [
            "Trial 48: MAE: 4.912196402222802, RMSE: 11.176287904311794\n"
          ]
        },
        {
          "name": "stderr",
          "output_type": "stream",
          "text": [
            "[I 2024-10-21 00:40:15,520] Trial 49 finished with value: 37.97281708654657 and parameters: {'learning_rate': 2.845495483492936e-05, 'hidden_size': 64, 'epochs': 19}. Best is trial 31 with value: 4.350614610324949.\n"
          ]
        },
        {
          "name": "stdout",
          "output_type": "stream",
          "text": [
            "Trial 49: MAE: 37.97281708654657, RMSE: 228.5105086193378\n"
          ]
        },
        {
          "name": "stderr",
          "output_type": "stream",
          "text": [
            "[I 2024-10-21 00:40:19,470] Trial 50 finished with value: 540.6021916045785 and parameters: {'learning_rate': 1.6795431102289298e-06, 'hidden_size': 64, 'epochs': 16}. Best is trial 31 with value: 4.350614610324949.\n"
          ]
        },
        {
          "name": "stdout",
          "output_type": "stream",
          "text": [
            "Trial 50: MAE: 540.6021916045785, RMSE: 8207.670998365738\n"
          ]
        },
        {
          "name": "stderr",
          "output_type": "stream",
          "text": [
            "[I 2024-10-21 00:40:23,888] Trial 51 finished with value: 4.322393202231138 and parameters: {'learning_rate': 7.953528569602736e-05, 'hidden_size': 128, 'epochs': 12}. Best is trial 51 with value: 4.322393202231138.\n"
          ]
        },
        {
          "name": "stdout",
          "output_type": "stream",
          "text": [
            "Trial 51: MAE: 4.322393202231138, RMSE: 10.02825807536268\n"
          ]
        },
        {
          "name": "stderr",
          "output_type": "stream",
          "text": [
            "[I 2024-10-21 00:40:27,935] Trial 52 finished with value: 4.262037551767267 and parameters: {'learning_rate': 8.032781689976049e-05, 'hidden_size': 128, 'epochs': 11}. Best is trial 52 with value: 4.262037551767267.\n"
          ]
        },
        {
          "name": "stdout",
          "output_type": "stream",
          "text": [
            "Trial 52: MAE: 4.262037551767267, RMSE: 10.087790972161054\n"
          ]
        },
        {
          "name": "stderr",
          "output_type": "stream",
          "text": [
            "[I 2024-10-21 00:40:32,345] Trial 53 finished with value: 4.895416201475089 and parameters: {'learning_rate': 8.253246193401998e-05, 'hidden_size': 128, 'epochs': 12}. Best is trial 52 with value: 4.262037551767267.\n"
          ]
        },
        {
          "name": "stdout",
          "output_type": "stream",
          "text": [
            "Trial 53: MAE: 4.895416201475089, RMSE: 10.286828055333839\n"
          ]
        },
        {
          "name": "stderr",
          "output_type": "stream",
          "text": [
            "[I 2024-10-21 00:40:37,853] Trial 54 finished with value: 8.858201430721232 and parameters: {'learning_rate': 3.9658594808592726e-05, 'hidden_size': 128, 'epochs': 15}. Best is trial 52 with value: 4.262037551767267.\n"
          ]
        },
        {
          "name": "stdout",
          "output_type": "stream",
          "text": [
            "Trial 54: MAE: 8.858201430721232, RMSE: 26.86425462971123\n"
          ]
        },
        {
          "name": "stderr",
          "output_type": "stream",
          "text": [
            "[I 2024-10-21 00:40:41,901] Trial 55 finished with value: 4.391594826978387 and parameters: {'learning_rate': 5.480677492495564e-05, 'hidden_size': 128, 'epochs': 11}. Best is trial 52 with value: 4.262037551767267.\n"
          ]
        },
        {
          "name": "stdout",
          "output_type": "stream",
          "text": [
            "Trial 55: MAE: 4.391594826978387, RMSE: 10.173046807701136\n"
          ]
        },
        {
          "name": "stderr",
          "output_type": "stream",
          "text": [
            "[I 2024-10-21 00:40:47,052] Trial 56 finished with value: 49.60293237931732 and parameters: {'learning_rate': 5.442910082075085e-05, 'hidden_size': 128, 'epochs': 14}. Best is trial 52 with value: 4.262037551767267.\n"
          ]
        },
        {
          "name": "stdout",
          "output_type": "stream",
          "text": [
            "Trial 56: MAE: 49.60293237931732, RMSE: 134.50171999519608\n"
          ]
        },
        {
          "name": "stderr",
          "output_type": "stream",
          "text": [
            "[I 2024-10-21 00:41:02,900] Trial 57 finished with value: 48.835894090210864 and parameters: {'learning_rate': 7.260193795072026e-05, 'hidden_size': 128, 'epochs': 44}. Best is trial 52 with value: 4.262037551767267.\n"
          ]
        },
        {
          "name": "stdout",
          "output_type": "stream",
          "text": [
            "Trial 57: MAE: 48.835894090210864, RMSE: 729.5493403639014\n"
          ]
        },
        {
          "name": "stderr",
          "output_type": "stream",
          "text": [
            "[I 2024-10-21 00:41:06,910] Trial 58 finished with value: 4.705672112506351 and parameters: {'learning_rate': 8.351785180358537e-05, 'hidden_size': 128, 'epochs': 11}. Best is trial 52 with value: 4.262037551767267.\n"
          ]
        },
        {
          "name": "stdout",
          "output_type": "stream",
          "text": [
            "Trial 58: MAE: 4.705672112506351, RMSE: 10.189158524511825\n"
          ]
        },
        {
          "name": "stderr",
          "output_type": "stream",
          "text": [
            "[I 2024-10-21 00:41:14,895] Trial 59 finished with value: 6.901588068748695 and parameters: {'learning_rate': 9.907478159721976e-05, 'hidden_size': 128, 'epochs': 22}. Best is trial 52 with value: 4.262037551767267.\n"
          ]
        },
        {
          "name": "stdout",
          "output_type": "stream",
          "text": [
            "Trial 59: MAE: 6.901588068748695, RMSE: 21.515484302218145\n"
          ]
        },
        {
          "name": "stderr",
          "output_type": "stream",
          "text": [
            "[I 2024-10-21 00:41:24,290] Trial 60 finished with value: 29.049084545783295 and parameters: {'learning_rate': 8.105196977103907e-05, 'hidden_size': 128, 'epochs': 26}. Best is trial 52 with value: 4.262037551767267.\n"
          ]
        },
        {
          "name": "stdout",
          "output_type": "stream",
          "text": [
            "Trial 60: MAE: 29.049084545783295, RMSE: 104.18027928168098\n"
          ]
        },
        {
          "name": "stderr",
          "output_type": "stream",
          "text": [
            "[I 2024-10-21 00:41:28,336] Trial 61 finished with value: 5.263010967586758 and parameters: {'learning_rate': 5.109640990705688e-05, 'hidden_size': 128, 'epochs': 11}. Best is trial 52 with value: 4.262037551767267.\n"
          ]
        },
        {
          "name": "stdout",
          "output_type": "stream",
          "text": [
            "Trial 61: MAE: 5.263010967586758, RMSE: 11.725369332552356\n"
          ]
        },
        {
          "name": "stderr",
          "output_type": "stream",
          "text": [
            "[I 2024-10-21 00:41:33,118] Trial 62 finished with value: 4.742815294609302 and parameters: {'learning_rate': 6.115417993891361e-05, 'hidden_size': 128, 'epochs': 13}. Best is trial 52 with value: 4.262037551767267.\n"
          ]
        },
        {
          "name": "stdout",
          "output_type": "stream",
          "text": [
            "Trial 62: MAE: 4.742815294609302, RMSE: 10.860738128968595\n"
          ]
        },
        {
          "name": "stderr",
          "output_type": "stream",
          "text": [
            "[I 2024-10-21 00:41:39,341] Trial 63 finished with value: 4.597604569838864 and parameters: {'learning_rate': 6.602905848009134e-05, 'hidden_size': 128, 'epochs': 17}. Best is trial 52 with value: 4.262037551767267.\n"
          ]
        },
        {
          "name": "stdout",
          "output_type": "stream",
          "text": [
            "Trial 63: MAE: 4.597604569838864, RMSE: 10.470607381666087\n"
          ]
        },
        {
          "name": "stderr",
          "output_type": "stream",
          "text": [
            "[I 2024-10-21 00:41:45,534] Trial 64 finished with value: 5.512798518910855 and parameters: {'learning_rate': 7.050863638936877e-05, 'hidden_size': 128, 'epochs': 17}. Best is trial 52 with value: 4.262037551767267.\n"
          ]
        },
        {
          "name": "stdout",
          "output_type": "stream",
          "text": [
            "Trial 64: MAE: 5.512798518910855, RMSE: 12.941424647310381\n"
          ]
        },
        {
          "name": "stderr",
          "output_type": "stream",
          "text": [
            "[I 2024-10-21 00:41:52,117] Trial 65 finished with value: 23.8677375119224 and parameters: {'learning_rate': 8.720389792434394e-05, 'hidden_size': 128, 'epochs': 18}. Best is trial 52 with value: 4.262037551767267.\n"
          ]
        },
        {
          "name": "stdout",
          "output_type": "stream",
          "text": [
            "Trial 65: MAE: 23.8677375119224, RMSE: 71.29784237116766\n"
          ]
        },
        {
          "name": "stderr",
          "output_type": "stream",
          "text": [
            "[I 2024-10-21 00:41:56,162] Trial 66 finished with value: 4.766896747402577 and parameters: {'learning_rate': 4.468334939171646e-05, 'hidden_size': 128, 'epochs': 11}. Best is trial 52 with value: 4.262037551767267.\n"
          ]
        },
        {
          "name": "stdout",
          "output_type": "stream",
          "text": [
            "Trial 66: MAE: 4.766896747402577, RMSE: 10.21764098166844\n"
          ]
        },
        {
          "name": "stderr",
          "output_type": "stream",
          "text": [
            "[I 2024-10-21 00:42:01,663] Trial 67 finished with value: 4.573884481260959 and parameters: {'learning_rate': 5.629266052761859e-05, 'hidden_size': 128, 'epochs': 15}. Best is trial 52 with value: 4.262037551767267.\n"
          ]
        },
        {
          "name": "stdout",
          "output_type": "stream",
          "text": [
            "Trial 67: MAE: 4.573884481260959, RMSE: 10.11639168646677\n"
          ]
        },
        {
          "name": "stderr",
          "output_type": "stream",
          "text": [
            "[I 2024-10-21 00:42:06,771] Trial 68 finished with value: 4.399790860332912 and parameters: {'learning_rate': 5.281256614259921e-05, 'hidden_size': 128, 'epochs': 14}. Best is trial 52 with value: 4.262037551767267.\n"
          ]
        },
        {
          "name": "stdout",
          "output_type": "stream",
          "text": [
            "Trial 68: MAE: 4.399790860332912, RMSE: 10.037387606181673\n"
          ]
        },
        {
          "name": "stderr",
          "output_type": "stream",
          "text": [
            "[I 2024-10-21 00:42:11,877] Trial 69 finished with value: 10.913424878212847 and parameters: {'learning_rate': 5.2182757859915566e-05, 'hidden_size': 128, 'epochs': 14}. Best is trial 52 with value: 4.262037551767267.\n"
          ]
        },
        {
          "name": "stdout",
          "output_type": "stream",
          "text": [
            "Trial 69: MAE: 10.913424878212847, RMSE: 27.534813641233338\n"
          ]
        },
        {
          "name": "stderr",
          "output_type": "stream",
          "text": [
            "[I 2024-10-21 00:42:17,351] Trial 70 finished with value: 4.708039405153023 and parameters: {'learning_rate': 3.989821157613898e-05, 'hidden_size': 128, 'epochs': 15}. Best is trial 52 with value: 4.262037551767267.\n"
          ]
        },
        {
          "name": "stdout",
          "output_type": "stream",
          "text": [
            "Trial 70: MAE: 4.708039405153023, RMSE: 10.761208150596183\n"
          ]
        },
        {
          "name": "stderr",
          "output_type": "stream",
          "text": [
            "[I 2024-10-21 00:42:23,544] Trial 71 finished with value: 4.893820494778763 and parameters: {'learning_rate': 6.226064150789982e-05, 'hidden_size': 128, 'epochs': 17}. Best is trial 52 with value: 4.262037551767267.\n"
          ]
        },
        {
          "name": "stdout",
          "output_type": "stream",
          "text": [
            "Trial 71: MAE: 4.893820494778763, RMSE: 10.30018642436841\n"
          ]
        },
        {
          "name": "stderr",
          "output_type": "stream",
          "text": [
            "[I 2024-10-21 00:42:28,282] Trial 72 finished with value: 4.684799134526679 and parameters: {'learning_rate': 7.306025478290178e-05, 'hidden_size': 128, 'epochs': 13}. Best is trial 52 with value: 4.262037551767267.\n"
          ]
        },
        {
          "name": "stdout",
          "output_type": "stream",
          "text": [
            "Trial 72: MAE: 4.684799134526679, RMSE: 10.183493480911082\n"
          ]
        },
        {
          "name": "stderr",
          "output_type": "stream",
          "text": [
            "[I 2024-10-21 00:42:35,157] Trial 73 finished with value: 26.22998842758585 and parameters: {'learning_rate': 4.9234024620151725e-05, 'hidden_size': 128, 'epochs': 19}. Best is trial 52 with value: 4.262037551767267.\n"
          ]
        },
        {
          "name": "stdout",
          "output_type": "stream",
          "text": [
            "Trial 73: MAE: 26.22998842758585, RMSE: 99.10444434325991\n"
          ]
        },
        {
          "name": "stderr",
          "output_type": "stream",
          "text": [
            "[I 2024-10-21 00:42:40,975] Trial 74 finished with value: 12.333669632300719 and parameters: {'learning_rate': 5.713918327730401e-05, 'hidden_size': 128, 'epochs': 16}. Best is trial 52 with value: 4.262037551767267.\n"
          ]
        },
        {
          "name": "stdout",
          "output_type": "stream",
          "text": [
            "Trial 74: MAE: 12.333669632300719, RMSE: 49.055524317259646\n"
          ]
        },
        {
          "name": "stderr",
          "output_type": "stream",
          "text": [
            "[I 2024-10-21 00:42:53,903] Trial 75 finished with value: 31.468729174369415 and parameters: {'learning_rate': 6.526200420345507e-05, 'hidden_size': 128, 'epochs': 36}. Best is trial 52 with value: 4.262037551767267.\n"
          ]
        },
        {
          "name": "stdout",
          "output_type": "stream",
          "text": [
            "Trial 75: MAE: 31.468729174369415, RMSE: 197.70033302436715\n"
          ]
        },
        {
          "name": "stderr",
          "output_type": "stream",
          "text": [
            "[I 2024-10-21 00:42:58,280] Trial 76 finished with value: 13.041258431159154 and parameters: {'learning_rate': 8.954100434844023e-05, 'hidden_size': 128, 'epochs': 12}. Best is trial 52 with value: 4.262037551767267.\n"
          ]
        },
        {
          "name": "stdout",
          "output_type": "stream",
          "text": [
            "Trial 76: MAE: 13.041258431159154, RMSE: 23.267168509211263\n"
          ]
        },
        {
          "name": "stderr",
          "output_type": "stream",
          "text": [
            "[I 2024-10-21 00:43:03,773] Trial 77 finished with value: 19.69866325476441 and parameters: {'learning_rate': 4.53626308594484e-05, 'hidden_size': 128, 'epochs': 15}. Best is trial 52 with value: 4.262037551767267.\n"
          ]
        },
        {
          "name": "stdout",
          "output_type": "stream",
          "text": [
            "Trial 77: MAE: 19.69866325476441, RMSE: 53.451721505844844\n"
          ]
        },
        {
          "name": "stderr",
          "output_type": "stream",
          "text": [
            "[I 2024-10-21 00:43:07,803] Trial 78 finished with value: 28.64281931560425 and parameters: {'learning_rate': 2.979613848305263e-05, 'hidden_size': 128, 'epochs': 11}. Best is trial 52 with value: 4.262037551767267.\n"
          ]
        },
        {
          "name": "stdout",
          "output_type": "stream",
          "text": [
            "Trial 78: MAE: 28.64281931560425, RMSE: 74.65232704748844\n"
          ]
        },
        {
          "name": "stderr",
          "output_type": "stream",
          "text": [
            "[I 2024-10-21 00:43:12,927] Trial 79 finished with value: 5.096099348337847 and parameters: {'learning_rate': 2.357429838334459e-05, 'hidden_size': 128, 'epochs': 14}. Best is trial 52 with value: 4.262037551767267.\n"
          ]
        },
        {
          "name": "stdout",
          "output_type": "stream",
          "text": [
            "Trial 79: MAE: 5.096099348337847, RMSE: 11.49490686773999\n"
          ]
        },
        {
          "name": "stderr",
          "output_type": "stream",
          "text": [
            "[I 2024-10-21 00:43:17,695] Trial 80 finished with value: 5.969276665244274 and parameters: {'learning_rate': 7.457971913651891e-05, 'hidden_size': 128, 'epochs': 13}. Best is trial 52 with value: 4.262037551767267.\n"
          ]
        },
        {
          "name": "stdout",
          "output_type": "stream",
          "text": [
            "Trial 80: MAE: 5.969276665244274, RMSE: 27.266225090199097\n"
          ]
        },
        {
          "name": "stderr",
          "output_type": "stream",
          "text": [
            "[I 2024-10-21 00:43:22,439] Trial 81 finished with value: 4.407818670513655 and parameters: {'learning_rate': 7.319539804218677e-05, 'hidden_size': 128, 'epochs': 13}. Best is trial 52 with value: 4.262037551767267.\n"
          ]
        },
        {
          "name": "stdout",
          "output_type": "stream",
          "text": [
            "Trial 81: MAE: 4.407818670513655, RMSE: 10.068769329955064\n"
          ]
        },
        {
          "name": "stderr",
          "output_type": "stream",
          "text": [
            "[I 2024-10-21 00:43:26,500] Trial 82 finished with value: 4.580027679185383 and parameters: {'learning_rate': 5.695773526339903e-05, 'hidden_size': 128, 'epochs': 11}. Best is trial 52 with value: 4.262037551767267.\n"
          ]
        },
        {
          "name": "stdout",
          "output_type": "stream",
          "text": [
            "Trial 82: MAE: 4.580027679185383, RMSE: 10.470120107779914\n"
          ]
        },
        {
          "name": "stderr",
          "output_type": "stream",
          "text": [
            "[I 2024-10-21 00:43:30,549] Trial 83 finished with value: 4.5982849703407 and parameters: {'learning_rate': 3.795880094560491e-05, 'hidden_size': 128, 'epochs': 11}. Best is trial 52 with value: 4.262037551767267.\n"
          ]
        },
        {
          "name": "stdout",
          "output_type": "stream",
          "text": [
            "Trial 83: MAE: 4.5982849703407, RMSE: 11.678844939976134\n"
          ]
        },
        {
          "name": "stderr",
          "output_type": "stream",
          "text": [
            "[I 2024-10-21 00:43:35,308] Trial 84 finished with value: 4.48220593662 and parameters: {'learning_rate': 5.256044411695012e-05, 'hidden_size': 128, 'epochs': 13}. Best is trial 52 with value: 4.262037551767267.\n"
          ]
        },
        {
          "name": "stdout",
          "output_type": "stream",
          "text": [
            "Trial 84: MAE: 4.48220593662, RMSE: 10.149393568631318\n"
          ]
        },
        {
          "name": "stderr",
          "output_type": "stream",
          "text": [
            "[I 2024-10-21 00:43:40,102] Trial 85 finished with value: 7.080255513605907 and parameters: {'learning_rate': 3.300630509051002e-06, 'hidden_size': 128, 'epochs': 13}. Best is trial 52 with value: 4.262037551767267.\n"
          ]
        },
        {
          "name": "stdout",
          "output_type": "stream",
          "text": [
            "Trial 85: MAE: 7.080255513605907, RMSE: 15.067563307952076\n"
          ]
        },
        {
          "name": "stderr",
          "output_type": "stream",
          "text": [
            "[I 2024-10-21 00:43:43,803] Trial 86 finished with value: 4.909339135172775 and parameters: {'learning_rate': 4.471708870190148e-05, 'hidden_size': 128, 'epochs': 10}. Best is trial 52 with value: 4.262037551767267.\n"
          ]
        },
        {
          "name": "stdout",
          "output_type": "stream",
          "text": [
            "Trial 86: MAE: 4.909339135172775, RMSE: 10.29138288946183\n"
          ]
        },
        {
          "name": "stderr",
          "output_type": "stream",
          "text": [
            "[I 2024-10-21 00:43:48,222] Trial 87 finished with value: 4.564405598527304 and parameters: {'learning_rate': 5.20532497967934e-05, 'hidden_size': 128, 'epochs': 12}. Best is trial 52 with value: 4.262037551767267.\n"
          ]
        },
        {
          "name": "stdout",
          "output_type": "stream",
          "text": [
            "Trial 87: MAE: 4.564405598527304, RMSE: 10.123516751559965\n"
          ]
        },
        {
          "name": "stderr",
          "output_type": "stream",
          "text": [
            "[I 2024-10-21 00:43:52,657] Trial 88 finished with value: 5.157348384913457 and parameters: {'learning_rate': 7.802708249066122e-05, 'hidden_size': 128, 'epochs': 12}. Best is trial 52 with value: 4.262037551767267.\n"
          ]
        },
        {
          "name": "stdout",
          "output_type": "stream",
          "text": [
            "Trial 88: MAE: 5.157348384913457, RMSE: 11.639172153493542\n"
          ]
        },
        {
          "name": "stderr",
          "output_type": "stream",
          "text": [
            "[I 2024-10-21 00:43:56,347] Trial 89 finished with value: 6.296924736290643 and parameters: {'learning_rate': 5.1281210159300626e-05, 'hidden_size': 128, 'epochs': 10}. Best is trial 52 with value: 4.262037551767267.\n"
          ]
        },
        {
          "name": "stdout",
          "output_type": "stream",
          "text": [
            "Trial 89: MAE: 6.296924736290643, RMSE: 12.989895846860684\n"
          ]
        },
        {
          "name": "stderr",
          "output_type": "stream",
          "text": [
            "[I 2024-10-21 00:44:00,776] Trial 90 finished with value: 24.8621116782501 and parameters: {'learning_rate': 9.084994326016962e-05, 'hidden_size': 128, 'epochs': 12}. Best is trial 52 with value: 4.262037551767267.\n"
          ]
        },
        {
          "name": "stdout",
          "output_type": "stream",
          "text": [
            "Trial 90: MAE: 24.8621116782501, RMSE: 49.43103701526403\n"
          ]
        },
        {
          "name": "stderr",
          "output_type": "stream",
          "text": [
            "[I 2024-10-21 00:44:06,283] Trial 91 finished with value: 8.594829758762224 and parameters: {'learning_rate': 5.84432974276437e-05, 'hidden_size': 128, 'epochs': 15}. Best is trial 52 with value: 4.262037551767267.\n"
          ]
        },
        {
          "name": "stdout",
          "output_type": "stream",
          "text": [
            "Trial 91: MAE: 8.594829758762224, RMSE: 22.24965293454496\n"
          ]
        },
        {
          "name": "stderr",
          "output_type": "stream",
          "text": [
            "[I 2024-10-21 00:44:11,056] Trial 92 finished with value: 4.995767558925295 and parameters: {'learning_rate': 6.624265817184739e-05, 'hidden_size': 128, 'epochs': 13}. Best is trial 52 with value: 4.262037551767267.\n"
          ]
        },
        {
          "name": "stdout",
          "output_type": "stream",
          "text": [
            "Trial 92: MAE: 4.995767558925295, RMSE: 11.086782566782803\n"
          ]
        },
        {
          "name": "stderr",
          "output_type": "stream",
          "text": [
            "[I 2024-10-21 00:44:16,208] Trial 93 finished with value: 4.58310239647763 and parameters: {'learning_rate': 4.1575232981335404e-05, 'hidden_size': 128, 'epochs': 14}. Best is trial 52 with value: 4.262037551767267.\n"
          ]
        },
        {
          "name": "stdout",
          "output_type": "stream",
          "text": [
            "Trial 93: MAE: 4.58310239647763, RMSE: 10.95807471753275\n"
          ]
        },
        {
          "name": "stderr",
          "output_type": "stream",
          "text": [
            "[I 2024-10-21 00:44:21,996] Trial 94 finished with value: 4.940270009707516 and parameters: {'learning_rate': 5.287319600133583e-05, 'hidden_size': 128, 'epochs': 16}. Best is trial 52 with value: 4.262037551767267.\n"
          ]
        },
        {
          "name": "stdout",
          "output_type": "stream",
          "text": [
            "Trial 94: MAE: 4.940270009707516, RMSE: 10.416764512888491\n"
          ]
        },
        {
          "name": "stderr",
          "output_type": "stream",
          "text": [
            "[I 2024-10-21 00:44:26,014] Trial 95 finished with value: 5.120023479234882 and parameters: {'learning_rate': 7.909504199761163e-05, 'hidden_size': 128, 'epochs': 11}. Best is trial 52 with value: 4.262037551767267.\n"
          ]
        },
        {
          "name": "stdout",
          "output_type": "stream",
          "text": [
            "Trial 95: MAE: 5.120023479234882, RMSE: 10.392528381959355\n"
          ]
        },
        {
          "name": "stderr",
          "output_type": "stream",
          "text": [
            "[I 2024-10-21 00:44:30,415] Trial 96 finished with value: 7.330135911732547 and parameters: {'learning_rate': 3.111921751867614e-05, 'hidden_size': 128, 'epochs': 12}. Best is trial 52 with value: 4.262037551767267.\n"
          ]
        },
        {
          "name": "stdout",
          "output_type": "stream",
          "text": [
            "Trial 96: MAE: 7.330135911732547, RMSE: 19.17374667408078\n"
          ]
        },
        {
          "name": "stderr",
          "output_type": "stream",
          "text": [
            "[I 2024-10-21 00:44:35,538] Trial 97 finished with value: 4.576283598920769 and parameters: {'learning_rate': 3.460364286251804e-05, 'hidden_size': 128, 'epochs': 14}. Best is trial 52 with value: 4.262037551767267.\n"
          ]
        },
        {
          "name": "stdout",
          "output_type": "stream",
          "text": [
            "Trial 97: MAE: 4.576283598920769, RMSE: 10.140985453648408\n"
          ]
        },
        {
          "name": "stderr",
          "output_type": "stream",
          "text": [
            "[I 2024-10-21 00:44:41,048] Trial 98 finished with value: 5.1336655874491 and parameters: {'learning_rate': 7.01232117228221e-05, 'hidden_size': 128, 'epochs': 15}. Best is trial 52 with value: 4.262037551767267.\n"
          ]
        },
        {
          "name": "stdout",
          "output_type": "stream",
          "text": [
            "Trial 98: MAE: 5.1336655874491, RMSE: 11.548447194853825\n"
          ]
        },
        {
          "name": "stderr",
          "output_type": "stream",
          "text": [
            "[I 2024-10-21 00:44:44,744] Trial 99 finished with value: 5.218689864914747 and parameters: {'learning_rate': 4.763013467018482e-05, 'hidden_size': 128, 'epochs': 10}. Best is trial 52 with value: 4.262037551767267.\n"
          ]
        },
        {
          "name": "stdout",
          "output_type": "stream",
          "text": [
            "Trial 99: MAE: 5.218689864914747, RMSE: 11.885321038493405\n"
          ]
        },
        {
          "name": "stderr",
          "output_type": "stream",
          "text": [
            "[I 2024-10-21 00:44:49,514] Trial 100 finished with value: 6.706955179242534 and parameters: {'learning_rate': 5.8630687264560345e-05, 'hidden_size': 128, 'epochs': 13}. Best is trial 52 with value: 4.262037551767267.\n"
          ]
        },
        {
          "name": "stdout",
          "output_type": "stream",
          "text": [
            "Trial 100: MAE: 6.706955179242534, RMSE: 13.410181583226484\n"
          ]
        },
        {
          "name": "stderr",
          "output_type": "stream",
          "text": [
            "[I 2024-10-21 00:44:53,927] Trial 101 finished with value: 4.788368847188918 and parameters: {'learning_rate': 3.481560242244635e-05, 'hidden_size': 128, 'epochs': 12}. Best is trial 52 with value: 4.262037551767267.\n"
          ]
        },
        {
          "name": "stdout",
          "output_type": "stream",
          "text": [
            "Trial 101: MAE: 4.788368847188918, RMSE: 12.963451775161456\n"
          ]
        },
        {
          "name": "stderr",
          "output_type": "stream",
          "text": [
            "[I 2024-10-21 00:45:12,015] Trial 102 finished with value: 120.4983188344183 and parameters: {'learning_rate': 3.720019789246203e-05, 'hidden_size': 128, 'epochs': 50}. Best is trial 52 with value: 4.262037551767267.\n"
          ]
        },
        {
          "name": "stdout",
          "output_type": "stream",
          "text": [
            "Trial 102: MAE: 120.4983188344183, RMSE: 6930.223417498541\n"
          ]
        },
        {
          "name": "stderr",
          "output_type": "stream",
          "text": [
            "[I 2024-10-21 00:45:17,212] Trial 103 finished with value: 7.035391685433372 and parameters: {'learning_rate': 4.275847904939997e-05, 'hidden_size': 128, 'epochs': 14}. Best is trial 52 with value: 4.262037551767267.\n"
          ]
        },
        {
          "name": "stdout",
          "output_type": "stream",
          "text": [
            "Trial 103: MAE: 7.035391685433372, RMSE: 16.852776257611165\n"
          ]
        },
        {
          "name": "stderr",
          "output_type": "stream",
          "text": [
            "[I 2024-10-21 00:45:22,009] Trial 104 finished with value: 5.118183043655259 and parameters: {'learning_rate': 6.325617602903749e-05, 'hidden_size': 128, 'epochs': 13}. Best is trial 52 with value: 4.262037551767267.\n"
          ]
        },
        {
          "name": "stdout",
          "output_type": "stream",
          "text": [
            "Trial 104: MAE: 5.118183043655259, RMSE: 10.3924067213914\n"
          ]
        },
        {
          "name": "stderr",
          "output_type": "stream",
          "text": [
            "[I 2024-10-21 00:45:26,040] Trial 105 finished with value: 6.6906749054464045 and parameters: {'learning_rate': 5.400418845283276e-05, 'hidden_size': 128, 'epochs': 11}. Best is trial 52 with value: 4.262037551767267.\n"
          ]
        },
        {
          "name": "stdout",
          "output_type": "stream",
          "text": [
            "Trial 105: MAE: 6.6906749054464045, RMSE: 14.167831701972018\n"
          ]
        },
        {
          "name": "stderr",
          "output_type": "stream",
          "text": [
            "[I 2024-10-21 00:45:31,208] Trial 106 finished with value: 6.037401353145949 and parameters: {'learning_rate': 4.8955234403746645e-05, 'hidden_size': 128, 'epochs': 14}. Best is trial 52 with value: 4.262037551767267.\n"
          ]
        },
        {
          "name": "stdout",
          "output_type": "stream",
          "text": [
            "Trial 106: MAE: 6.037401353145949, RMSE: 15.462403750817458\n"
          ]
        },
        {
          "name": "stderr",
          "output_type": "stream",
          "text": [
            "[I 2024-10-21 00:45:33,708] Trial 107 finished with value: 25.15497955372853 and parameters: {'learning_rate': 8.572847528413585e-05, 'hidden_size': 64, 'epochs': 10}. Best is trial 52 with value: 4.262037551767267.\n"
          ]
        },
        {
          "name": "stdout",
          "output_type": "stream",
          "text": [
            "Trial 107: MAE: 25.15497955372853, RMSE: 48.80833663311909\n"
          ]
        },
        {
          "name": "stderr",
          "output_type": "stream",
          "text": [
            "[I 2024-10-21 00:45:39,585] Trial 108 finished with value: 5.454311381563829 and parameters: {'learning_rate': 6.847528083126209e-05, 'hidden_size': 128, 'epochs': 16}. Best is trial 52 with value: 4.262037551767267.\n"
          ]
        },
        {
          "name": "stdout",
          "output_type": "stream",
          "text": [
            "Trial 108: MAE: 5.454311381563829, RMSE: 11.678997813354309\n"
          ]
        },
        {
          "name": "stderr",
          "output_type": "stream",
          "text": [
            "[I 2024-10-21 00:45:45,090] Trial 109 finished with value: 8.194785066405347 and parameters: {'learning_rate': 3.3006336442737435e-05, 'hidden_size': 128, 'epochs': 15}. Best is trial 52 with value: 4.262037551767267.\n"
          ]
        },
        {
          "name": "stdout",
          "output_type": "stream",
          "text": [
            "Trial 109: MAE: 8.194785066405347, RMSE: 16.33132531896652\n"
          ]
        },
        {
          "name": "stderr",
          "output_type": "stream",
          "text": [
            "[I 2024-10-21 00:45:52,761] Trial 110 finished with value: 5.525009074034062 and parameters: {'learning_rate': 7.765085270846439e-05, 'hidden_size': 64, 'epochs': 31}. Best is trial 52 with value: 4.262037551767267.\n"
          ]
        },
        {
          "name": "stdout",
          "output_type": "stream",
          "text": [
            "Trial 110: MAE: 5.525009074034062, RMSE: 16.093728438458687\n"
          ]
        },
        {
          "name": "stderr",
          "output_type": "stream",
          "text": [
            "[I 2024-10-21 00:45:56,793] Trial 111 finished with value: 8.03415073076919 and parameters: {'learning_rate': 6.022961893020974e-05, 'hidden_size': 128, 'epochs': 11}. Best is trial 52 with value: 4.262037551767267.\n"
          ]
        },
        {
          "name": "stdout",
          "output_type": "stream",
          "text": [
            "Trial 111: MAE: 8.03415073076919, RMSE: 19.88841237477917\n"
          ]
        },
        {
          "name": "stderr",
          "output_type": "stream",
          "text": [
            "[I 2024-10-21 00:46:00,837] Trial 112 finished with value: 5.981412948437301 and parameters: {'learning_rate': 5.7545009930408884e-05, 'hidden_size': 128, 'epochs': 11}. Best is trial 52 with value: 4.262037551767267.\n"
          ]
        },
        {
          "name": "stdout",
          "output_type": "stream",
          "text": [
            "Trial 112: MAE: 5.981412948437301, RMSE: 14.740341720289015\n"
          ]
        },
        {
          "name": "stderr",
          "output_type": "stream",
          "text": [
            "[I 2024-10-21 00:46:05,286] Trial 113 finished with value: 25.850630949651613 and parameters: {'learning_rate': 4.00780431835124e-05, 'hidden_size': 128, 'epochs': 12}. Best is trial 52 with value: 4.262037551767267.\n"
          ]
        },
        {
          "name": "stdout",
          "output_type": "stream",
          "text": [
            "Trial 113: MAE: 25.850630949651613, RMSE: 51.812523822441\n"
          ]
        },
        {
          "name": "stderr",
          "output_type": "stream",
          "text": [
            "[I 2024-10-21 00:46:19,861] Trial 114 finished with value: 132.21501012032425 and parameters: {'learning_rate': 5.393461616722852e-05, 'hidden_size': 128, 'epochs': 40}. Best is trial 52 with value: 4.262037551767267.\n"
          ]
        },
        {
          "name": "stdout",
          "output_type": "stream",
          "text": [
            "Trial 114: MAE: 132.21501012032425, RMSE: 1212.521976499645\n"
          ]
        },
        {
          "name": "stderr",
          "output_type": "stream",
          "text": [
            "[I 2024-10-21 00:46:24,649] Trial 115 finished with value: 10.271006449917824 and parameters: {'learning_rate': 4.682853186490936e-05, 'hidden_size': 128, 'epochs': 13}. Best is trial 52 with value: 4.262037551767267.\n"
          ]
        },
        {
          "name": "stdout",
          "output_type": "stream",
          "text": [
            "Trial 115: MAE: 10.271006449917824, RMSE: 23.581019804788216\n"
          ]
        },
        {
          "name": "stderr",
          "output_type": "stream",
          "text": [
            "[I 2024-10-21 00:46:31,262] Trial 116 finished with value: 15.469965272691168 and parameters: {'learning_rate': 9.026248722540351e-05, 'hidden_size': 128, 'epochs': 18}. Best is trial 52 with value: 4.262037551767267.\n"
          ]
        },
        {
          "name": "stdout",
          "output_type": "stream",
          "text": [
            "Trial 116: MAE: 15.469965272691168, RMSE: 45.80174757718703\n"
          ]
        },
        {
          "name": "stderr",
          "output_type": "stream",
          "text": [
            "[I 2024-10-21 00:46:36,408] Trial 117 finished with value: 5.181122650638957 and parameters: {'learning_rate': 6.36753180083689e-05, 'hidden_size': 128, 'epochs': 14}. Best is trial 52 with value: 4.262037551767267.\n"
          ]
        },
        {
          "name": "stdout",
          "output_type": "stream",
          "text": [
            "Trial 117: MAE: 5.181122650638957, RMSE: 12.070305405364746\n"
          ]
        },
        {
          "name": "stderr",
          "output_type": "stream",
          "text": [
            "[I 2024-10-21 00:46:38,911] Trial 118 finished with value: 4.990224652934905 and parameters: {'learning_rate': 6.953054222994002e-05, 'hidden_size': 64, 'epochs': 10}. Best is trial 52 with value: 4.262037551767267.\n"
          ]
        },
        {
          "name": "stdout",
          "output_type": "stream",
          "text": [
            "Trial 118: MAE: 4.990224652934905, RMSE: 10.82227009798626\n"
          ]
        },
        {
          "name": "stderr",
          "output_type": "stream",
          "text": [
            "[I 2024-10-21 00:46:44,746] Trial 119 finished with value: 10.247246127501509 and parameters: {'learning_rate': 1.6617599765021834e-05, 'hidden_size': 128, 'epochs': 16}. Best is trial 52 with value: 4.262037551767267.\n"
          ]
        },
        {
          "name": "stdout",
          "output_type": "stream",
          "text": [
            "Trial 119: MAE: 10.247246127501509, RMSE: 33.44546725293906\n"
          ]
        },
        {
          "name": "stderr",
          "output_type": "stream",
          "text": [
            "[I 2024-10-21 00:46:49,151] Trial 120 finished with value: 6.189745933090858 and parameters: {'learning_rate': 9.517334569976357e-05, 'hidden_size': 128, 'epochs': 12}. Best is trial 52 with value: 4.262037551767267.\n"
          ]
        },
        {
          "name": "stdout",
          "output_type": "stream",
          "text": [
            "Trial 120: MAE: 6.189745933090858, RMSE: 13.334717953552511\n"
          ]
        },
        {
          "name": "stderr",
          "output_type": "stream",
          "text": [
            "[I 2024-10-21 00:46:54,268] Trial 121 finished with value: 9.213247851980965 and parameters: {'learning_rate': 4.0743255957846626e-05, 'hidden_size': 128, 'epochs': 14}. Best is trial 52 with value: 4.262037551767267.\n"
          ]
        },
        {
          "name": "stdout",
          "output_type": "stream",
          "text": [
            "Trial 121: MAE: 9.213247851980965, RMSE: 22.066827268913812\n"
          ]
        },
        {
          "name": "stderr",
          "output_type": "stream",
          "text": [
            "[I 2024-10-21 00:46:59,024] Trial 122 finished with value: 36.78828047778842 and parameters: {'learning_rate': 4.30549163810633e-05, 'hidden_size': 128, 'epochs': 13}. Best is trial 52 with value: 4.262037551767267.\n"
          ]
        },
        {
          "name": "stdout",
          "output_type": "stream",
          "text": [
            "Trial 122: MAE: 36.78828047778842, RMSE: 84.56267548174857\n"
          ]
        },
        {
          "name": "stderr",
          "output_type": "stream",
          "text": [
            "[I 2024-10-21 00:47:03,436] Trial 123 finished with value: 8.430672709908112 and parameters: {'learning_rate': 2.7709198169940166e-05, 'hidden_size': 128, 'epochs': 12}. Best is trial 52 with value: 4.262037551767267.\n"
          ]
        },
        {
          "name": "stdout",
          "output_type": "stream",
          "text": [
            "Trial 123: MAE: 8.430672709908112, RMSE: 20.242948088990538\n"
          ]
        },
        {
          "name": "stderr",
          "output_type": "stream",
          "text": [
            "[I 2024-10-21 00:47:08,938] Trial 124 finished with value: 5.571148313396483 and parameters: {'learning_rate': 5.079508904822645e-05, 'hidden_size': 128, 'epochs': 15}. Best is trial 52 with value: 4.262037551767267.\n"
          ]
        },
        {
          "name": "stdout",
          "output_type": "stream",
          "text": [
            "Trial 124: MAE: 5.571148313396483, RMSE: 19.80295654792685\n"
          ]
        },
        {
          "name": "stderr",
          "output_type": "stream",
          "text": [
            "[I 2024-10-21 00:47:19,140] Trial 125 finished with value: 1279.6240469712948 and parameters: {'learning_rate': 7.902450060495504e-06, 'hidden_size': 128, 'epochs': 28}. Best is trial 52 with value: 4.262037551767267.\n"
          ]
        },
        {
          "name": "stdout",
          "output_type": "stream",
          "text": [
            "Trial 125: MAE: 1279.6240469712948, RMSE: 24772.779727565914\n"
          ]
        },
        {
          "name": "stderr",
          "output_type": "stream",
          "text": [
            "[I 2024-10-21 00:47:23,199] Trial 126 finished with value: 4.531849733147081 and parameters: {'learning_rate': 1.1966011760308693e-05, 'hidden_size': 128, 'epochs': 11}. Best is trial 52 with value: 4.262037551767267.\n"
          ]
        },
        {
          "name": "stdout",
          "output_type": "stream",
          "text": [
            "Trial 126: MAE: 4.531849733147081, RMSE: 10.315233581339863\n"
          ]
        },
        {
          "name": "stderr",
          "output_type": "stream",
          "text": [
            "[I 2024-10-21 00:47:25,947] Trial 127 finished with value: 27.144691500985385 and parameters: {'learning_rate': 2.4150262669695935e-05, 'hidden_size': 64, 'epochs': 11}. Best is trial 52 with value: 4.262037551767267.\n"
          ]
        },
        {
          "name": "stdout",
          "output_type": "stream",
          "text": [
            "Trial 127: MAE: 27.144691500985385, RMSE: 64.19125506158178\n"
          ]
        },
        {
          "name": "stderr",
          "output_type": "stream",
          "text": [
            "[I 2024-10-21 00:47:30,081] Trial 128 finished with value: 9.868491493748165 and parameters: {'learning_rate': 7.39640967455323e-05, 'hidden_size': 128, 'epochs': 11}. Best is trial 52 with value: 4.262037551767267.\n"
          ]
        },
        {
          "name": "stdout",
          "output_type": "stream",
          "text": [
            "Trial 128: MAE: 9.868491493748165, RMSE: 17.353511065635054\n"
          ]
        },
        {
          "name": "stderr",
          "output_type": "stream",
          "text": [
            "[I 2024-10-21 00:47:33,795] Trial 129 finished with value: 4.696866721423497 and parameters: {'learning_rate': 6.839609888959174e-06, 'hidden_size': 128, 'epochs': 10}. Best is trial 52 with value: 4.262037551767267.\n"
          ]
        },
        {
          "name": "stdout",
          "output_type": "stream",
          "text": [
            "Trial 129: MAE: 4.696866721423497, RMSE: 11.132278349435888\n"
          ]
        },
        {
          "name": "stderr",
          "output_type": "stream",
          "text": [
            "[I 2024-10-21 00:47:38,560] Trial 130 finished with value: 18.835941982448023 and parameters: {'learning_rate': 2.07166768917907e-05, 'hidden_size': 128, 'epochs': 13}. Best is trial 52 with value: 4.262037551767267.\n"
          ]
        },
        {
          "name": "stdout",
          "output_type": "stream",
          "text": [
            "Trial 130: MAE: 18.835941982448023, RMSE: 49.46494076607222\n"
          ]
        },
        {
          "name": "stderr",
          "output_type": "stream",
          "text": [
            "[I 2024-10-21 00:47:43,716] Trial 131 finished with value: 229.44952487965674 and parameters: {'learning_rate': 1.2719044379557962e-05, 'hidden_size': 128, 'epochs': 14}. Best is trial 52 with value: 4.262037551767267.\n"
          ]
        },
        {
          "name": "stdout",
          "output_type": "stream",
          "text": [
            "Trial 131: MAE: 229.44952487965674, RMSE: 949.1814052933918\n"
          ]
        },
        {
          "name": "stderr",
          "output_type": "stream",
          "text": [
            "[I 2024-10-21 00:47:48,854] Trial 132 finished with value: 4.304452745731875 and parameters: {'learning_rate': 5.5757308939892496e-05, 'hidden_size': 128, 'epochs': 14}. Best is trial 52 with value: 4.262037551767267.\n"
          ]
        },
        {
          "name": "stdout",
          "output_type": "stream",
          "text": [
            "Trial 132: MAE: 4.304452745731875, RMSE: 10.216190902441198\n"
          ]
        },
        {
          "name": "stderr",
          "output_type": "stream",
          "text": [
            "[I 2024-10-21 00:47:53,299] Trial 133 finished with value: 5.203079988602589 and parameters: {'learning_rate': 5.5793647119944015e-05, 'hidden_size': 128, 'epochs': 12}. Best is trial 52 with value: 4.262037551767267.\n"
          ]
        },
        {
          "name": "stdout",
          "output_type": "stream",
          "text": [
            "Trial 133: MAE: 5.203079988602589, RMSE: 12.792520388823506\n"
          ]
        },
        {
          "name": "stderr",
          "output_type": "stream",
          "text": [
            "[I 2024-10-21 00:47:57,379] Trial 134 finished with value: 11.905091484732615 and parameters: {'learning_rate': 6.022249664176066e-05, 'hidden_size': 128, 'epochs': 11}. Best is trial 52 with value: 4.262037551767267.\n"
          ]
        },
        {
          "name": "stdout",
          "output_type": "stream",
          "text": [
            "Trial 134: MAE: 11.905091484732615, RMSE: 25.42800593431257\n"
          ]
        },
        {
          "name": "stderr",
          "output_type": "stream",
          "text": [
            "[I 2024-10-21 00:48:02,169] Trial 135 finished with value: 21.490139816547245 and parameters: {'learning_rate': 4.086471755984868e-06, 'hidden_size': 128, 'epochs': 13}. Best is trial 52 with value: 4.262037551767267.\n"
          ]
        },
        {
          "name": "stdout",
          "output_type": "stream",
          "text": [
            "Trial 135: MAE: 21.490139816547245, RMSE: 54.771809706901\n"
          ]
        },
        {
          "name": "stderr",
          "output_type": "stream",
          "text": [
            "[I 2024-10-21 00:48:05,904] Trial 136 finished with value: 4.594427708165073 and parameters: {'learning_rate': 4.932045981574924e-05, 'hidden_size': 128, 'epochs': 10}. Best is trial 52 with value: 4.262037551767267.\n"
          ]
        },
        {
          "name": "stdout",
          "output_type": "stream",
          "text": [
            "Trial 136: MAE: 4.594427708165073, RMSE: 10.127684494881786\n"
          ]
        },
        {
          "name": "stderr",
          "output_type": "stream",
          "text": [
            "[I 2024-10-21 00:48:09,659] Trial 137 finished with value: 54.43989777320488 and parameters: {'learning_rate': 7.929418527337802e-05, 'hidden_size': 64, 'epochs': 15}. Best is trial 52 with value: 4.262037551767267.\n"
          ]
        },
        {
          "name": "stdout",
          "output_type": "stream",
          "text": [
            "Trial 137: MAE: 54.43989777320488, RMSE: 309.4128516344852\n"
          ]
        },
        {
          "name": "stderr",
          "output_type": "stream",
          "text": [
            "[I 2024-10-21 00:48:14,080] Trial 138 finished with value: 6.490231599979173 and parameters: {'learning_rate': 5.146274213217869e-06, 'hidden_size': 128, 'epochs': 12}. Best is trial 52 with value: 4.262037551767267.\n"
          ]
        },
        {
          "name": "stdout",
          "output_type": "stream",
          "text": [
            "Trial 138: MAE: 6.490231599979173, RMSE: 20.298567432341557\n"
          ]
        },
        {
          "name": "stderr",
          "output_type": "stream",
          "text": [
            "[I 2024-10-21 00:48:20,340] Trial 139 finished with value: 11.504280734865565 and parameters: {'learning_rate': 1.5058170289412406e-06, 'hidden_size': 128, 'epochs': 17}. Best is trial 52 with value: 4.262037551767267.\n"
          ]
        },
        {
          "name": "stdout",
          "output_type": "stream",
          "text": [
            "Trial 139: MAE: 11.504280734865565, RMSE: 91.72328000892267\n"
          ]
        },
        {
          "name": "stderr",
          "output_type": "stream",
          "text": [
            "[I 2024-10-21 00:48:24,396] Trial 140 finished with value: 6.932407429624215 and parameters: {'learning_rate': 6.573186052662866e-05, 'hidden_size': 128, 'epochs': 11}. Best is trial 52 with value: 4.262037551767267.\n"
          ]
        },
        {
          "name": "stdout",
          "output_type": "stream",
          "text": [
            "Trial 140: MAE: 6.932407429624215, RMSE: 14.128128379974187\n"
          ]
        },
        {
          "name": "stderr",
          "output_type": "stream",
          "text": [
            "[I 2024-10-21 00:48:29,559] Trial 141 finished with value: 80.95842092050785 and parameters: {'learning_rate': 4.6772640318452e-05, 'hidden_size': 128, 'epochs': 14}. Best is trial 52 with value: 4.262037551767267.\n"
          ]
        },
        {
          "name": "stdout",
          "output_type": "stream",
          "text": [
            "Trial 141: MAE: 80.95842092050785, RMSE: 166.9724150531301\n"
          ]
        },
        {
          "name": "stderr",
          "output_type": "stream",
          "text": [
            "[I 2024-10-21 00:48:35,085] Trial 142 finished with value: 87.64029255035855 and parameters: {'learning_rate': 3.697200706735265e-05, 'hidden_size': 128, 'epochs': 15}. Best is trial 52 with value: 4.262037551767267.\n"
          ]
        },
        {
          "name": "stdout",
          "output_type": "stream",
          "text": [
            "Trial 142: MAE: 87.64029255035855, RMSE: 201.3283961438934\n"
          ]
        },
        {
          "name": "stderr",
          "output_type": "stream",
          "text": [
            "[I 2024-10-21 00:48:39,551] Trial 143 finished with value: 7.090621434359006 and parameters: {'learning_rate': 4.239289566079172e-05, 'hidden_size': 128, 'epochs': 12}. Best is trial 52 with value: 4.262037551767267.\n"
          ]
        },
        {
          "name": "stdout",
          "output_type": "stream",
          "text": [
            "Trial 143: MAE: 7.090621434359006, RMSE: 14.64558373141245\n"
          ]
        },
        {
          "name": "stderr",
          "output_type": "stream",
          "text": [
            "[I 2024-10-21 00:48:44,751] Trial 144 finished with value: 4.567268193697978 and parameters: {'learning_rate': 5.4266091967527844e-05, 'hidden_size': 128, 'epochs': 14}. Best is trial 52 with value: 4.262037551767267.\n"
          ]
        },
        {
          "name": "stdout",
          "output_type": "stream",
          "text": [
            "Trial 144: MAE: 4.567268193697978, RMSE: 10.19663389179703\n"
          ]
        },
        {
          "name": "stderr",
          "output_type": "stream",
          "text": [
            "[I 2024-10-21 00:48:53,546] Trial 145 finished with value: 48.27428144715785 and parameters: {'learning_rate': 3.0954773593175454e-06, 'hidden_size': 128, 'epochs': 24}. Best is trial 52 with value: 4.262037551767267.\n"
          ]
        },
        {
          "name": "stdout",
          "output_type": "stream",
          "text": [
            "Trial 145: MAE: 48.27428144715785, RMSE: 523.2077844666969\n"
          ]
        },
        {
          "name": "stderr",
          "output_type": "stream",
          "text": [
            "[I 2024-10-21 00:48:56,844] Trial 146 finished with value: 4.295622467295746 and parameters: {'learning_rate': 5.539051129579626e-05, 'hidden_size': 64, 'epochs': 13}. Best is trial 52 with value: 4.262037551767267.\n"
          ]
        },
        {
          "name": "stdout",
          "output_type": "stream",
          "text": [
            "Trial 146: MAE: 4.295622467295746, RMSE: 10.00235032013136\n"
          ]
        },
        {
          "name": "stderr",
          "output_type": "stream",
          "text": [
            "[I 2024-10-21 00:49:00,073] Trial 147 finished with value: 113.41016039410815 and parameters: {'learning_rate': 5.305359426867009e-05, 'hidden_size': 64, 'epochs': 13}. Best is trial 52 with value: 4.262037551767267.\n"
          ]
        },
        {
          "name": "stdout",
          "output_type": "stream",
          "text": [
            "Trial 147: MAE: 113.41016039410815, RMSE: 307.6293706016521\n"
          ]
        },
        {
          "name": "stderr",
          "output_type": "stream",
          "text": [
            "[I 2024-10-21 00:49:03,304] Trial 148 finished with value: 4.908870980627744 and parameters: {'learning_rate': 6.201469829735776e-05, 'hidden_size': 64, 'epochs': 13}. Best is trial 52 with value: 4.262037551767267.\n"
          ]
        },
        {
          "name": "stdout",
          "output_type": "stream",
          "text": [
            "Trial 148: MAE: 4.908870980627744, RMSE: 10.909961859289213\n"
          ]
        },
        {
          "name": "stderr",
          "output_type": "stream",
          "text": [
            "[I 2024-10-21 00:49:07,515] Trial 149 finished with value: 4.534943444438574 and parameters: {'learning_rate': 7.219995244195425e-05, 'hidden_size': 64, 'epochs': 17}. Best is trial 52 with value: 4.262037551767267.\n"
          ]
        },
        {
          "name": "stdout",
          "output_type": "stream",
          "text": [
            "Trial 149: MAE: 4.534943444438574, RMSE: 10.170771528768984\n"
          ]
        },
        {
          "name": "stderr",
          "output_type": "stream",
          "text": [
            "[I 2024-10-21 00:49:12,231] Trial 150 finished with value: 31.39722431545792 and parameters: {'learning_rate': 8.377827765941588e-05, 'hidden_size': 64, 'epochs': 19}. Best is trial 52 with value: 4.262037551767267.\n"
          ]
        },
        {
          "name": "stdout",
          "output_type": "stream",
          "text": [
            "Trial 150: MAE: 31.39722431545792, RMSE: 256.58730118412853\n"
          ]
        },
        {
          "name": "stderr",
          "output_type": "stream",
          "text": [
            "[I 2024-10-21 00:49:16,205] Trial 151 finished with value: 5.0823252223785795 and parameters: {'learning_rate': 7.270083024457306e-05, 'hidden_size': 64, 'epochs': 16}. Best is trial 52 with value: 4.262037551767267.\n"
          ]
        },
        {
          "name": "stdout",
          "output_type": "stream",
          "text": [
            "Trial 151: MAE: 5.0823252223785795, RMSE: 10.371134236885107\n"
          ]
        },
        {
          "name": "stderr",
          "output_type": "stream",
          "text": [
            "[I 2024-10-21 00:49:19,960] Trial 152 finished with value: 6.160672341088604 and parameters: {'learning_rate': 6.921649078976108e-05, 'hidden_size': 64, 'epochs': 15}. Best is trial 52 with value: 4.262037551767267.\n"
          ]
        },
        {
          "name": "stdout",
          "output_type": "stream",
          "text": [
            "Trial 152: MAE: 6.160672341088604, RMSE: 14.672710016810829\n"
          ]
        },
        {
          "name": "stderr",
          "output_type": "stream",
          "text": [
            "[I 2024-10-21 00:49:23,428] Trial 153 finished with value: 5.7992377087274924 and parameters: {'learning_rate': 5.543174752546542e-05, 'hidden_size': 64, 'epochs': 14}. Best is trial 52 with value: 4.262037551767267.\n"
          ]
        },
        {
          "name": "stdout",
          "output_type": "stream",
          "text": [
            "Trial 153: MAE: 5.7992377087274924, RMSE: 15.274718310296379\n"
          ]
        },
        {
          "name": "stderr",
          "output_type": "stream",
          "text": [
            "[I 2024-10-21 00:49:26,657] Trial 154 finished with value: 4.679773303096531 and parameters: {'learning_rate': 6.171306877009198e-05, 'hidden_size': 64, 'epochs': 13}. Best is trial 52 with value: 4.262037551767267.\n"
          ]
        },
        {
          "name": "stdout",
          "output_type": "stream",
          "text": [
            "Trial 154: MAE: 4.679773303096531, RMSE: 10.313113596527712\n"
          ]
        },
        {
          "name": "stderr",
          "output_type": "stream",
          "text": [
            "[I 2024-10-21 00:49:30,137] Trial 155 finished with value: 9.56861965386237 and parameters: {'learning_rate': 5.1014263287503774e-05, 'hidden_size': 64, 'epochs': 14}. Best is trial 52 with value: 4.262037551767267.\n"
          ]
        },
        {
          "name": "stdout",
          "output_type": "stream",
          "text": [
            "Trial 155: MAE: 9.56861965386237, RMSE: 40.696309859129144\n"
          ]
        },
        {
          "name": "stderr",
          "output_type": "stream",
          "text": [
            "[I 2024-10-21 00:49:34,095] Trial 156 finished with value: 11.256033190368585 and parameters: {'learning_rate': 7.763804819037379e-05, 'hidden_size': 64, 'epochs': 16}. Best is trial 52 with value: 4.262037551767267.\n"
          ]
        },
        {
          "name": "stdout",
          "output_type": "stream",
          "text": [
            "Trial 156: MAE: 11.256033190368585, RMSE: 25.37656665255737\n"
          ]
        },
        {
          "name": "stderr",
          "output_type": "stream",
          "text": [
            "[I 2024-10-21 00:49:37,086] Trial 157 finished with value: 4.315207044255896 and parameters: {'learning_rate': 1.0802380659191947e-05, 'hidden_size': 64, 'epochs': 12}. Best is trial 52 with value: 4.262037551767267.\n"
          ]
        },
        {
          "name": "stdout",
          "output_type": "stream",
          "text": [
            "Trial 157: MAE: 4.315207044255896, RMSE: 10.187810085911758\n"
          ]
        },
        {
          "name": "stderr",
          "output_type": "stream",
          "text": [
            "[I 2024-10-21 00:49:40,081] Trial 158 finished with value: 62.48423114844196 and parameters: {'learning_rate': 1.147178124944482e-05, 'hidden_size': 64, 'epochs': 12}. Best is trial 52 with value: 4.262037551767267.\n"
          ]
        },
        {
          "name": "stdout",
          "output_type": "stream",
          "text": [
            "Trial 158: MAE: 62.48423114844196, RMSE: 105.96878389115477\n"
          ]
        },
        {
          "name": "stderr",
          "output_type": "stream",
          "text": [
            "[I 2024-10-21 00:49:42,588] Trial 159 finished with value: 5.23157739300344 and parameters: {'learning_rate': 1.0152503877944628e-05, 'hidden_size': 64, 'epochs': 10}. Best is trial 52 with value: 4.262037551767267.\n"
          ]
        },
        {
          "name": "stdout",
          "output_type": "stream",
          "text": [
            "Trial 159: MAE: 5.23157739300344, RMSE: 13.175555099761258\n"
          ]
        },
        {
          "name": "stderr",
          "output_type": "stream",
          "text": [
            "[I 2024-10-21 00:49:51,192] Trial 160 finished with value: 284.2127551619839 and parameters: {'learning_rate': 8.649589850456423e-06, 'hidden_size': 64, 'epochs': 35}. Best is trial 52 with value: 4.262037551767267.\n"
          ]
        },
        {
          "name": "stdout",
          "output_type": "stream",
          "text": [
            "Trial 160: MAE: 284.2127551619839, RMSE: 4262.1681606891125\n"
          ]
        },
        {
          "name": "stderr",
          "output_type": "stream",
          "text": [
            "[I 2024-10-21 00:49:54,424] Trial 161 finished with value: 6.718465195807814 and parameters: {'learning_rate': 4.6397454610411825e-05, 'hidden_size': 64, 'epochs': 13}. Best is trial 52 with value: 4.262037551767267.\n"
          ]
        },
        {
          "name": "stdout",
          "output_type": "stream",
          "text": [
            "Trial 161: MAE: 6.718465195807814, RMSE: 16.726857086175393\n"
          ]
        },
        {
          "name": "stderr",
          "output_type": "stream",
          "text": [
            "[I 2024-10-21 00:49:57,492] Trial 162 finished with value: 4.5101058677875 and parameters: {'learning_rate': 1.6059338227137192e-05, 'hidden_size': 64, 'epochs': 12}. Best is trial 52 with value: 4.262037551767267.\n"
          ]
        },
        {
          "name": "stdout",
          "output_type": "stream",
          "text": [
            "Trial 162: MAE: 4.5101058677875, RMSE: 11.267055230176439\n"
          ]
        },
        {
          "name": "stderr",
          "output_type": "stream",
          "text": [
            "[I 2024-10-21 00:50:00,520] Trial 163 finished with value: 6.241133556108577 and parameters: {'learning_rate': 9.994195677299708e-05, 'hidden_size': 64, 'epochs': 12}. Best is trial 52 with value: 4.262037551767267.\n"
          ]
        },
        {
          "name": "stdout",
          "output_type": "stream",
          "text": [
            "Trial 163: MAE: 6.241133556108577, RMSE: 13.14281758242486\n"
          ]
        },
        {
          "name": "stderr",
          "output_type": "stream",
          "text": [
            "[I 2024-10-21 00:50:03,267] Trial 164 finished with value: 4.66253947733123 and parameters: {'learning_rate': 6.527322586110923e-05, 'hidden_size': 64, 'epochs': 11}. Best is trial 52 with value: 4.262037551767267.\n"
          ]
        },
        {
          "name": "stdout",
          "output_type": "stream",
          "text": [
            "Trial 164: MAE: 4.66253947733123, RMSE: 10.209391761624872\n"
          ]
        },
        {
          "name": "stderr",
          "output_type": "stream",
          "text": [
            "[I 2024-10-21 00:50:05,768] Trial 165 finished with value: 26.81152420156798 and parameters: {'learning_rate': 1.2133251268099972e-05, 'hidden_size': 64, 'epochs': 10}. Best is trial 52 with value: 4.262037551767267.\n"
          ]
        },
        {
          "name": "stdout",
          "output_type": "stream",
          "text": [
            "Trial 165: MAE: 26.81152420156798, RMSE: 124.68069772737118\n"
          ]
        },
        {
          "name": "stderr",
          "output_type": "stream",
          "text": [
            "[I 2024-10-21 00:50:08,819] Trial 166 finished with value: 18.997375123942632 and parameters: {'learning_rate': 1.3260001055894979e-05, 'hidden_size': 64, 'epochs': 12}. Best is trial 52 with value: 4.262037551767267.\n"
          ]
        },
        {
          "name": "stdout",
          "output_type": "stream",
          "text": [
            "Trial 166: MAE: 18.997375123942632, RMSE: 108.9104060346739\n"
          ]
        },
        {
          "name": "stderr",
          "output_type": "stream",
          "text": [
            "[I 2024-10-21 00:50:11,563] Trial 167 finished with value: 40.46276116422085 and parameters: {'learning_rate': 1.6063206832858212e-05, 'hidden_size': 64, 'epochs': 11}. Best is trial 52 with value: 4.262037551767267.\n"
          ]
        },
        {
          "name": "stdout",
          "output_type": "stream",
          "text": [
            "Trial 167: MAE: 40.46276116422085, RMSE: 238.95054574322864\n"
          ]
        },
        {
          "name": "stderr",
          "output_type": "stream",
          "text": [
            "[I 2024-10-21 00:50:14,834] Trial 168 finished with value: 30.944490086169793 and parameters: {'learning_rate': 1.034941475615169e-05, 'hidden_size': 64, 'epochs': 13}. Best is trial 52 with value: 4.262037551767267.\n"
          ]
        },
        {
          "name": "stdout",
          "output_type": "stream",
          "text": [
            "Trial 168: MAE: 30.944490086169793, RMSE: 97.03710331477714\n"
          ]
        },
        {
          "name": "stderr",
          "output_type": "stream",
          "text": [
            "[I 2024-10-21 00:50:17,822] Trial 169 finished with value: 4.740023544122211 and parameters: {'learning_rate': 5.6708720916058085e-05, 'hidden_size': 64, 'epochs': 12}. Best is trial 52 with value: 4.262037551767267.\n"
          ]
        },
        {
          "name": "stdout",
          "output_type": "stream",
          "text": [
            "Trial 169: MAE: 4.740023544122211, RMSE: 10.221250429656564\n"
          ]
        },
        {
          "name": "stderr",
          "output_type": "stream",
          "text": [
            "[I 2024-10-21 00:50:21,376] Trial 170 finished with value: 11.58418220156343 and parameters: {'learning_rate': 1.4840351510832137e-05, 'hidden_size': 64, 'epochs': 14}. Best is trial 52 with value: 4.262037551767267.\n"
          ]
        },
        {
          "name": "stdout",
          "output_type": "stream",
          "text": [
            "Trial 170: MAE: 11.58418220156343, RMSE: 46.61315874824925\n"
          ]
        },
        {
          "name": "stderr",
          "output_type": "stream",
          "text": [
            "[I 2024-10-21 00:50:26,888] Trial 171 finished with value: 4.5838056210628455 and parameters: {'learning_rate': 1.81874161139883e-05, 'hidden_size': 128, 'epochs': 15}. Best is trial 52 with value: 4.262037551767267.\n"
          ]
        },
        {
          "name": "stdout",
          "output_type": "stream",
          "text": [
            "Trial 171: MAE: 4.5838056210628455, RMSE: 10.63414199787084\n"
          ]
        },
        {
          "name": "stderr",
          "output_type": "stream",
          "text": [
            "[I 2024-10-21 00:50:32,035] Trial 172 finished with value: 7.442161872772573 and parameters: {'learning_rate': 8.643580382713414e-06, 'hidden_size': 128, 'epochs': 14}. Best is trial 52 with value: 4.262037551767267.\n"
          ]
        },
        {
          "name": "stdout",
          "output_type": "stream",
          "text": [
            "Trial 172: MAE: 7.442161872772573, RMSE: 19.6233572731808\n"
          ]
        },
        {
          "name": "stderr",
          "output_type": "stream",
          "text": [
            "[I 2024-10-21 00:50:38,266] Trial 173 finished with value: 10.0802794895506 and parameters: {'learning_rate': 5.247037861847143e-05, 'hidden_size': 128, 'epochs': 17}. Best is trial 52 with value: 4.262037551767267.\n"
          ]
        },
        {
          "name": "stdout",
          "output_type": "stream",
          "text": [
            "Trial 173: MAE: 10.0802794895506, RMSE: 27.107873493843705\n"
          ]
        },
        {
          "name": "stderr",
          "output_type": "stream",
          "text": [
            "[I 2024-10-21 00:50:42,318] Trial 174 finished with value: 1745.988021287447 and parameters: {'learning_rate': 1.1098170066265034e-05, 'hidden_size': 128, 'epochs': 11}. Best is trial 52 with value: 4.262037551767267.\n"
          ]
        },
        {
          "name": "stdout",
          "output_type": "stream",
          "text": [
            "Trial 174: MAE: 1745.988021287447, RMSE: 5167.860736029835\n"
          ]
        },
        {
          "name": "stderr",
          "output_type": "stream",
          "text": [
            "[I 2024-10-21 00:50:47,112] Trial 175 finished with value: 28.692511519105384 and parameters: {'learning_rate': 7.149400386504074e-05, 'hidden_size': 128, 'epochs': 13}. Best is trial 52 with value: 4.262037551767267.\n"
          ]
        },
        {
          "name": "stdout",
          "output_type": "stream",
          "text": [
            "Trial 175: MAE: 28.692511519105384, RMSE: 46.168794622098936\n"
          ]
        },
        {
          "name": "stderr",
          "output_type": "stream",
          "text": [
            "[I 2024-10-21 00:50:52,230] Trial 176 finished with value: 4.638362815520476 and parameters: {'learning_rate': 8.396143829561456e-05, 'hidden_size': 128, 'epochs': 14}. Best is trial 52 with value: 4.262037551767267.\n"
          ]
        },
        {
          "name": "stdout",
          "output_type": "stream",
          "text": [
            "Trial 176: MAE: 4.638362815520476, RMSE: 10.919501641620396\n"
          ]
        },
        {
          "name": "stderr",
          "output_type": "stream",
          "text": [
            "[I 2024-10-21 00:50:57,048] Trial 177 finished with value: 4.306279440487019 and parameters: {'learning_rate': 5.9926481760895684e-05, 'hidden_size': 128, 'epochs': 13}. Best is trial 52 with value: 4.262037551767267.\n"
          ]
        },
        {
          "name": "stdout",
          "output_type": "stream",
          "text": [
            "Trial 177: MAE: 4.306279440487019, RMSE: 10.206845247843255\n"
          ]
        },
        {
          "name": "stderr",
          "output_type": "stream",
          "text": [
            "[I 2024-10-21 00:51:00,044] Trial 178 finished with value: 26.312794181621204 and parameters: {'learning_rate': 6.40681682824932e-05, 'hidden_size': 64, 'epochs': 12}. Best is trial 52 with value: 4.262037551767267.\n"
          ]
        },
        {
          "name": "stdout",
          "output_type": "stream",
          "text": [
            "Trial 178: MAE: 26.312794181621204, RMSE: 71.96697748465358\n"
          ]
        },
        {
          "name": "stderr",
          "output_type": "stream",
          "text": [
            "[I 2024-10-21 00:51:04,453] Trial 179 finished with value: 4.601185878202474 and parameters: {'learning_rate': 6.03622945083423e-05, 'hidden_size': 128, 'epochs': 12}. Best is trial 52 with value: 4.262037551767267.\n"
          ]
        },
        {
          "name": "stdout",
          "output_type": "stream",
          "text": [
            "Trial 179: MAE: 4.601185878202474, RMSE: 10.185687075256244\n"
          ]
        },
        {
          "name": "stderr",
          "output_type": "stream",
          "text": [
            "[I 2024-10-21 00:51:08,146] Trial 180 finished with value: 4.422395004874523 and parameters: {'learning_rate': 6.834775951562727e-05, 'hidden_size': 128, 'epochs': 10}. Best is trial 52 with value: 4.262037551767267.\n"
          ]
        },
        {
          "name": "stdout",
          "output_type": "stream",
          "text": [
            "Trial 180: MAE: 4.422395004874523, RMSE: 10.046905815084962\n"
          ]
        },
        {
          "name": "stderr",
          "output_type": "stream",
          "text": [
            "[I 2024-10-21 00:51:11,848] Trial 181 finished with value: 64.30502075997103 and parameters: {'learning_rate': 7.552371211977102e-05, 'hidden_size': 128, 'epochs': 10}. Best is trial 52 with value: 4.262037551767267.\n"
          ]
        },
        {
          "name": "stdout",
          "output_type": "stream",
          "text": [
            "Trial 181: MAE: 64.30502075997103, RMSE: 108.29643140366092\n"
          ]
        },
        {
          "name": "stderr",
          "output_type": "stream",
          "text": [
            "[I 2024-10-21 00:51:15,920] Trial 182 finished with value: 11.321700821866088 and parameters: {'learning_rate': 6.696960120951699e-05, 'hidden_size': 128, 'epochs': 11}. Best is trial 52 with value: 4.262037551767267.\n"
          ]
        },
        {
          "name": "stdout",
          "output_type": "stream",
          "text": [
            "Trial 182: MAE: 11.321700821866088, RMSE: 24.766507428331565\n"
          ]
        },
        {
          "name": "stderr",
          "output_type": "stream",
          "text": [
            "[I 2024-10-21 00:51:19,634] Trial 183 finished with value: 4.416087615863491 and parameters: {'learning_rate': 5.7591915153503635e-05, 'hidden_size': 128, 'epochs': 10}. Best is trial 52 with value: 4.262037551767267.\n"
          ]
        },
        {
          "name": "stdout",
          "output_type": "stream",
          "text": [
            "Trial 183: MAE: 4.416087615863491, RMSE: 10.12812432558532\n"
          ]
        },
        {
          "name": "stderr",
          "output_type": "stream",
          "text": [
            "[I 2024-10-21 00:51:23,333] Trial 184 finished with value: 16.8340451767788 and parameters: {'learning_rate': 5.682208921485246e-05, 'hidden_size': 128, 'epochs': 10}. Best is trial 52 with value: 4.262037551767267.\n"
          ]
        },
        {
          "name": "stdout",
          "output_type": "stream",
          "text": [
            "Trial 184: MAE: 16.8340451767788, RMSE: 29.913984454310594\n"
          ]
        },
        {
          "name": "stderr",
          "output_type": "stream",
          "text": [
            "[I 2024-10-21 00:51:27,023] Trial 185 finished with value: 4.62369354034203 and parameters: {'learning_rate': 4.9650123278346645e-05, 'hidden_size': 128, 'epochs': 10}. Best is trial 52 with value: 4.262037551767267.\n"
          ]
        },
        {
          "name": "stdout",
          "output_type": "stream",
          "text": [
            "Trial 185: MAE: 4.62369354034203, RMSE: 10.254225641494122\n"
          ]
        },
        {
          "name": "stderr",
          "output_type": "stream",
          "text": [
            "[I 2024-10-21 00:51:31,067] Trial 186 finished with value: 4.33478727908653 and parameters: {'learning_rate': 8.851031426173516e-05, 'hidden_size': 128, 'epochs': 11}. Best is trial 52 with value: 4.262037551767267.\n"
          ]
        },
        {
          "name": "stdout",
          "output_type": "stream",
          "text": [
            "Trial 186: MAE: 4.33478727908653, RMSE: 10.18071020948585\n"
          ]
        },
        {
          "name": "stderr",
          "output_type": "stream",
          "text": [
            "[I 2024-10-21 00:51:35,158] Trial 187 finished with value: 5.007805917708391 and parameters: {'learning_rate': 9.089340387905253e-05, 'hidden_size': 128, 'epochs': 11}. Best is trial 52 with value: 4.262037551767267.\n"
          ]
        },
        {
          "name": "stdout",
          "output_type": "stream",
          "text": [
            "Trial 187: MAE: 5.007805917708391, RMSE: 10.33822239362847\n"
          ]
        },
        {
          "name": "stderr",
          "output_type": "stream",
          "text": [
            "[I 2024-10-21 00:51:37,912] Trial 188 finished with value: 4.549262280419731 and parameters: {'learning_rate': 8.329433204785662e-05, 'hidden_size': 64, 'epochs': 11}. Best is trial 52 with value: 4.262037551767267.\n"
          ]
        },
        {
          "name": "stdout",
          "output_type": "stream",
          "text": [
            "Trial 188: MAE: 4.549262280419731, RMSE: 10.120180436711255\n"
          ]
        },
        {
          "name": "stderr",
          "output_type": "stream",
          "text": [
            "[I 2024-10-21 00:51:40,420] Trial 189 finished with value: 5.273232934931524 and parameters: {'learning_rate': 8.770725204707053e-05, 'hidden_size': 64, 'epochs': 10}. Best is trial 52 with value: 4.262037551767267.\n"
          ]
        },
        {
          "name": "stdout",
          "output_type": "stream",
          "text": [
            "Trial 189: MAE: 5.273232934931524, RMSE: 19.906105628311643\n"
          ]
        },
        {
          "name": "stderr",
          "output_type": "stream",
          "text": [
            "[I 2024-10-21 00:51:43,186] Trial 190 finished with value: 5.004885162203952 and parameters: {'learning_rate': 7.907709762205374e-05, 'hidden_size': 64, 'epochs': 11}. Best is trial 52 with value: 4.262037551767267.\n"
          ]
        },
        {
          "name": "stdout",
          "output_type": "stream",
          "text": [
            "Trial 190: MAE: 5.004885162203952, RMSE: 10.692957826354823\n"
          ]
        },
        {
          "name": "stderr",
          "output_type": "stream",
          "text": [
            "[I 2024-10-21 00:51:54,245] Trial 191 finished with value: 24.84029291874833 and parameters: {'learning_rate': 7.24056774260954e-05, 'hidden_size': 64, 'epochs': 45}. Best is trial 52 with value: 4.262037551767267.\n"
          ]
        },
        {
          "name": "stdout",
          "output_type": "stream",
          "text": [
            "Trial 191: MAE: 24.84029291874833, RMSE: 1038.7643379636486\n"
          ]
        },
        {
          "name": "stderr",
          "output_type": "stream",
          "text": [
            "[I 2024-10-21 00:51:57,020] Trial 192 finished with value: 4.428634519198205 and parameters: {'learning_rate': 8.295904665265142e-05, 'hidden_size': 64, 'epochs': 11}. Best is trial 52 with value: 4.262037551767267.\n"
          ]
        },
        {
          "name": "stdout",
          "output_type": "stream",
          "text": [
            "Trial 192: MAE: 4.428634519198205, RMSE: 10.065649547278035\n"
          ]
        },
        {
          "name": "stderr",
          "output_type": "stream",
          "text": [
            "[I 2024-10-21 00:51:59,799] Trial 193 finished with value: 6.296393699379253 and parameters: {'learning_rate': 9.081940852228872e-05, 'hidden_size': 64, 'epochs': 11}. Best is trial 52 with value: 4.262037551767267.\n"
          ]
        },
        {
          "name": "stdout",
          "output_type": "stream",
          "text": [
            "Trial 193: MAE: 6.296393699379253, RMSE: 13.301274403516764\n"
          ]
        },
        {
          "name": "stderr",
          "output_type": "stream",
          "text": [
            "[I 2024-10-21 00:52:02,313] Trial 194 finished with value: 4.368991365599091 and parameters: {'learning_rate': 8.328953567544028e-05, 'hidden_size': 64, 'epochs': 10}. Best is trial 52 with value: 4.262037551767267.\n"
          ]
        },
        {
          "name": "stdout",
          "output_type": "stream",
          "text": [
            "Trial 194: MAE: 4.368991365599091, RMSE: 10.18748411966778\n"
          ]
        },
        {
          "name": "stderr",
          "output_type": "stream",
          "text": [
            "[I 2024-10-21 00:52:04,817] Trial 195 finished with value: 5.558603420213978 and parameters: {'learning_rate': 8.03466685327475e-05, 'hidden_size': 64, 'epochs': 10}. Best is trial 52 with value: 4.262037551767267.\n"
          ]
        },
        {
          "name": "stdout",
          "output_type": "stream",
          "text": [
            "Trial 195: MAE: 5.558603420213978, RMSE: 12.191344265121996\n"
          ]
        },
        {
          "name": "stderr",
          "output_type": "stream",
          "text": [
            "[I 2024-10-21 00:52:07,566] Trial 196 finished with value: 4.6606486822392945 and parameters: {'learning_rate': 9.285216242537482e-05, 'hidden_size': 64, 'epochs': 11}. Best is trial 52 with value: 4.262037551767267.\n"
          ]
        },
        {
          "name": "stdout",
          "output_type": "stream",
          "text": [
            "Trial 196: MAE: 4.6606486822392945, RMSE: 10.62748106550575\n"
          ]
        },
        {
          "name": "stderr",
          "output_type": "stream",
          "text": [
            "[I 2024-10-21 00:52:10,106] Trial 197 finished with value: 9.124648859715172 and parameters: {'learning_rate': 8.205252442483677e-05, 'hidden_size': 64, 'epochs': 10}. Best is trial 52 with value: 4.262037551767267.\n"
          ]
        },
        {
          "name": "stdout",
          "output_type": "stream",
          "text": [
            "Trial 197: MAE: 9.124648859715172, RMSE: 19.919677652106014\n"
          ]
        },
        {
          "name": "stderr",
          "output_type": "stream",
          "text": [
            "[I 2024-10-21 00:52:13,122] Trial 198 finished with value: 5.561966030530591 and parameters: {'learning_rate': 7.483424372905987e-05, 'hidden_size': 64, 'epochs': 12}. Best is trial 52 with value: 4.262037551767267.\n"
          ]
        },
        {
          "name": "stdout",
          "output_type": "stream",
          "text": [
            "Trial 198: MAE: 5.561966030530591, RMSE: 12.172381875434104\n"
          ]
        },
        {
          "name": "stderr",
          "output_type": "stream",
          "text": [
            "[I 2024-10-21 00:52:15,637] Trial 199 finished with value: 4.519018509431757 and parameters: {'learning_rate': 6.667760226873097e-05, 'hidden_size': 64, 'epochs': 10}. Best is trial 52 with value: 4.262037551767267.\n"
          ]
        },
        {
          "name": "stdout",
          "output_type": "stream",
          "text": [
            "Trial 199: MAE: 4.519018509431757, RMSE: 11.625528928994955\n",
            "Best MAE:  4.262037551767267\n",
            "Best Hyperparameters:  {'learning_rate': 8.032781689976049e-05, 'hidden_size': 128, 'epochs': 11}\n"
          ]
        }
      ],
      "source": [
        "import pickle\n",
        "import torch\n",
        "import optuna\n",
        "import torch.nn.functional as F\n",
        "from torch.optim import Adam\n",
        "import numpy as np\n",
        "from sklearn.metrics import mean_absolute_error, mean_squared_error\n",
        "from sklearn.preprocessing import MinMaxScaler\n",
        "\n",
        "# Load the DataFrame from the Pickle file\n",
        "with open('/content/drive/MyDrive/Python Course/df_with_embeddings.pkl', 'rb') as f:\n",
        "    df_Bert = pickle.load(f)\n",
        "\n",
        "# Check if GPU is available and use it\n",
        "device = torch.device(\"cuda\" if torch.cuda.is_available() else \"cpu\")\n",
        "print(f\"Using device: {device}\")\n",
        "\n",
        "# Step 1: Apply log transformation to play counts\n",
        "df_Bert['play_count_log'] = np.log1p(df_Bert['play_count'])  # Apply log transformation\n",
        "\n",
        "# Apply scaling to other features\n",
        "scaler_play_count = MinMaxScaler()  # Initialize scaler\n",
        "df_Bert['play_count_scaled'] = scaler_play_count.fit_transform(df_Bert[['play_count_log']])\n",
        "\n",
        "# Convert the 'distilbert_embeddings' column from lists (loaded from Pickle) to tensors\n",
        "song_node_features = torch.tensor(np.stack(df_Bert['distilbert_embeddings']), dtype=torch.float32).to(device)\n",
        "play_counts = torch.tensor(df_Bert['play_count_scaled'].values, dtype=torch.float32).to(device)\n",
        "\n",
        "# Weights to handle skewness in the play counts\n",
        "weights = 1 / np.log1p(df_Bert['play_count'])  # Inverse of the log to give more weight to lower play counts\n",
        "\n",
        "# Step 2: GNN Model definition with deeper architecture and dropout for regularization\n",
        "class GNNModel(torch.nn.Module):\n",
        "    def __init__(self, in_channels, hidden_channels, out_channels, dropout=0.3):\n",
        "        super(GNNModel, self).__init__()\n",
        "        self.layer1 = torch.nn.Linear(in_channels, hidden_channels)\n",
        "        self.bn1 = torch.nn.BatchNorm1d(hidden_channels)\n",
        "        self.layer2 = torch.nn.Linear(hidden_channels, hidden_channels)\n",
        "        self.bn2 = torch.nn.BatchNorm1d(hidden_channels)\n",
        "        self.layer3 = torch.nn.Linear(hidden_channels, out_channels)\n",
        "        self.dropout = torch.nn.Dropout(dropout)\n",
        "\n",
        "    def forward(self, x, edge_index):\n",
        "        x = F.relu(self.bn1(self.layer1(x)), negative_slope=0.01)\n",
        "        x = self.dropout(x)\n",
        "        x = F.relu(self.bn2(self.layer2(x)), negative_slope=0.01)\n",
        "        x = self.dropout(x)\n",
        "        x = self.layer3(x)\n",
        "        return x\n",
        "\n",
        "# Xavier weight initialization\n",
        "def init_weights(m):\n",
        "    if isinstance(m, torch.nn.Linear):\n",
        "        torch.nn.init.xavier_uniform_(m.weight)\n",
        "        if m.bias is not None:\n",
        "            m.bias.data.fill_(0.01)\n",
        "\n",
        "# Loss function with weighting based on skewness\n",
        "def weighted_loss(predictions, targets, weights):\n",
        "    loss = F.mse_loss(predictions, targets, reduction='none')\n",
        "    weighted_loss = (weights * loss).mean()  # Apply weights\n",
        "    return weighted_loss\n",
        "\n",
        "# Step 3: Objective function for Optuna hyperparameter search\n",
        "def objective(trial):\n",
        "    # Hyperparameter search space\n",
        "    lr = trial.suggest_loguniform('learning_rate', 1e-6, 1e-4)\n",
        "    hidden_size = trial.suggest_categorical('hidden_size', [64, 128])\n",
        "    num_epochs = trial.suggest_int('epochs', 10, 50)\n",
        "\n",
        "    # Initialize model with optimized architecture\n",
        "    model = GNNModel(in_channels=song_node_features.shape[1], hidden_channels=hidden_size, out_channels=1, dropout=0.3)\n",
        "    model.apply(init_weights)  # Apply weight initialization\n",
        "    model = model.to(device)  # Move model to GPU\n",
        "\n",
        "    optimizer = Adam(model.parameters(), lr=lr)\n",
        "\n",
        "    # Training loop\n",
        "    for epoch in range(num_epochs):\n",
        "        model.train()\n",
        "        optimizer.zero_grad()\n",
        "        out = model(song_node_features, None)\n",
        "\n",
        "        # Check for NaN/Inf in output\n",
        "        if torch.isinf(out).any() or torch.isnan(out).any():\n",
        "            print(\"NaN or Inf found in model output!\")\n",
        "            return float('inf')  # Skip this trial if invalid output\n",
        "\n",
        "        # Calculate weighted loss\n",
        "        train_loss = weighted_loss(out.squeeze(), play_counts, torch.tensor(weights, dtype=torch.float32).to(device))\n",
        "\n",
        "        if torch.isnan(train_loss) or torch.isinf(train_loss):\n",
        "            print(\"NaN or Inf found in training loss!\")\n",
        "            return float('inf')  # Skip this trial if invalid loss\n",
        "\n",
        "        # Clip gradients to avoid instability\n",
        "        torch.nn.utils.clip_grad_norm_(model.parameters(), max_norm=1.0)\n",
        "\n",
        "        train_loss.backward()\n",
        "        optimizer.step()  # Perform optimizer step on GPU\n",
        "\n",
        "    # Evaluation\n",
        "    model.eval()\n",
        "    with torch.no_grad():\n",
        "        predicted_play_counts = model(song_node_features, None).cpu().numpy()  # Move output back to CPU for processing\n",
        "\n",
        "        # Re-transform predicted play counts back to original scale\n",
        "        predicted_play_counts = np.expm1(scaler_play_count.inverse_transform(predicted_play_counts.reshape(-1, 1)))\n",
        "\n",
        "        # Check for Inf values after applying transformations\n",
        "        if np.isinf(predicted_play_counts).any() or np.isnan(predicted_play_counts).any():\n",
        "            print(\"Invalid values detected in predictions after transformation!\")\n",
        "            return float('inf')  # Skip this trial if invalid predictions\n",
        "\n",
        "    # Calculate MAE and RMSE\n",
        "    mae = mean_absolute_error(df_Bert['play_count'].values, predicted_play_counts)\n",
        "    rmse = np.sqrt(mean_squared_error(df_Bert['play_count'].values, predicted_play_counts))\n",
        "\n",
        "    print(f\"Trial {trial.number}: MAE: {mae}, RMSE: {rmse}\")\n",
        "    return mae  # Optimize for MAE\n",
        "\n",
        "# Step 4: Run Optuna with parallelization and GPU\n",
        "study = optuna.create_study(direction='minimize')\n",
        "study.optimize(objective, n_trials=200, n_jobs=1)  # Run with GPU, adjust n_jobs as needed\n",
        "\n",
        "# Step 5: Print the best result\n",
        "print(\"Best MAE: \", study.best_value)\n",
        "print(\"Best Hyperparameters: \", study.best_params)\n"
      ]
    },
    {
      "cell_type": "markdown",
      "metadata": {
        "id": "PUXBhH58TsmZ"
      },
      "source": [
        "Adjust range for another search:\n",
        "changed activation function from ReLU to Leaky ReLU to handle skewed and sparse data better.\n",
        "\n",
        "Changed search space to: (lr= suggest_loguniform explore  for a continous range between a minimum and maxmium)\n",
        "    lr = trial.suggest_loguniform('learning_rate', 1e-5, 1e-3)\n",
        "    hidden_size = trial.suggest_categorical('hidden_size', [64, 128, 512])\n",
        "    num_epochs = trial.suggest_int('epochs', 10, 50)"
      ]
    },
    {
      "cell_type": "code",
      "execution_count": null,
      "metadata": {
        "colab": {
          "base_uri": "https://localhost:8080/",
          "height": 383
        },
        "id": "F_MgY_AETua1",
        "outputId": "8500cf4f-1b79-4421-b06f-c913d7fe1ca0"
      },
      "outputs": [
        {
          "ename": "ModuleNotFoundError",
          "evalue": "No module named 'optuna'",
          "output_type": "error",
          "traceback": [
            "\u001b[0;31m---------------------------------------------------------------------------\u001b[0m",
            "\u001b[0;31mModuleNotFoundError\u001b[0m                       Traceback (most recent call last)",
            "\u001b[0;32m<ipython-input-1-81ffffec1d81>\u001b[0m in \u001b[0;36m<cell line: 3>\u001b[0;34m()\u001b[0m\n\u001b[1;32m      1\u001b[0m \u001b[0;32mimport\u001b[0m \u001b[0mpickle\u001b[0m\u001b[0;34m\u001b[0m\u001b[0;34m\u001b[0m\u001b[0m\n\u001b[1;32m      2\u001b[0m \u001b[0;32mimport\u001b[0m \u001b[0mtorch\u001b[0m\u001b[0;34m\u001b[0m\u001b[0;34m\u001b[0m\u001b[0m\n\u001b[0;32m----> 3\u001b[0;31m \u001b[0;32mimport\u001b[0m \u001b[0moptuna\u001b[0m\u001b[0;34m\u001b[0m\u001b[0;34m\u001b[0m\u001b[0m\n\u001b[0m\u001b[1;32m      4\u001b[0m \u001b[0;32mimport\u001b[0m \u001b[0mtorch\u001b[0m\u001b[0;34m.\u001b[0m\u001b[0mnn\u001b[0m\u001b[0;34m.\u001b[0m\u001b[0mfunctional\u001b[0m \u001b[0;32mas\u001b[0m \u001b[0mF\u001b[0m\u001b[0;34m\u001b[0m\u001b[0;34m\u001b[0m\u001b[0m\n\u001b[1;32m      5\u001b[0m \u001b[0;32mfrom\u001b[0m \u001b[0mtorch\u001b[0m\u001b[0;34m.\u001b[0m\u001b[0moptim\u001b[0m \u001b[0;32mimport\u001b[0m \u001b[0mAdam\u001b[0m\u001b[0;34m\u001b[0m\u001b[0;34m\u001b[0m\u001b[0m\n",
            "\u001b[0;31mModuleNotFoundError\u001b[0m: No module named 'optuna'",
            "",
            "\u001b[0;31m---------------------------------------------------------------------------\u001b[0;32m\nNOTE: If your import is failing due to a missing package, you can\nmanually install dependencies using either !pip or !apt.\n\nTo view examples of installing some common dependencies, click the\n\"Open Examples\" button below.\n\u001b[0;31m---------------------------------------------------------------------------\u001b[0m\n"
          ]
        }
      ],
      "source": [
        "import pickle\n",
        "import torch\n",
        "import optuna\n",
        "import torch.nn.functional as F\n",
        "from torch.optim import Adam\n",
        "import numpy as np\n",
        "from sklearn.metrics import mean_absolute_error, mean_squared_error\n",
        "from sklearn.preprocessing import MinMaxScaler\n",
        "from torch.utils.data import DataLoader, TensorDataset\n",
        "\n",
        "# Load the DataFrame from the Pickle file\n",
        "with open('/content/drive/MyDrive/Python Course/df_with_embeddings.pkl', 'rb') as f:\n",
        "    df_Bert = pickle.load(f)\n",
        "\n",
        "# Check if GPU is available and use it\n",
        "device = torch.device(\"cuda\" if torch.cuda.is_available() else \"cpu\")\n",
        "print(f\"Using device: {device}\")\n",
        "\n",
        "# Step 1: Apply log transformation to play counts\n",
        "df_Bert['play_count_log'] = np.log1p(df_Bert['play_count'])  # Apply log transformation\n",
        "\n",
        "# Apply scaling to play counts\n",
        "scaler_play_count = MinMaxScaler()  # Initialize scaler\n",
        "df_Bert['play_count_scaled'] = scaler_play_count.fit_transform(df_Bert[['play_count_log']])\n",
        "\n",
        "# Use CPU for song embeddings to avoid GPU memory overload\n",
        "song_node_features = torch.tensor(np.stack(df_Bert['distilbert_embeddings']), dtype=torch.float32)  # Stays on CPU\n",
        "\n",
        "# Play counts will be moved to GPU during training\n",
        "play_counts = torch.tensor(df_Bert['play_count_scaled'].values, dtype=torch.float32).to(device)\n",
        "\n",
        "# Create DataLoader for mini-batching\n",
        "dataset = TensorDataset(song_node_features, play_counts)\n",
        "batch_size = 64  # Adjust based on available memory\n",
        "dataloader = DataLoader(dataset, batch_size=batch_size, shuffle=True)\n",
        "\n",
        "# Weights to handle skewness in the play counts (based on inverse log)\n",
        "weights = torch.tensor(1 / np.log1p(df_Bert['play_count'].values), dtype=torch.float32).to(device)\n",
        "\n",
        "# Step 2: GNN Model definition with deeper architecture and dropout for regularization\n",
        "class GNNModel(torch.nn.Module):\n",
        "    def __init__(self, in_channels, hidden_channels, out_channels, dropout=0.3):\n",
        "        super(GNNModel, self).__init__()\n",
        "        self.layer1 = torch.nn.Linear(in_channels, hidden_channels)\n",
        "        self.bn1 = torch.nn.BatchNorm1d(hidden_channels)\n",
        "        self.layer2 = torch.nn.Linear(hidden_channels, hidden_channels)\n",
        "        self.bn2 = torch.nn.BatchNorm1d(hidden_channels)\n",
        "        self.layer3 = torch.nn.Linear(hidden_channels, out_channels)\n",
        "        self.dropout = torch.nn.Dropout(dropout)\n",
        "\n",
        "    def forward(self, x, edge_index=None):\n",
        "        x = F.leaky_relu(self.bn1(self.layer1(x)))\n",
        "        x = self.dropout(x)\n",
        "        x = F.leaky_relu(self.bn2(self.layer2(x)))\n",
        "        x = self.dropout(x)\n",
        "        x = self.layer3(x)\n",
        "        return x\n",
        "\n",
        "# Xavier weight initialization\n",
        "def init_weights(m):\n",
        "    if isinstance(m, torch.nn.Linear):\n",
        "        torch.nn.init.xavier_uniform_(m.weight)\n",
        "        if m.bias is not None:\n",
        "            m.bias.data.fill_(0.01)\n",
        "\n",
        "# Loss function with weighting based on skewness\n",
        "def weighted_loss(predictions, targets, weights):\n",
        "    loss = F.mse_loss(predictions, targets, reduction='none')\n",
        "    weighted_loss = (weights * loss).mean()  # Apply weights\n",
        "    return weighted_loss\n",
        "\n",
        "# Step 3: Objective function for Optuna hyperparameter search\n",
        "def objective(trial):\n",
        "    # Clear GPU cache before each trial\n",
        "    torch.cuda.empty_cache()\n",
        "\n",
        "    # Hyperparameter search space\n",
        "    lr = trial.suggest_categorical('learning_rate', [1e-5, 1e-4, 1e-3])\n",
        "    hidden_size = trial.suggest_categorical('hidden_size', [64, 128, 512])\n",
        "    num_epochs = trial.suggest_int('epochs', 10, 50)\n",
        "\n",
        "    # Initialize model with optimized architecture\n",
        "    model = GNNModel(in_channels=song_node_features.shape[1], hidden_channels=hidden_size, out_channels=1, dropout=0.3)\n",
        "    model.apply(init_weights)  # Apply weight initialization\n",
        "    model = model.to(device)  # Move model to GPU\n",
        "\n",
        "    optimizer = Adam(model.parameters(), lr=lr)\n",
        "\n",
        "    scaler = torch.cuda.amp.GradScaler()  # For mixed precision training\n",
        "\n",
        "    # Training loop\n",
        "    for epoch in range(num_epochs):\n",
        "        model.train()\n",
        "        total_loss = 0\n",
        "        for batch_features, batch_labels in dataloader:\n",
        "            batch_features, batch_labels = batch_features.to(device), batch_labels.to(device)\n",
        "\n",
        "            optimizer.zero_grad()\n",
        "\n",
        "            # Mixed precision forward pass\n",
        "            with torch.cuda.amp.autocast():\n",
        "                out = model(batch_features)\n",
        "                train_loss = weighted_loss(out.squeeze(), batch_labels, weights)\n",
        "\n",
        "            # Check for NaN/Inf in output\n",
        "            if torch.isnan(train_loss) or torch.isinf(train_loss):\n",
        "                print(\"NaN or Inf found in training loss!\")\n",
        "                return float('inf')  # Skip this trial if invalid loss\n",
        "\n",
        "            # Mixed precision backward pass\n",
        "            scaler.scale(train_loss).backward()\n",
        "            scaler.step(optimizer)\n",
        "            scaler.update()\n",
        "\n",
        "            total_loss += train_loss.item()\n",
        "\n",
        "        print(f\"Epoch {epoch + 1}/{num_epochs}, Loss: {total_loss / len(dataloader)}\")\n",
        "\n",
        "    # Evaluation\n",
        "    model.eval()\n",
        "    with torch.no_grad():\n",
        "        predicted_play_counts = model(song_node_features.to(device), None).cpu().numpy()\n",
        "\n",
        "        # Re-transform predicted play counts back to original scale\n",
        "        predicted_play_counts = np.expm1(scaler_play_count.inverse_transform(predicted_play_counts.reshape(-1, 1)))\n",
        "\n",
        "        # Check for Inf values after applying transformations\n",
        "        if np.isinf(predicted_play_counts).any() or np.isnan(predicted_play_counts).any():\n",
        "            print(\"Invalid values detected in predictions after transformation!\")\n",
        "            return float('inf')  # Skip this trial if invalid predictions\n",
        "\n",
        "    # Calculate MAE and RMSE\n",
        "    mae = mean_absolute_error(df_Bert['play_count'].values, predicted_play_counts)\n",
        "    rmse = np.sqrt(mean_squared_error(df_Bert['play_count'].values, predicted_play_counts))\n",
        "\n",
        "    print(f\"Trial {trial.number}: MAE: {mae}, RMSE: {rmse}\")\n",
        "    return mae  # Optimize for MAE\n",
        "\n",
        "# Step 4: Run Optuna with parallelization and GPU\n",
        "study = optuna.create_study(direction='minimize')\n",
        "study.optimize(objective, n_trials=200, n_jobs=1)  # Run with GPU, adjust n_jobs as needed\n",
        "\n",
        "# Step 5: Print the best result\n",
        "print(\"Best MAE: \", study.best_value)\n",
        "print(\"Best Hyperparameters: \", study.best_params)"
      ]
    },
    {
      "cell_type": "markdown",
      "metadata": {
        "id": "SX4k9Vh3kHsC"
      },
      "source": [
        "### Grid search with 20% sample of dataset"
      ]
    },
    {
      "cell_type": "code",
      "execution_count": null,
      "metadata": {
        "colab": {
          "base_uri": "https://localhost:8080/"
        },
        "id": "iPdBBYC-sPxP",
        "outputId": "a6682a9c-9897-40ca-d999-2d779759e343"
      },
      "outputs": [
        {
          "name": "stderr",
          "output_type": "stream",
          "text": [
            "[I 2024-10-20 02:11:05,106] A new study created in memory with name: no-name-cb7ad879-aaee-4cea-b583-9a93ce5e2649\n",
            "[I 2024-10-20 02:15:14,105] Trial 7 finished with value: 5.047344842321312 and parameters: {'learning_rate': 2.4733774792465053e-06, 'hidden_size': 64, 'epochs': 10}. Best is trial 7 with value: 5.047344842321312.\n"
          ]
        },
        {
          "name": "stdout",
          "output_type": "stream",
          "text": [
            "Trial 7: MAE: 5.047344842321312, RMSE: 10.155525226457222\n"
          ]
        },
        {
          "name": "stderr",
          "output_type": "stream",
          "text": [
            "[I 2024-10-20 02:15:15,738] Trial 51 finished with value: 5.59976945900216 and parameters: {'learning_rate': 5.336759111020201e-06, 'hidden_size': 64, 'epochs': 10}. Best is trial 7 with value: 5.047344842321312.\n"
          ]
        },
        {
          "name": "stdout",
          "output_type": "stream",
          "text": [
            "Trial 51: MAE: 5.59976945900216, RMSE: 11.94689452216554\n"
          ]
        },
        {
          "name": "stderr",
          "output_type": "stream",
          "text": [
            "[I 2024-10-20 02:15:56,947] Trial 43 finished with value: 4.360305675380037 and parameters: {'learning_rate': 3.904512741480352e-06, 'hidden_size': 64, 'epochs': 12}. Best is trial 43 with value: 4.360305675380037.\n"
          ]
        },
        {
          "name": "stdout",
          "output_type": "stream",
          "text": [
            "Trial 43: MAE: 4.360305675380037, RMSE: 9.911581229234718\n"
          ]
        },
        {
          "name": "stderr",
          "output_type": "stream",
          "text": [
            "[I 2024-10-20 02:15:57,864] Trial 25 finished with value: 4.394297323098506 and parameters: {'learning_rate': 3.766053436158605e-05, 'hidden_size': 64, 'epochs': 11}. Best is trial 43 with value: 4.360305675380037.\n"
          ]
        },
        {
          "name": "stdout",
          "output_type": "stream",
          "text": [
            "Trial 25: MAE: 4.394297323098506, RMSE: 9.851695401432243\n"
          ]
        },
        {
          "name": "stderr",
          "output_type": "stream",
          "text": [
            "[I 2024-10-20 02:16:11,296] Trial 28 finished with value: 4.566652180911125 and parameters: {'learning_rate': 5.163467960776113e-06, 'hidden_size': 64, 'epochs': 11}. Best is trial 43 with value: 4.360305675380037.\n"
          ]
        },
        {
          "name": "stdout",
          "output_type": "stream",
          "text": [
            "Trial 28: MAE: 4.566652180911125, RMSE: 10.111258607986448\n"
          ]
        },
        {
          "name": "stderr",
          "output_type": "stream",
          "text": [
            "[I 2024-10-20 02:16:12,302] Trial 18 finished with value: 4.303717734691594 and parameters: {'learning_rate': 2.5535149543521735e-06, 'hidden_size': 64, 'epochs': 11}. Best is trial 18 with value: 4.303717734691594.\n"
          ]
        },
        {
          "name": "stdout",
          "output_type": "stream",
          "text": [
            "Trial 18: MAE: 4.303717734691594, RMSE: 10.03231494807065\n"
          ]
        },
        {
          "name": "stderr",
          "output_type": "stream",
          "text": [
            "[I 2024-10-20 02:16:59,002] Trial 63 finished with value: 4.715452663156878 and parameters: {'learning_rate': 1.342310009463598e-06, 'hidden_size': 64, 'epochs': 13}. Best is trial 18 with value: 4.303717734691594.\n"
          ]
        },
        {
          "name": "stdout",
          "output_type": "stream",
          "text": [
            "Trial 63: MAE: 4.715452663156878, RMSE: 10.004250957398547\n"
          ]
        },
        {
          "name": "stderr",
          "output_type": "stream",
          "text": [
            "[I 2024-10-20 02:17:01,626] Trial 48 finished with value: 6.150144150133821 and parameters: {'learning_rate': 5.756232676917827e-05, 'hidden_size': 64, 'epochs': 14}. Best is trial 18 with value: 4.303717734691594.\n"
          ]
        },
        {
          "name": "stdout",
          "output_type": "stream",
          "text": [
            "Trial 48: MAE: 6.150144150133821, RMSE: 12.77386523936487\n"
          ]
        },
        {
          "name": "stderr",
          "output_type": "stream",
          "text": [
            "[I 2024-10-20 02:17:29,399] Trial 70 finished with value: 6.908593455237473 and parameters: {'learning_rate': 1.2775405916672818e-05, 'hidden_size': 64, 'epochs': 14}. Best is trial 18 with value: 4.303717734691594.\n"
          ]
        },
        {
          "name": "stdout",
          "output_type": "stream",
          "text": [
            "Trial 70: MAE: 6.908593455237473, RMSE: 21.657648145956493\n",
            "Trial 67: MAE: 19.363883608869934, RMSE: 36.499187814393984\n"
          ]
        },
        {
          "name": "stderr",
          "output_type": "stream",
          "text": [
            "[I 2024-10-20 02:18:00,110] Trial 67 finished with value: 19.363883608869934 and parameters: {'learning_rate': 5.354918306235372e-06, 'hidden_size': 128, 'epochs': 10}. Best is trial 18 with value: 4.303717734691594.\n",
            "[I 2024-10-20 02:18:00,113] Trial 42 finished with value: 40.94130506053873 and parameters: {'learning_rate': 4.4492271053616535e-06, 'hidden_size': 128, 'epochs': 10}. Best is trial 18 with value: 4.303717734691594.\n",
            "[I 2024-10-20 02:18:00,178] Trial 32 finished with value: 4.182264155574259 and parameters: {'learning_rate': 8.50181165550666e-05, 'hidden_size': 128, 'epochs': 11}. Best is trial 32 with value: 4.182264155574259.\n"
          ]
        },
        {
          "name": "stdout",
          "output_type": "stream",
          "text": [
            "Trial 42: MAE: 40.94130506053873, RMSE: 92.82498136693283\n",
            "Trial 32: MAE: 4.182264155574259, RMSE: 9.723746073782092\n"
          ]
        },
        {
          "name": "stderr",
          "output_type": "stream",
          "text": [
            "[I 2024-10-20 02:18:20,188] Trial 82 finished with value: 13.069381735039084 and parameters: {'learning_rate': 1.700749094767817e-05, 'hidden_size': 64, 'epochs': 17}. Best is trial 32 with value: 4.182264155574259.\n"
          ]
        },
        {
          "name": "stdout",
          "output_type": "stream",
          "text": [
            "Trial 82: MAE: 13.069381735039084, RMSE: 34.08153815237202\n"
          ]
        },
        {
          "name": "stderr",
          "output_type": "stream",
          "text": [
            "[I 2024-10-20 02:19:24,139] Trial 53 finished with value: 55.90244013657187 and parameters: {'learning_rate': 9.69052122717457e-05, 'hidden_size': 64, 'epochs': 19}. Best is trial 32 with value: 4.182264155574259.\n"
          ]
        },
        {
          "name": "stdout",
          "output_type": "stream",
          "text": [
            "Trial 53: MAE: 55.90244013657187, RMSE: 106.66564929031365\n",
            "Trial 81: MAE: 7.081777592570021, RMSE: 27.87145766252675\n"
          ]
        },
        {
          "name": "stderr",
          "output_type": "stream",
          "text": [
            "[I 2024-10-20 02:19:40,869] Trial 81 finished with value: 7.081777592570021 and parameters: {'learning_rate': 4.683956526158307e-05, 'hidden_size': 64, 'epochs': 20}. Best is trial 32 with value: 4.182264155574259.\n"
          ]
        },
        {
          "name": "stdout",
          "output_type": "stream",
          "text": [
            "Trial 77: MAE: 7.392562477028094, RMSE: 62.209626779023516\n"
          ]
        },
        {
          "name": "stderr",
          "output_type": "stream",
          "text": [
            "[I 2024-10-20 02:20:26,825] Trial 77 finished with value: 7.392562477028094 and parameters: {'learning_rate': 1.1852458899357662e-06, 'hidden_size': 128, 'epochs': 14}. Best is trial 32 with value: 4.182264155574259.\n",
            "[I 2024-10-20 02:20:44,482] Trial 13 finished with value: 4.900773237010236 and parameters: {'learning_rate': 1.0784799068311192e-05, 'hidden_size': 64, 'epochs': 24}. Best is trial 32 with value: 4.182264155574259.\n"
          ]
        },
        {
          "name": "stdout",
          "output_type": "stream",
          "text": [
            "Trial 13: MAE: 4.900773237010236, RMSE: 10.110399445158155\n"
          ]
        },
        {
          "name": "stderr",
          "output_type": "stream",
          "text": [
            "[I 2024-10-20 02:20:46,741] Trial 52 finished with value: 5.671985488575054 and parameters: {'learning_rate': 8.12803888044969e-05, 'hidden_size': 64, 'epochs': 22}. Best is trial 32 with value: 4.182264155574259.\n"
          ]
        },
        {
          "name": "stdout",
          "output_type": "stream",
          "text": [
            "Trial 52: MAE: 5.671985488575054, RMSE: 14.00752404881321\n"
          ]
        },
        {
          "name": "stderr",
          "output_type": "stream",
          "text": [
            "[I 2024-10-20 02:20:52,022] Trial 60 finished with value: 31.353729641066508 and parameters: {'learning_rate': 3.5299551350253988e-06, 'hidden_size': 128, 'epochs': 15}. Best is trial 32 with value: 4.182264155574259.\n"
          ]
        },
        {
          "name": "stdout",
          "output_type": "stream",
          "text": [
            "Trial 60: MAE: 31.353729641066508, RMSE: 222.9195100688576\n"
          ]
        },
        {
          "name": "stderr",
          "output_type": "stream",
          "text": [
            "[I 2024-10-20 02:20:55,867] Trial 65 finished with value: 5.507202352212253 and parameters: {'learning_rate': 1.0151226959672291e-05, 'hidden_size': 128, 'epochs': 14}. Best is trial 32 with value: 4.182264155574259.\n"
          ]
        },
        {
          "name": "stdout",
          "output_type": "stream",
          "text": [
            "Trial 65: MAE: 5.507202352212253, RMSE: 18.48381230685689\n"
          ]
        },
        {
          "name": "stderr",
          "output_type": "stream",
          "text": [
            "[I 2024-10-20 02:21:28,751] Trial 47 finished with value: 4.666530864777206 and parameters: {'learning_rate': 1.4096417583152334e-06, 'hidden_size': 128, 'epochs': 16}. Best is trial 32 with value: 4.182264155574259.\n"
          ]
        },
        {
          "name": "stdout",
          "output_type": "stream",
          "text": [
            "Trial 47: MAE: 4.666530864777206, RMSE: 10.197992809225065\n"
          ]
        },
        {
          "name": "stderr",
          "output_type": "stream",
          "text": [
            "[I 2024-10-20 02:22:00,307] Trial 76 finished with value: 4.748565274956393 and parameters: {'learning_rate': 1.0592500792974877e-06, 'hidden_size': 128, 'epochs': 15}. Best is trial 32 with value: 4.182264155574259.\n"
          ]
        },
        {
          "name": "stdout",
          "output_type": "stream",
          "text": [
            "Trial 76: MAE: 4.748565274956393, RMSE: 10.906507228495919\n"
          ]
        },
        {
          "name": "stderr",
          "output_type": "stream",
          "text": [
            "[I 2024-10-20 02:22:02,828] Trial 23 finished with value: 5.654119765610512 and parameters: {'learning_rate': 2.8508927357754643e-05, 'hidden_size': 128, 'epochs': 17}. Best is trial 32 with value: 4.182264155574259.\n"
          ]
        },
        {
          "name": "stdout",
          "output_type": "stream",
          "text": [
            "Trial 23: MAE: 5.654119765610512, RMSE: 12.651261046777087\n"
          ]
        },
        {
          "name": "stderr",
          "output_type": "stream",
          "text": [
            "[I 2024-10-20 02:22:06,074] Trial 50 finished with value: 5.223008284196553 and parameters: {'learning_rate': 4.138772193260448e-05, 'hidden_size': 64, 'epochs': 25}. Best is trial 32 with value: 4.182264155574259.\n"
          ]
        },
        {
          "name": "stdout",
          "output_type": "stream",
          "text": [
            "Trial 50: MAE: 5.223008284196553, RMSE: 13.841590608078441\n"
          ]
        },
        {
          "name": "stderr",
          "output_type": "stream",
          "text": [
            "[I 2024-10-20 02:22:16,066] Trial 33 finished with value: 6.938389702313245 and parameters: {'learning_rate': 1.0557410457358529e-05, 'hidden_size': 128, 'epochs': 17}. Best is trial 32 with value: 4.182264155574259.\n"
          ]
        },
        {
          "name": "stdout",
          "output_type": "stream",
          "text": [
            "Trial 33: MAE: 6.938389702313245, RMSE: 36.895864232163795\n"
          ]
        },
        {
          "name": "stderr",
          "output_type": "stream",
          "text": [
            "[I 2024-10-20 02:22:16,384] Trial 10 finished with value: 5.554051757977076 and parameters: {'learning_rate': 6.632482085612596e-05, 'hidden_size': 64, 'epochs': 27}. Best is trial 32 with value: 4.182264155574259.\n"
          ]
        },
        {
          "name": "stdout",
          "output_type": "stream",
          "text": [
            "Trial 10: MAE: 5.554051757977076, RMSE: 14.954218432680406\n"
          ]
        },
        {
          "name": "stderr",
          "output_type": "stream",
          "text": [
            "[I 2024-10-20 02:22:44,585] Trial 93 finished with value: 4.773027218198142 and parameters: {'learning_rate': 2.1537894239085e-06, 'hidden_size': 128, 'epochs': 10}. Best is trial 32 with value: 4.182264155574259.\n"
          ]
        },
        {
          "name": "stdout",
          "output_type": "stream",
          "text": [
            "Trial 93: MAE: 4.773027218198142, RMSE: 10.064450056024741\n"
          ]
        },
        {
          "name": "stderr",
          "output_type": "stream",
          "text": [
            "[I 2024-10-20 02:22:47,800] Trial 66 finished with value: 76.89154611164142 and parameters: {'learning_rate': 1.0602754442822374e-06, 'hidden_size': 64, 'epochs': 28}. Best is trial 32 with value: 4.182264155574259.\n"
          ]
        },
        {
          "name": "stdout",
          "output_type": "stream",
          "text": [
            "Trial 66: MAE: 76.89154611164142, RMSE: 537.2785066135953\n"
          ]
        },
        {
          "name": "stderr",
          "output_type": "stream",
          "text": [
            "[I 2024-10-20 02:22:55,814] Trial 98 finished with value: 4.833170538183427 and parameters: {'learning_rate': 1.968511923702551e-06, 'hidden_size': 64, 'epochs': 13}. Best is trial 32 with value: 4.182264155574259.\n"
          ]
        },
        {
          "name": "stdout",
          "output_type": "stream",
          "text": [
            "Trial 98: MAE: 4.833170538183427, RMSE: 10.053947714681916\n"
          ]
        },
        {
          "name": "stderr",
          "output_type": "stream",
          "text": [
            "[I 2024-10-20 02:23:23,811] Trial 9 finished with value: 6.154126794240867 and parameters: {'learning_rate': 1.516547684926614e-05, 'hidden_size': 64, 'epochs': 30}. Best is trial 32 with value: 4.182264155574259.\n"
          ]
        },
        {
          "name": "stdout",
          "output_type": "stream",
          "text": [
            "Trial 9: MAE: 6.154126794240867, RMSE: 27.686933138018215\n"
          ]
        },
        {
          "name": "stderr",
          "output_type": "stream",
          "text": [
            "[I 2024-10-20 02:23:32,154] Trial 78 finished with value: 21.90599964731977 and parameters: {'learning_rate': 2.0681926741141683e-05, 'hidden_size': 128, 'epochs': 19}. Best is trial 32 with value: 4.182264155574259.\n"
          ]
        },
        {
          "name": "stdout",
          "output_type": "stream",
          "text": [
            "Trial 78: MAE: 21.90599964731977, RMSE: 94.6478552030697\n"
          ]
        },
        {
          "name": "stderr",
          "output_type": "stream",
          "text": [
            "[I 2024-10-20 02:23:40,148] Trial 83 finished with value: 6.446186434483448 and parameters: {'learning_rate': 4.562355476247643e-06, 'hidden_size': 128, 'epochs': 18}. Best is trial 32 with value: 4.182264155574259.\n"
          ]
        },
        {
          "name": "stdout",
          "output_type": "stream",
          "text": [
            "Trial 83: MAE: 6.446186434483448, RMSE: 41.73045619429067\n"
          ]
        },
        {
          "name": "stderr",
          "output_type": "stream",
          "text": [
            "[I 2024-10-20 02:23:41,639] Trial 1 finished with value: 171.70180739773716 and parameters: {'learning_rate': 2.6442882675760575e-06, 'hidden_size': 64, 'epochs': 30}. Best is trial 32 with value: 4.182264155574259.\n"
          ]
        },
        {
          "name": "stdout",
          "output_type": "stream",
          "text": [
            "Trial 1: MAE: 171.70180739773716, RMSE: 1760.337241712573\n"
          ]
        },
        {
          "name": "stderr",
          "output_type": "stream",
          "text": [
            "[I 2024-10-20 02:23:47,464] Trial 4 finished with value: 13.344883647944457 and parameters: {'learning_rate': 1.0592063157980425e-05, 'hidden_size': 128, 'epochs': 19}. Best is trial 32 with value: 4.182264155574259.\n"
          ]
        },
        {
          "name": "stdout",
          "output_type": "stream",
          "text": [
            "Trial 4: MAE: 13.344883647944457, RMSE: 31.878223195147125\n"
          ]
        },
        {
          "name": "stderr",
          "output_type": "stream",
          "text": [
            "[I 2024-10-20 02:23:49,239] Trial 0 finished with value: 5.382256700519986 and parameters: {'learning_rate': 7.677668110640366e-05, 'hidden_size': 64, 'epochs': 36}. Best is trial 32 with value: 4.182264155574259.\n"
          ]
        },
        {
          "name": "stdout",
          "output_type": "stream",
          "text": [
            "Trial 0: MAE: 5.382256700519986, RMSE: 15.345336508873443\n"
          ]
        },
        {
          "name": "stderr",
          "output_type": "stream",
          "text": [
            "[I 2024-10-20 02:23:59,217] Trial 34 finished with value: 308.7060316736839 and parameters: {'learning_rate': 1.3331321500216224e-06, 'hidden_size': 64, 'epochs': 31}. Best is trial 32 with value: 4.182264155574259.\n"
          ]
        },
        {
          "name": "stdout",
          "output_type": "stream",
          "text": [
            "Trial 34: MAE: 308.7060316736839, RMSE: 2944.404500548135\n"
          ]
        },
        {
          "name": "stderr",
          "output_type": "stream",
          "text": [
            "[I 2024-10-20 02:24:06,688] Trial 40 finished with value: 21.7389973507745 and parameters: {'learning_rate': 1.4003026006334175e-06, 'hidden_size': 64, 'epochs': 30}. Best is trial 32 with value: 4.182264155574259.\n"
          ]
        },
        {
          "name": "stdout",
          "output_type": "stream",
          "text": [
            "Trial 40: MAE: 21.7389973507745, RMSE: 1966.4743683350214\n"
          ]
        },
        {
          "name": "stderr",
          "output_type": "stream",
          "text": [
            "[I 2024-10-20 02:24:34,154] Trial 27 finished with value: 789.1312614090169 and parameters: {'learning_rate': 3.791313884829565e-06, 'hidden_size': 64, 'epochs': 33}. Best is trial 32 with value: 4.182264155574259.\n"
          ]
        },
        {
          "name": "stdout",
          "output_type": "stream",
          "text": [
            "Trial 27: MAE: 789.1312614090169, RMSE: 30536.26510803159\n"
          ]
        },
        {
          "name": "stderr",
          "output_type": "stream",
          "text": [
            "[I 2024-10-20 02:24:43,507] Trial 72 finished with value: 52.36482695191424 and parameters: {'learning_rate': 8.26010930267113e-05, 'hidden_size': 64, 'epochs': 32}. Best is trial 32 with value: 4.182264155574259.\n"
          ]
        },
        {
          "name": "stdout",
          "output_type": "stream",
          "text": [
            "Trial 72: MAE: 52.36482695191424, RMSE: 298.2420714242515\n"
          ]
        },
        {
          "name": "stderr",
          "output_type": "stream",
          "text": [
            "[I 2024-10-20 02:24:49,404] Trial 15 finished with value: 571.8331883165279 and parameters: {'learning_rate': 5.7268811059152866e-06, 'hidden_size': 64, 'epochs': 32}. Best is trial 32 with value: 4.182264155574259.\n"
          ]
        },
        {
          "name": "stdout",
          "output_type": "stream",
          "text": [
            "Trial 15: MAE: 571.8331883165279, RMSE: 14184.716485571342\n"
          ]
        },
        {
          "name": "stderr",
          "output_type": "stream",
          "text": [
            "[I 2024-10-20 02:24:56,805] Trial 92 finished with value: 4.812483154772722 and parameters: {'learning_rate': 3.780895938614539e-06, 'hidden_size': 128, 'epochs': 13}. Best is trial 32 with value: 4.182264155574259.\n"
          ]
        },
        {
          "name": "stdout",
          "output_type": "stream",
          "text": [
            "Trial 92: MAE: 4.812483154772722, RMSE: 10.703928475522229\n"
          ]
        },
        {
          "name": "stderr",
          "output_type": "stream",
          "text": [
            "[I 2024-10-20 02:25:07,353] Trial 87 finished with value: 5.085641589742731 and parameters: {'learning_rate': 1.5890524727693851e-06, 'hidden_size': 128, 'epochs': 21}. Best is trial 32 with value: 4.182264155574259.\n"
          ]
        },
        {
          "name": "stdout",
          "output_type": "stream",
          "text": [
            "Trial 87: MAE: 5.085641589742731, RMSE: 10.173921749213346\n"
          ]
        },
        {
          "name": "stderr",
          "output_type": "stream",
          "text": [
            "[I 2024-10-20 02:26:05,462] Trial 31 finished with value: 6.673882814243273 and parameters: {'learning_rate': 3.3508386071160906e-05, 'hidden_size': 128, 'epochs': 23}. Best is trial 32 with value: 4.182264155574259.\n"
          ]
        },
        {
          "name": "stdout",
          "output_type": "stream",
          "text": [
            "Trial 31: MAE: 6.673882814243273, RMSE: 15.36134395944074\n"
          ]
        },
        {
          "name": "stderr",
          "output_type": "stream",
          "text": [
            "[I 2024-10-20 02:26:10,458] Trial 44 finished with value: 5.2805376404196815 and parameters: {'learning_rate': 5.4434106537547726e-05, 'hidden_size': 64, 'epochs': 34}. Best is trial 32 with value: 4.182264155574259.\n"
          ]
        },
        {
          "name": "stdout",
          "output_type": "stream",
          "text": [
            "Trial 44: MAE: 5.2805376404196815, RMSE: 20.094983918328005\n"
          ]
        },
        {
          "name": "stderr",
          "output_type": "stream",
          "text": [
            "[I 2024-10-20 02:26:24,494] Trial 59 finished with value: 96.44435824194427 and parameters: {'learning_rate': 2.78803013607417e-06, 'hidden_size': 64, 'epochs': 37}. Best is trial 32 with value: 4.182264155574259.\n"
          ]
        },
        {
          "name": "stdout",
          "output_type": "stream",
          "text": [
            "Trial 59: MAE: 96.44435824194427, RMSE: 4725.996986851983\n"
          ]
        },
        {
          "name": "stderr",
          "output_type": "stream",
          "text": [
            "[I 2024-10-20 02:27:37,947] Trial 64 finished with value: 738.6438839984266 and parameters: {'learning_rate': 6.556210970001285e-06, 'hidden_size': 64, 'epochs': 42}. Best is trial 32 with value: 4.182264155574259.\n"
          ]
        },
        {
          "name": "stdout",
          "output_type": "stream",
          "text": [
            "Trial 64: MAE: 738.6438839984266, RMSE: 15578.043579503475\n"
          ]
        },
        {
          "name": "stderr",
          "output_type": "stream",
          "text": [
            "[I 2024-10-20 02:27:42,699] Trial 61 finished with value: 20535.399104240732 and parameters: {'learning_rate': 1.0525392204427618e-05, 'hidden_size': 64, 'epochs': 39}. Best is trial 32 with value: 4.182264155574259.\n"
          ]
        },
        {
          "name": "stdout",
          "output_type": "stream",
          "text": [
            "Trial 61: MAE: 20535.399104240732, RMSE: 1151391.894484072\n"
          ]
        },
        {
          "name": "stderr",
          "output_type": "stream",
          "text": [
            "[I 2024-10-20 02:27:43,257] Trial 46 finished with value: 5.610238522356661 and parameters: {'learning_rate': 9.209782458983871e-06, 'hidden_size': 64, 'epochs': 39}. Best is trial 32 with value: 4.182264155574259.\n"
          ]
        },
        {
          "name": "stdout",
          "output_type": "stream",
          "text": [
            "Trial 46: MAE: 5.610238522356661, RMSE: 14.739000553206395\n"
          ]
        },
        {
          "name": "stderr",
          "output_type": "stream",
          "text": [
            "[I 2024-10-20 02:27:51,305] Trial 30 finished with value: 823.1519259168979 and parameters: {'learning_rate': 1.73707931161992e-06, 'hidden_size': 64, 'epochs': 41}. Best is trial 32 with value: 4.182264155574259.\n"
          ]
        },
        {
          "name": "stdout",
          "output_type": "stream",
          "text": [
            "Trial 30: MAE: 823.1519259168979, RMSE: 26964.765440921463\n"
          ]
        },
        {
          "name": "stderr",
          "output_type": "stream",
          "text": [
            "[I 2024-10-20 02:28:14,789] Trial 62 finished with value: 71.04931152847472 and parameters: {'learning_rate': 1.968013268412255e-05, 'hidden_size': 128, 'epochs': 27}. Best is trial 32 with value: 4.182264155574259.\n"
          ]
        },
        {
          "name": "stdout",
          "output_type": "stream",
          "text": [
            "Trial 62: MAE: 71.04931152847472, RMSE: 490.7157520431395\n"
          ]
        },
        {
          "name": "stderr",
          "output_type": "stream",
          "text": [
            "[I 2024-10-20 02:28:16,322] Trial 54 finished with value: 44.56541151745476 and parameters: {'learning_rate': 2.364894650948659e-06, 'hidden_size': 128, 'epochs': 25}. Best is trial 32 with value: 4.182264155574259.\n"
          ]
        },
        {
          "name": "stdout",
          "output_type": "stream",
          "text": [
            "Trial 54: MAE: 44.56541151745476, RMSE: 413.01433648527666\n"
          ]
        },
        {
          "name": "stderr",
          "output_type": "stream",
          "text": [
            "[I 2024-10-20 02:28:49,670] Trial 21 finished with value: 17.61068089852994 and parameters: {'learning_rate': 4.285413767937056e-05, 'hidden_size': 64, 'epochs': 41}. Best is trial 32 with value: 4.182264155574259.\n"
          ]
        },
        {
          "name": "stdout",
          "output_type": "stream",
          "text": [
            "Trial 21: MAE: 17.61068089852994, RMSE: 731.4980589385267\n"
          ]
        },
        {
          "name": "stderr",
          "output_type": "stream",
          "text": [
            "[I 2024-10-20 02:29:05,524] Trial 74 finished with value: 381.7854062165515 and parameters: {'learning_rate': 2.9135470466294386e-05, 'hidden_size': 64, 'epochs': 42}. Best is trial 32 with value: 4.182264155574259.\n"
          ]
        },
        {
          "name": "stdout",
          "output_type": "stream",
          "text": [
            "Trial 74: MAE: 381.7854062165515, RMSE: 13206.59048163378\n"
          ]
        },
        {
          "name": "stderr",
          "output_type": "stream",
          "text": [
            "[I 2024-10-20 02:29:08,144] Trial 94 finished with value: 6.754234981430999 and parameters: {'learning_rate': 2.486194713275154e-05, 'hidden_size': 128, 'epochs': 19}. Best is trial 32 with value: 4.182264155574259.\n"
          ]
        },
        {
          "name": "stdout",
          "output_type": "stream",
          "text": [
            "Trial 94: MAE: 6.754234981430999, RMSE: 82.2126913456784\n"
          ]
        },
        {
          "name": "stderr",
          "output_type": "stream",
          "text": [
            "[I 2024-10-20 02:29:27,094] Trial 75 finished with value: 2542.023557306397 and parameters: {'learning_rate': 3.489531551501802e-05, 'hidden_size': 128, 'epochs': 28}. Best is trial 32 with value: 4.182264155574259.\n"
          ]
        },
        {
          "name": "stdout",
          "output_type": "stream",
          "text": [
            "Trial 75: MAE: 2542.023557306397, RMSE: 219118.61804321612\n"
          ]
        },
        {
          "name": "stderr",
          "output_type": "stream",
          "text": [
            "[I 2024-10-20 02:29:37,712] Trial 17 finished with value: 5.847335049685526 and parameters: {'learning_rate': 6.602738997967973e-05, 'hidden_size': 64, 'epochs': 44}. Best is trial 32 with value: 4.182264155574259.\n"
          ]
        },
        {
          "name": "stdout",
          "output_type": "stream",
          "text": [
            "Trial 17: MAE: 5.847335049685526, RMSE: 18.97641243767074\n"
          ]
        },
        {
          "name": "stderr",
          "output_type": "stream",
          "text": [
            "[I 2024-10-20 02:30:00,707] Trial 24 finished with value: 8.657744814237894 and parameters: {'learning_rate': 2.650880879478456e-06, 'hidden_size': 64, 'epochs': 46}. Best is trial 32 with value: 4.182264155574259.\n"
          ]
        },
        {
          "name": "stdout",
          "output_type": "stream",
          "text": [
            "Trial 24: MAE: 8.657744814237894, RMSE: 231.29823993279626\n"
          ]
        },
        {
          "name": "stderr",
          "output_type": "stream",
          "text": [
            "[I 2024-10-20 02:30:04,044] Trial 16 finished with value: 6139.690564311105 and parameters: {'learning_rate': 1.1624084930946378e-06, 'hidden_size': 64, 'epochs': 45}. Best is trial 32 with value: 4.182264155574259.\n"
          ]
        },
        {
          "name": "stdout",
          "output_type": "stream",
          "text": [
            "Trial 16: MAE: 6139.690564311105, RMSE: 183047.89308443828\n"
          ]
        },
        {
          "name": "stderr",
          "output_type": "stream",
          "text": [
            "[I 2024-10-20 02:30:06,776] Trial 84 finished with value: 6.504202600095682 and parameters: {'learning_rate': 6.315970845732696e-06, 'hidden_size': 64, 'epochs': 44}. Best is trial 32 with value: 4.182264155574259.\n"
          ]
        },
        {
          "name": "stdout",
          "output_type": "stream",
          "text": [
            "Trial 84: MAE: 6.504202600095682, RMSE: 49.039988416895\n"
          ]
        },
        {
          "name": "stderr",
          "output_type": "stream",
          "text": [
            "[I 2024-10-20 02:30:14,776] Trial 26 finished with value: 65364.21498842558 and parameters: {'learning_rate': 6.9262220716973385e-06, 'hidden_size': 64, 'epochs': 46}. Best is trial 32 with value: 4.182264155574259.\n"
          ]
        },
        {
          "name": "stdout",
          "output_type": "stream",
          "text": [
            "Trial 26: MAE: 65364.21498842558, RMSE: 3359762.960993733\n",
            "Trial 37: MAE: 5.395255823383792, RMSE: 18.171179748229978\n"
          ]
        },
        {
          "name": "stderr",
          "output_type": "stream",
          "text": [
            "[I 2024-10-20 02:30:15,100] Trial 37 finished with value: 5.395255823383792 and parameters: {'learning_rate': 1.702053193757112e-05, 'hidden_size': 128, 'epochs': 28}. Best is trial 32 with value: 4.182264155574259.\n",
            "[I 2024-10-20 02:30:20,852] Trial 57 finished with value: 6.439496306947905 and parameters: {'learning_rate': 2.2941198525864482e-05, 'hidden_size': 128, 'epochs': 28}. Best is trial 32 with value: 4.182264155574259.\n"
          ]
        },
        {
          "name": "stdout",
          "output_type": "stream",
          "text": [
            "Trial 57: MAE: 6.439496306947905, RMSE: 22.419163732525316\n"
          ]
        },
        {
          "name": "stderr",
          "output_type": "stream",
          "text": [
            "[I 2024-10-20 02:30:26,181] Trial 20 finished with value: 155.6336697351133 and parameters: {'learning_rate': 2.017743686144841e-06, 'hidden_size': 64, 'epochs': 46}. Best is trial 32 with value: 4.182264155574259.\n"
          ]
        },
        {
          "name": "stdout",
          "output_type": "stream",
          "text": [
            "Trial 20: MAE: 155.6336697351133, RMSE: 5182.086010471156\n"
          ]
        },
        {
          "name": "stderr",
          "output_type": "stream",
          "text": [
            "[I 2024-10-20 02:30:32,113] Trial 90 finished with value: 12.003381983457816 and parameters: {'learning_rate': 3.753036095912804e-06, 'hidden_size': 64, 'epochs': 37}. Best is trial 32 with value: 4.182264155574259.\n"
          ]
        },
        {
          "name": "stdout",
          "output_type": "stream",
          "text": [
            "Trial 90: MAE: 12.003381983457816, RMSE: 132.62128242877685\n"
          ]
        },
        {
          "name": "stderr",
          "output_type": "stream",
          "text": [
            "[I 2024-10-20 02:30:40,031] Trial 12 finished with value: 74.7770599868353 and parameters: {'learning_rate': 4.068466158763065e-06, 'hidden_size': 64, 'epochs': 47}. Best is trial 32 with value: 4.182264155574259.\n"
          ]
        },
        {
          "name": "stdout",
          "output_type": "stream",
          "text": [
            "Trial 12: MAE: 74.7770599868353, RMSE: 1531.841722392104\n"
          ]
        },
        {
          "name": "stderr",
          "output_type": "stream",
          "text": [
            "[I 2024-10-20 02:30:47,550] Trial 41 finished with value: 17.71536184469427 and parameters: {'learning_rate': 1.0042431421215298e-06, 'hidden_size': 128, 'epochs': 30}. Best is trial 32 with value: 4.182264155574259.\n"
          ]
        },
        {
          "name": "stdout",
          "output_type": "stream",
          "text": [
            "Trial 41: MAE: 17.71536184469427, RMSE: 324.36788629775657\n"
          ]
        },
        {
          "name": "stderr",
          "output_type": "stream",
          "text": [
            "[I 2024-10-20 02:30:51,880] Trial 5 finished with value: 213.24390242606626 and parameters: {'learning_rate': 1.9336382798350598e-06, 'hidden_size': 64, 'epochs': 49}. Best is trial 32 with value: 4.182264155574259.\n"
          ]
        },
        {
          "name": "stdout",
          "output_type": "stream",
          "text": [
            "Trial 5: MAE: 213.24390242606626, RMSE: 11575.007103945498\n"
          ]
        },
        {
          "name": "stderr",
          "output_type": "stream",
          "text": [
            "[I 2024-10-20 02:30:56,984] Trial 95 finished with value: 5.3799855984581155 and parameters: {'learning_rate': 7.825673237455199e-05, 'hidden_size': 64, 'epochs': 35}. Best is trial 32 with value: 4.182264155574259.\n"
          ]
        },
        {
          "name": "stdout",
          "output_type": "stream",
          "text": [
            "Trial 95: MAE: 5.3799855984581155, RMSE: 25.772159039909937\n"
          ]
        },
        {
          "name": "stderr",
          "output_type": "stream",
          "text": [
            "[I 2024-10-20 02:31:08,399] Trial 45 finished with value: 119.5447102822626 and parameters: {'learning_rate': 3.1209493353753215e-05, 'hidden_size': 64, 'epochs': 48}. Best is trial 32 with value: 4.182264155574259.\n"
          ]
        },
        {
          "name": "stdout",
          "output_type": "stream",
          "text": [
            "Trial 45: MAE: 119.5447102822626, RMSE: 3242.0417234295564\n"
          ]
        },
        {
          "name": "stderr",
          "output_type": "stream",
          "text": [
            "[I 2024-10-20 02:31:16,388] Trial 80 finished with value: 13.623334583732591 and parameters: {'learning_rate': 3.327782666388308e-05, 'hidden_size': 128, 'epochs': 30}. Best is trial 32 with value: 4.182264155574259.\n"
          ]
        },
        {
          "name": "stdout",
          "output_type": "stream",
          "text": [
            "Trial 80: MAE: 13.623334583732591, RMSE: 42.33564128282605\n"
          ]
        },
        {
          "name": "stderr",
          "output_type": "stream",
          "text": [
            "[I 2024-10-20 02:31:23,113] Trial 55 finished with value: 8.711111916882977 and parameters: {'learning_rate': 1.2428353585043405e-06, 'hidden_size': 128, 'epochs': 30}. Best is trial 32 with value: 4.182264155574259.\n"
          ]
        },
        {
          "name": "stdout",
          "output_type": "stream",
          "text": [
            "Trial 55: MAE: 8.711111916882977, RMSE: 29.053396923952082\n"
          ]
        },
        {
          "name": "stderr",
          "output_type": "stream",
          "text": [
            "[I 2024-10-20 02:31:48,029] Trial 79 finished with value: 377.75145586075985 and parameters: {'learning_rate': 5.019142350529235e-06, 'hidden_size': 128, 'epochs': 31}. Best is trial 32 with value: 4.182264155574259.\n"
          ]
        },
        {
          "name": "stdout",
          "output_type": "stream",
          "text": [
            "Trial 79: MAE: 377.75145586075985, RMSE: 32878.28708109567\n"
          ]
        },
        {
          "name": "stderr",
          "output_type": "stream",
          "text": [
            "[I 2024-10-20 02:31:53,389] Trial 35 finished with value: 70552.4953729133 and parameters: {'learning_rate': 1.0380130301134837e-06, 'hidden_size': 64, 'epochs': 50}. Best is trial 32 with value: 4.182264155574259.\n"
          ]
        },
        {
          "name": "stdout",
          "output_type": "stream",
          "text": [
            "Trial 35: MAE: 70552.4953729133, RMSE: 3350652.232708964\n"
          ]
        },
        {
          "name": "stderr",
          "output_type": "stream",
          "text": [
            "[I 2024-10-20 02:31:58,513] Trial 91 finished with value: 930258.5404839594 and parameters: {'learning_rate': 1.1907592224929312e-06, 'hidden_size': 64, 'epochs': 40}. Best is trial 32 with value: 4.182264155574259.\n"
          ]
        },
        {
          "name": "stdout",
          "output_type": "stream",
          "text": [
            "Trial 91: MAE: 930258.5404839594, RMSE: 64697972.082274\n"
          ]
        },
        {
          "name": "stderr",
          "output_type": "stream",
          "text": [
            "[I 2024-10-20 02:32:03,489] Trial 135 finished with value: 13.432963398257717 and parameters: {'learning_rate': 7.424198271062715e-06, 'hidden_size': 64, 'epochs': 12}. Best is trial 32 with value: 4.182264155574259.\n"
          ]
        },
        {
          "name": "stdout",
          "output_type": "stream",
          "text": [
            "Trial 135: MAE: 13.432963398257717, RMSE: 36.939935521710495\n"
          ]
        },
        {
          "name": "stderr",
          "output_type": "stream",
          "text": [
            "[I 2024-10-20 02:32:16,483] Trial 19 finished with value: 12.740345431995497 and parameters: {'learning_rate': 4.424272010944702e-06, 'hidden_size': 128, 'epochs': 32}. Best is trial 32 with value: 4.182264155574259.\n"
          ]
        },
        {
          "name": "stdout",
          "output_type": "stream",
          "text": [
            "Trial 19: MAE: 12.740345431995497, RMSE: 154.14463765198437\n"
          ]
        },
        {
          "name": "stderr",
          "output_type": "stream",
          "text": [
            "[I 2024-10-20 02:32:18,724] Trial 36 finished with value: 5193.991820438917 and parameters: {'learning_rate': 6.447778206681692e-05, 'hidden_size': 64, 'epochs': 50}. Best is trial 32 with value: 4.182264155574259.\n"
          ]
        },
        {
          "name": "stdout",
          "output_type": "stream",
          "text": [
            "Trial 36: MAE: 5193.991820438917, RMSE: 31525.929030773605\n"
          ]
        },
        {
          "name": "stderr",
          "output_type": "stream",
          "text": [
            "[I 2024-10-20 02:32:21,875] Trial 89 finished with value: 7.198673679856594 and parameters: {'learning_rate': 1.6376842852100705e-05, 'hidden_size': 128, 'epochs': 31}. Best is trial 32 with value: 4.182264155574259.\n"
          ]
        },
        {
          "name": "stdout",
          "output_type": "stream",
          "text": [
            "Trial 89: MAE: 7.198673679856594, RMSE: 63.19737790747227\n"
          ]
        },
        {
          "name": "stderr",
          "output_type": "stream",
          "text": [
            "[I 2024-10-20 02:32:26,474] Trial 3 finished with value: 2559.0564496862735 and parameters: {'learning_rate': 1.1228511078895564e-06, 'hidden_size': 128, 'epochs': 32}. Best is trial 32 with value: 4.182264155574259.\n"
          ]
        },
        {
          "name": "stdout",
          "output_type": "stream",
          "text": [
            "Trial 3: MAE: 2559.0564496862735, RMSE: 227423.90256001116\n"
          ]
        },
        {
          "name": "stderr",
          "output_type": "stream",
          "text": [
            "[I 2024-10-20 02:32:46,778] Trial 137 finished with value: 4.220487399482505 and parameters: {'learning_rate': 3.079081397061347e-05, 'hidden_size': 64, 'epochs': 12}. Best is trial 32 with value: 4.182264155574259.\n"
          ]
        },
        {
          "name": "stdout",
          "output_type": "stream",
          "text": [
            "Trial 137: MAE: 4.220487399482505, RMSE: 9.743232750170575\n"
          ]
        },
        {
          "name": "stderr",
          "output_type": "stream",
          "text": [
            "[I 2024-10-20 02:33:01,378] Trial 14 finished with value: 5.736492326231211 and parameters: {'learning_rate': 3.477644504229743e-05, 'hidden_size': 128, 'epochs': 33}. Best is trial 32 with value: 4.182264155574259.\n"
          ]
        },
        {
          "name": "stdout",
          "output_type": "stream",
          "text": [
            "Trial 14: MAE: 5.736492326231211, RMSE: 16.951770411004397\n"
          ]
        },
        {
          "name": "stderr",
          "output_type": "stream",
          "text": [
            "[I 2024-10-20 02:33:09,142] Trial 39 finished with value: 5.355670213098118 and parameters: {'learning_rate': 7.030706200913723e-06, 'hidden_size': 128, 'epochs': 34}. Best is trial 32 with value: 4.182264155574259.\n"
          ]
        },
        {
          "name": "stdout",
          "output_type": "stream",
          "text": [
            "Trial 39: MAE: 5.355670213098118, RMSE: 12.360397238858152\n"
          ]
        },
        {
          "name": "stderr",
          "output_type": "stream",
          "text": [
            "[I 2024-10-20 02:33:17,738] Trial 140 finished with value: 4.962816732843131 and parameters: {'learning_rate': 7.306433462897728e-06, 'hidden_size': 64, 'epochs': 12}. Best is trial 32 with value: 4.182264155574259.\n"
          ]
        },
        {
          "name": "stdout",
          "output_type": "stream",
          "text": [
            "Trial 140: MAE: 4.962816732843131, RMSE: 10.117705064442996\n"
          ]
        },
        {
          "name": "stderr",
          "output_type": "stream",
          "text": [
            "[I 2024-10-20 02:33:22,825] Trial 139 finished with value: 7.153466159167234 and parameters: {'learning_rate': 7.384510953445709e-06, 'hidden_size': 64, 'epochs': 12}. Best is trial 32 with value: 4.182264155574259.\n"
          ]
        },
        {
          "name": "stdout",
          "output_type": "stream",
          "text": [
            "Trial 139: MAE: 7.153466159167234, RMSE: 22.230415672028073\n"
          ]
        },
        {
          "name": "stderr",
          "output_type": "stream",
          "text": [
            "[I 2024-10-20 02:33:32,277] Trial 101 finished with value: 4.820533161079245 and parameters: {'learning_rate': 1.784361486910453e-05, 'hidden_size': 128, 'epochs': 23}. Best is trial 32 with value: 4.182264155574259.\n"
          ]
        },
        {
          "name": "stdout",
          "output_type": "stream",
          "text": [
            "Trial 101: MAE: 4.820533161079245, RMSE: 10.216398031074434\n"
          ]
        },
        {
          "name": "stderr",
          "output_type": "stream",
          "text": [
            "[I 2024-10-20 02:34:15,519] Trial 142 finished with value: 9.474801076713687 and parameters: {'learning_rate': 2.9663092408233376e-06, 'hidden_size': 64, 'epochs': 12}. Best is trial 32 with value: 4.182264155574259.\n"
          ]
        },
        {
          "name": "stdout",
          "output_type": "stream",
          "text": [
            "Trial 142: MAE: 9.474801076713687, RMSE: 24.087352760249942\n"
          ]
        },
        {
          "name": "stderr",
          "output_type": "stream",
          "text": [
            "[I 2024-10-20 02:34:19,879] Trial 96 finished with value: 1299.2982789583925 and parameters: {'learning_rate': 6.525991682251451e-06, 'hidden_size': 64, 'epochs': 42}. Best is trial 32 with value: 4.182264155574259.\n"
          ]
        },
        {
          "name": "stdout",
          "output_type": "stream",
          "text": [
            "Trial 96: MAE: 1299.2982789583925, RMSE: 116001.33671831492\n"
          ]
        },
        {
          "name": "stderr",
          "output_type": "stream",
          "text": [
            "[I 2024-10-20 02:34:22,933] Trial 124 finished with value: 60.699189786137524 and parameters: {'learning_rate': 3.159251466102243e-05, 'hidden_size': 64, 'epochs': 32}. Best is trial 32 with value: 4.182264155574259.\n"
          ]
        },
        {
          "name": "stdout",
          "output_type": "stream",
          "text": [
            "Trial 124: MAE: 60.699189786137524, RMSE: 716.364428298926\n"
          ]
        },
        {
          "name": "stderr",
          "output_type": "stream",
          "text": [
            "[I 2024-10-20 02:34:38,770] Trial 144 finished with value: 4.276876574465369 and parameters: {'learning_rate': 3.300822510473103e-06, 'hidden_size': 64, 'epochs': 12}. Best is trial 32 with value: 4.182264155574259.\n"
          ]
        },
        {
          "name": "stdout",
          "output_type": "stream",
          "text": [
            "Trial 144: MAE: 4.276876574465369, RMSE: 9.775037388813207\n"
          ]
        },
        {
          "name": "stderr",
          "output_type": "stream",
          "text": [
            "[I 2024-10-20 02:34:44,938] Trial 102 finished with value: 4.434288569381525 and parameters: {'learning_rate': 9.589509206175846e-05, 'hidden_size': 128, 'epochs': 24}. Best is trial 32 with value: 4.182264155574259.\n"
          ]
        },
        {
          "name": "stdout",
          "output_type": "stream",
          "text": [
            "Trial 102: MAE: 4.434288569381525, RMSE: 10.07057331891784\n"
          ]
        },
        {
          "name": "stderr",
          "output_type": "stream",
          "text": [
            "[I 2024-10-20 02:34:51,009] Trial 146 finished with value: 4.853473986379224 and parameters: {'learning_rate': 7.770373816451521e-06, 'hidden_size': 64, 'epochs': 12}. Best is trial 32 with value: 4.182264155574259.\n"
          ]
        },
        {
          "name": "stdout",
          "output_type": "stream",
          "text": [
            "Trial 146: MAE: 4.853473986379224, RMSE: 10.25933319331404\n"
          ]
        },
        {
          "name": "stderr",
          "output_type": "stream",
          "text": [
            "[I 2024-10-20 02:34:59,566] Trial 152 finished with value: 25.784455056205065 and parameters: {'learning_rate': 3.0850598766415292e-06, 'hidden_size': 64, 'epochs': 11}. Best is trial 32 with value: 4.182264155574259.\n"
          ]
        },
        {
          "name": "stdout",
          "output_type": "stream",
          "text": [
            "Trial 152: MAE: 25.784455056205065, RMSE: 57.279889590252445\n"
          ]
        },
        {
          "name": "stderr",
          "output_type": "stream",
          "text": [
            "[I 2024-10-20 02:35:02,125] Trial 99 finished with value: 13.385750895997917 and parameters: {'learning_rate': 1.0441951217658314e-06, 'hidden_size': 128, 'epochs': 25}. Best is trial 32 with value: 4.182264155574259.\n"
          ]
        },
        {
          "name": "stdout",
          "output_type": "stream",
          "text": [
            "Trial 99: MAE: 13.385750895997917, RMSE: 168.00295375290273\n"
          ]
        },
        {
          "name": "stderr",
          "output_type": "stream",
          "text": [
            "[I 2024-10-20 02:35:10,377] Trial 147 finished with value: 58.63059552225907 and parameters: {'learning_rate': 7.4101624232619885e-06, 'hidden_size': 64, 'epochs': 12}. Best is trial 32 with value: 4.182264155574259.\n"
          ]
        },
        {
          "name": "stdout",
          "output_type": "stream",
          "text": [
            "Trial 147: MAE: 58.63059552225907, RMSE: 133.66043740209165\n"
          ]
        },
        {
          "name": "stderr",
          "output_type": "stream",
          "text": [
            "[I 2024-10-20 02:35:11,812] Trial 100 finished with value: 10.822159152185026 and parameters: {'learning_rate': 1.3203945660655282e-06, 'hidden_size': 128, 'epochs': 25}. Best is trial 32 with value: 4.182264155574259.\n"
          ]
        },
        {
          "name": "stdout",
          "output_type": "stream",
          "text": [
            "Trial 100: MAE: 10.822159152185026, RMSE: 32.548561315378244\n"
          ]
        },
        {
          "name": "stderr",
          "output_type": "stream",
          "text": [
            "[I 2024-10-20 02:35:12,240] Trial 6 finished with value: 6.67401372779973 and parameters: {'learning_rate': 9.563951793373449e-05, 'hidden_size': 128, 'epochs': 35}. Best is trial 32 with value: 4.182264155574259.\n",
            "[I 2024-10-20 02:35:12,370] Trial 151 finished with value: 4.841964929526264 and parameters: {'learning_rate': 2.9793026934871726e-06, 'hidden_size': 64, 'epochs': 12}. Best is trial 32 with value: 4.182264155574259.\n"
          ]
        },
        {
          "name": "stdout",
          "output_type": "stream",
          "text": [
            "Trial 6: MAE: 6.67401372779973, RMSE: 17.9548197407879\n",
            "Trial 151: MAE: 4.841964929526264, RMSE: 11.550782715544678\n"
          ]
        },
        {
          "name": "stderr",
          "output_type": "stream",
          "text": [
            "[I 2024-10-20 02:35:12,912] Trial 8 finished with value: 5.527236016588389 and parameters: {'learning_rate': 1.153894919183666e-06, 'hidden_size': 128, 'epochs': 36}. Best is trial 32 with value: 4.182264155574259.\n"
          ]
        },
        {
          "name": "stdout",
          "output_type": "stream",
          "text": [
            "Trial 8: MAE: 5.527236016588389, RMSE: 12.24036204304667\n"
          ]
        },
        {
          "name": "stderr",
          "output_type": "stream",
          "text": [
            "[I 2024-10-20 02:35:13,539] Trial 149 finished with value: 4.850819025611469 and parameters: {'learning_rate': 3.051667697814707e-06, 'hidden_size': 64, 'epochs': 12}. Best is trial 32 with value: 4.182264155574259.\n"
          ]
        },
        {
          "name": "stdout",
          "output_type": "stream",
          "text": [
            "Trial 149: MAE: 4.850819025611469, RMSE: 10.055403385437016\n"
          ]
        },
        {
          "name": "stderr",
          "output_type": "stream",
          "text": [
            "[I 2024-10-20 02:35:13,778] Trial 148 finished with value: 14.124826981661224 and parameters: {'learning_rate': 3.0013794259318603e-06, 'hidden_size': 64, 'epochs': 12}. Best is trial 32 with value: 4.182264155574259.\n"
          ]
        },
        {
          "name": "stdout",
          "output_type": "stream",
          "text": [
            "Trial 148: MAE: 14.124826981661224, RMSE: 28.31440375662883\n"
          ]
        },
        {
          "name": "stderr",
          "output_type": "stream",
          "text": [
            "[I 2024-10-20 02:35:24,064] Trial 153 finished with value: 15.745884603718537 and parameters: {'learning_rate': 2.919786202905915e-06, 'hidden_size': 64, 'epochs': 12}. Best is trial 32 with value: 4.182264155574259.\n"
          ]
        },
        {
          "name": "stdout",
          "output_type": "stream",
          "text": [
            "Trial 153: MAE: 15.745884603718537, RMSE: 36.29229039982464\n"
          ]
        },
        {
          "name": "stderr",
          "output_type": "stream",
          "text": [
            "[I 2024-10-20 02:35:28,221] Trial 73 finished with value: 1188.4730460603237 and parameters: {'learning_rate': 5.2173800382135065e-06, 'hidden_size': 128, 'epochs': 36}. Best is trial 32 with value: 4.182264155574259.\n"
          ]
        },
        {
          "name": "stdout",
          "output_type": "stream",
          "text": [
            "Trial 73: MAE: 1188.4730460603237, RMSE: 81221.65798561338\n"
          ]
        },
        {
          "name": "stderr",
          "output_type": "stream",
          "text": [
            "[I 2024-10-20 02:35:32,944] Trial 160 finished with value: 5.735697636419278 and parameters: {'learning_rate': 1.5597532881014682e-06, 'hidden_size': 64, 'epochs': 12}. Best is trial 32 with value: 4.182264155574259.\n"
          ]
        },
        {
          "name": "stdout",
          "output_type": "stream",
          "text": [
            "Trial 160: MAE: 5.735697636419278, RMSE: 15.020889482025535\n"
          ]
        },
        {
          "name": "stderr",
          "output_type": "stream",
          "text": [
            "[I 2024-10-20 02:35:45,556] Trial 154 finished with value: 7.553916341801525 and parameters: {'learning_rate': 2.89884129974752e-06, 'hidden_size': 64, 'epochs': 12}. Best is trial 32 with value: 4.182264155574259.\n"
          ]
        },
        {
          "name": "stdout",
          "output_type": "stream",
          "text": [
            "Trial 154: MAE: 7.553916341801525, RMSE: 13.49737523607743\n"
          ]
        },
        {
          "name": "stderr",
          "output_type": "stream",
          "text": [
            "[I 2024-10-20 02:35:56,171] Trial 155 finished with value: 6.648166106342582 and parameters: {'learning_rate': 2.7619228514978874e-06, 'hidden_size': 64, 'epochs': 12}. Best is trial 32 with value: 4.182264155574259.\n"
          ]
        },
        {
          "name": "stdout",
          "output_type": "stream",
          "text": [
            "Trial 155: MAE: 6.648166106342582, RMSE: 13.10361041189694\n"
          ]
        },
        {
          "name": "stderr",
          "output_type": "stream",
          "text": [
            "[I 2024-10-20 02:35:57,162] Trial 158 finished with value: 6.667241081582338 and parameters: {'learning_rate': 3.031285703112198e-06, 'hidden_size': 64, 'epochs': 12}. Best is trial 32 with value: 4.182264155574259.\n"
          ]
        },
        {
          "name": "stdout",
          "output_type": "stream",
          "text": [
            "Trial 158: MAE: 6.667241081582338, RMSE: 25.318028011785884\n"
          ]
        },
        {
          "name": "stderr",
          "output_type": "stream",
          "text": [
            "[I 2024-10-20 02:36:00,284] Trial 156 finished with value: 5.814555564003003 and parameters: {'learning_rate': 2.8588474107055673e-06, 'hidden_size': 64, 'epochs': 12}. Best is trial 32 with value: 4.182264155574259.\n"
          ]
        },
        {
          "name": "stdout",
          "output_type": "stream",
          "text": [
            "Trial 156: MAE: 5.814555564003003, RMSE: 13.453041383885015\n"
          ]
        },
        {
          "name": "stderr",
          "output_type": "stream",
          "text": [
            "[I 2024-10-20 02:36:00,624] Trial 157 finished with value: 4.787608994775343 and parameters: {'learning_rate': 3.1206453696088235e-06, 'hidden_size': 64, 'epochs': 12}. Best is trial 32 with value: 4.182264155574259.\n"
          ]
        },
        {
          "name": "stdout",
          "output_type": "stream",
          "text": [
            "Trial 157: MAE: 4.787608994775343, RMSE: 11.170660832405954\n"
          ]
        },
        {
          "name": "stderr",
          "output_type": "stream",
          "text": [
            "[I 2024-10-20 02:36:23,125] Trial 159 finished with value: 8.32412868570543 and parameters: {'learning_rate': 3.0962285243980477e-06, 'hidden_size': 64, 'epochs': 12}. Best is trial 32 with value: 4.182264155574259.\n"
          ]
        },
        {
          "name": "stdout",
          "output_type": "stream",
          "text": [
            "Trial 159: MAE: 8.32412868570543, RMSE: 17.264704323305537\n"
          ]
        },
        {
          "name": "stderr",
          "output_type": "stream",
          "text": [
            "[I 2024-10-20 02:36:24,349] Trial 120 finished with value: 25127785344.4783 and parameters: {'learning_rate': 7.1605317030069895e-06, 'hidden_size': 64, 'epochs': 38}. Best is trial 32 with value: 4.182264155574259.\n"
          ]
        },
        {
          "name": "stdout",
          "output_type": "stream",
          "text": [
            "Trial 120: MAE: 25127785344.4783, RMSE: 2813765746559.053\n"
          ]
        },
        {
          "name": "stderr",
          "output_type": "stream",
          "text": [
            "[I 2024-10-20 02:36:26,611] Trial 164 finished with value: 4.372238940194511 and parameters: {'learning_rate': 1.663175428460206e-06, 'hidden_size': 64, 'epochs': 12}. Best is trial 32 with value: 4.182264155574259.\n"
          ]
        },
        {
          "name": "stdout",
          "output_type": "stream",
          "text": [
            "Trial 164: MAE: 4.372238940194511, RMSE: 9.890902183206867\n"
          ]
        },
        {
          "name": "stderr",
          "output_type": "stream",
          "text": [
            "[I 2024-10-20 02:36:44,935] Trial 162 finished with value: 4.611714278976133 and parameters: {'learning_rate': 3.1504819147133754e-06, 'hidden_size': 64, 'epochs': 12}. Best is trial 32 with value: 4.182264155574259.\n"
          ]
        },
        {
          "name": "stdout",
          "output_type": "stream",
          "text": [
            "Trial 162: MAE: 4.611714278976133, RMSE: 11.580697574128324\n"
          ]
        },
        {
          "name": "stderr",
          "output_type": "stream",
          "text": [
            "[I 2024-10-20 02:36:52,118] Trial 161 finished with value: 23.753055552025764 and parameters: {'learning_rate': 1.6289589374448314e-06, 'hidden_size': 64, 'epochs': 12}. Best is trial 32 with value: 4.182264155574259.\n"
          ]
        },
        {
          "name": "stdout",
          "output_type": "stream",
          "text": [
            "Trial 161: MAE: 23.753055552025764, RMSE: 72.69135862182826\n"
          ]
        },
        {
          "name": "stderr",
          "output_type": "stream",
          "text": [
            "[I 2024-10-20 02:36:56,686] Trial 163 finished with value: 8.357821735935035 and parameters: {'learning_rate': 3.0360967331971015e-06, 'hidden_size': 64, 'epochs': 12}. Best is trial 32 with value: 4.182264155574259.\n"
          ]
        },
        {
          "name": "stdout",
          "output_type": "stream",
          "text": [
            "Trial 163: MAE: 8.357821735935035, RMSE: 23.187884150590342\n"
          ]
        },
        {
          "name": "stderr",
          "output_type": "stream",
          "text": [
            "[I 2024-10-20 02:37:11,288] Trial 38 finished with value: 46773.821054174135 and parameters: {'learning_rate': 2.205888553707589e-06, 'hidden_size': 128, 'epochs': 38}. Best is trial 32 with value: 4.182264155574259.\n"
          ]
        },
        {
          "name": "stdout",
          "output_type": "stream",
          "text": [
            "Trial 38: MAE: 46773.821054174135, RMSE: 5656493.907084863\n"
          ]
        },
        {
          "name": "stderr",
          "output_type": "stream",
          "text": [
            "[I 2024-10-20 02:37:12,292] Trial 166 finished with value: 4.112452038635262 and parameters: {'learning_rate': 2.624365189916098e-06, 'hidden_size': 64, 'epochs': 12}. Best is trial 166 with value: 4.112452038635262.\n"
          ]
        },
        {
          "name": "stdout",
          "output_type": "stream",
          "text": [
            "Trial 166: MAE: 4.112452038635262, RMSE: 9.805515930008834\n"
          ]
        },
        {
          "name": "stderr",
          "output_type": "stream",
          "text": [
            "[I 2024-10-20 02:37:13,324] Trial 165 finished with value: 4.662824571757819 and parameters: {'learning_rate': 3.061651428915654e-06, 'hidden_size': 64, 'epochs': 12}. Best is trial 166 with value: 4.112452038635262.\n"
          ]
        },
        {
          "name": "stdout",
          "output_type": "stream",
          "text": [
            "Trial 165: MAE: 4.662824571757819, RMSE: 10.003286202360188\n"
          ]
        },
        {
          "name": "stderr",
          "output_type": "stream",
          "text": [
            "[I 2024-10-20 02:37:19,514] Trial 86 finished with value: 16.54576828805576 and parameters: {'learning_rate': 3.13635077964602e-05, 'hidden_size': 128, 'epochs': 40}. Best is trial 166 with value: 4.112452038635262.\n"
          ]
        },
        {
          "name": "stdout",
          "output_type": "stream",
          "text": [
            "Trial 86: MAE: 16.54576828805576, RMSE: 78.17698507425347\n",
            "Trial 2: MAE: 6.853661755913263, RMSE: 98.19196811402841\n"
          ]
        },
        {
          "name": "stderr",
          "output_type": "stream",
          "text": [
            "[I 2024-10-20 02:37:31,074] Trial 2 finished with value: 6.853661755913263 and parameters: {'learning_rate': 1.1632546810690761e-06, 'hidden_size': 128, 'epochs': 40}. Best is trial 166 with value: 4.112452038635262.\n",
            "[I 2024-10-20 02:37:31,102] Trial 168 finished with value: 70.30495964467649 and parameters: {'learning_rate': 3.14415758990286e-06, 'hidden_size': 64, 'epochs': 12}. Best is trial 166 with value: 4.112452038635262.\n"
          ]
        },
        {
          "name": "stdout",
          "output_type": "stream",
          "text": [
            "Trial 167: MAE: 4.647867558481545, RMSE: 9.955983618155951\n",
            "Trial 168: MAE: 70.30495964467649, RMSE: 163.00282016140295\n"
          ]
        },
        {
          "name": "stderr",
          "output_type": "stream",
          "text": [
            "[I 2024-10-20 02:37:31,373] Trial 167 finished with value: 4.647867558481545 and parameters: {'learning_rate': 3.0855517346304303e-06, 'hidden_size': 64, 'epochs': 12}. Best is trial 166 with value: 4.112452038635262.\n",
            "[I 2024-10-20 02:37:38,416] Trial 169 finished with value: 12.5847154510199 and parameters: {'learning_rate': 2.9783482174638884e-06, 'hidden_size': 64, 'epochs': 12}. Best is trial 166 with value: 4.112452038635262.\n"
          ]
        },
        {
          "name": "stdout",
          "output_type": "stream",
          "text": [
            "Trial 169: MAE: 12.5847154510199, RMSE: 27.00186346009172\n"
          ]
        },
        {
          "name": "stderr",
          "output_type": "stream",
          "text": [
            "[I 2024-10-20 02:37:41,035] Trial 29 finished with value: 2738.2813354181258 and parameters: {'learning_rate': 7.118431766372386e-05, 'hidden_size': 128, 'epochs': 40}. Best is trial 166 with value: 4.112452038635262.\n"
          ]
        },
        {
          "name": "stdout",
          "output_type": "stream",
          "text": [
            "Trial 29: MAE: 2738.2813354181258, RMSE: 25852.446166905484\n"
          ]
        },
        {
          "name": "stderr",
          "output_type": "stream",
          "text": [
            "[I 2024-10-20 02:37:42,446] Trial 11 finished with value: 223.23182644753373 and parameters: {'learning_rate': 2.254584320692079e-06, 'hidden_size': 128, 'epochs': 40}. Best is trial 166 with value: 4.112452038635262.\n"
          ]
        },
        {
          "name": "stdout",
          "output_type": "stream",
          "text": [
            "Trial 11: MAE: 223.23182644753373, RMSE: 6380.143191872848\n"
          ]
        },
        {
          "name": "stderr",
          "output_type": "stream",
          "text": [
            "[I 2024-10-20 02:37:42,713] Trial 103 finished with value: 5.250301506672707 and parameters: {'learning_rate': 2.4399426097645857e-05, 'hidden_size': 128, 'epochs': 27}. Best is trial 166 with value: 4.112452038635262.\n"
          ]
        },
        {
          "name": "stdout",
          "output_type": "stream",
          "text": [
            "Trial 103: MAE: 5.250301506672707, RMSE: 13.189863683121942\n"
          ]
        },
        {
          "name": "stderr",
          "output_type": "stream",
          "text": [
            "[I 2024-10-20 02:37:53,542] Trial 116 finished with value: 11507.087652495977 and parameters: {'learning_rate': 2.862444998011633e-06, 'hidden_size': 64, 'epochs': 37}. Best is trial 166 with value: 4.112452038635262.\n"
          ]
        },
        {
          "name": "stdout",
          "output_type": "stream",
          "text": [
            "Trial 116: MAE: 11507.087652495977, RMSE: 167365.01526544776\n"
          ]
        },
        {
          "name": "stderr",
          "output_type": "stream",
          "text": [
            "[I 2024-10-20 02:38:07,769] Trial 170 finished with value: 4.478918065849339 and parameters: {'learning_rate': 1.5120903232825118e-06, 'hidden_size': 64, 'epochs': 12}. Best is trial 166 with value: 4.112452038635262.\n"
          ]
        },
        {
          "name": "stdout",
          "output_type": "stream",
          "text": [
            "Trial 170: MAE: 4.478918065849339, RMSE: 9.94691642030087\n"
          ]
        },
        {
          "name": "stderr",
          "output_type": "stream",
          "text": [
            "[I 2024-10-20 02:38:08,863] Trial 177 finished with value: 5.648259942992544 and parameters: {'learning_rate': 1.5739255264110906e-06, 'hidden_size': 64, 'epochs': 11}. Best is trial 166 with value: 4.112452038635262.\n"
          ]
        },
        {
          "name": "stdout",
          "output_type": "stream",
          "text": [
            "Trial 177: MAE: 5.648259942992544, RMSE: 15.459241565206536\n"
          ]
        },
        {
          "name": "stderr",
          "output_type": "stream",
          "text": [
            "[I 2024-10-20 02:38:12,065] Trial 171 finished with value: 4.955064301308731 and parameters: {'learning_rate': 3.1142189307015635e-06, 'hidden_size': 64, 'epochs': 12}. Best is trial 166 with value: 4.112452038635262.\n"
          ]
        },
        {
          "name": "stdout",
          "output_type": "stream",
          "text": [
            "Trial 171: MAE: 4.955064301308731, RMSE: 10.098042696321341\n"
          ]
        },
        {
          "name": "stderr",
          "output_type": "stream",
          "text": [
            "[I 2024-10-20 02:38:37,921] Trial 114 finished with value: 121.7606929332843 and parameters: {'learning_rate': 2.826160711396959e-06, 'hidden_size': 64, 'epochs': 40}. Best is trial 166 with value: 4.112452038635262.\n"
          ]
        },
        {
          "name": "stdout",
          "output_type": "stream",
          "text": [
            "Trial 114: MAE: 121.7606929332843, RMSE: 3242.604650117487\n"
          ]
        },
        {
          "name": "stderr",
          "output_type": "stream",
          "text": [
            "[I 2024-10-20 02:38:46,685] Trial 58 finished with value: 22.39161203168845 and parameters: {'learning_rate': 2.0061680811804918e-05, 'hidden_size': 128, 'epochs': 42}. Best is trial 166 with value: 4.112452038635262.\n"
          ]
        },
        {
          "name": "stdout",
          "output_type": "stream",
          "text": [
            "Trial 58: MAE: 22.39161203168845, RMSE: 183.15250956996886\n"
          ]
        },
        {
          "name": "stderr",
          "output_type": "stream",
          "text": [
            "[I 2024-10-20 02:38:58,129] Trial 178 finished with value: 6.474606871306316 and parameters: {'learning_rate': 3.1634712819645907e-06, 'hidden_size': 64, 'epochs': 11}. Best is trial 166 with value: 4.112452038635262.\n"
          ]
        },
        {
          "name": "stdout",
          "output_type": "stream",
          "text": [
            "Trial 178: MAE: 6.474606871306316, RMSE: 15.133111294146465\n"
          ]
        },
        {
          "name": "stderr",
          "output_type": "stream",
          "text": [
            "[I 2024-10-20 02:39:10,502] Trial 181 finished with value: 7.011584159295505 and parameters: {'learning_rate': 9.851814850322325e-05, 'hidden_size': 64, 'epochs': 11}. Best is trial 166 with value: 4.112452038635262.\n"
          ]
        },
        {
          "name": "stdout",
          "output_type": "stream",
          "text": [
            "Trial 181: MAE: 7.011584159295505, RMSE: 46.070184004273834\n"
          ]
        },
        {
          "name": "stderr",
          "output_type": "stream",
          "text": [
            "[I 2024-10-20 02:39:10,793] Trial 180 finished with value: 4.6805963010701 and parameters: {'learning_rate': 9.826506929349914e-05, 'hidden_size': 64, 'epochs': 11}. Best is trial 166 with value: 4.112452038635262.\n"
          ]
        },
        {
          "name": "stdout",
          "output_type": "stream",
          "text": [
            "Trial 180: MAE: 4.6805963010701, RMSE: 9.996315723294023\n"
          ]
        },
        {
          "name": "stderr",
          "output_type": "stream",
          "text": [
            "[I 2024-10-20 02:39:11,877] Trial 179 finished with value: 4.037038643174347 and parameters: {'learning_rate': 9.425682782351999e-05, 'hidden_size': 64, 'epochs': 11}. Best is trial 179 with value: 4.037038643174347.\n"
          ]
        },
        {
          "name": "stdout",
          "output_type": "stream",
          "text": [
            "Trial 179: MAE: 4.037038643174347, RMSE: 9.601998733156993\n",
            "Trial 172: MAE: 4.935923260070094, RMSE: 10.71342001329597\n"
          ]
        },
        {
          "name": "stderr",
          "output_type": "stream",
          "text": [
            "[I 2024-10-20 02:39:16,199] Trial 172 finished with value: 4.935923260070094 and parameters: {'learning_rate': 1.4892263713580753e-06, 'hidden_size': 64, 'epochs': 16}. Best is trial 179 with value: 4.037038643174347.\n",
            "[I 2024-10-20 02:39:23,220] Trial 173 finished with value: 5.604588841971975 and parameters: {'learning_rate': 1.6462049462694244e-06, 'hidden_size': 64, 'epochs': 16}. Best is trial 179 with value: 4.037038643174347.\n"
          ]
        },
        {
          "name": "stdout",
          "output_type": "stream",
          "text": [
            "Trial 173: MAE: 5.604588841971975, RMSE: 13.719626068785272\n"
          ]
        },
        {
          "name": "stderr",
          "output_type": "stream",
          "text": [
            "[I 2024-10-20 02:39:31,994] Trial 174 finished with value: 217.05016728716336 and parameters: {'learning_rate': 2.945309866515545e-06, 'hidden_size': 64, 'epochs': 16}. Best is trial 179 with value: 4.037038643174347.\n"
          ]
        },
        {
          "name": "stdout",
          "output_type": "stream",
          "text": [
            "Trial 174: MAE: 217.05016728716336, RMSE: 6948.799141756339\n",
            "Trial 88: MAE: 14932.33797088496, RMSE: 311243.79596950323\n"
          ]
        },
        {
          "name": "stderr",
          "output_type": "stream",
          "text": [
            "[I 2024-10-20 02:39:35,624] Trial 88 finished with value: 14932.33797088496 and parameters: {'learning_rate': 3.3697850320167626e-06, 'hidden_size': 128, 'epochs': 44}. Best is trial 179 with value: 4.037038643174347.\n",
            "[I 2024-10-20 02:39:38,612] Trial 71 finished with value: 19.54686313808335 and parameters: {'learning_rate': 2.2832732166688905e-05, 'hidden_size': 128, 'epochs': 43}. Best is trial 179 with value: 4.037038643174347.\n"
          ]
        },
        {
          "name": "stdout",
          "output_type": "stream",
          "text": [
            "Trial 71: MAE: 19.54686313808335, RMSE: 175.83145233569263\n"
          ]
        },
        {
          "name": "stderr",
          "output_type": "stream",
          "text": [
            "[I 2024-10-20 02:39:39,096] Trial 126 finished with value: 193.3800584348511 and parameters: {'learning_rate': 7.07296571482228e-06, 'hidden_size': 64, 'epochs': 39}. Best is trial 179 with value: 4.037038643174347.\n"
          ]
        },
        {
          "name": "stdout",
          "output_type": "stream",
          "text": [
            "Trial 126: MAE: 193.3800584348511, RMSE: 7137.4852871055555\n"
          ]
        },
        {
          "name": "stderr",
          "output_type": "stream",
          "text": [
            "[I 2024-10-20 02:40:02,268] Trial 176 finished with value: 5.668018822453407 and parameters: {'learning_rate': 1.6263787609783758e-06, 'hidden_size': 64, 'epochs': 16}. Best is trial 179 with value: 4.037038643174347.\n"
          ]
        },
        {
          "name": "stdout",
          "output_type": "stream",
          "text": [
            "Trial 176: MAE: 5.668018822453407, RMSE: 12.260006048098239\n"
          ]
        },
        {
          "name": "stderr",
          "output_type": "stream",
          "text": [
            "[I 2024-10-20 02:40:10,131] Trial 192 finished with value: 4.546663663489759 and parameters: {'learning_rate': 6.706460034144686e-05, 'hidden_size': 64, 'epochs': 16}. Best is trial 179 with value: 4.037038643174347.\n"
          ]
        },
        {
          "name": "stdout",
          "output_type": "stream",
          "text": [
            "Trial 192: MAE: 4.546663663489759, RMSE: 10.150506000946846\n"
          ]
        },
        {
          "name": "stderr",
          "output_type": "stream",
          "text": [
            "[I 2024-10-20 02:40:12,079] Trial 175 finished with value: 16.02028433112828 and parameters: {'learning_rate': 1.5293890754864677e-06, 'hidden_size': 64, 'epochs': 16}. Best is trial 179 with value: 4.037038643174347.\n"
          ]
        },
        {
          "name": "stdout",
          "output_type": "stream",
          "text": [
            "Trial 175: MAE: 16.02028433112828, RMSE: 63.058983146212086\n"
          ]
        },
        {
          "name": "stderr",
          "output_type": "stream",
          "text": [
            "[I 2024-10-20 02:40:19,678] Trial 183 finished with value: 18.263086474217747 and parameters: {'learning_rate': 1.4261652724151446e-06, 'hidden_size': 64, 'epochs': 15}. Best is trial 179 with value: 4.037038643174347.\n"
          ]
        },
        {
          "name": "stdout",
          "output_type": "stream",
          "text": [
            "Trial 183: MAE: 18.263086474217747, RMSE: 62.977937123350905\n"
          ]
        },
        {
          "name": "stderr",
          "output_type": "stream",
          "text": [
            "[I 2024-10-20 02:40:22,780] Trial 85 finished with value: 3112.5484181300117 and parameters: {'learning_rate': 2.047679012598689e-06, 'hidden_size': 128, 'epochs': 46}. Best is trial 179 with value: 4.037038643174347.\n",
            "[I 2024-10-20 02:40:22,809] Trial 182 finished with value: 8.343769878129054 and parameters: {'learning_rate': 1.7412525850970725e-06, 'hidden_size': 64, 'epochs': 16}. Best is trial 179 with value: 4.037038643174347.\n"
          ]
        },
        {
          "name": "stdout",
          "output_type": "stream",
          "text": [
            "Trial 85: MAE: 3112.5484181300117, RMSE: 76702.59161960903\n",
            "Trial 182: MAE: 8.343769878129054, RMSE: 28.835922233713575\n"
          ]
        },
        {
          "name": "stderr",
          "output_type": "stream",
          "text": [
            "[I 2024-10-20 02:40:26,623] Trial 22 finished with value: 1876.7002864754745 and parameters: {'learning_rate': 4.914558783297724e-06, 'hidden_size': 128, 'epochs': 46}. Best is trial 179 with value: 4.037038643174347.\n"
          ]
        },
        {
          "name": "stdout",
          "output_type": "stream",
          "text": [
            "Trial 22: MAE: 1876.7002864754745, RMSE: 110127.09119938468\n"
          ]
        },
        {
          "name": "stderr",
          "output_type": "stream",
          "text": [
            "[I 2024-10-20 02:40:26,920] Trial 56 finished with value: 637.0697417723718 and parameters: {'learning_rate': 8.47325942012229e-06, 'hidden_size': 128, 'epochs': 46}. Best is trial 179 with value: 4.037038643174347.\n"
          ]
        },
        {
          "name": "stdout",
          "output_type": "stream",
          "text": [
            "Trial 56: MAE: 637.0697417723718, RMSE: 32271.82708209704\n"
          ]
        },
        {
          "name": "stderr",
          "output_type": "stream",
          "text": [
            "[I 2024-10-20 02:40:28,680] Trial 185 finished with value: 22.8899710863124 and parameters: {'learning_rate': 1.5030150095213447e-06, 'hidden_size': 64, 'epochs': 15}. Best is trial 179 with value: 4.037038643174347.\n"
          ]
        },
        {
          "name": "stdout",
          "output_type": "stream",
          "text": [
            "Trial 185: MAE: 22.8899710863124, RMSE: 166.8566561422711\n"
          ]
        },
        {
          "name": "stderr",
          "output_type": "stream",
          "text": [
            "[I 2024-10-20 02:40:29,058] Trial 127 finished with value: 5.3146557849785365 and parameters: {'learning_rate': 6.706286363654408e-06, 'hidden_size': 64, 'epochs': 41}. Best is trial 179 with value: 4.037038643174347.\n",
            "[I 2024-10-20 02:40:29,206] Trial 123 finished with value: 9.532932903662296 and parameters: {'learning_rate': 7.60200943657875e-06, 'hidden_size': 64, 'epochs': 43}. Best is trial 179 with value: 4.037038643174347.\n"
          ]
        },
        {
          "name": "stdout",
          "output_type": "stream",
          "text": [
            "Trial 127: MAE: 5.3146557849785365, RMSE: 11.659177548382402\n",
            "Trial 123: MAE: 9.532932903662296, RMSE: 213.09498886474105\n"
          ]
        },
        {
          "name": "stderr",
          "output_type": "stream",
          "text": [
            "[I 2024-10-20 02:40:33,026] Trial 189 finished with value: 9.540142775567801 and parameters: {'learning_rate': 8.926391438544405e-05, 'hidden_size': 64, 'epochs': 15}. Best is trial 179 with value: 4.037038643174347.\n"
          ]
        },
        {
          "name": "stdout",
          "output_type": "stream",
          "text": [
            "Trial 189: MAE: 9.540142775567801, RMSE: 17.56561695792237\n"
          ]
        },
        {
          "name": "stderr",
          "output_type": "stream",
          "text": [
            "[I 2024-10-20 02:40:33,773] Trial 68 finished with value: 82.75342640128042 and parameters: {'learning_rate': 2.085214153026585e-06, 'hidden_size': 128, 'epochs': 44}. Best is trial 179 with value: 4.037038643174347.\n"
          ]
        },
        {
          "name": "stdout",
          "output_type": "stream",
          "text": [
            "Trial 68: MAE: 82.75342640128042, RMSE: 3177.7945596305594\n"
          ]
        },
        {
          "name": "stderr",
          "output_type": "stream",
          "text": [
            "[I 2024-10-20 02:40:38,411] Trial 184 finished with value: 4.836802245957048 and parameters: {'learning_rate': 9.744848408047765e-05, 'hidden_size': 64, 'epochs': 16}. Best is trial 179 with value: 4.037038643174347.\n"
          ]
        },
        {
          "name": "stdout",
          "output_type": "stream",
          "text": [
            "Trial 184: MAE: 4.836802245957048, RMSE: 13.90711298621821\n"
          ]
        },
        {
          "name": "stderr",
          "output_type": "stream",
          "text": [
            "[I 2024-10-20 02:40:38,655] Trial 188 finished with value: 6.804590223176224 and parameters: {'learning_rate': 2.430836767972241e-06, 'hidden_size': 64, 'epochs': 16}. Best is trial 179 with value: 4.037038643174347.\n"
          ]
        },
        {
          "name": "stdout",
          "output_type": "stream",
          "text": [
            "Trial 188: MAE: 6.804590223176224, RMSE: 25.831563368183147\n"
          ]
        },
        {
          "name": "stderr",
          "output_type": "stream",
          "text": [
            "[I 2024-10-20 02:40:42,540] Trial 187 finished with value: 44.61394507719364 and parameters: {'learning_rate': 1.7690619089539222e-06, 'hidden_size': 64, 'epochs': 16}. Best is trial 179 with value: 4.037038643174347.\n",
            "[I 2024-10-20 02:40:42,551] Trial 121 finished with value: 10.043133939714124 and parameters: {'learning_rate': 7.237490385176578e-06, 'hidden_size': 64, 'epochs': 44}. Best is trial 179 with value: 4.037038643174347.\n"
          ]
        },
        {
          "name": "stdout",
          "output_type": "stream",
          "text": [
            "Trial 187: MAE: 44.61394507719364, RMSE: 257.14976806785705\n",
            "Trial 121: MAE: 10.043133939714124, RMSE: 77.08343629139493\n"
          ]
        },
        {
          "name": "stderr",
          "output_type": "stream",
          "text": [
            "[I 2024-10-20 02:40:47,877] Trial 69 finished with value: 17.428462834423314 and parameters: {'learning_rate': 4.930503342555767e-05, 'hidden_size': 128, 'epochs': 46}. Best is trial 179 with value: 4.037038643174347.\n",
            "[I 2024-10-20 02:40:47,977] Trial 186 finished with value: 4.941440101541249 and parameters: {'learning_rate': 8.972319334713582e-05, 'hidden_size': 64, 'epochs': 16}. Best is trial 179 with value: 4.037038643174347.\n"
          ]
        },
        {
          "name": "stdout",
          "output_type": "stream",
          "text": [
            "Trial 69: MAE: 17.428462834423314, RMSE: 203.76945529234365\n",
            "Trial 186: MAE: 4.941440101541249, RMSE: 10.10246587939508\n"
          ]
        },
        {
          "name": "stderr",
          "output_type": "stream",
          "text": [
            "[I 2024-10-20 02:40:50,117] Trial 191 finished with value: 5.218775757154592 and parameters: {'learning_rate': 1.680988965305145e-06, 'hidden_size': 64, 'epochs': 16}. Best is trial 179 with value: 4.037038643174347.\n"
          ]
        },
        {
          "name": "stdout",
          "output_type": "stream",
          "text": [
            "Trial 191: MAE: 5.218775757154592, RMSE: 17.40376335644607\n"
          ]
        },
        {
          "name": "stderr",
          "output_type": "stream",
          "text": [
            "[I 2024-10-20 02:40:53,178] Trial 122 finished with value: 13.652985962980477 and parameters: {'learning_rate': 7.469681681388571e-06, 'hidden_size': 64, 'epochs': 45}. Best is trial 179 with value: 4.037038643174347.\n"
          ]
        },
        {
          "name": "stdout",
          "output_type": "stream",
          "text": [
            "Trial 122: MAE: 13.652985962980477, RMSE: 201.54004617747475\n"
          ]
        },
        {
          "name": "stderr",
          "output_type": "stream",
          "text": [
            "[I 2024-10-20 02:40:54,946] Trial 131 finished with value: 28185.460436491812 and parameters: {'learning_rate': 6.968890266784785e-06, 'hidden_size': 64, 'epochs': 42}. Best is trial 179 with value: 4.037038643174347.\n"
          ]
        },
        {
          "name": "stdout",
          "output_type": "stream",
          "text": [
            "Trial 131: MAE: 28185.460436491812, RMSE: 2072142.1508406182\n"
          ]
        },
        {
          "name": "stderr",
          "output_type": "stream",
          "text": [
            "[I 2024-10-20 02:41:04,131] Trial 129 finished with value: 14648.631595849043 and parameters: {'learning_rate': 6.687620025177842e-06, 'hidden_size': 64, 'epochs': 44}. Best is trial 179 with value: 4.037038643174347.\n"
          ]
        },
        {
          "name": "stdout",
          "output_type": "stream",
          "text": [
            "Trial 129: MAE: 14648.631595849043, RMSE: 1116943.2959042944\n"
          ]
        },
        {
          "name": "stderr",
          "output_type": "stream",
          "text": [
            "[I 2024-10-20 02:41:12,905] Trial 133 finished with value: 9372.389752825728 and parameters: {'learning_rate': 7.763067648442319e-06, 'hidden_size': 64, 'epochs': 41}. Best is trial 179 with value: 4.037038643174347.\n"
          ]
        },
        {
          "name": "stdout",
          "output_type": "stream",
          "text": [
            "Trial 133: MAE: 9372.389752825728, RMSE: 173619.3419699993\n"
          ]
        },
        {
          "name": "stderr",
          "output_type": "stream",
          "text": [
            "[I 2024-10-20 02:41:21,001] Trial 132 finished with value: 46.44326352809888 and parameters: {'learning_rate': 6.520534855105647e-06, 'hidden_size': 64, 'epochs': 43}. Best is trial 179 with value: 4.037038643174347.\n"
          ]
        },
        {
          "name": "stdout",
          "output_type": "stream",
          "text": [
            "Trial 132: MAE: 46.44326352809888, RMSE: 750.0764267474472\n"
          ]
        },
        {
          "name": "stderr",
          "output_type": "stream",
          "text": [
            "[I 2024-10-20 02:41:24,276] Trial 125 finished with value: 10.939688250118756 and parameters: {'learning_rate': 7.270310812261746e-06, 'hidden_size': 64, 'epochs': 47}. Best is trial 179 with value: 4.037038643174347.\n"
          ]
        },
        {
          "name": "stdout",
          "output_type": "stream",
          "text": [
            "Trial 125: MAE: 10.939688250118756, RMSE: 131.6215175916058\n"
          ]
        },
        {
          "name": "stderr",
          "output_type": "stream",
          "text": [
            "[I 2024-10-20 02:41:35,509] Trial 49 finished with value: 6.842697345176413 and parameters: {'learning_rate': 9.439691618366285e-05, 'hidden_size': 128, 'epochs': 50}. Best is trial 179 with value: 4.037038643174347.\n"
          ]
        },
        {
          "name": "stdout",
          "output_type": "stream",
          "text": [
            "Trial 49: MAE: 6.842697345176413, RMSE: 97.98178708629563\n"
          ]
        },
        {
          "name": "stderr",
          "output_type": "stream",
          "text": [
            "[I 2024-10-20 02:41:54,091] Trial 128 finished with value: 637.4701376699718 and parameters: {'learning_rate': 6.933056175400394e-06, 'hidden_size': 64, 'epochs': 50}. Best is trial 179 with value: 4.037038643174347.\n"
          ]
        },
        {
          "name": "stdout",
          "output_type": "stream",
          "text": [
            "Trial 128: MAE: 637.4701376699718, RMSE: 34878.29918955485\n"
          ]
        },
        {
          "name": "stderr",
          "output_type": "stream",
          "text": [
            "[I 2024-10-20 02:42:07,260] Trial 194 finished with value: 41.123593041830965 and parameters: {'learning_rate': 9.229415937531838e-05, 'hidden_size': 128, 'epochs': 15}. Best is trial 179 with value: 4.037038643174347.\n"
          ]
        },
        {
          "name": "stdout",
          "output_type": "stream",
          "text": [
            "Trial 194: MAE: 41.123593041830965, RMSE: 74.84107964873968\n"
          ]
        },
        {
          "name": "stderr",
          "output_type": "stream",
          "text": [
            "[I 2024-10-20 02:42:07,532] Trial 130 finished with value: 1978.3329237805067 and parameters: {'learning_rate': 2.5220130544729835e-06, 'hidden_size': 64, 'epochs': 50}. Best is trial 179 with value: 4.037038643174347.\n"
          ]
        },
        {
          "name": "stdout",
          "output_type": "stream",
          "text": [
            "Trial 130: MAE: 1978.3329237805067, RMSE: 85864.29022801292\n"
          ]
        },
        {
          "name": "stderr",
          "output_type": "stream",
          "text": [
            "[I 2024-10-20 02:42:08,727] Trial 134 finished with value: 122210997.64598435 and parameters: {'learning_rate': 3.149171178731186e-06, 'hidden_size': 64, 'epochs': 48}. Best is trial 179 with value: 4.037038643174347.\n"
          ]
        },
        {
          "name": "stdout",
          "output_type": "stream",
          "text": [
            "Trial 134: MAE: 122210997.64598435, RMSE: 20817356577.101093\n"
          ]
        },
        {
          "name": "stderr",
          "output_type": "stream",
          "text": [
            "[I 2024-10-20 02:42:10,031] Trial 190 finished with value: 4.924860460760143 and parameters: {'learning_rate': 1.4866022967230014e-06, 'hidden_size': 128, 'epochs': 16}. Best is trial 179 with value: 4.037038643174347.\n"
          ]
        },
        {
          "name": "stdout",
          "output_type": "stream",
          "text": [
            "Trial 190: MAE: 4.924860460760143, RMSE: 10.099940617818051\n"
          ]
        },
        {
          "name": "stderr",
          "output_type": "stream",
          "text": [
            "[I 2024-10-20 02:42:12,355] Trial 105 finished with value: 7.763933429793328 and parameters: {'learning_rate': 1.787325911630039e-05, 'hidden_size': 128, 'epochs': 38}. Best is trial 179 with value: 4.037038643174347.\n"
          ]
        },
        {
          "name": "stdout",
          "output_type": "stream",
          "text": [
            "Trial 105: MAE: 7.763933429793328, RMSE: 36.94428573682454\n"
          ]
        },
        {
          "name": "stderr",
          "output_type": "stream",
          "text": [
            "[I 2024-10-20 02:42:14,719] Trial 118 finished with value: 18.56313695960859 and parameters: {'learning_rate': 3.091708053722767e-06, 'hidden_size': 128, 'epochs': 35}. Best is trial 179 with value: 4.037038643174347.\n"
          ]
        },
        {
          "name": "stdout",
          "output_type": "stream",
          "text": [
            "Trial 118: MAE: 18.56313695960859, RMSE: 335.5449674696878\n"
          ]
        },
        {
          "name": "stderr",
          "output_type": "stream",
          "text": [
            "[I 2024-10-20 02:42:15,434] Trial 193 finished with value: 4.429975959704767 and parameters: {'learning_rate': 8.879154554939931e-05, 'hidden_size': 128, 'epochs': 16}. Best is trial 179 with value: 4.037038643174347.\n"
          ]
        },
        {
          "name": "stdout",
          "output_type": "stream",
          "text": [
            "Trial 193: MAE: 4.429975959704767, RMSE: 9.871259960663252\n"
          ]
        },
        {
          "name": "stderr",
          "output_type": "stream",
          "text": [
            "[I 2024-10-20 02:42:16,209] Trial 108 finished with value: 5331.38695989147 and parameters: {'learning_rate': 2.2661926424413216e-05, 'hidden_size': 128, 'epochs': 38}. Best is trial 179 with value: 4.037038643174347.\n"
          ]
        },
        {
          "name": "stdout",
          "output_type": "stream",
          "text": [
            "Trial 108: MAE: 5331.38695989147, RMSE: 173579.15678043023\n"
          ]
        },
        {
          "name": "stderr",
          "output_type": "stream",
          "text": [
            "[I 2024-10-20 02:42:19,663] Trial 106 finished with value: 5.468078618086028 and parameters: {'learning_rate': 2.2518801394730938e-05, 'hidden_size': 128, 'epochs': 39}. Best is trial 179 with value: 4.037038643174347.\n"
          ]
        },
        {
          "name": "stdout",
          "output_type": "stream",
          "text": [
            "Trial 106: MAE: 5.468078618086028, RMSE: 17.59727050354368\n"
          ]
        },
        {
          "name": "stderr",
          "output_type": "stream",
          "text": [
            "[I 2024-10-20 02:42:21,054] Trial 195 finished with value: 7.447833792213456 and parameters: {'learning_rate': 7.074253860653105e-05, 'hidden_size': 128, 'epochs': 16}. Best is trial 179 with value: 4.037038643174347.\n"
          ]
        },
        {
          "name": "stdout",
          "output_type": "stream",
          "text": [
            "Trial 195: MAE: 7.447833792213456, RMSE: 16.976116380926534\n"
          ]
        },
        {
          "name": "stderr",
          "output_type": "stream",
          "text": [
            "[I 2024-10-20 02:42:23,050] Trial 107 finished with value: 137.763895114967 and parameters: {'learning_rate': 2.2694345932182388e-05, 'hidden_size': 128, 'epochs': 39}. Best is trial 179 with value: 4.037038643174347.\n"
          ]
        },
        {
          "name": "stdout",
          "output_type": "stream",
          "text": [
            "Trial 107: MAE: 137.763895114967, RMSE: 2919.6576413955404\n"
          ]
        },
        {
          "name": "stderr",
          "output_type": "stream",
          "text": [
            "[I 2024-10-20 02:42:24,370] Trial 136 finished with value: 215.8291389962775 and parameters: {'learning_rate': 6.781059310441765e-06, 'hidden_size': 64, 'epochs': 46}. Best is trial 179 with value: 4.037038643174347.\n"
          ]
        },
        {
          "name": "stdout",
          "output_type": "stream",
          "text": [
            "Trial 136: MAE: 215.8291389962775, RMSE: 3952.845763367948\n"
          ]
        },
        {
          "name": "stderr",
          "output_type": "stream",
          "text": [
            "[I 2024-10-20 02:42:24,720] Trial 117 finished with value: 1249.0062025832365 and parameters: {'learning_rate': 2.3647503981628443e-06, 'hidden_size': 128, 'epochs': 36}. Best is trial 179 with value: 4.037038643174347.\n",
            "[I 2024-10-20 02:42:24,732] Trial 197 finished with value: 6.248403804408454 and parameters: {'learning_rate': 7.2148391503302e-05, 'hidden_size': 128, 'epochs': 16}. Best is trial 179 with value: 4.037038643174347.\n"
          ]
        },
        {
          "name": "stdout",
          "output_type": "stream",
          "text": [
            "Trial 117: MAE: 1249.0062025832365, RMSE: 28562.544912258945\n",
            "Trial 197: MAE: 6.248403804408454, RMSE: 17.304220850607674\n"
          ]
        },
        {
          "name": "stderr",
          "output_type": "stream",
          "text": [
            "[I 2024-10-20 02:42:25,012] Trial 198 finished with value: 42.46347896227568 and parameters: {'learning_rate': 2.353346280485626e-06, 'hidden_size': 128, 'epochs': 16}. Best is trial 179 with value: 4.037038643174347.\n"
          ]
        },
        {
          "name": "stdout",
          "output_type": "stream",
          "text": [
            "Trial 198: MAE: 42.46347896227568, RMSE: 79.5952555252289\n"
          ]
        },
        {
          "name": "stderr",
          "output_type": "stream",
          "text": [
            "[I 2024-10-20 02:42:27,646] Trial 199 finished with value: 6.288270252823489 and parameters: {'learning_rate': 9.017436945308027e-05, 'hidden_size': 128, 'epochs': 16}. Best is trial 179 with value: 4.037038643174347.\n"
          ]
        },
        {
          "name": "stdout",
          "output_type": "stream",
          "text": [
            "Trial 199: MAE: 6.288270252823489, RMSE: 13.336778383198153\n"
          ]
        },
        {
          "name": "stderr",
          "output_type": "stream",
          "text": [
            "[I 2024-10-20 02:42:28,388] Trial 196 finished with value: 4.7193529562141485 and parameters: {'learning_rate': 7.013967152525347e-05, 'hidden_size': 128, 'epochs': 16}. Best is trial 179 with value: 4.037038643174347.\n"
          ]
        },
        {
          "name": "stdout",
          "output_type": "stream",
          "text": [
            "Trial 196: MAE: 4.7193529562141485, RMSE: 11.737054555857599\n"
          ]
        },
        {
          "name": "stderr",
          "output_type": "stream",
          "text": [
            "[I 2024-10-20 02:42:28,742] Trial 138 finished with value: 735.107007795571 and parameters: {'learning_rate': 2.4699692625129822e-05, 'hidden_size': 64, 'epochs': 46}. Best is trial 179 with value: 4.037038643174347.\n"
          ]
        },
        {
          "name": "stdout",
          "output_type": "stream",
          "text": [
            "Trial 138: MAE: 735.107007795571, RMSE: 43584.41918071058\n"
          ]
        },
        {
          "name": "stderr",
          "output_type": "stream",
          "text": [
            "[I 2024-10-20 02:42:32,536] Trial 97 finished with value: 18.64939831339185 and parameters: {'learning_rate': 4.38038292838922e-05, 'hidden_size': 128, 'epochs': 46}. Best is trial 179 with value: 4.037038643174347.\n"
          ]
        },
        {
          "name": "stdout",
          "output_type": "stream",
          "text": [
            "Trial 97: MAE: 18.64939831339185, RMSE: 114.26041407383062\n"
          ]
        },
        {
          "name": "stderr",
          "output_type": "stream",
          "text": [
            "[I 2024-10-20 02:42:37,179] Trial 115 finished with value: 174.05955504441755 and parameters: {'learning_rate': 2.2038935721322474e-06, 'hidden_size': 128, 'epochs': 38}. Best is trial 179 with value: 4.037038643174347.\n"
          ]
        },
        {
          "name": "stdout",
          "output_type": "stream",
          "text": [
            "Trial 115: MAE: 174.05955504441755, RMSE: 15549.370640141085\n"
          ]
        },
        {
          "name": "stderr",
          "output_type": "stream",
          "text": [
            "[I 2024-10-20 02:42:37,834] Trial 109 finished with value: 14.98878632819135 and parameters: {'learning_rate': 2.576423943600241e-05, 'hidden_size': 128, 'epochs': 40}. Best is trial 179 with value: 4.037038643174347.\n"
          ]
        },
        {
          "name": "stdout",
          "output_type": "stream",
          "text": [
            "Trial 109: MAE: 14.98878632819135, RMSE: 473.78288219294006\n"
          ]
        },
        {
          "name": "stderr",
          "output_type": "stream",
          "text": [
            "[I 2024-10-20 02:42:39,103] Trial 143 finished with value: 10.01671366263402 and parameters: {'learning_rate': 3.178767608304057e-06, 'hidden_size': 64, 'epochs': 47}. Best is trial 179 with value: 4.037038643174347.\n"
          ]
        },
        {
          "name": "stdout",
          "output_type": "stream",
          "text": [
            "Trial 143: MAE: 10.01671366263402, RMSE: 147.7539019472767\n"
          ]
        },
        {
          "name": "stderr",
          "output_type": "stream",
          "text": [
            "[I 2024-10-20 02:42:39,477] Trial 112 finished with value: 7032.177441068747 and parameters: {'learning_rate': 2.3876099677019604e-06, 'hidden_size': 128, 'epochs': 39}. Best is trial 179 with value: 4.037038643174347.\n"
          ]
        },
        {
          "name": "stdout",
          "output_type": "stream",
          "text": [
            "Trial 112: MAE: 7032.177441068747, RMSE: 750256.8145327733\n"
          ]
        },
        {
          "name": "stderr",
          "output_type": "stream",
          "text": [
            "[I 2024-10-20 02:42:39,736] Trial 110 finished with value: 1633.5311491775503 and parameters: {'learning_rate': 2.382420933821615e-06, 'hidden_size': 128, 'epochs': 41}. Best is trial 179 with value: 4.037038643174347.\n"
          ]
        },
        {
          "name": "stdout",
          "output_type": "stream",
          "text": [
            "Trial 110: MAE: 1633.5311491775503, RMSE: 93568.6539524619\n"
          ]
        },
        {
          "name": "stderr",
          "output_type": "stream",
          "text": [
            "[I 2024-10-20 02:42:40,783] Trial 119 finished with value: 23.405030440737082 and parameters: {'learning_rate': 3.207300251138996e-06, 'hidden_size': 128, 'epochs': 38}. Best is trial 179 with value: 4.037038643174347.\n"
          ]
        },
        {
          "name": "stdout",
          "output_type": "stream",
          "text": [
            "Trial 119: MAE: 23.405030440737082, RMSE: 442.33267906640503\n"
          ]
        },
        {
          "name": "stderr",
          "output_type": "stream",
          "text": [
            "[I 2024-10-20 02:42:44,089] Trial 141 finished with value: 28.821229694463717 and parameters: {'learning_rate': 3.010219742605393e-06, 'hidden_size': 64, 'epochs': 50}. Best is trial 179 with value: 4.037038643174347.\n"
          ]
        },
        {
          "name": "stdout",
          "output_type": "stream",
          "text": [
            "Trial 141: MAE: 28.821229694463717, RMSE: 1049.5006234196112\n"
          ]
        },
        {
          "name": "stderr",
          "output_type": "stream",
          "text": [
            "[I 2024-10-20 02:42:44,383] Trial 104 finished with value: 305.47133790615095 and parameters: {'learning_rate': 1.2765266190827283e-06, 'hidden_size': 128, 'epochs': 45}. Best is trial 179 with value: 4.037038643174347.\n"
          ]
        },
        {
          "name": "stdout",
          "output_type": "stream",
          "text": [
            "Trial 104: MAE: 305.47133790615095, RMSE: 3444.353226323339\n"
          ]
        },
        {
          "name": "stderr",
          "output_type": "stream",
          "text": [
            "[I 2024-10-20 02:42:45,050] Trial 145 finished with value: 1601.7723736593734 and parameters: {'learning_rate': 7.664487240291284e-06, 'hidden_size': 64, 'epochs': 49}. Best is trial 179 with value: 4.037038643174347.\n"
          ]
        },
        {
          "name": "stdout",
          "output_type": "stream",
          "text": [
            "Trial 145: MAE: 1601.7723736593734, RMSE: 154538.82681643282\n"
          ]
        },
        {
          "name": "stderr",
          "output_type": "stream",
          "text": [
            "[I 2024-10-20 02:42:46,108] Trial 150 finished with value: 31.135138623332498 and parameters: {'learning_rate': 1.5956997304542685e-06, 'hidden_size': 64, 'epochs': 49}. Best is trial 179 with value: 4.037038643174347.\n"
          ]
        },
        {
          "name": "stdout",
          "output_type": "stream",
          "text": [
            "Trial 150: MAE: 31.135138623332498, RMSE: 584.7191814692341\n"
          ]
        },
        {
          "name": "stderr",
          "output_type": "stream",
          "text": [
            "[I 2024-10-20 02:42:48,145] Trial 113 finished with value: 124.26807074715627 and parameters: {'learning_rate': 2.19093436512288e-06, 'hidden_size': 128, 'epochs': 44}. Best is trial 179 with value: 4.037038643174347.\n"
          ]
        },
        {
          "name": "stdout",
          "output_type": "stream",
          "text": [
            "Trial 113: MAE: 124.26807074715627, RMSE: 4102.584581561533\n"
          ]
        },
        {
          "name": "stderr",
          "output_type": "stream",
          "text": [
            "[I 2024-10-20 02:42:49,557] Trial 111 finished with value: 1570.8048195133003 and parameters: {'learning_rate': 2.1370473077401712e-05, 'hidden_size': 128, 'epochs': 47}. Best is trial 179 with value: 4.037038643174347.\n"
          ]
        },
        {
          "name": "stdout",
          "output_type": "stream",
          "text": [
            "Trial 111: MAE: 1570.8048195133003, RMSE: 43479.033006188576\n",
            "Best MAE:  4.037038643174347\n",
            "Best Hyperparameters:  {'learning_rate': 9.425682782351999e-05, 'hidden_size': 64, 'epochs': 11}\n"
          ]
        }
      ],
      "source": [
        "import optuna\n",
        "import torch\n",
        "import torch.nn.functional as F\n",
        "from torch.optim import Adam\n",
        "import numpy as np\n",
        "from sklearn.metrics import mean_absolute_error, mean_squared_error\n",
        "from sklearn.preprocessing import MinMaxScaler\n",
        "import pandas as pd\n",
        "\n",
        "# Assume df_sampled is your preprocessed DataFrame\n",
        "\n",
        "# Step 1: Apply log transformation to play counts to reduce skewness\n",
        "df_sampled['play_count_log'] = np.log1p(df_sampled['play_count'])  # Apply log transformation\n",
        "\n",
        "# Step 2: Apply scaling to other features, if necessary\n",
        "scaler_play_count = MinMaxScaler()  # Initialize scaler\n",
        "df_sampled['play_count_scaled'] = scaler_play_count.fit_transform(df_sampled[['play_count_log']])\n",
        "\n",
        "# Ensure embeddings and features are already in df_sampled, e.g., distilbert_embeddings\n",
        "song_node_features = torch.tensor(np.stack(df_sampled['distilbert_embeddings']), dtype=torch.float32)\n",
        "play_counts = torch.tensor(df_sampled['play_count_scaled'].values, dtype=torch.float32)\n",
        "\n",
        "# Weights to handle skewness in the play counts\n",
        "weights = 1 / np.log1p(df_sampled['play_count'])  # Inverse of the log to give more weight to lower play counts\n",
        "\n",
        "# Step 3: GNN Model definition with deeper architecture and dropout for regularization\n",
        "class GNNModel(torch.nn.Module):\n",
        "    def __init__(self, in_channels, hidden_channels, out_channels, dropout=0.3):\n",
        "        super(GNNModel, self).__init__()\n",
        "        self.layer1 = torch.nn.Linear(in_channels, hidden_channels)\n",
        "        self.bn1 = torch.nn.BatchNorm1d(hidden_channels)\n",
        "        self.layer2 = torch.nn.Linear(hidden_channels, hidden_channels)\n",
        "        self.bn2 = torch.nn.BatchNorm1d(hidden_channels)\n",
        "        self.layer3 = torch.nn.Linear(hidden_channels, out_channels)\n",
        "        self.dropout = torch.nn.Dropout(dropout)\n",
        "\n",
        "    def forward(self, x, edge_index):\n",
        "        x = F.relu(self.bn1(self.layer1(x)))\n",
        "        x = self.dropout(x)\n",
        "        x = F.relu(self.bn2(self.layer2(x)))\n",
        "        x = self.dropout(x)\n",
        "        x = self.layer3(x)\n",
        "        return x\n",
        "\n",
        "# Xavier weight initialization\n",
        "def init_weights(m):\n",
        "    if isinstance(m, torch.nn.Linear):\n",
        "        torch.nn.init.xavier_uniform_(m.weight)\n",
        "        if m.bias is not None:\n",
        "            m.bias.data.fill_(0.01)\n",
        "\n",
        "# Loss function with weighting based on skewness\n",
        "def weighted_loss(predictions, targets, weights):\n",
        "    loss = F.mse_loss(predictions, targets, reduction='none')\n",
        "    weighted_loss = (weights * loss).mean()  # Apply weights\n",
        "    return weighted_loss\n",
        "\n",
        "# Step 4: Objective function for Optuna hyperparameter search\n",
        "def objective(trial):\n",
        "    # Hyperparameter search space\n",
        "    lr = trial.suggest_loguniform('learning_rate', 1e-6, 1e-4)\n",
        "    hidden_size = trial.suggest_categorical('hidden_size', [64, 128])\n",
        "    num_epochs = trial.suggest_int('epochs', 10, 50)\n",
        "\n",
        "    # Initialize model with optimized architecture\n",
        "    model = GNNModel(in_channels=song_node_features.shape[1], hidden_channels=hidden_size, out_channels=1, dropout=0.3)\n",
        "    model.apply(init_weights)  # Apply weight initialization\n",
        "    model = model.to(device)\n",
        "\n",
        "    optimizer = Adam(model.parameters(), lr=lr)\n",
        "\n",
        "    # Training loop\n",
        "    for epoch in range(num_epochs):\n",
        "        model.train()\n",
        "        optimizer.zero_grad()\n",
        "        out = model(song_node_features, None)  # Replace None with edge_index if using graph data\n",
        "\n",
        "        # Check for NaN/Inf in output\n",
        "        if torch.isinf(out).any() or torch.isnan(out).any():\n",
        "            print(\"NaN or Inf found in model output!\")\n",
        "            return float('inf')  # Skip this trial if invalid output\n",
        "\n",
        "        # Calculate weighted loss\n",
        "        train_loss = weighted_loss(out.squeeze(), play_counts, torch.tensor(weights, dtype=torch.float32))\n",
        "\n",
        "        if torch.isnan(train_loss) or torch.isinf(train_loss):\n",
        "            print(\"NaN or Inf found in training loss!\")\n",
        "            return float('inf')  # Skip this trial if invalid loss\n",
        "\n",
        "        # Clip gradients to avoid instability\n",
        "        torch.nn.utils.clip_grad_norm_(model.parameters(), max_norm=1.0)\n",
        "\n",
        "        train_loss.backward()\n",
        "        optimizer.step()\n",
        "\n",
        "    # Evaluation\n",
        "    model.eval()\n",
        "    with torch.no_grad():\n",
        "        predicted_play_counts = model(song_node_features, None).cpu().numpy()\n",
        "\n",
        "        # Re-transform predicted play counts back to original scale\n",
        "        predicted_play_counts = np.expm1(scaler_play_count.inverse_transform(predicted_play_counts.reshape(-1, 1)))\n",
        "\n",
        "        # Check for Inf values after applying transformations\n",
        "        if np.isinf(predicted_play_counts).any() or np.isnan(predicted_play_counts).any():\n",
        "            print(\"Invalid values detected in predictions after transformation!\")\n",
        "            return float('inf')  # Skip this trial if invalid predictions\n",
        "\n",
        "    # Calculate MAE and RMSE\n",
        "    mae = mean_absolute_error(df_sampled['play_count'].values, predicted_play_counts)\n",
        "    rmse = np.sqrt(mean_squared_error(df_sampled['play_count'].values, predicted_play_counts))\n",
        "\n",
        "    print(f\"Trial {trial.number}: MAE: {mae}, RMSE: {rmse}\")\n",
        "    return mae  # Optimize for MAE\n",
        "\n",
        "# Step 5: Run Optuna with parallelization\n",
        "study = optuna.create_study(direction='minimize')\n",
        "study.optimize(objective, n_trials=200, n_jobs=90)  # Adjust n_trials and n_jobs based on system resources\n",
        "\n",
        "# Step 6: Print the best result\n",
        "print(\"Best MAE: \", study.best_value)\n",
        "print(\"Best Hyperparameters: \", study.best_params)\n"
      ]
    },
    {
      "cell_type": "code",
      "execution_count": null,
      "metadata": {
        "colab": {
          "base_uri": "https://localhost:8080/"
        },
        "id": "35EyfKuRkuoy",
        "outputId": "7c973b89-727a-4e67-ff94-2cf6bb89d49a"
      },
      "outputs": [
        {
          "name": "stderr",
          "output_type": "stream",
          "text": [
            "[I 2024-10-20 01:51:59,164] A new study created in memory with name: no-name-365e6232-b16a-43ac-801b-dbe1417e3fe6\n",
            "[I 2024-10-20 01:52:10,233] Trial 24 finished with value: inf and parameters: {'learning_rate': 0.01657081209327333, 'hidden_size': 32, 'epochs': 15}. Best is trial 24 with value: inf.\n"
          ]
        },
        {
          "name": "stdout",
          "output_type": "stream",
          "text": [
            "NaN or Inf found in training loss!\n"
          ]
        },
        {
          "name": "stderr",
          "output_type": "stream",
          "text": [
            "[I 2024-10-20 01:52:16,796] Trial 49 finished with value: inf and parameters: {'learning_rate': 0.018540201968360353, 'hidden_size': 32, 'epochs': 15}. Best is trial 24 with value: inf.\n"
          ]
        },
        {
          "name": "stdout",
          "output_type": "stream",
          "text": [
            "NaN or Inf found in training loss!\n",
            "NaN or Inf found in training loss!\n",
            "Trial 9: MAE: 180.56639099121094, RMSE: 36664.38671875\n"
          ]
        },
        {
          "name": "stderr",
          "output_type": "stream",
          "text": [
            "[I 2024-10-20 01:52:19,946] Trial 9 finished with value: 180.56639099121094 and parameters: {'learning_rate': 0.0004383709507550346, 'hidden_size': 32, 'epochs': 11}. Best is trial 9 with value: 180.56639099121094.\n",
            "[I 2024-10-20 01:52:20,013] Trial 11 finished with value: inf and parameters: {'learning_rate': 0.04288127529457909, 'hidden_size': 64, 'epochs': 10}. Best is trial 9 with value: 180.56639099121094.\n"
          ]
        },
        {
          "name": "stdout",
          "output_type": "stream",
          "text": [
            "NaN or Inf found in training loss!\n"
          ]
        },
        {
          "name": "stderr",
          "output_type": "stream",
          "text": [
            "[I 2024-10-20 01:52:20,310] Trial 86 finished with value: inf and parameters: {'learning_rate': 0.019241663762272362, 'hidden_size': 32, 'epochs': 21}. Best is trial 9 with value: 180.56639099121094.\n",
            "[I 2024-10-20 01:52:20,453] Trial 81 finished with value: inf and parameters: {'learning_rate': 0.034394440084994815, 'hidden_size': 32, 'epochs': 21}. Best is trial 9 with value: 180.56639099121094.\n",
            "[I 2024-10-20 01:52:20,505] Trial 54 finished with value: inf and parameters: {'learning_rate': 0.05745405348461245, 'hidden_size': 32, 'epochs': 10}. Best is trial 9 with value: 180.56639099121094.\n"
          ]
        },
        {
          "name": "stdout",
          "output_type": "stream",
          "text": [
            "NaN or Inf found in training loss!\n",
            "NaN or Inf found in training loss!\n"
          ]
        },
        {
          "name": "stderr",
          "output_type": "stream",
          "text": [
            "[I 2024-10-20 01:52:20,951] Trial 72 finished with value: inf and parameters: {'learning_rate': 0.03073617615049575, 'hidden_size': 32, 'epochs': 13}. Best is trial 9 with value: 180.56639099121094.\n"
          ]
        },
        {
          "name": "stdout",
          "output_type": "stream",
          "text": [
            "NaN or Inf found in training loss!\n",
            "NaN or Inf found in training loss!\n"
          ]
        },
        {
          "name": "stderr",
          "output_type": "stream",
          "text": [
            "[I 2024-10-20 01:52:20,955] Trial 18 finished with value: inf and parameters: {'learning_rate': 0.00948250917779736, 'hidden_size': 64, 'epochs': 11}. Best is trial 9 with value: 180.56639099121094.\n",
            "[I 2024-10-20 01:52:22,771] Trial 17 finished with value: 31.808462142944336 and parameters: {'learning_rate': 0.0010461122860212088, 'hidden_size': 32, 'epochs': 13}. Best is trial 17 with value: 31.808462142944336.\n"
          ]
        },
        {
          "name": "stdout",
          "output_type": "stream",
          "text": [
            "Trial 17: MAE: 31.808462142944336, RMSE: 5483.509765625\n",
            "NaN or Inf found in training loss!\n"
          ]
        },
        {
          "name": "stderr",
          "output_type": "stream",
          "text": [
            "[I 2024-10-20 01:52:25,637] Trial 97 finished with value: inf and parameters: {'learning_rate': 0.013716196542564205, 'hidden_size': 32, 'epochs': 13}. Best is trial 17 with value: 31.808462142944336.\n",
            "[I 2024-10-20 01:52:26,260] Trial 2 finished with value: inf and parameters: {'learning_rate': 0.008577940180408401, 'hidden_size': 128, 'epochs': 17}. Best is trial 17 with value: 31.808462142944336.\n"
          ]
        },
        {
          "name": "stdout",
          "output_type": "stream",
          "text": [
            "NaN or Inf found in training loss!\n",
            "NaN or Inf found in training loss!\n"
          ]
        },
        {
          "name": "stderr",
          "output_type": "stream",
          "text": [
            "[I 2024-10-20 01:52:26,525] Trial 87 finished with value: inf and parameters: {'learning_rate': 0.033203116296441175, 'hidden_size': 32, 'epochs': 17}. Best is trial 17 with value: 31.808462142944336.\n"
          ]
        },
        {
          "name": "stdout",
          "output_type": "stream",
          "text": [
            "NaN or Inf found in training loss!\n"
          ]
        },
        {
          "name": "stderr",
          "output_type": "stream",
          "text": [
            "[I 2024-10-20 01:52:27,271] Trial 21 finished with value: inf and parameters: {'learning_rate': 0.015111896631082608, 'hidden_size': 64, 'epochs': 12}. Best is trial 17 with value: 31.808462142944336.\n",
            "[I 2024-10-20 01:52:29,103] Trial 27 finished with value: inf and parameters: {'learning_rate': 0.021619803673935598, 'hidden_size': 64, 'epochs': 25}. Best is trial 17 with value: 31.808462142944336.\n"
          ]
        },
        {
          "name": "stdout",
          "output_type": "stream",
          "text": [
            "NaN or Inf found in training loss!\n"
          ]
        },
        {
          "name": "stderr",
          "output_type": "stream",
          "text": [
            "[I 2024-10-20 01:52:29,439] Trial 46 finished with value: inf and parameters: {'learning_rate': 0.03665973430880557, 'hidden_size': 64, 'epochs': 21}. Best is trial 17 with value: 31.808462142944336.\n"
          ]
        },
        {
          "name": "stdout",
          "output_type": "stream",
          "text": [
            "NaN or Inf found in training loss!\n"
          ]
        },
        {
          "name": "stderr",
          "output_type": "stream",
          "text": [
            "[I 2024-10-20 01:52:29,903] Trial 10 finished with value: inf and parameters: {'learning_rate': 0.005762984869602973, 'hidden_size': 128, 'epochs': 16}. Best is trial 17 with value: 31.808462142944336.\n"
          ]
        },
        {
          "name": "stdout",
          "output_type": "stream",
          "text": [
            "NaN or Inf found in training loss!\n"
          ]
        },
        {
          "name": "stderr",
          "output_type": "stream",
          "text": [
            "[I 2024-10-20 01:52:30,883] Trial 41 finished with value: inf and parameters: {'learning_rate': 0.018516727322305054, 'hidden_size': 64, 'epochs': 11}. Best is trial 17 with value: 31.808462142944336.\n"
          ]
        },
        {
          "name": "stdout",
          "output_type": "stream",
          "text": [
            "NaN or Inf found in training loss!\n"
          ]
        },
        {
          "name": "stderr",
          "output_type": "stream",
          "text": [
            "[I 2024-10-20 01:52:32,388] Trial 70 finished with value: inf and parameters: {'learning_rate': 0.0950540878663396, 'hidden_size': 64, 'epochs': 11}. Best is trial 17 with value: 31.808462142944336.\n"
          ]
        },
        {
          "name": "stdout",
          "output_type": "stream",
          "text": [
            "NaN or Inf found in training loss!\n",
            "NaN or Inf found in training loss!\n"
          ]
        },
        {
          "name": "stderr",
          "output_type": "stream",
          "text": [
            "[I 2024-10-20 01:52:32,587] Trial 38 finished with value: inf and parameters: {'learning_rate': 0.030490081986172035, 'hidden_size': 64, 'epochs': 23}. Best is trial 17 with value: 31.808462142944336.\n",
            "[I 2024-10-20 01:52:33,184] Trial 47 finished with value: inf and parameters: {'learning_rate': 0.06304274828134365, 'hidden_size': 64, 'epochs': 18}. Best is trial 17 with value: 31.808462142944336.\n"
          ]
        },
        {
          "name": "stdout",
          "output_type": "stream",
          "text": [
            "NaN or Inf found in training loss!\n"
          ]
        },
        {
          "name": "stderr",
          "output_type": "stream",
          "text": [
            "[I 2024-10-20 01:52:35,944] Trial 85 finished with value: inf and parameters: {'learning_rate': 0.06686376519435737, 'hidden_size': 64, 'epochs': 30}. Best is trial 17 with value: 31.808462142944336.\n"
          ]
        },
        {
          "name": "stdout",
          "output_type": "stream",
          "text": [
            "NaN or Inf found in training loss!\n"
          ]
        },
        {
          "name": "stderr",
          "output_type": "stream",
          "text": [
            "[I 2024-10-20 01:52:36,544] Trial 53 finished with value: inf and parameters: {'learning_rate': 0.04394327870814106, 'hidden_size': 64, 'epochs': 12}. Best is trial 17 with value: 31.808462142944336.\n"
          ]
        },
        {
          "name": "stdout",
          "output_type": "stream",
          "text": [
            "NaN or Inf found in training loss!\n"
          ]
        },
        {
          "name": "stderr",
          "output_type": "stream",
          "text": [
            "[I 2024-10-20 01:52:36,986] Trial 25 finished with value: 1609.818603515625 and parameters: {'learning_rate': 0.00014237550996074565, 'hidden_size': 32, 'epochs': 12}. Best is trial 17 with value: 31.808462142944336.\n"
          ]
        },
        {
          "name": "stdout",
          "output_type": "stream",
          "text": [
            "Trial 25: MAE: 1609.818603515625, RMSE: 416226.84375\n"
          ]
        },
        {
          "name": "stderr",
          "output_type": "stream",
          "text": [
            "[I 2024-10-20 01:52:41,058] Trial 78 finished with value: inf and parameters: {'learning_rate': 0.01540217829981557, 'hidden_size': 64, 'epochs': 19}. Best is trial 17 with value: 31.808462142944336.\n"
          ]
        },
        {
          "name": "stdout",
          "output_type": "stream",
          "text": [
            "NaN or Inf found in training loss!\n"
          ]
        },
        {
          "name": "stderr",
          "output_type": "stream",
          "text": [
            "[I 2024-10-20 01:52:42,051] Trial 16 finished with value: inf and parameters: {'learning_rate': 0.05112145670121487, 'hidden_size': 128, 'epochs': 24}. Best is trial 17 with value: 31.808462142944336.\n"
          ]
        },
        {
          "name": "stdout",
          "output_type": "stream",
          "text": [
            "NaN or Inf found in training loss!\n"
          ]
        },
        {
          "name": "stderr",
          "output_type": "stream",
          "text": [
            "[I 2024-10-20 01:52:44,692] Trial 96 finished with value: inf and parameters: {'learning_rate': 0.009759537076830901, 'hidden_size': 64, 'epochs': 13}. Best is trial 17 with value: 31.808462142944336.\n"
          ]
        },
        {
          "name": "stdout",
          "output_type": "stream",
          "text": [
            "NaN or Inf found in training loss!\n"
          ]
        },
        {
          "name": "stderr",
          "output_type": "stream",
          "text": [
            "[I 2024-10-20 01:52:46,140] Trial 30 finished with value: 4.485020637512207 and parameters: {'learning_rate': 0.00010455777629730279, 'hidden_size': 32, 'epochs': 16}. Best is trial 30 with value: 4.485020637512207.\n"
          ]
        },
        {
          "name": "stdout",
          "output_type": "stream",
          "text": [
            "Trial 30: MAE: 4.485020637512207, RMSE: 9.864779472351074\n"
          ]
        },
        {
          "name": "stderr",
          "output_type": "stream",
          "text": [
            "[I 2024-10-20 01:52:48,098] Trial 80 finished with value: inf and parameters: {'learning_rate': 0.05935713611884994, 'hidden_size': 128, 'epochs': 18}. Best is trial 30 with value: 4.485020637512207.\n"
          ]
        },
        {
          "name": "stdout",
          "output_type": "stream",
          "text": [
            "NaN or Inf found in training loss!\n"
          ]
        },
        {
          "name": "stderr",
          "output_type": "stream",
          "text": [
            "[I 2024-10-20 01:52:48,447] Trial 37 finished with value: 4.77756929397583 and parameters: {'learning_rate': 1.7610666178015217e-05, 'hidden_size': 32, 'epochs': 15}. Best is trial 30 with value: 4.485020637512207.\n"
          ]
        },
        {
          "name": "stdout",
          "output_type": "stream",
          "text": [
            "Trial 37: MAE: 4.77756929397583, RMSE: 10.035243034362793\n"
          ]
        },
        {
          "name": "stderr",
          "output_type": "stream",
          "text": [
            "[I 2024-10-20 01:52:51,084] Trial 44 finished with value: inf and parameters: {'learning_rate': 0.0373073584668727, 'hidden_size': 128, 'epochs': 21}. Best is trial 30 with value: 4.485020637512207.\n"
          ]
        },
        {
          "name": "stdout",
          "output_type": "stream",
          "text": [
            "NaN or Inf found in training loss!\n"
          ]
        },
        {
          "name": "stderr",
          "output_type": "stream",
          "text": [
            "[I 2024-10-20 01:52:51,529] Trial 64 finished with value: inf and parameters: {'learning_rate': 0.009758719793259095, 'hidden_size': 128, 'epochs': 16}. Best is trial 30 with value: 4.485020637512207.\n"
          ]
        },
        {
          "name": "stdout",
          "output_type": "stream",
          "text": [
            "NaN or Inf found in training loss!\n"
          ]
        },
        {
          "name": "stderr",
          "output_type": "stream",
          "text": [
            "[I 2024-10-20 01:52:51,948] Trial 88 finished with value: inf and parameters: {'learning_rate': 0.03581189053751422, 'hidden_size': 128, 'epochs': 16}. Best is trial 30 with value: 4.485020637512207.\n"
          ]
        },
        {
          "name": "stdout",
          "output_type": "stream",
          "text": [
            "NaN or Inf found in training loss!\n"
          ]
        },
        {
          "name": "stderr",
          "output_type": "stream",
          "text": [
            "[I 2024-10-20 01:52:54,219] Trial 4 finished with value: 5.261358737945557 and parameters: {'learning_rate': 6.254432886346291e-05, 'hidden_size': 32, 'epochs': 21}. Best is trial 30 with value: 4.485020637512207.\n"
          ]
        },
        {
          "name": "stdout",
          "output_type": "stream",
          "text": [
            "Trial 4: MAE: 5.261358737945557, RMSE: 131.1140899658203\n"
          ]
        },
        {
          "name": "stderr",
          "output_type": "stream",
          "text": [
            "[I 2024-10-20 01:52:57,420] Trial 95 finished with value: inf and parameters: {'learning_rate': 0.04491933181180644, 'hidden_size': 128, 'epochs': 21}. Best is trial 30 with value: 4.485020637512207.\n"
          ]
        },
        {
          "name": "stdout",
          "output_type": "stream",
          "text": [
            "NaN or Inf found in training loss!\n"
          ]
        },
        {
          "name": "stderr",
          "output_type": "stream",
          "text": [
            "[I 2024-10-20 01:52:59,577] Trial 67 finished with value: inf and parameters: {'learning_rate': 0.004193715983103008, 'hidden_size': 128, 'epochs': 28}. Best is trial 30 with value: 4.485020637512207.\n"
          ]
        },
        {
          "name": "stdout",
          "output_type": "stream",
          "text": [
            "NaN or Inf found in training loss!\n"
          ]
        },
        {
          "name": "stderr",
          "output_type": "stream",
          "text": [
            "[I 2024-10-20 01:53:00,867] Trial 42 finished with value: 19.137805938720703 and parameters: {'learning_rate': 0.0012317262965510548, 'hidden_size': 32, 'epochs': 13}. Best is trial 30 with value: 4.485020637512207.\n"
          ]
        },
        {
          "name": "stdout",
          "output_type": "stream",
          "text": [
            "Trial 42: MAE: 19.137805938720703, RMSE: 2313.297119140625\n"
          ]
        },
        {
          "name": "stderr",
          "output_type": "stream",
          "text": [
            "[I 2024-10-20 01:53:04,263] Trial 62 finished with value: inf and parameters: {'learning_rate': 3.781480822739834e-05, 'hidden_size': 32, 'epochs': 14}. Best is trial 30 with value: 4.485020637512207.\n"
          ]
        },
        {
          "name": "stdout",
          "output_type": "stream",
          "text": [
            "Invalid values detected in predictions after transformation!\n"
          ]
        },
        {
          "name": "stderr",
          "output_type": "stream",
          "text": [
            "[I 2024-10-20 01:53:06,945] Trial 8 finished with value: 3.1857380867004395 and parameters: {'learning_rate': 0.005649156123457835, 'hidden_size': 32, 'epochs': 28}. Best is trial 8 with value: 3.1857380867004395.\n"
          ]
        },
        {
          "name": "stdout",
          "output_type": "stream",
          "text": [
            "Trial 8: MAE: 3.1857380867004395, RMSE: 9.321539878845215\n"
          ]
        },
        {
          "name": "stderr",
          "output_type": "stream",
          "text": [
            "[I 2024-10-20 01:53:07,493] Trial 119 finished with value: 1.4826884881763068e+27 and parameters: {'learning_rate': 1.0066522577834384e-05, 'hidden_size': 32, 'epochs': 15}. Best is trial 8 with value: 3.1857380867004395.\n"
          ]
        },
        {
          "name": "stdout",
          "output_type": "stream",
          "text": [
            "Trial 119: MAE: 1.4826884881763068e+27, RMSE: inf\n"
          ]
        },
        {
          "name": "stderr",
          "output_type": "stream",
          "text": [
            "[I 2024-10-20 01:53:07,812] Trial 113 finished with value: 9.940860748291016 and parameters: {'learning_rate': 0.0001265388643441824, 'hidden_size': 32, 'epochs': 14}. Best is trial 8 with value: 3.1857380867004395.\n"
          ]
        },
        {
          "name": "stdout",
          "output_type": "stream",
          "text": [
            "Trial 113: MAE: 9.940860748291016, RMSE: 559.3546142578125\n"
          ]
        },
        {
          "name": "stderr",
          "output_type": "stream",
          "text": [
            "[I 2024-10-20 01:53:10,075] Trial 63 finished with value: 3.178704261779785 and parameters: {'learning_rate': 0.005665082484695332, 'hidden_size': 32, 'epochs': 23}. Best is trial 63 with value: 3.178704261779785.\n"
          ]
        },
        {
          "name": "stdout",
          "output_type": "stream",
          "text": [
            "Trial 63: MAE: 3.178704261779785, RMSE: 9.289875984191895\n"
          ]
        },
        {
          "name": "stderr",
          "output_type": "stream",
          "text": [
            "[I 2024-10-20 01:53:11,508] Trial 117 finished with value: 7.17172908782959 and parameters: {'learning_rate': 0.0003114226848694977, 'hidden_size': 32, 'epochs': 14}. Best is trial 63 with value: 3.178704261779785.\n"
          ]
        },
        {
          "name": "stdout",
          "output_type": "stream",
          "text": [
            "Trial 117: MAE: 7.17172908782959, RMSE: 143.1230926513672\n"
          ]
        },
        {
          "name": "stderr",
          "output_type": "stream",
          "text": [
            "[I 2024-10-20 01:53:12,563] Trial 126 finished with value: 5.143430709838867 and parameters: {'learning_rate': 1.0212180148710436e-05, 'hidden_size': 32, 'epochs': 14}. Best is trial 63 with value: 3.178704261779785.\n"
          ]
        },
        {
          "name": "stdout",
          "output_type": "stream",
          "text": [
            "Trial 126: MAE: 5.143430709838867, RMSE: 10.202244758605957\n"
          ]
        },
        {
          "name": "stderr",
          "output_type": "stream",
          "text": [
            "[I 2024-10-20 01:53:15,451] Trial 93 finished with value: 3.7888219356536865 and parameters: {'learning_rate': 0.00032685735442730316, 'hidden_size': 32, 'epochs': 13}. Best is trial 63 with value: 3.178704261779785.\n"
          ]
        },
        {
          "name": "stdout",
          "output_type": "stream",
          "text": [
            "Trial 93: MAE: 3.7888219356536865, RMSE: 9.427624702453613\n"
          ]
        },
        {
          "name": "stderr",
          "output_type": "stream",
          "text": [
            "[I 2024-10-20 01:53:16,004] Trial 89 finished with value: 22065000218624.0 and parameters: {'learning_rate': 1.5059269994925632e-05, 'hidden_size': 32, 'epochs': 11}. Best is trial 63 with value: 3.178704261779785.\n"
          ]
        },
        {
          "name": "stdout",
          "output_type": "stream",
          "text": [
            "Trial 89: MAE: 22065000218624.0, RMSE: 7642031551676416.0\n"
          ]
        },
        {
          "name": "stderr",
          "output_type": "stream",
          "text": [
            "[I 2024-10-20 01:53:17,216] Trial 39 finished with value: 4.3388190269470215 and parameters: {'learning_rate': 0.00012241302581200814, 'hidden_size': 32, 'epochs': 21}. Best is trial 63 with value: 3.178704261779785.\n"
          ]
        },
        {
          "name": "stdout",
          "output_type": "stream",
          "text": [
            "Trial 39: MAE: 4.3388190269470215, RMSE: 10.631287574768066\n"
          ]
        },
        {
          "name": "stderr",
          "output_type": "stream",
          "text": [
            "[I 2024-10-20 01:53:19,147] Trial 19 finished with value: 3.170053005218506 and parameters: {'learning_rate': 0.005293590075732399, 'hidden_size': 32, 'epochs': 27}. Best is trial 19 with value: 3.170053005218506.\n",
            "[I 2024-10-20 01:53:19,269] Trial 35 finished with value: 3.5188426971435547 and parameters: {'learning_rate': 0.0006595117179121103, 'hidden_size': 32, 'epochs': 14}. Best is trial 19 with value: 3.170053005218506.\n",
            "[I 2024-10-20 01:53:19,277] Trial 92 finished with value: 31.965425491333008 and parameters: {'learning_rate': 0.0017552241733833562, 'hidden_size': 32, 'epochs': 27}. Best is trial 19 with value: 3.170053005218506.\n"
          ]
        },
        {
          "name": "stdout",
          "output_type": "stream",
          "text": [
            "Trial 35: MAE: 3.5188426971435547, RMSE: 9.336856842041016\n",
            "Trial 19: MAE: 3.170053005218506, RMSE: 9.25305461883545\n",
            "Trial 92: MAE: 31.965425491333008, RMSE: 4308.5078125\n"
          ]
        },
        {
          "name": "stderr",
          "output_type": "stream",
          "text": [
            "[I 2024-10-20 01:53:22,996] Trial 45 finished with value: 32014.78125 and parameters: {'learning_rate': 0.00023710959750439624, 'hidden_size': 32, 'epochs': 25}. Best is trial 19 with value: 3.170053005218506.\n"
          ]
        },
        {
          "name": "stdout",
          "output_type": "stream",
          "text": [
            "Trial 45: MAE: 32014.78125, RMSE: 9931572.0\n"
          ]
        },
        {
          "name": "stderr",
          "output_type": "stream",
          "text": [
            "[I 2024-10-20 01:53:24,048] Trial 129 finished with value: 182.5926055908203 and parameters: {'learning_rate': 0.00010068221425847298, 'hidden_size': 32, 'epochs': 25}. Best is trial 19 with value: 3.170053005218506.\n"
          ]
        },
        {
          "name": "stdout",
          "output_type": "stream",
          "text": [
            "Trial 129: MAE: 182.5926055908203, RMSE: 30654.97265625\n"
          ]
        },
        {
          "name": "stderr",
          "output_type": "stream",
          "text": [
            "[I 2024-10-20 01:53:26,822] Trial 79 finished with value: 11.129688262939453 and parameters: {'learning_rate': 0.0038833488210893263, 'hidden_size': 32, 'epochs': 27}. Best is trial 19 with value: 3.170053005218506.\n"
          ]
        },
        {
          "name": "stdout",
          "output_type": "stream",
          "text": [
            "Trial 79: MAE: 11.129688262939453, RMSE: 1055.991943359375\n"
          ]
        },
        {
          "name": "stderr",
          "output_type": "stream",
          "text": [
            "[I 2024-10-20 01:53:31,172] Trial 28 finished with value: 3.609520435333252 and parameters: {'learning_rate': 0.005663707342506924, 'hidden_size': 32, 'epochs': 20}. Best is trial 19 with value: 3.170053005218506.\n"
          ]
        },
        {
          "name": "stdout",
          "output_type": "stream",
          "text": [
            "Trial 28: MAE: 3.609520435333252, RMSE: 9.50221061706543\n"
          ]
        },
        {
          "name": "stderr",
          "output_type": "stream",
          "text": [
            "[I 2024-10-20 01:53:33,244] Trial 133 finished with value: 4.701374530792236 and parameters: {'learning_rate': 1.3546409470323525e-05, 'hidden_size': 32, 'epochs': 26}. Best is trial 19 with value: 3.170053005218506.\n"
          ]
        },
        {
          "name": "stdout",
          "output_type": "stream",
          "text": [
            "Trial 133: MAE: 4.701374530792236, RMSE: 9.979072570800781\n"
          ]
        },
        {
          "name": "stderr",
          "output_type": "stream",
          "text": [
            "[I 2024-10-20 01:53:36,196] Trial 57 finished with value: 27094354.0 and parameters: {'learning_rate': 0.0023816753418519658, 'hidden_size': 32, 'epochs': 21}. Best is trial 19 with value: 3.170053005218506.\n"
          ]
        },
        {
          "name": "stdout",
          "output_type": "stream",
          "text": [
            "Trial 57: MAE: 27094354.0, RMSE: 8422499328.0\n"
          ]
        },
        {
          "name": "stderr",
          "output_type": "stream",
          "text": [
            "[I 2024-10-20 01:53:37,293] Trial 71 finished with value: 13.27570629119873 and parameters: {'learning_rate': 0.00046314597152564974, 'hidden_size': 32, 'epochs': 27}. Best is trial 19 with value: 3.170053005218506.\n"
          ]
        },
        {
          "name": "stdout",
          "output_type": "stream",
          "text": [
            "Trial 71: MAE: 13.27570629119873, RMSE: 1766.8128662109375\n"
          ]
        },
        {
          "name": "stderr",
          "output_type": "stream",
          "text": [
            "[I 2024-10-20 01:53:38,236] Trial 123 finished with value: 8.297478675842285 and parameters: {'learning_rate': 1.9783261259544293e-05, 'hidden_size': 32, 'epochs': 14}. Best is trial 19 with value: 3.170053005218506.\n"
          ]
        },
        {
          "name": "stdout",
          "output_type": "stream",
          "text": [
            "Trial 123: MAE: 8.297478675842285, RMSE: 281.9812316894531\n"
          ]
        },
        {
          "name": "stderr",
          "output_type": "stream",
          "text": [
            "[I 2024-10-20 01:53:40,873] Trial 3 finished with value: 2.1131211179032576e+16 and parameters: {'learning_rate': 0.0001757000723819508, 'hidden_size': 32, 'epochs': 24}. Best is trial 19 with value: 3.170053005218506.\n"
          ]
        },
        {
          "name": "stdout",
          "output_type": "stream",
          "text": [
            "Trial 3: MAE: 2.1131211179032576e+16, RMSE: inf\n"
          ]
        },
        {
          "name": "stderr",
          "output_type": "stream",
          "text": [
            "[I 2024-10-20 01:53:43,891] Trial 130 finished with value: 4.8552937507629395 and parameters: {'learning_rate': 8.404680089760604e-05, 'hidden_size': 32, 'epochs': 27}. Best is trial 19 with value: 3.170053005218506.\n"
          ]
        },
        {
          "name": "stdout",
          "output_type": "stream",
          "text": [
            "Trial 130: MAE: 4.8552937507629395, RMSE: 89.85299682617188\n"
          ]
        },
        {
          "name": "stderr",
          "output_type": "stream",
          "text": [
            "[I 2024-10-20 01:53:47,610] Trial 124 finished with value: inf and parameters: {'learning_rate': 1.2572274411511906e-05, 'hidden_size': 32, 'epochs': 14}. Best is trial 19 with value: 3.170053005218506.\n"
          ]
        },
        {
          "name": "stdout",
          "output_type": "stream",
          "text": [
            "Invalid values detected in predictions after transformation!\n"
          ]
        },
        {
          "name": "stderr",
          "output_type": "stream",
          "text": [
            "[I 2024-10-20 01:53:51,618] Trial 144 finished with value: 3.572746992111206 and parameters: {'learning_rate': 0.0006633547389411332, 'hidden_size': 32, 'epochs': 23}. Best is trial 19 with value: 3.170053005218506.\n"
          ]
        },
        {
          "name": "stdout",
          "output_type": "stream",
          "text": [
            "Trial 144: MAE: 3.572746992111206, RMSE: 9.406432151794434\n"
          ]
        },
        {
          "name": "stderr",
          "output_type": "stream",
          "text": [
            "[I 2024-10-20 01:53:53,494] Trial 136 finished with value: 3.3509361743927 and parameters: {'learning_rate': 0.0023405867678010844, 'hidden_size': 32, 'epochs': 26}. Best is trial 19 with value: 3.170053005218506.\n"
          ]
        },
        {
          "name": "stdout",
          "output_type": "stream",
          "text": [
            "Trial 136: MAE: 3.3509361743927, RMSE: 9.314045906066895\n"
          ]
        },
        {
          "name": "stderr",
          "output_type": "stream",
          "text": [
            "[I 2024-10-20 01:53:59,371] Trial 131 finished with value: 3.5445055961608887 and parameters: {'learning_rate': 0.0030571772871056968, 'hidden_size': 32, 'epochs': 23}. Best is trial 19 with value: 3.170053005218506.\n"
          ]
        },
        {
          "name": "stdout",
          "output_type": "stream",
          "text": [
            "Trial 131: MAE: 3.5445055961608887, RMSE: 10.956006050109863\n"
          ]
        },
        {
          "name": "stderr",
          "output_type": "stream",
          "text": [
            "[I 2024-10-20 01:54:02,265] Trial 139 finished with value: 3.7309529781341553 and parameters: {'learning_rate': 0.0031629058156186253, 'hidden_size': 32, 'epochs': 27}. Best is trial 19 with value: 3.170053005218506.\n"
          ]
        },
        {
          "name": "stdout",
          "output_type": "stream",
          "text": [
            "Trial 139: MAE: 3.7309529781341553, RMSE: 9.534320831298828\n"
          ]
        },
        {
          "name": "stderr",
          "output_type": "stream",
          "text": [
            "[I 2024-10-20 01:54:02,934] Trial 127 finished with value: inf and parameters: {'learning_rate': 1.240343017246788e-05, 'hidden_size': 32, 'epochs': 19}. Best is trial 19 with value: 3.170053005218506.\n"
          ]
        },
        {
          "name": "stdout",
          "output_type": "stream",
          "text": [
            "Invalid values detected in predictions after transformation!\n"
          ]
        },
        {
          "name": "stderr",
          "output_type": "stream",
          "text": [
            "[I 2024-10-20 01:54:05,438] Trial 116 finished with value: 4.075639247894287 and parameters: {'learning_rate': 0.00010919312708136301, 'hidden_size': 32, 'epochs': 14}. Best is trial 19 with value: 3.170053005218506.\n"
          ]
        },
        {
          "name": "stdout",
          "output_type": "stream",
          "text": [
            "Trial 116: MAE: 4.075639247894287, RMSE: 9.581035614013672\n"
          ]
        },
        {
          "name": "stderr",
          "output_type": "stream",
          "text": [
            "[I 2024-10-20 01:54:09,435] Trial 122 finished with value: 25.44314193725586 and parameters: {'learning_rate': 1.1658955403167266e-05, 'hidden_size': 32, 'epochs': 14}. Best is trial 19 with value: 3.170053005218506.\n"
          ]
        },
        {
          "name": "stdout",
          "output_type": "stream",
          "text": [
            "Trial 122: MAE: 25.44314193725586, RMSE: 2623.376220703125\n"
          ]
        },
        {
          "name": "stderr",
          "output_type": "stream",
          "text": [
            "[I 2024-10-20 01:54:10,152] Trial 137 finished with value: 3.5045032501220703 and parameters: {'learning_rate': 0.0029874049103775753, 'hidden_size': 32, 'epochs': 26}. Best is trial 19 with value: 3.170053005218506.\n"
          ]
        },
        {
          "name": "stdout",
          "output_type": "stream",
          "text": [
            "Trial 137: MAE: 3.5045032501220703, RMSE: 9.38420295715332\n"
          ]
        },
        {
          "name": "stderr",
          "output_type": "stream",
          "text": [
            "[I 2024-10-20 01:54:12,938] Trial 141 finished with value: 9.533454895019531 and parameters: {'learning_rate': 0.0006979887453254783, 'hidden_size': 32, 'epochs': 23}. Best is trial 19 with value: 3.170053005218506.\n"
          ]
        },
        {
          "name": "stdout",
          "output_type": "stream",
          "text": [
            "Trial 141: MAE: 9.533454895019531, RMSE: 762.3180541992188\n"
          ]
        },
        {
          "name": "stderr",
          "output_type": "stream",
          "text": [
            "[I 2024-10-20 01:54:13,528] Trial 159 finished with value: inf and parameters: {'learning_rate': 0.0068031035212701724, 'hidden_size': 32, 'epochs': 29}. Best is trial 19 with value: 3.170053005218506.\n"
          ]
        },
        {
          "name": "stdout",
          "output_type": "stream",
          "text": [
            "NaN or Inf found in training loss!\n"
          ]
        },
        {
          "name": "stderr",
          "output_type": "stream",
          "text": [
            "[I 2024-10-20 01:54:14,366] Trial 149 finished with value: 3.9948337078094482 and parameters: {'learning_rate': 0.0006946795284807862, 'hidden_size': 32, 'epochs': 23}. Best is trial 19 with value: 3.170053005218506.\n"
          ]
        },
        {
          "name": "stdout",
          "output_type": "stream",
          "text": [
            "Trial 149: MAE: 3.9948337078094482, RMSE: 35.592350006103516\n"
          ]
        },
        {
          "name": "stderr",
          "output_type": "stream",
          "text": [
            "[I 2024-10-20 01:54:15,603] Trial 151 finished with value: 3.8636457920074463 and parameters: {'learning_rate': 0.0005400969979799332, 'hidden_size': 32, 'epochs': 23}. Best is trial 19 with value: 3.170053005218506.\n"
          ]
        },
        {
          "name": "stdout",
          "output_type": "stream",
          "text": [
            "Trial 151: MAE: 3.8636457920074463, RMSE: 15.004979133605957\n"
          ]
        },
        {
          "name": "stderr",
          "output_type": "stream",
          "text": [
            "[I 2024-10-20 01:54:19,161] Trial 75 finished with value: 5.143321514129639 and parameters: {'learning_rate': 1.844900879449101e-05, 'hidden_size': 32, 'epochs': 23}. Best is trial 19 with value: 3.170053005218506.\n"
          ]
        },
        {
          "name": "stdout",
          "output_type": "stream",
          "text": [
            "Trial 75: MAE: 5.143321514129639, RMSE: 10.198654174804688\n"
          ]
        },
        {
          "name": "stderr",
          "output_type": "stream",
          "text": [
            "[I 2024-10-20 01:54:24,165] Trial 73 finished with value: 1.95344240783498e+29 and parameters: {'learning_rate': 3.881129206413089e-05, 'hidden_size': 32, 'epochs': 29}. Best is trial 19 with value: 3.170053005218506.\n"
          ]
        },
        {
          "name": "stdout",
          "output_type": "stream",
          "text": [
            "Trial 73: MAE: 1.95344240783498e+29, RMSE: inf\n"
          ]
        },
        {
          "name": "stderr",
          "output_type": "stream",
          "text": [
            "[I 2024-10-20 01:54:31,279] Trial 154 finished with value: 30.557567596435547 and parameters: {'learning_rate': 0.000723852790628438, 'hidden_size': 32, 'epochs': 23}. Best is trial 19 with value: 3.170053005218506.\n"
          ]
        },
        {
          "name": "stdout",
          "output_type": "stream",
          "text": [
            "Trial 154: MAE: 30.557567596435547, RMSE: 4036.92578125\n"
          ]
        },
        {
          "name": "stderr",
          "output_type": "stream",
          "text": [
            "[I 2024-10-20 01:54:31,780] Trial 52 finished with value: 4.045534610748291 and parameters: {'learning_rate': 0.0001338364577149181, 'hidden_size': 32, 'epochs': 26}. Best is trial 19 with value: 3.170053005218506.\n"
          ]
        },
        {
          "name": "stdout",
          "output_type": "stream",
          "text": [
            "Trial 52: MAE: 4.045534610748291, RMSE: 9.617939949035645\n"
          ]
        },
        {
          "name": "stderr",
          "output_type": "stream",
          "text": [
            "[I 2024-10-20 01:54:32,826] Trial 128 finished with value: 5.144805431365967 and parameters: {'learning_rate': 1.0848173098990843e-05, 'hidden_size': 32, 'epochs': 26}. Best is trial 19 with value: 3.170053005218506.\n"
          ]
        },
        {
          "name": "stdout",
          "output_type": "stream",
          "text": [
            "Trial 128: MAE: 5.144805431365967, RMSE: 10.201904296875\n"
          ]
        },
        {
          "name": "stderr",
          "output_type": "stream",
          "text": [
            "[I 2024-10-20 01:54:34,131] Trial 114 finished with value: 8.942537307739258 and parameters: {'learning_rate': 0.00012980194198159039, 'hidden_size': 32, 'epochs': 15}. Best is trial 19 with value: 3.170053005218506.\n"
          ]
        },
        {
          "name": "stdout",
          "output_type": "stream",
          "text": [
            "Trial 114: MAE: 8.942537307739258, RMSE: 698.3762817382812\n"
          ]
        },
        {
          "name": "stderr",
          "output_type": "stream",
          "text": [
            "[I 2024-10-20 01:54:34,627] Trial 132 finished with value: 3.54022479057312 and parameters: {'learning_rate': 0.002563474740286363, 'hidden_size': 32, 'epochs': 26}. Best is trial 19 with value: 3.170053005218506.\n"
          ]
        },
        {
          "name": "stdout",
          "output_type": "stream",
          "text": [
            "Trial 132: MAE: 3.54022479057312, RMSE: 12.965740203857422\n"
          ]
        },
        {
          "name": "stderr",
          "output_type": "stream",
          "text": [
            "[I 2024-10-20 01:54:34,879] Trial 162 finished with value: 625.6575927734375 and parameters: {'learning_rate': 0.0014589320903297977, 'hidden_size': 32, 'epochs': 24}. Best is trial 19 with value: 3.170053005218506.\n",
            "[I 2024-10-20 01:54:34,937] Trial 153 finished with value: 488.58502197265625 and parameters: {'learning_rate': 0.0007595845057381989, 'hidden_size': 32, 'epochs': 23}. Best is trial 19 with value: 3.170053005218506.\n"
          ]
        },
        {
          "name": "stdout",
          "output_type": "stream",
          "text": [
            "Trial 162: MAE: 625.6575927734375, RMSE: 130063.546875\n",
            "Trial 153: MAE: 488.58502197265625, RMSE: 115541.1640625\n"
          ]
        },
        {
          "name": "stderr",
          "output_type": "stream",
          "text": [
            "[I 2024-10-20 01:54:37,099] Trial 161 finished with value: 4.173457145690918 and parameters: {'learning_rate': 0.0021567220856081827, 'hidden_size': 32, 'epochs': 24}. Best is trial 19 with value: 3.170053005218506.\n",
            "[I 2024-10-20 01:54:37,249] Trial 146 finished with value: 8.001944541931152 and parameters: {'learning_rate': 0.0006407803641398813, 'hidden_size': 32, 'epochs': 23}. Best is trial 19 with value: 3.170053005218506.\n"
          ]
        },
        {
          "name": "stdout",
          "output_type": "stream",
          "text": [
            "Trial 161: MAE: 4.173457145690918, RMSE: 77.60692596435547\n",
            "Trial 146: MAE: 8.001944541931152, RMSE: 406.0018615722656\n"
          ]
        },
        {
          "name": "stderr",
          "output_type": "stream",
          "text": [
            "[I 2024-10-20 01:54:37,589] Trial 150 finished with value: 3.551649332046509 and parameters: {'learning_rate': 0.0006706770647365197, 'hidden_size': 32, 'epochs': 22}. Best is trial 19 with value: 3.170053005218506.\n"
          ]
        },
        {
          "name": "stdout",
          "output_type": "stream",
          "text": [
            "Trial 150: MAE: 3.551649332046509, RMSE: 9.290229797363281\n"
          ]
        },
        {
          "name": "stderr",
          "output_type": "stream",
          "text": [
            "[I 2024-10-20 01:54:39,402] Trial 134 finished with value: 3.1909234523773193 and parameters: {'learning_rate': 0.0048043124200065086, 'hidden_size': 32, 'epochs': 25}. Best is trial 19 with value: 3.170053005218506.\n"
          ]
        },
        {
          "name": "stdout",
          "output_type": "stream",
          "text": [
            "Trial 134: MAE: 3.1909234523773193, RMSE: 9.34417724609375\n"
          ]
        },
        {
          "name": "stderr",
          "output_type": "stream",
          "text": [
            "[I 2024-10-20 01:54:39,845] Trial 115 finished with value: 575805194240.0 and parameters: {'learning_rate': 0.00011630827099740205, 'hidden_size': 32, 'epochs': 14}. Best is trial 19 with value: 3.170053005218506.\n",
            "[I 2024-10-20 01:54:39,867] Trial 152 finished with value: 22319.67578125 and parameters: {'learning_rate': 0.0008221378586410578, 'hidden_size': 32, 'epochs': 23}. Best is trial 19 with value: 3.170053005218506.\n"
          ]
        },
        {
          "name": "stdout",
          "output_type": "stream",
          "text": [
            "Trial 152: MAE: 22319.67578125, RMSE: 5609453.0\n",
            "Trial 115: MAE: 575805194240.0, RMSE: 157116161589248.0\n"
          ]
        },
        {
          "name": "stderr",
          "output_type": "stream",
          "text": [
            "[I 2024-10-20 01:54:42,458] Trial 121 finished with value: 5.196540355682373 and parameters: {'learning_rate': 1.0428672732768395e-05, 'hidden_size': 32, 'epochs': 14}. Best is trial 19 with value: 3.170053005218506.\n",
            "[I 2024-10-20 01:54:42,557] Trial 147 finished with value: 3.9431934356689453 and parameters: {'learning_rate': 0.0006899914979529507, 'hidden_size': 32, 'epochs': 30}. Best is trial 19 with value: 3.170053005218506.\n"
          ]
        },
        {
          "name": "stdout",
          "output_type": "stream",
          "text": [
            "Trial 121: MAE: 5.196540355682373, RMSE: 10.228422164916992\n",
            "Trial 147: MAE: 3.9431934356689453, RMSE: 34.85292434692383\n"
          ]
        },
        {
          "name": "stderr",
          "output_type": "stream",
          "text": [
            "[I 2024-10-20 01:54:44,981] Trial 145 finished with value: 3.713747978210449 and parameters: {'learning_rate': 0.0005901919255760055, 'hidden_size': 32, 'epochs': 23}. Best is trial 19 with value: 3.170053005218506.\n",
            "[I 2024-10-20 01:54:45,114] Trial 160 finished with value: 2410345.25 and parameters: {'learning_rate': 0.001504638169686242, 'hidden_size': 32, 'epochs': 23}. Best is trial 19 with value: 3.170053005218506.\n"
          ]
        },
        {
          "name": "stdout",
          "output_type": "stream",
          "text": [
            "Trial 145: MAE: 3.713747978210449, RMSE: 9.458608627319336\n",
            "Trial 160: MAE: 2410345.25, RMSE: 560693504.0\n"
          ]
        },
        {
          "name": "stderr",
          "output_type": "stream",
          "text": [
            "[I 2024-10-20 01:54:46,284] Trial 120 finished with value: 4.78009531174314e+21 and parameters: {'learning_rate': 1.8079327825901114e-05, 'hidden_size': 32, 'epochs': 15}. Best is trial 19 with value: 3.170053005218506.\n"
          ]
        },
        {
          "name": "stdout",
          "output_type": "stream",
          "text": [
            "Trial 120: MAE: 4.78009531174314e+21, RMSE: inf\n"
          ]
        },
        {
          "name": "stderr",
          "output_type": "stream",
          "text": [
            "[I 2024-10-20 01:54:47,768] Trial 142 finished with value: 117.34351348876953 and parameters: {'learning_rate': 0.0005995745602679763, 'hidden_size': 32, 'epochs': 23}. Best is trial 19 with value: 3.170053005218506.\n"
          ]
        },
        {
          "name": "stdout",
          "output_type": "stream",
          "text": [
            "Trial 142: MAE: 117.34351348876953, RMSE: 17191.4453125\n"
          ]
        },
        {
          "name": "stderr",
          "output_type": "stream",
          "text": [
            "[I 2024-10-20 01:54:49,468] Trial 125 finished with value: 8.287001609802246 and parameters: {'learning_rate': 1.1813781764886394e-05, 'hidden_size': 32, 'epochs': 14}. Best is trial 19 with value: 3.170053005218506.\n"
          ]
        },
        {
          "name": "stdout",
          "output_type": "stream",
          "text": [
            "Trial 125: MAE: 8.287001609802246, RMSE: 113.55701446533203\n"
          ]
        },
        {
          "name": "stderr",
          "output_type": "stream",
          "text": [
            "[I 2024-10-20 01:54:50,058] Trial 118 finished with value: 8.7845458984375 and parameters: {'learning_rate': 0.00028720027692101974, 'hidden_size': 32, 'epochs': 15}. Best is trial 19 with value: 3.170053005218506.\n"
          ]
        },
        {
          "name": "stdout",
          "output_type": "stream",
          "text": [
            "Trial 118: MAE: 8.7845458984375, RMSE: 715.0428466796875\n"
          ]
        },
        {
          "name": "stderr",
          "output_type": "stream",
          "text": [
            "[I 2024-10-20 01:54:54,183] Trial 140 finished with value: 8936639488.0 and parameters: {'learning_rate': 0.003494725366246292, 'hidden_size': 32, 'epochs': 23}. Best is trial 19 with value: 3.170053005218506.\n"
          ]
        },
        {
          "name": "stdout",
          "output_type": "stream",
          "text": [
            "Trial 140: MAE: 8936639488.0, RMSE: 3052268158976.0\n"
          ]
        },
        {
          "name": "stderr",
          "output_type": "stream",
          "text": [
            "[I 2024-10-20 01:54:57,078] Trial 170 finished with value: 3.8656396865844727 and parameters: {'learning_rate': 0.0022731297280014664, 'hidden_size': 32, 'epochs': 24}. Best is trial 19 with value: 3.170053005218506.\n",
            "[I 2024-10-20 01:54:57,168] Trial 15 finished with value: 33777092919296.0 and parameters: {'learning_rate': 1.828624558198763e-05, 'hidden_size': 32, 'epochs': 25}. Best is trial 19 with value: 3.170053005218506.\n"
          ]
        },
        {
          "name": "stdout",
          "output_type": "stream",
          "text": [
            "Trial 170: MAE: 3.8656396865844727, RMSE: 9.593331336975098\n",
            "Trial 15: MAE: 33777092919296.0, RMSE: 1.278816311836672e+16\n"
          ]
        },
        {
          "name": "stderr",
          "output_type": "stream",
          "text": [
            "[I 2024-10-20 01:55:02,749] Trial 172 finished with value: 3.8094043731689453 and parameters: {'learning_rate': 0.00494988151577539, 'hidden_size': 32, 'epochs': 28}. Best is trial 19 with value: 3.170053005218506.\n"
          ]
        },
        {
          "name": "stdout",
          "output_type": "stream",
          "text": [
            "Trial 172: MAE: 3.8094043731689453, RMSE: 9.56179428100586\n"
          ]
        },
        {
          "name": "stderr",
          "output_type": "stream",
          "text": [
            "[I 2024-10-20 01:55:03,570] Trial 167 finished with value: 3.445202112197876 and parameters: {'learning_rate': 0.001916792675868207, 'hidden_size': 32, 'epochs': 24}. Best is trial 19 with value: 3.170053005218506.\n"
          ]
        },
        {
          "name": "stdout",
          "output_type": "stream",
          "text": [
            "Trial 167: MAE: 3.445202112197876, RMSE: 9.386147499084473\n"
          ]
        },
        {
          "name": "stderr",
          "output_type": "stream",
          "text": [
            "[I 2024-10-20 01:55:04,686] Trial 158 finished with value: 3.53548264503479 and parameters: {'learning_rate': 0.0016138498870499085, 'hidden_size': 32, 'epochs': 29}. Best is trial 19 with value: 3.170053005218506.\n"
          ]
        },
        {
          "name": "stdout",
          "output_type": "stream",
          "text": [
            "Trial 158: MAE: 3.53548264503479, RMSE: 9.390584945678711\n"
          ]
        },
        {
          "name": "stderr",
          "output_type": "stream",
          "text": [
            "[I 2024-10-20 01:55:10,181] Trial 171 finished with value: 36105039872.0 and parameters: {'learning_rate': 0.002347247520486777, 'hidden_size': 32, 'epochs': 22}. Best is trial 19 with value: 3.170053005218506.\n"
          ]
        },
        {
          "name": "stdout",
          "output_type": "stream",
          "text": [
            "Trial 171: MAE: 36105039872.0, RMSE: 13638476759040.0\n"
          ]
        },
        {
          "name": "stderr",
          "output_type": "stream",
          "text": [
            "[I 2024-10-20 01:55:10,591] Trial 165 finished with value: 46797.0546875 and parameters: {'learning_rate': 0.0014862319496915214, 'hidden_size': 32, 'epochs': 24}. Best is trial 19 with value: 3.170053005218506.\n"
          ]
        },
        {
          "name": "stdout",
          "output_type": "stream",
          "text": [
            "Trial 165: MAE: 46797.0546875, RMSE: 10957991.0\n"
          ]
        },
        {
          "name": "stderr",
          "output_type": "stream",
          "text": [
            "[I 2024-10-20 01:55:12,894] Trial 155 finished with value: 7.3700337409973145 and parameters: {'learning_rate': 0.0006778876454708703, 'hidden_size': 32, 'epochs': 23}. Best is trial 19 with value: 3.170053005218506.\n"
          ]
        },
        {
          "name": "stdout",
          "output_type": "stream",
          "text": [
            "Trial 155: MAE: 7.3700337409973145, RMSE: 374.33489990234375\n"
          ]
        },
        {
          "name": "stderr",
          "output_type": "stream",
          "text": [
            "[I 2024-10-20 01:55:16,754] Trial 174 finished with value: 3.446167230606079 and parameters: {'learning_rate': 0.005296931591630029, 'hidden_size': 32, 'epochs': 22}. Best is trial 19 with value: 3.170053005218506.\n"
          ]
        },
        {
          "name": "stdout",
          "output_type": "stream",
          "text": [
            "Trial 174: MAE: 3.446167230606079, RMSE: 9.37857437133789\n"
          ]
        },
        {
          "name": "stderr",
          "output_type": "stream",
          "text": [
            "[I 2024-10-20 01:55:26,289] Trial 177 finished with value: inf and parameters: {'learning_rate': 0.004572274331054348, 'hidden_size': 128, 'epochs': 25}. Best is trial 19 with value: 3.170053005218506.\n"
          ]
        },
        {
          "name": "stdout",
          "output_type": "stream",
          "text": [
            "NaN or Inf found in training loss!\n"
          ]
        },
        {
          "name": "stderr",
          "output_type": "stream",
          "text": [
            "[I 2024-10-20 01:55:26,790] Trial 148 finished with value: 217433.96875 and parameters: {'learning_rate': 0.000671702178219641, 'hidden_size': 32, 'epochs': 23}. Best is trial 19 with value: 3.170053005218506.\n"
          ]
        },
        {
          "name": "stdout",
          "output_type": "stream",
          "text": [
            "Trial 148: MAE: 217433.96875, RMSE: 64261176.0\n",
            "NaN or Inf found in training loss!\n",
            "NaN or Inf found in training loss!\n"
          ]
        },
        {
          "name": "stderr",
          "output_type": "stream",
          "text": [
            "[I 2024-10-20 01:55:27,014] Trial 178 finished with value: inf and parameters: {'learning_rate': 0.00487379709327904, 'hidden_size': 128, 'epochs': 28}. Best is trial 19 with value: 3.170053005218506.\n",
            "[I 2024-10-20 01:55:27,238] Trial 176 finished with value: inf and parameters: {'learning_rate': 0.005231467574748525, 'hidden_size': 128, 'epochs': 25}. Best is trial 19 with value: 3.170053005218506.\n",
            "[I 2024-10-20 01:55:28,077] Trial 164 finished with value: 5344978.5 and parameters: {'learning_rate': 0.0016989285374971433, 'hidden_size': 32, 'epochs': 24}. Best is trial 19 with value: 3.170053005218506.\n"
          ]
        },
        {
          "name": "stdout",
          "output_type": "stream",
          "text": [
            "Trial 164: MAE: 5344978.5, RMSE: 1164523136.0\n"
          ]
        },
        {
          "name": "stderr",
          "output_type": "stream",
          "text": [
            "[I 2024-10-20 01:55:28,658] Trial 180 finished with value: inf and parameters: {'learning_rate': 0.004774996979114551, 'hidden_size': 128, 'epochs': 25}. Best is trial 19 with value: 3.170053005218506.\n"
          ]
        },
        {
          "name": "stdout",
          "output_type": "stream",
          "text": [
            "NaN or Inf found in training loss!\n"
          ]
        },
        {
          "name": "stderr",
          "output_type": "stream",
          "text": [
            "[I 2024-10-20 01:55:30,134] Trial 179 finished with value: inf and parameters: {'learning_rate': 0.004281996363724563, 'hidden_size': 128, 'epochs': 25}. Best is trial 19 with value: 3.170053005218506.\n"
          ]
        },
        {
          "name": "stdout",
          "output_type": "stream",
          "text": [
            "NaN or Inf found in training loss!\n"
          ]
        },
        {
          "name": "stderr",
          "output_type": "stream",
          "text": [
            "[I 2024-10-20 01:55:31,021] Trial 175 finished with value: inf and parameters: {'learning_rate': 0.004303451179065998, 'hidden_size': 128, 'epochs': 25}. Best is trial 19 with value: 3.170053005218506.\n"
          ]
        },
        {
          "name": "stdout",
          "output_type": "stream",
          "text": [
            "NaN or Inf found in training loss!\n"
          ]
        },
        {
          "name": "stderr",
          "output_type": "stream",
          "text": [
            "[I 2024-10-20 01:55:31,724] Trial 182 finished with value: inf and parameters: {'learning_rate': 0.005026845767625852, 'hidden_size': 128, 'epochs': 22}. Best is trial 19 with value: 3.170053005218506.\n"
          ]
        },
        {
          "name": "stdout",
          "output_type": "stream",
          "text": [
            "NaN or Inf found in training loss!\n"
          ]
        },
        {
          "name": "stderr",
          "output_type": "stream",
          "text": [
            "[I 2024-10-20 01:55:33,463] Trial 183 finished with value: inf and parameters: {'learning_rate': 0.004938378326378352, 'hidden_size': 128, 'epochs': 22}. Best is trial 19 with value: 3.170053005218506.\n",
            "[I 2024-10-20 01:55:33,576] Trial 181 finished with value: inf and parameters: {'learning_rate': 0.005608881798804656, 'hidden_size': 128, 'epochs': 22}. Best is trial 19 with value: 3.170053005218506.\n"
          ]
        },
        {
          "name": "stdout",
          "output_type": "stream",
          "text": [
            "NaN or Inf found in training loss!\n",
            "NaN or Inf found in training loss!\n"
          ]
        },
        {
          "name": "stderr",
          "output_type": "stream",
          "text": [
            "[I 2024-10-20 01:55:34,045] Trial 169 finished with value: 298997.28125 and parameters: {'learning_rate': 0.001517302711193951, 'hidden_size': 32, 'epochs': 24}. Best is trial 19 with value: 3.170053005218506.\n"
          ]
        },
        {
          "name": "stdout",
          "output_type": "stream",
          "text": [
            "Trial 169: MAE: 298997.28125, RMSE: 89410920.0\n"
          ]
        },
        {
          "name": "stderr",
          "output_type": "stream",
          "text": [
            "[I 2024-10-20 01:55:34,465] Trial 138 finished with value: 119.60820007324219 and parameters: {'learning_rate': 0.0025005834104108683, 'hidden_size': 32, 'epochs': 26}. Best is trial 19 with value: 3.170053005218506.\n"
          ]
        },
        {
          "name": "stdout",
          "output_type": "stream",
          "text": [
            "Trial 138: MAE: 119.60820007324219, RMSE: 21501.73828125\n"
          ]
        },
        {
          "name": "stderr",
          "output_type": "stream",
          "text": [
            "[I 2024-10-20 01:55:38,215] Trial 184 finished with value: inf and parameters: {'learning_rate': 0.0047385147674967034, 'hidden_size': 128, 'epochs': 25}. Best is trial 19 with value: 3.170053005218506.\n"
          ]
        },
        {
          "name": "stdout",
          "output_type": "stream",
          "text": [
            "NaN or Inf found in training loss!\n"
          ]
        },
        {
          "name": "stderr",
          "output_type": "stream",
          "text": [
            "[I 2024-10-20 01:55:38,550] Trial 185 finished with value: inf and parameters: {'learning_rate': 0.004785678881558695, 'hidden_size': 128, 'epochs': 22}. Best is trial 19 with value: 3.170053005218506.\n"
          ]
        },
        {
          "name": "stdout",
          "output_type": "stream",
          "text": [
            "NaN or Inf found in training loss!\n"
          ]
        },
        {
          "name": "stderr",
          "output_type": "stream",
          "text": [
            "[I 2024-10-20 01:55:40,074] Trial 163 finished with value: 13.975347518920898 and parameters: {'learning_rate': 0.001586450879558964, 'hidden_size': 32, 'epochs': 24}. Best is trial 19 with value: 3.170053005218506.\n"
          ]
        },
        {
          "name": "stdout",
          "output_type": "stream",
          "text": [
            "Trial 163: MAE: 13.975347518920898, RMSE: 1618.801025390625\n"
          ]
        },
        {
          "name": "stderr",
          "output_type": "stream",
          "text": [
            "[I 2024-10-20 01:55:42,236] Trial 187 finished with value: inf and parameters: {'learning_rate': 0.00499402348834115, 'hidden_size': 128, 'epochs': 28}. Best is trial 19 with value: 3.170053005218506.\n"
          ]
        },
        {
          "name": "stdout",
          "output_type": "stream",
          "text": [
            "NaN or Inf found in training loss!\n"
          ]
        },
        {
          "name": "stderr",
          "output_type": "stream",
          "text": [
            "[I 2024-10-20 01:55:42,443] Trial 186 finished with value: inf and parameters: {'learning_rate': 0.0048497835973555, 'hidden_size': 128, 'epochs': 28}. Best is trial 19 with value: 3.170053005218506.\n"
          ]
        },
        {
          "name": "stdout",
          "output_type": "stream",
          "text": [
            "NaN or Inf found in training loss!\n",
            "NaN or Inf found in training loss!\n"
          ]
        },
        {
          "name": "stderr",
          "output_type": "stream",
          "text": [
            "[I 2024-10-20 01:55:42,644] Trial 188 finished with value: inf and parameters: {'learning_rate': 0.005202237142207741, 'hidden_size': 128, 'epochs': 28}. Best is trial 19 with value: 3.170053005218506.\n",
            "[I 2024-10-20 01:55:43,913] Trial 173 finished with value: 3.4036645889282227 and parameters: {'learning_rate': 0.004932756061201755, 'hidden_size': 32, 'epochs': 28}. Best is trial 19 with value: 3.170053005218506.\n"
          ]
        },
        {
          "name": "stdout",
          "output_type": "stream",
          "text": [
            "Trial 173: MAE: 3.4036645889282227, RMSE: 9.367154121398926\n"
          ]
        },
        {
          "name": "stderr",
          "output_type": "stream",
          "text": [
            "[I 2024-10-20 01:55:45,993] Trial 199 finished with value: inf and parameters: {'learning_rate': 0.007228009522058761, 'hidden_size': 64, 'epochs': 26}. Best is trial 19 with value: 3.170053005218506.\n"
          ]
        },
        {
          "name": "stdout",
          "output_type": "stream",
          "text": [
            "NaN or Inf found in training loss!\n"
          ]
        },
        {
          "name": "stderr",
          "output_type": "stream",
          "text": [
            "[I 2024-10-20 01:55:48,329] Trial 189 finished with value: inf and parameters: {'learning_rate': 0.006959816463734205, 'hidden_size': 128, 'epochs': 22}. Best is trial 19 with value: 3.170053005218506.\n"
          ]
        },
        {
          "name": "stdout",
          "output_type": "stream",
          "text": [
            "NaN or Inf found in training loss!\n"
          ]
        },
        {
          "name": "stderr",
          "output_type": "stream",
          "text": [
            "[I 2024-10-20 01:55:48,638] Trial 196 finished with value: inf and parameters: {'learning_rate': 0.007198270636947408, 'hidden_size': 64, 'epochs': 26}. Best is trial 19 with value: 3.170053005218506.\n"
          ]
        },
        {
          "name": "stdout",
          "output_type": "stream",
          "text": [
            "NaN or Inf found in training loss!\n"
          ]
        },
        {
          "name": "stderr",
          "output_type": "stream",
          "text": [
            "[I 2024-10-20 01:55:48,986] Trial 166 finished with value: 3.5933477878570557 and parameters: {'learning_rate': 0.0015147228195249948, 'hidden_size': 32, 'epochs': 24}. Best is trial 19 with value: 3.170053005218506.\n"
          ]
        },
        {
          "name": "stdout",
          "output_type": "stream",
          "text": [
            "Trial 166: MAE: 3.5933477878570557, RMSE: 9.413064002990723\n"
          ]
        },
        {
          "name": "stderr",
          "output_type": "stream",
          "text": [
            "[I 2024-10-20 01:55:50,298] Trial 135 finished with value: 3.8692514896392822 and parameters: {'learning_rate': 0.0025005735978834744, 'hidden_size': 32, 'epochs': 26}. Best is trial 19 with value: 3.170053005218506.\n"
          ]
        },
        {
          "name": "stdout",
          "output_type": "stream",
          "text": [
            "Trial 135: MAE: 3.8692514896392822, RMSE: 9.604344367980957\n"
          ]
        },
        {
          "name": "stderr",
          "output_type": "stream",
          "text": [
            "[I 2024-10-20 01:55:53,272] Trial 198 finished with value: inf and parameters: {'learning_rate': 0.006739120570246408, 'hidden_size': 64, 'epochs': 26}. Best is trial 19 with value: 3.170053005218506.\n"
          ]
        },
        {
          "name": "stdout",
          "output_type": "stream",
          "text": [
            "NaN or Inf found in training loss!\n"
          ]
        },
        {
          "name": "stderr",
          "output_type": "stream",
          "text": [
            "[I 2024-10-20 01:55:54,534] Trial 51 finished with value: 21970.525390625 and parameters: {'learning_rate': 0.00025549043076379506, 'hidden_size': 64, 'epochs': 11}. Best is trial 19 with value: 3.170053005218506.\n"
          ]
        },
        {
          "name": "stdout",
          "output_type": "stream",
          "text": [
            "Trial 51: MAE: 21970.525390625, RMSE: 5540723.0\n"
          ]
        },
        {
          "name": "stderr",
          "output_type": "stream",
          "text": [
            "[I 2024-10-20 01:55:54,984] Trial 191 finished with value: inf and parameters: {'learning_rate': 0.0061947645883238195, 'hidden_size': 128, 'epochs': 25}. Best is trial 19 with value: 3.170053005218506.\n"
          ]
        },
        {
          "name": "stdout",
          "output_type": "stream",
          "text": [
            "NaN or Inf found in training loss!\n"
          ]
        },
        {
          "name": "stderr",
          "output_type": "stream",
          "text": [
            "[I 2024-10-20 01:55:58,627] Trial 143 finished with value: 3.5002176761627197 and parameters: {'learning_rate': 0.0025495235084728065, 'hidden_size': 32, 'epochs': 30}. Best is trial 19 with value: 3.170053005218506.\n"
          ]
        },
        {
          "name": "stdout",
          "output_type": "stream",
          "text": [
            "Trial 143: MAE: 3.5002176761627197, RMSE: 9.392558097839355\n"
          ]
        },
        {
          "name": "stderr",
          "output_type": "stream",
          "text": [
            "[I 2024-10-20 01:56:00,302] Trial 195 finished with value: inf and parameters: {'learning_rate': 0.006878768802990624, 'hidden_size': 128, 'epochs': 25}. Best is trial 19 with value: 3.170053005218506.\n"
          ]
        },
        {
          "name": "stdout",
          "output_type": "stream",
          "text": [
            "NaN or Inf found in training loss!\n"
          ]
        },
        {
          "name": "stderr",
          "output_type": "stream",
          "text": [
            "[I 2024-10-20 01:56:03,358] Trial 58 finished with value: 4.957354545593262 and parameters: {'learning_rate': 6.82026791393245e-05, 'hidden_size': 64, 'epochs': 12}. Best is trial 19 with value: 3.170053005218506.\n"
          ]
        },
        {
          "name": "stdout",
          "output_type": "stream",
          "text": [
            "Trial 58: MAE: 4.957354545593262, RMSE: 10.104170799255371\n"
          ]
        },
        {
          "name": "stderr",
          "output_type": "stream",
          "text": [
            "[I 2024-10-20 01:56:04,560] Trial 157 finished with value: 3.375242233276367 and parameters: {'learning_rate': 0.0009903982023822422, 'hidden_size': 32, 'epochs': 23}. Best is trial 19 with value: 3.170053005218506.\n"
          ]
        },
        {
          "name": "stdout",
          "output_type": "stream",
          "text": [
            "Trial 157: MAE: 3.375242233276367, RMSE: 9.293638229370117\n"
          ]
        },
        {
          "name": "stderr",
          "output_type": "stream",
          "text": [
            "[I 2024-10-20 01:56:04,842] Trial 94 finished with value: 4.49218225479126 and parameters: {'learning_rate': 0.0006572098769152207, 'hidden_size': 64, 'epochs': 12}. Best is trial 19 with value: 3.170053005218506.\n"
          ]
        },
        {
          "name": "stdout",
          "output_type": "stream",
          "text": [
            "Trial 94: MAE: 4.49218225479126, RMSE: 9.875003814697266\n"
          ]
        },
        {
          "name": "stderr",
          "output_type": "stream",
          "text": [
            "[I 2024-10-20 01:56:08,273] Trial 197 finished with value: inf and parameters: {'learning_rate': 0.007030417941937462, 'hidden_size': 128, 'epochs': 28}. Best is trial 19 with value: 3.170053005218506.\n"
          ]
        },
        {
          "name": "stdout",
          "output_type": "stream",
          "text": [
            "NaN or Inf found in training loss!\n"
          ]
        },
        {
          "name": "stderr",
          "output_type": "stream",
          "text": [
            "[I 2024-10-20 01:56:16,340] Trial 156 finished with value: 3.3980748653411865 and parameters: {'learning_rate': 0.0007339000134508423, 'hidden_size': 32, 'epochs': 23}. Best is trial 19 with value: 3.170053005218506.\n"
          ]
        },
        {
          "name": "stdout",
          "output_type": "stream",
          "text": [
            "Trial 156: MAE: 3.3980748653411865, RMSE: 9.302372932434082\n"
          ]
        },
        {
          "name": "stderr",
          "output_type": "stream",
          "text": [
            "[I 2024-10-20 01:56:22,628] Trial 168 finished with value: 3.732430934906006 and parameters: {'learning_rate': 0.0014510849680752097, 'hidden_size': 32, 'epochs': 24}. Best is trial 19 with value: 3.170053005218506.\n"
          ]
        },
        {
          "name": "stdout",
          "output_type": "stream",
          "text": [
            "Trial 168: MAE: 3.732430934906006, RMSE: 20.941423416137695\n"
          ]
        },
        {
          "name": "stderr",
          "output_type": "stream",
          "text": [
            "[I 2024-10-20 01:56:31,727] Trial 29 finished with value: 13035055874048.0 and parameters: {'learning_rate': 0.004949171686061305, 'hidden_size': 64, 'epochs': 15}. Best is trial 19 with value: 3.170053005218506.\n"
          ]
        },
        {
          "name": "stdout",
          "output_type": "stream",
          "text": [
            "Trial 29: MAE: 13035055874048.0, RMSE: 4841324180144128.0\n"
          ]
        },
        {
          "name": "stderr",
          "output_type": "stream",
          "text": [
            "[I 2024-10-20 01:56:52,295] Trial 23 finished with value: 5.765714645385742 and parameters: {'learning_rate': 0.00013837387648599407, 'hidden_size': 64, 'epochs': 17}. Best is trial 19 with value: 3.170053005218506.\n"
          ]
        },
        {
          "name": "stdout",
          "output_type": "stream",
          "text": [
            "Trial 23: MAE: 5.765714645385742, RMSE: 179.45936584472656\n"
          ]
        },
        {
          "name": "stderr",
          "output_type": "stream",
          "text": [
            "[I 2024-10-20 01:56:53,523] Trial 76 finished with value: 4.1908955574035645 and parameters: {'learning_rate': 0.0010140144444035692, 'hidden_size': 64, 'epochs': 16}. Best is trial 19 with value: 3.170053005218506.\n"
          ]
        },
        {
          "name": "stdout",
          "output_type": "stream",
          "text": [
            "Trial 76: MAE: 4.1908955574035645, RMSE: 9.718159675598145\n"
          ]
        },
        {
          "name": "stderr",
          "output_type": "stream",
          "text": [
            "[I 2024-10-20 01:57:00,433] Trial 20 finished with value: 4.037200450897217 and parameters: {'learning_rate': 0.00015549180725926123, 'hidden_size': 64, 'epochs': 18}. Best is trial 19 with value: 3.170053005218506.\n"
          ]
        },
        {
          "name": "stdout",
          "output_type": "stream",
          "text": [
            "Trial 20: MAE: 4.037200450897217, RMSE: 9.607803344726562\n"
          ]
        },
        {
          "name": "stderr",
          "output_type": "stream",
          "text": [
            "[I 2024-10-20 01:57:07,515] Trial 90 finished with value: 5.063046932220459 and parameters: {'learning_rate': 0.0028068536371772795, 'hidden_size': 128, 'epochs': 11}. Best is trial 19 with value: 3.170053005218506.\n"
          ]
        },
        {
          "name": "stdout",
          "output_type": "stream",
          "text": [
            "Trial 90: MAE: 5.063046932220459, RMSE: 10.162149429321289\n"
          ]
        },
        {
          "name": "stderr",
          "output_type": "stream",
          "text": [
            "[I 2024-10-20 01:57:09,773] Trial 65 finished with value: 3.733288288116455 and parameters: {'learning_rate': 0.00032916432451721454, 'hidden_size': 128, 'epochs': 11}. Best is trial 19 with value: 3.170053005218506.\n"
          ]
        },
        {
          "name": "stdout",
          "output_type": "stream",
          "text": [
            "Trial 65: MAE: 3.733288288116455, RMSE: 9.440324783325195\n"
          ]
        },
        {
          "name": "stderr",
          "output_type": "stream",
          "text": [
            "[I 2024-10-20 01:57:10,937] Trial 43 finished with value: 906817856.0 and parameters: {'learning_rate': 0.0006819358556113025, 'hidden_size': 64, 'epochs': 19}. Best is trial 19 with value: 3.170053005218506.\n"
          ]
        },
        {
          "name": "stdout",
          "output_type": "stream",
          "text": [
            "Trial 43: MAE: 906817856.0, RMSE: 251268956160.0\n"
          ]
        },
        {
          "name": "stderr",
          "output_type": "stream",
          "text": [
            "[I 2024-10-20 01:57:25,235] Trial 6 finished with value: 4.2740478515625 and parameters: {'learning_rate': 0.001846681729066832, 'hidden_size': 64, 'epochs': 21}. Best is trial 19 with value: 3.170053005218506.\n"
          ]
        },
        {
          "name": "stdout",
          "output_type": "stream",
          "text": [
            "Trial 6: MAE: 4.2740478515625, RMSE: 81.8932876586914\n"
          ]
        },
        {
          "name": "stderr",
          "output_type": "stream",
          "text": [
            "[I 2024-10-20 01:57:26,608] Trial 56 finished with value: 4.308923721313477 and parameters: {'learning_rate': 3.600461848993175e-05, 'hidden_size': 128, 'epochs': 12}. Best is trial 19 with value: 3.170053005218506.\n"
          ]
        },
        {
          "name": "stdout",
          "output_type": "stream",
          "text": [
            "Trial 56: MAE: 4.308923721313477, RMSE: 11.160283088684082\n"
          ]
        },
        {
          "name": "stderr",
          "output_type": "stream",
          "text": [
            "[I 2024-10-20 01:57:27,118] Trial 84 finished with value: 53783191552.0 and parameters: {'learning_rate': 1.815076143678141e-05, 'hidden_size': 128, 'epochs': 12}. Best is trial 19 with value: 3.170053005218506.\n"
          ]
        },
        {
          "name": "stdout",
          "output_type": "stream",
          "text": [
            "Trial 84: MAE: 53783191552.0, RMSE: 12853053489152.0\n"
          ]
        },
        {
          "name": "stderr",
          "output_type": "stream",
          "text": [
            "[I 2024-10-20 01:57:30,028] Trial 40 finished with value: 55.780235290527344 and parameters: {'learning_rate': 9.746687763244616e-05, 'hidden_size': 128, 'epochs': 12}. Best is trial 19 with value: 3.170053005218506.\n"
          ]
        },
        {
          "name": "stdout",
          "output_type": "stream",
          "text": [
            "Trial 40: MAE: 55.780235290527344, RMSE: 8604.08203125\n"
          ]
        },
        {
          "name": "stderr",
          "output_type": "stream",
          "text": [
            "[I 2024-10-20 01:57:32,900] Trial 82 finished with value: 48148160512.0 and parameters: {'learning_rate': 8.936672839389443e-05, 'hidden_size': 128, 'epochs': 12}. Best is trial 19 with value: 3.170053005218506.\n"
          ]
        },
        {
          "name": "stdout",
          "output_type": "stream",
          "text": [
            "Trial 82: MAE: 48148160512.0, RMSE: 16949229649920.0\n"
          ]
        },
        {
          "name": "stderr",
          "output_type": "stream",
          "text": [
            "[I 2024-10-20 01:57:34,193] Trial 34 finished with value: 3.79205322265625 and parameters: {'learning_rate': 3.1393436608368006e-05, 'hidden_size': 64, 'epochs': 21}. Best is trial 19 with value: 3.170053005218506.\n"
          ]
        },
        {
          "name": "stdout",
          "output_type": "stream",
          "text": [
            "Trial 34: MAE: 3.79205322265625, RMSE: 12.778786659240723\n"
          ]
        },
        {
          "name": "stderr",
          "output_type": "stream",
          "text": [
            "[I 2024-10-20 01:57:40,718] Trial 1 finished with value: 22493.1328125 and parameters: {'learning_rate': 0.0016688653649746706, 'hidden_size': 64, 'epochs': 23}. Best is trial 19 with value: 3.170053005218506.\n"
          ]
        },
        {
          "name": "stdout",
          "output_type": "stream",
          "text": [
            "Trial 1: MAE: 22493.1328125, RMSE: 6456660.5\n"
          ]
        },
        {
          "name": "stderr",
          "output_type": "stream",
          "text": [
            "[I 2024-10-20 01:57:51,395] Trial 91 finished with value: 22.4990291595459 and parameters: {'learning_rate': 0.0002098717057206856, 'hidden_size': 64, 'epochs': 23}. Best is trial 19 with value: 3.170053005218506.\n"
          ]
        },
        {
          "name": "stdout",
          "output_type": "stream",
          "text": [
            "Trial 91: MAE: 22.4990291595459, RMSE: 3594.713134765625\n"
          ]
        },
        {
          "name": "stderr",
          "output_type": "stream",
          "text": [
            "[I 2024-10-20 01:57:59,580] Trial 48 finished with value: 4.802164077758789 and parameters: {'learning_rate': 2.19166883097483e-05, 'hidden_size': 128, 'epochs': 14}. Best is trial 19 with value: 3.170053005218506.\n"
          ]
        },
        {
          "name": "stdout",
          "output_type": "stream",
          "text": [
            "Trial 48: MAE: 4.802164077758789, RMSE: 10.015419006347656\n"
          ]
        },
        {
          "name": "stderr",
          "output_type": "stream",
          "text": [
            "[I 2024-10-20 01:58:10,083] Trial 12 finished with value: 4.171037673950195 and parameters: {'learning_rate': 0.0006870117740232142, 'hidden_size': 128, 'epochs': 16}. Best is trial 19 with value: 3.170053005218506.\n",
            "[I 2024-10-20 01:58:10,140] Trial 69 finished with value: 122.88186645507812 and parameters: {'learning_rate': 1.5041152591622628e-05, 'hidden_size': 64, 'epochs': 25}. Best is trial 19 with value: 3.170053005218506.\n"
          ]
        },
        {
          "name": "stdout",
          "output_type": "stream",
          "text": [
            "Trial 12: MAE: 4.171037673950195, RMSE: 20.368728637695312\n",
            "Trial 69: MAE: 122.88186645507812, RMSE: 18473.318359375\n"
          ]
        },
        {
          "name": "stderr",
          "output_type": "stream",
          "text": [
            "[I 2024-10-20 01:58:13,192] Trial 0 finished with value: 5.001650333404541 and parameters: {'learning_rate': 8.96627803221312e-05, 'hidden_size': 64, 'epochs': 27}. Best is trial 19 with value: 3.170053005218506.\n",
            "[I 2024-10-20 01:58:13,371] Trial 31 finished with value: 5.144284725189209 and parameters: {'learning_rate': 6.604755521320805e-05, 'hidden_size': 64, 'epochs': 26}. Best is trial 19 with value: 3.170053005218506.\n"
          ]
        },
        {
          "name": "stdout",
          "output_type": "stream",
          "text": [
            "Trial 0: MAE: 5.001650333404541, RMSE: 10.6300630569458\n",
            "Trial 31: MAE: 5.144284725189209, RMSE: 43.59968948364258\n"
          ]
        },
        {
          "name": "stderr",
          "output_type": "stream",
          "text": [
            "[I 2024-10-20 01:58:14,790] Trial 7 finished with value: 4.203013896942139 and parameters: {'learning_rate': 0.00019000984648188872, 'hidden_size': 64, 'epochs': 27}. Best is trial 19 with value: 3.170053005218506.\n"
          ]
        },
        {
          "name": "stdout",
          "output_type": "stream",
          "text": [
            "Trial 7: MAE: 4.203013896942139, RMSE: 9.773573875427246\n"
          ]
        },
        {
          "name": "stderr",
          "output_type": "stream",
          "text": [
            "[I 2024-10-20 01:58:17,422] Trial 74 finished with value: 3.842625617980957 and parameters: {'learning_rate': 0.000164844695258996, 'hidden_size': 64, 'epochs': 26}. Best is trial 19 with value: 3.170053005218506.\n"
          ]
        },
        {
          "name": "stdout",
          "output_type": "stream",
          "text": [
            "Trial 74: MAE: 3.842625617980957, RMSE: 11.646966934204102\n"
          ]
        },
        {
          "name": "stderr",
          "output_type": "stream",
          "text": [
            "[I 2024-10-20 01:58:21,095] Trial 36 finished with value: 4.899577617645264 and parameters: {'learning_rate': 1.0974247868381089e-05, 'hidden_size': 64, 'epochs': 27}. Best is trial 19 with value: 3.170053005218506.\n"
          ]
        },
        {
          "name": "stdout",
          "output_type": "stream",
          "text": [
            "Trial 36: MAE: 4.899577617645264, RMSE: 10.07847785949707\n"
          ]
        },
        {
          "name": "stderr",
          "output_type": "stream",
          "text": [
            "[I 2024-10-20 01:58:23,930] Trial 77 finished with value: 4.985904693603516 and parameters: {'learning_rate': 0.0034353855373814223, 'hidden_size': 128, 'epochs': 16}. Best is trial 19 with value: 3.170053005218506.\n"
          ]
        },
        {
          "name": "stdout",
          "output_type": "stream",
          "text": [
            "Trial 77: MAE: 4.985904693603516, RMSE: 10.122023582458496\n"
          ]
        },
        {
          "name": "stderr",
          "output_type": "stream",
          "text": [
            "[I 2024-10-20 01:58:27,900] Trial 50 finished with value: 4.14996862411499 and parameters: {'learning_rate': 0.00015105841023930005, 'hidden_size': 128, 'epochs': 17}. Best is trial 19 with value: 3.170053005218506.\n"
          ]
        },
        {
          "name": "stdout",
          "output_type": "stream",
          "text": [
            "Trial 50: MAE: 4.14996862411499, RMSE: 9.685870170593262\n"
          ]
        },
        {
          "name": "stderr",
          "output_type": "stream",
          "text": [
            "[I 2024-10-20 01:58:33,833] Trial 83 finished with value: 18.490957260131836 and parameters: {'learning_rate': 1.891385722685567e-05, 'hidden_size': 128, 'epochs': 17}. Best is trial 19 with value: 3.170053005218506.\n"
          ]
        },
        {
          "name": "stdout",
          "output_type": "stream",
          "text": [
            "Trial 83: MAE: 18.490957260131836, RMSE: 3045.68310546875\n"
          ]
        },
        {
          "name": "stderr",
          "output_type": "stream",
          "text": [
            "[I 2024-10-20 01:58:43,494] Trial 55 finished with value: 4.362899303436279 and parameters: {'learning_rate': 0.00010006119181806043, 'hidden_size': 128, 'epochs': 18}. Best is trial 19 with value: 3.170053005218506.\n",
            "[I 2024-10-20 01:58:43,532] Trial 60 finished with value: 5.073698997497559 and parameters: {'learning_rate': 0.002000245585444181, 'hidden_size': 128, 'epochs': 18}. Best is trial 19 with value: 3.170053005218506.\n"
          ]
        },
        {
          "name": "stdout",
          "output_type": "stream",
          "text": [
            "Trial 55: MAE: 4.362899303436279, RMSE: 9.808120727539062\n",
            "Trial 60: MAE: 5.073698997497559, RMSE: 166.58233642578125\n"
          ]
        },
        {
          "name": "stderr",
          "output_type": "stream",
          "text": [
            "[I 2024-10-20 01:58:43,744] Trial 14 finished with value: 74576824.0 and parameters: {'learning_rate': 0.0007639362156542577, 'hidden_size': 128, 'epochs': 19}. Best is trial 19 with value: 3.170053005218506.\n"
          ]
        },
        {
          "name": "stdout",
          "output_type": "stream",
          "text": [
            "Trial 14: MAE: 74576824.0, RMSE: 22394937344.0\n"
          ]
        },
        {
          "name": "stderr",
          "output_type": "stream",
          "text": [
            "[I 2024-10-20 01:58:45,705] Trial 102 finished with value: 4.155997276306152 and parameters: {'learning_rate': 0.00011904882860849906, 'hidden_size': 128, 'epochs': 18}. Best is trial 19 with value: 3.170053005218506.\n"
          ]
        },
        {
          "name": "stdout",
          "output_type": "stream",
          "text": [
            "Trial 102: MAE: 4.155997276306152, RMSE: 9.714941024780273\n"
          ]
        },
        {
          "name": "stderr",
          "output_type": "stream",
          "text": [
            "[I 2024-10-20 01:58:50,373] Trial 111 finished with value: 3.8002734184265137 and parameters: {'learning_rate': 0.00017976687503067722, 'hidden_size': 128, 'epochs': 18}. Best is trial 19 with value: 3.170053005218506.\n",
            "[I 2024-10-20 01:58:50,553] Trial 32 finished with value: 3.745344638824463 and parameters: {'learning_rate': 0.0005863025790658743, 'hidden_size': 128, 'epochs': 19}. Best is trial 19 with value: 3.170053005218506.\n"
          ]
        },
        {
          "name": "stdout",
          "output_type": "stream",
          "text": [
            "Trial 111: MAE: 3.8002734184265137, RMSE: 9.631382942199707\n",
            "Trial 32: MAE: 3.745344638824463, RMSE: 9.47939395904541\n"
          ]
        },
        {
          "name": "stderr",
          "output_type": "stream",
          "text": [
            "[I 2024-10-20 01:58:51,206] Trial 194 finished with value: 3.3876280784606934 and parameters: {'learning_rate': 0.0028994965757949734, 'hidden_size': 64, 'epochs': 25}. Best is trial 19 with value: 3.170053005218506.\n"
          ]
        },
        {
          "name": "stdout",
          "output_type": "stream",
          "text": [
            "Trial 194: MAE: 3.3876280784606934, RMSE: 9.310531616210938\n"
          ]
        },
        {
          "name": "stderr",
          "output_type": "stream",
          "text": [
            "[I 2024-10-20 01:58:54,765] Trial 5 finished with value: 2209888.25 and parameters: {'learning_rate': 0.00025322737859720146, 'hidden_size': 128, 'epochs': 20}. Best is trial 19 with value: 3.170053005218506.\n"
          ]
        },
        {
          "name": "stdout",
          "output_type": "stream",
          "text": [
            "Trial 5: MAE: 2209888.25, RMSE: 677233600.0\n"
          ]
        },
        {
          "name": "stderr",
          "output_type": "stream",
          "text": [
            "[I 2024-10-20 01:59:00,864] Trial 110 finished with value: 103738.1875 and parameters: {'learning_rate': 0.00020954099779590995, 'hidden_size': 128, 'epochs': 19}. Best is trial 19 with value: 3.170053005218506.\n"
          ]
        },
        {
          "name": "stdout",
          "output_type": "stream",
          "text": [
            "Trial 110: MAE: 103738.1875, RMSE: 21260336.0\n"
          ]
        },
        {
          "name": "stderr",
          "output_type": "stream",
          "text": [
            "[I 2024-10-20 01:59:03,004] Trial 112 finished with value: 5498.86279296875 and parameters: {'learning_rate': 0.00018621062562458024, 'hidden_size': 128, 'epochs': 19}. Best is trial 19 with value: 3.170053005218506.\n"
          ]
        },
        {
          "name": "stdout",
          "output_type": "stream",
          "text": [
            "Trial 112: MAE: 5498.86279296875, RMSE: 1417750.0\n"
          ]
        },
        {
          "name": "stderr",
          "output_type": "stream",
          "text": [
            "[I 2024-10-20 01:59:11,137] Trial 22 finished with value: 4.039793968200684 and parameters: {'learning_rate': 2.649441821008187e-05, 'hidden_size': 128, 'epochs': 22}. Best is trial 19 with value: 3.170053005218506.\n"
          ]
        },
        {
          "name": "stdout",
          "output_type": "stream",
          "text": [
            "Trial 22: MAE: 4.039793968200684, RMSE: 9.628421783447266\n"
          ]
        },
        {
          "name": "stderr",
          "output_type": "stream",
          "text": [
            "[I 2024-10-20 01:59:13,397] Trial 13 finished with value: 7.44341516494751 and parameters: {'learning_rate': 2.5859893079058014e-05, 'hidden_size': 128, 'epochs': 23}. Best is trial 19 with value: 3.170053005218506.\n"
          ]
        },
        {
          "name": "stdout",
          "output_type": "stream",
          "text": [
            "Trial 13: MAE: 7.44341516494751, RMSE: 381.6343078613281\n"
          ]
        },
        {
          "name": "stderr",
          "output_type": "stream",
          "text": [
            "[I 2024-10-20 01:59:14,070] Trial 66 finished with value: 12514.3125 and parameters: {'learning_rate': 2.5967127272914037e-05, 'hidden_size': 128, 'epochs': 22}. Best is trial 19 with value: 3.170053005218506.\n"
          ]
        },
        {
          "name": "stdout",
          "output_type": "stream",
          "text": [
            "Trial 66: MAE: 12514.3125, RMSE: 3863499.75\n"
          ]
        },
        {
          "name": "stderr",
          "output_type": "stream",
          "text": [
            "[I 2024-10-20 01:59:19,195] Trial 59 finished with value: 4.284150123596191 and parameters: {'learning_rate': 0.00011484650758626281, 'hidden_size': 128, 'epochs': 23}. Best is trial 19 with value: 3.170053005218506.\n"
          ]
        },
        {
          "name": "stdout",
          "output_type": "stream",
          "text": [
            "Trial 59: MAE: 4.284150123596191, RMSE: 9.903470039367676\n"
          ]
        },
        {
          "name": "stderr",
          "output_type": "stream",
          "text": [
            "[I 2024-10-20 01:59:20,570] Trial 68 finished with value: 2858.00439453125 and parameters: {'learning_rate': 0.0008605668497830358, 'hidden_size': 128, 'epochs': 23}. Best is trial 19 with value: 3.170053005218506.\n"
          ]
        },
        {
          "name": "stdout",
          "output_type": "stream",
          "text": [
            "Trial 68: MAE: 2858.00439453125, RMSE: 794903.3125\n"
          ]
        },
        {
          "name": "stderr",
          "output_type": "stream",
          "text": [
            "[I 2024-10-20 01:59:24,849] Trial 26 finished with value: 202.35842895507812 and parameters: {'learning_rate': 1.0965826058107413e-05, 'hidden_size': 128, 'epochs': 24}. Best is trial 19 with value: 3.170053005218506.\n"
          ]
        },
        {
          "name": "stdout",
          "output_type": "stream",
          "text": [
            "Trial 26: MAE: 202.35842895507812, RMSE: 31413.607421875\n"
          ]
        },
        {
          "name": "stderr",
          "output_type": "stream",
          "text": [
            "[I 2024-10-20 01:59:32,517] Trial 98 finished with value: 5.124344825744629 and parameters: {'learning_rate': 2.621768679624315e-05, 'hidden_size': 128, 'epochs': 25}. Best is trial 19 with value: 3.170053005218506.\n"
          ]
        },
        {
          "name": "stdout",
          "output_type": "stream",
          "text": [
            "Trial 98: MAE: 5.124344825744629, RMSE: 11.233063697814941\n"
          ]
        },
        {
          "name": "stderr",
          "output_type": "stream",
          "text": [
            "[I 2024-10-20 01:59:33,334] Trial 101 finished with value: 369.3162841796875 and parameters: {'learning_rate': 0.00013882828542997227, 'hidden_size': 128, 'epochs': 25}. Best is trial 19 with value: 3.170053005218506.\n"
          ]
        },
        {
          "name": "stdout",
          "output_type": "stream",
          "text": [
            "Trial 101: MAE: 369.3162841796875, RMSE: 63190.546875\n"
          ]
        },
        {
          "name": "stderr",
          "output_type": "stream",
          "text": [
            "[I 2024-10-20 01:59:37,324] Trial 33 finished with value: 1645734400.0 and parameters: {'learning_rate': 0.0006193509058834819, 'hidden_size': 128, 'epochs': 27}. Best is trial 19 with value: 3.170053005218506.\n"
          ]
        },
        {
          "name": "stdout",
          "output_type": "stream",
          "text": [
            "Trial 33: MAE: 1645734400.0, RMSE: 586963419136.0\n"
          ]
        },
        {
          "name": "stderr",
          "output_type": "stream",
          "text": [
            "[I 2024-10-20 01:59:40,489] Trial 100 finished with value: 3.831019878387451 and parameters: {'learning_rate': 0.0001319487747025002, 'hidden_size': 128, 'epochs': 27}. Best is trial 19 with value: 3.170053005218506.\n"
          ]
        },
        {
          "name": "stdout",
          "output_type": "stream",
          "text": [
            "Trial 100: MAE: 3.831019878387451, RMSE: 9.477700233459473\n"
          ]
        },
        {
          "name": "stderr",
          "output_type": "stream",
          "text": [
            "[I 2024-10-20 01:59:43,440] Trial 103 finished with value: 30.127832412719727 and parameters: {'learning_rate': 5.819140151470793e-05, 'hidden_size': 128, 'epochs': 28}. Best is trial 19 with value: 3.170053005218506.\n"
          ]
        },
        {
          "name": "stdout",
          "output_type": "stream",
          "text": [
            "Trial 103: MAE: 30.127832412719727, RMSE: 3394.948486328125\n"
          ]
        },
        {
          "name": "stderr",
          "output_type": "stream",
          "text": [
            "[I 2024-10-20 01:59:44,272] Trial 108 finished with value: 4.031512260437012 and parameters: {'learning_rate': 0.00011879086305287109, 'hidden_size': 128, 'epochs': 28}. Best is trial 19 with value: 3.170053005218506.\n"
          ]
        },
        {
          "name": "stdout",
          "output_type": "stream",
          "text": [
            "Trial 108: MAE: 4.031512260437012, RMSE: 9.601926803588867\n"
          ]
        },
        {
          "name": "stderr",
          "output_type": "stream",
          "text": [
            "[I 2024-10-20 01:59:45,601] Trial 104 finished with value: 848.876953125 and parameters: {'learning_rate': 0.00018189811192302995, 'hidden_size': 128, 'epochs': 28}. Best is trial 19 with value: 3.170053005218506.\n"
          ]
        },
        {
          "name": "stdout",
          "output_type": "stream",
          "text": [
            "Trial 104: MAE: 848.876953125, RMSE: 164660.140625\n"
          ]
        },
        {
          "name": "stderr",
          "output_type": "stream",
          "text": [
            "[I 2024-10-20 01:59:46,405] Trial 61 finished with value: 4.552891254425049 and parameters: {'learning_rate': 2.2446774184996585e-05, 'hidden_size': 128, 'epochs': 29}. Best is trial 19 with value: 3.170053005218506.\n"
          ]
        },
        {
          "name": "stdout",
          "output_type": "stream",
          "text": [
            "Trial 61: MAE: 4.552891254425049, RMSE: 9.944686889648438\n"
          ]
        },
        {
          "name": "stderr",
          "output_type": "stream",
          "text": [
            "[I 2024-10-20 01:59:47,106] Trial 107 finished with value: 3.8997414112091064 and parameters: {'learning_rate': 0.0001206702182701729, 'hidden_size': 128, 'epochs': 29}. Best is trial 19 with value: 3.170053005218506.\n",
            "[I 2024-10-20 01:59:47,264] Trial 99 finished with value: 6633051.5 and parameters: {'learning_rate': 3.694455362915572e-05, 'hidden_size': 128, 'epochs': 29}. Best is trial 19 with value: 3.170053005218506.\n"
          ]
        },
        {
          "name": "stdout",
          "output_type": "stream",
          "text": [
            "Trial 107: MAE: 3.8997414112091064, RMSE: 9.506495475769043\n",
            "Trial 99: MAE: 6633051.5, RMSE: 1812866944.0\n"
          ]
        },
        {
          "name": "stderr",
          "output_type": "stream",
          "text": [
            "[I 2024-10-20 01:59:48,855] Trial 106 finished with value: 4.0410685539245605 and parameters: {'learning_rate': 0.00011483719239247573, 'hidden_size': 128, 'epochs': 30}. Best is trial 19 with value: 3.170053005218506.\n"
          ]
        },
        {
          "name": "stdout",
          "output_type": "stream",
          "text": [
            "Trial 106: MAE: 4.0410685539245605, RMSE: 35.922508239746094\n"
          ]
        },
        {
          "name": "stderr",
          "output_type": "stream",
          "text": [
            "[I 2024-10-20 01:59:49,424] Trial 192 finished with value: 4.4003705978393555 and parameters: {'learning_rate': 0.0027882216701632127, 'hidden_size': 128, 'epochs': 25}. Best is trial 19 with value: 3.170053005218506.\n",
            "[I 2024-10-20 01:59:49,482] Trial 105 finished with value: 5.958810806274414 and parameters: {'learning_rate': 0.0001262135871040775, 'hidden_size': 128, 'epochs': 30}. Best is trial 19 with value: 3.170053005218506.\n",
            "[I 2024-10-20 01:59:49,495] Trial 109 finished with value: 3019.1474609375 and parameters: {'learning_rate': 0.00010750305731177661, 'hidden_size': 128, 'epochs': 30}. Best is trial 19 with value: 3.170053005218506.\n"
          ]
        },
        {
          "name": "stdout",
          "output_type": "stream",
          "text": [
            "Trial 192: MAE: 4.4003705978393555, RMSE: 9.85139274597168\n",
            "Trial 105: MAE: 5.958810806274414, RMSE: 244.8497314453125\n",
            "Trial 109: MAE: 3019.1474609375, RMSE: 693882.4375\n"
          ]
        },
        {
          "name": "stderr",
          "output_type": "stream",
          "text": [
            "[I 2024-10-20 01:59:50,113] Trial 193 finished with value: 4.163294792175293 and parameters: {'learning_rate': 0.0028763794958448566, 'hidden_size': 128, 'epochs': 26}. Best is trial 19 with value: 3.170053005218506.\n",
            "[I 2024-10-20 01:59:50,126] Trial 190 finished with value: 3.385586977005005 and parameters: {'learning_rate': 0.0030237941921029206, 'hidden_size': 128, 'epochs': 26}. Best is trial 19 with value: 3.170053005218506.\n"
          ]
        },
        {
          "name": "stdout",
          "output_type": "stream",
          "text": [
            "Trial 193: MAE: 4.163294792175293, RMSE: 9.746049880981445\n",
            "Trial 190: MAE: 3.385586977005005, RMSE: 9.329413414001465\n",
            "Best MAE:  3.170053005218506\n",
            "Best Hyperparameters:  {'learning_rate': 0.005293590075732399, 'hidden_size': 32, 'epochs': 27}\n"
          ]
        }
      ],
      "source": [
        "import optuna\n",
        "import torch\n",
        "import torch.nn.functional as F\n",
        "from torch.optim import Adam\n",
        "import numpy as np\n",
        "from sklearn.metrics import mean_absolute_error, mean_squared_error\n",
        "\n",
        "epsilon = 1e-10  # Small value to avoid log of zero or negative numbers\n",
        "\n",
        "# Apply safe log transformation to play counts\n",
        "df_sampled['play_count_log'] = np.log1p(df_sampled['play_count'] + epsilon)\n",
        "\n",
        "# Function to check for NaNs or Inf values\n",
        "def check_for_invalid_values(data, name=\"Data\"):\n",
        "    \"\"\"\n",
        "    Check for NaNs or Inf values in the data and print a warning if found.\n",
        "\n",
        "    Args:\n",
        "    - data: The data to check (NumPy array or PyTorch tensor).\n",
        "    - name: A name for the data to print in the warning (string).\n",
        "\n",
        "    Returns:\n",
        "    - True if invalid values are found, False otherwise.\n",
        "    \"\"\"\n",
        "    if torch.is_tensor(data):  # If data is a PyTorch tensor\n",
        "        has_nan = torch.isnan(data).sum().item() > 0\n",
        "        has_inf = torch.isinf(data).sum().item() > 0\n",
        "    else:  # Assume it's a NumPy array or pandas DataFrame\n",
        "        has_nan = np.isnan(data).sum() > 0\n",
        "        has_inf = np.isinf(data).sum() > 0\n",
        "\n",
        "    if has_nan or has_inf:\n",
        "        print(f\"Invalid values detected in {name}: NaN count = {has_nan}, Inf count = {has_inf}\")\n",
        "        return True\n",
        "    return False\n",
        "\n",
        "# Define the objective function for Optuna\n",
        "def objective(trial):\n",
        "    # Hyperparameter search space\n",
        "    lr = trial.suggest_loguniform('learning_rate', 1e-5, 1e-1)\n",
        "    hidden_size = trial.suggest_categorical('hidden_size', [32, 64, 128])\n",
        "    num_epochs = trial.suggest_int('epochs', 10, 30)\n",
        "\n",
        "    # Initialize model and optimizer\n",
        "    model = GNNModel(in_channels=song_node_features.shape[1], hidden_channels=hidden_size, out_channels=1)\n",
        "    model = model.to(device)\n",
        "    optimizer = Adam(model.parameters(), lr=lr)\n",
        "\n",
        "    # Training loop\n",
        "    for epoch in range(num_epochs):\n",
        "        model.train()\n",
        "        optimizer.zero_grad()\n",
        "        out = model(graph_data.x, graph_data.edge_index)\n",
        "\n",
        "        # Check for NaN/Inf in output\n",
        "        if torch.isinf(out).any() or torch.isnan(out).any():\n",
        "            print(\"NaN or Inf found in model output!\")\n",
        "            return float('inf')  # Skip this trial if invalid output\n",
        "\n",
        "        train_loss = logcosh_loss(out.squeeze(), play_counts)\n",
        "\n",
        "        if torch.isnan(train_loss) or torch.isinf(train_loss):\n",
        "            print(\"NaN or Inf found in training loss!\")\n",
        "            return float('inf')  # Skip this trial if invalid loss\n",
        "\n",
        "        train_loss.backward()\n",
        "        optimizer.step()\n",
        "\n",
        "    # Evaluation\n",
        "    model.eval()\n",
        "    with torch.no_grad():\n",
        "        predicted_play_counts = model(graph_data.x, graph_data.edge_index).cpu().numpy()\n",
        "\n",
        "        # Check for Inf values in predictions\n",
        "        if np.isinf(predicted_play_counts).any():\n",
        "            print(\"Inf found in predicted play counts! Replacing with large finite values.\")\n",
        "            predicted_play_counts = np.nan_to_num(predicted_play_counts, nan=0.0, posinf=np.finfo(np.float32).max)\n",
        "\n",
        "        predicted_play_counts_log = predicted_play_counts.reshape(-1, 1)\n",
        "        predicted_play_counts = np.expm1(scaler_play_count.inverse_transform(predicted_play_counts_log))\n",
        "\n",
        "    # Check for Inf values after applying transformations\n",
        "    if np.isinf(predicted_play_counts).any() or np.isnan(predicted_play_counts).any():\n",
        "        print(\"Invalid values detected in predictions after transformation!\")\n",
        "        return float('inf')  # Skip this trial if invalid predictions\n",
        "\n",
        "    # Calculate MAE and RMSE\n",
        "    mae = mean_absolute_error(actual_play_counts, predicted_play_counts)\n",
        "    rmse = np.sqrt(mean_squared_error(actual_play_counts, predicted_play_counts))\n",
        "\n",
        "    print(f\"Trial {trial.number}: MAE: {mae}, RMSE: {rmse}\")\n",
        "    return mae  # Optimize for MAE\n",
        "\n",
        "# Check for NaNs and Infs in the dataset before starting optimization\n",
        "if check_for_invalid_values(graph_data.x, \"Input features\") or check_for_invalid_values(play_counts, \"Play counts\"):\n",
        "    print(\"Invalid values detected in input data!\")\n",
        "else:\n",
        "    # Set the number of trials and jobs\n",
        "    n_trials = 200  # Number of trials you want\n",
        "    n_jobs = 90     # Set to 90 to utilize the available cores\n",
        "\n",
        "    # Set up the study\n",
        "    study = optuna.create_study(direction='minimize')\n",
        "\n",
        "    # Run the optimization directly using Optuna's built-in parallelization\n",
        "    study.optimize(objective, n_trials=n_trials, n_jobs=n_jobs)  # Optuna will handle the parallel execution\n",
        "\n",
        "    # After all trials are complete, print the best results\n",
        "    print(\"Best MAE: \", study.best_value)\n",
        "    print(\"Best Hyperparameters: \", study.best_params)\n"
      ]
    },
    {
      "cell_type": "code",
      "execution_count": null,
      "metadata": {
        "colab": {
          "base_uri": "https://localhost:8080/"
        },
        "id": "QT0BkkGDgP04",
        "outputId": "2208d7fb-01d8-4f5e-9856-655af8514794"
      },
      "outputs": [
        {
          "name": "stdout",
          "output_type": "stream",
          "text": [
            "96\n"
          ]
        }
      ],
      "source": [
        "import multiprocessing\n",
        "print(multiprocessing.cpu_count())"
      ]
    },
    {
      "cell_type": "markdown",
      "metadata": {
        "id": "0aN-gdyOQU2n"
      },
      "source": [
        "### Run on TPU- keep crashing"
      ]
    },
    {
      "cell_type": "code",
      "execution_count": null,
      "metadata": {
        "id": "Z3ywhipsOWTC"
      },
      "outputs": [],
      "source": [
        "import torch_xla.core.xla_model as xm\n",
        "import re\n",
        "import ast\n",
        "import torch\n",
        "from torch_geometric.data import Data\n",
        "from torch_geometric.nn import GCNConv\n",
        "import torch.nn.functional as F\n",
        "from sklearn.preprocessing import MinMaxScaler\n",
        "from torch_geometric.loader import DataLoader\n",
        "import numpy as np\n",
        "\n",
        "# Step 1: Log transform and normalize play count, and normalize popularity score\n",
        "df_Bert['play_count_log'] = np.log1p(df_Bert['play_count'])  # log(1 + play_count)\n",
        "scaler_play_count = MinMaxScaler()\n",
        "df_Bert['play_count_scaled'] = scaler_play_count.fit_transform(df_Bert[['play_count_log']])\n",
        "\n",
        "scaler_popularity = MinMaxScaler()\n",
        "df_Bert['popularity_score_scaled'] = scaler_popularity.fit_transform(df_Bert[['popularity_score']])\n",
        "\n",
        "# Step 2: Randomly sample 20% of the dataset\n",
        "df_sampled = df_Bert.sample(frac=0.2, random_state=42)  # 20% of the data\n",
        "\n",
        "# Step 3: Fix distilbert_embeddings string formatting (if necessary)\n",
        "def fix_embedding_string(embedding_str):\n",
        "    fixed_str = re.sub(r'(?<=\\d)\\s+(?=-?\\d)', ',', embedding_str)\n",
        "    return fixed_str\n",
        "\n",
        "# Step 4: Parse distilbert_embeddings if they are strings\n",
        "df_sampled['distilbert_embeddings'] = df_sampled['distilbert_embeddings'].apply(\n",
        "    lambda x: np.array(ast.literal_eval(fix_embedding_string(x)), dtype=np.float32) if isinstance(x, str) else np.array(x, dtype=np.float32)\n",
        ")\n",
        "\n",
        "# Step 5: Convert distilbert_embeddings to a tensor with float32 dtype\n",
        "song_embeddings = torch.tensor(np.stack(df_sampled['distilbert_embeddings'].values), dtype=torch.float32)\n",
        "\n",
        "# Step 6: Prepare tensors for GNN input with consistent float32 dtype\n",
        "user_ids = torch.tensor(df_sampled['user_id'].values, dtype=torch.long)\n",
        "song_ids = torch.tensor(df_sampled['song_id'].values, dtype=torch.long)\n",
        "play_counts = torch.tensor(df_sampled['play_count_scaled'].values, dtype=torch.float32)  # Scaled play count in float32\n",
        "popularity_scores = torch.tensor(df_sampled['popularity_score_scaled'].values, dtype=torch.float32).unsqueeze(1)\n",
        "\n",
        "# Combine song embeddings with the scaled popularity score\n",
        "song_node_features = torch.cat([song_embeddings, popularity_scores], dim=1)\n",
        "\n",
        "# Step 7: Define a Simplified Graph Neural Network (GNN) with reduced layers\n",
        "class SimpleGNNModel(torch.nn.Module):\n",
        "    def __init__(self, in_channels, hidden_channels, out_channels):\n",
        "        super(SimpleGNNModel, self).__init__()\n",
        "        self.conv1 = GCNConv(in_channels, hidden_channels)\n",
        "        self.conv2 = GCNConv(hidden_channels, out_channels)\n",
        "\n",
        "    def forward(self, x, edge_index):\n",
        "        x = self.conv1(x, edge_index)\n",
        "        x = F.relu(x)\n",
        "        x = self.conv2(x, edge_index)\n",
        "        return x\n",
        "\n",
        "# Reduce hidden layer size to avoid memory overload\n",
        "hidden_layer_size = 32  # Further reduce size for testing\n",
        "\n",
        "# Step 8: Construct Graph Edges\n",
        "edges = torch.stack([user_ids, song_ids], dim=0)\n",
        "\n",
        "# Step 9: Use a Single TPU Core for Debugging\n",
        "device = xm.xla_device()  # Use single TPU core for testing\n",
        "\n",
        "# Move the data to TPU (subset)\n",
        "song_node_features = song_node_features.to(device)\n",
        "edges = edges.to(device)\n",
        "play_counts = play_counts.to(device)\n",
        "\n",
        "# Create graph data (subset)\n",
        "graph_data = Data(x=song_node_features, edge_index=edges).to(device)\n",
        "\n",
        "# Move the model to the TPU (simplified model)\n",
        "model = SimpleGNNModel(in_channels=song_node_features.shape[1], hidden_channels=hidden_layer_size, out_channels=1).to(device)\n",
        "\n",
        "optimizer = torch.optim.Adam(model.parameters(), lr=0.001)\n",
        "\n",
        "# Step 10: Train with Mini-Batches (Sampled Data)\n",
        "data_loader = DataLoader([graph_data], batch_size=8, shuffle=True)  # Further reduce batch size for testing\n",
        "\n",
        "# Training loop (reduce epochs for testing)\n",
        "for epoch in range(10):\n",
        "    model.train()\n",
        "\n",
        "    for batch in data_loader:\n",
        "        optimizer.zero_grad()\n",
        "\n",
        "        # Run GNN on the graph batch\n",
        "        out = model(batch.x, batch.edge_index)\n",
        "\n",
        "        # Compute the loss for the training set (subset)\n",
        "        train_loss = F.mse_loss(out, play_counts)\n",
        "\n",
        "        train_loss.backward()\n",
        "        xm.optimizer_step(optimizer)  # Perform optimizer step on TPU\n",
        "\n",
        "    print(f\"Epoch {epoch+1}, Loss: {train_loss.item()}\")\n",
        "\n",
        "# Step 11: Evaluate predictions\n",
        "model.eval()\n",
        "with torch.no_grad():\n",
        "    predictions = model(graph_data.x, graph_data.edge_index)\n",
        "\n",
        "# Step 12: Inverse scale the predicted play counts\n",
        "predicted_play_counts = scaler_play_count.inverse_transform(predictions.cpu().numpy())  # Reverse scaling\n",
        "\n",
        "# Step 13: Get predictions for specific users and songs (subset)\n",
        "def get_prediction(user_id, song_id):\n",
        "    user_idx = (user_ids == user_id).nonzero(as_tuple=True)[0].item()\n",
        "    song_idx = (song_ids == song_id).nonzero(as_tuple=True)[0].item()\n",
        "    return predicted_play_counts[user_idx]\n",
        "\n",
        "# Display predictions for user 22570 and song 1286 (if in sample)\n",
        "pred_22570_1286 = get_prediction(22570, 1286)\n",
        "print(f\"Predicted play count for user 22570 and song 1286: {pred_22570_1286}\")"
      ]
    },
    {
      "cell_type": "markdown",
      "metadata": {
        "id": "yRCDzemLA0Y7"
      },
      "source": [
        "### Train model with optimized paramaters"
      ]
    },
    {
      "cell_type": "code",
      "execution_count": null,
      "metadata": {
        "colab": {
          "base_uri": "https://localhost:8080/"
        },
        "id": "8dM8NrneBpJZ",
        "outputId": "9de8bd59-3356-4396-dc74-29d6501dacf4"
      },
      "outputs": [
        {
          "output_type": "stream",
          "name": "stdout",
          "text": [
            "Drive already mounted at /content/drive; to attempt to forcibly remount, call drive.mount(\"/content/drive\", force_remount=True).\n",
            "Using device: cuda\n",
            "Epoch 1/11, Loss: 0.18076615035533905\n",
            "Epoch 2/11, Loss: 0.1633910834789276\n",
            "Epoch 3/11, Loss: 0.15086066722869873\n",
            "Epoch 4/11, Loss: 0.1424810141324997\n",
            "Epoch 5/11, Loss: 0.13652963936328888\n",
            "Epoch 6/11, Loss: 0.1321597397327423\n",
            "Epoch 7/11, Loss: 0.12752041220664978\n",
            "Epoch 8/11, Loss: 0.12321554124355316\n",
            "Epoch 9/11, Loss: 0.11841163039207458\n",
            "Epoch 10/11, Loss: 0.11339209228754044\n",
            "Epoch 11/11, Loss: 0.10782990604639053\n",
            "Test MAE: 5.980533564805937\n",
            "Test RMSE: 9.982094514494719\n",
            "Predicted play count for user 22570 and song 1286: 5.109489917755127\n",
            "No data found for user 63855 and song 1286.\n",
            "Predicted play count for user 63855 and song 1286: None\n",
            "Model saved to /content/drive/MyDrive/Python Course/model.pkl\n"
          ]
        }
      ],
      "source": [
        "import pickle\n",
        "import torch\n",
        "import torch.nn.functional as F\n",
        "from torch_geometric.nn import GCNConv\n",
        "from torch.optim import Adam\n",
        "import numpy as np\n",
        "from sklearn.preprocessing import MinMaxScaler\n",
        "from sklearn.metrics import mean_absolute_error, mean_squared_error\n",
        "from sklearn.model_selection import train_test_split\n",
        "\n",
        "# Step 2: Load the DataFrame with embeddings from Pickle file\n",
        "with open('/content/drive/MyDrive/Python Course/df_with_embeddings.pkl', 'rb') as f:\n",
        "    df_Bert = pickle.load(f)\n",
        "\n",
        "# Step 3: Set device to GPU (or CPU if GPU is unavailable)\n",
        "device = torch.device(\"cuda\" if torch.cuda.is_available() else \"cpu\")\n",
        "print(f\"Using device: {device}\")\n",
        "\n",
        "# Step 4: Apply log transformation and scaling to play counts\n",
        "df_Bert['play_count_log'] = np.log1p(df_Bert['play_count'])\n",
        "scaler_play_count = MinMaxScaler()\n",
        "df_Bert['play_count_scaled'] = scaler_play_count.fit_transform(df_Bert[['play_count_log']])\n",
        "\n",
        "# Step 5: Split the dataset into training and test sets (80% train, 20% test)\n",
        "train_df, test_df = train_test_split(df_Bert, test_size=0.2, random_state=42)\n",
        "\n",
        "# Step 6: Convert embeddings and play counts to tensors and move to GPU (for training and testing sets)\n",
        "train_embeddings = torch.tensor(np.stack(train_df['distilbert_embeddings']), dtype=torch.float32).to(device)\n",
        "train_play_counts = torch.tensor(train_df['play_count_scaled'].values, dtype=torch.float32).to(device)\n",
        "\n",
        "test_embeddings = torch.tensor(np.stack(test_df['distilbert_embeddings']), dtype=torch.float32).to(device)\n",
        "test_play_counts = torch.tensor(test_df['play_count_scaled'].values, dtype=torch.float32).to(device)\n",
        "\n",
        "# Step 7: Create a simple edge index (self-loops, i.e., each node connects to itself)\n",
        "num_nodes_train = train_embeddings.shape[0]\n",
        "edge_index_train = torch.stack([torch.arange(num_nodes_train), torch.arange(num_nodes_train)], dim=0).to(device)\n",
        "\n",
        "num_nodes_test = test_embeddings.shape[0]\n",
        "edge_index_test = torch.stack([torch.arange(num_nodes_test), torch.arange(num_nodes_test)], dim=0).to(device)\n",
        "\n",
        "# Step 8: Define the GCN model\n",
        "class GCNModel(torch.nn.Module):\n",
        "    def __init__(self, in_channels, hidden_channels, out_channels, dropout=0.3):\n",
        "        super(GCNModel, self).__init__()\n",
        "        self.conv1 = GCNConv(in_channels, hidden_channels)\n",
        "        self.conv2 = GCNConv(hidden_channels, hidden_channels)\n",
        "        self.conv3 = GCNConv(hidden_channels, hidden_channels)\n",
        "        self.conv4 = GCNConv(hidden_channels, out_channels)\n",
        "        self.dropout = torch.nn.Dropout(dropout)\n",
        "\n",
        "    def forward(self, x, edge_index):\n",
        "        x = F.relu(self.conv1(x, edge_index))\n",
        "        x = self.dropout(x)\n",
        "        x = F.relu(self.conv2(x, edge_index))\n",
        "        x = self.dropout(x)\n",
        "        x = F.relu(self.conv3(x, edge_index))\n",
        "        x = self.dropout(x)\n",
        "        x = self.conv4(x, edge_index)\n",
        "        return x\n",
        "\n",
        "# Step 9: Initialize the model with the provided hyperparameters\n",
        "learning_rate = 8.032781689976049e-05\n",
        "hidden_size = 128\n",
        "num_epochs = 11\n",
        "dropout = 0.3\n",
        "\n",
        "model = GCNModel(in_channels=train_embeddings.shape[1], hidden_channels=hidden_size, out_channels=1, dropout=dropout)\n",
        "model = model.to(device)\n",
        "\n",
        "optimizer = Adam(model.parameters(), lr=learning_rate)\n",
        "\n",
        "# Step 10: Define training loop\n",
        "def train_model(model, optimizer, num_epochs, train_embeddings, train_play_counts, edge_index_train):\n",
        "    model.train()\n",
        "    for epoch in range(num_epochs):\n",
        "        optimizer.zero_grad()\n",
        "        out = model(train_embeddings, edge_index_train)  # Forward pass with edge index\n",
        "        loss = F.mse_loss(out.squeeze(), train_play_counts)  # Calculate loss (MSE)\n",
        "        loss.backward()  # Backpropagation\n",
        "        optimizer.step()  # Update parameters\n",
        "\n",
        "        # Print the training loss for each epoch\n",
        "        print(f\"Epoch {epoch + 1}/{num_epochs}, Loss: {loss.item()}\")\n",
        "\n",
        "# Step 11: Train the model on the training set\n",
        "train_model(model, optimizer, num_epochs, train_embeddings, train_play_counts, edge_index_train)\n",
        "\n",
        "# Step 12: Evaluate the model on the test set\n",
        "model.eval()\n",
        "with torch.no_grad():\n",
        "    predicted_test_play_counts = model(test_embeddings, edge_index_test).cpu().numpy()\n",
        "\n",
        "    # Re-transform predicted play counts back to original scale\n",
        "    predicted_test_play_counts = np.expm1(scaler_play_count.inverse_transform(predicted_test_play_counts.reshape(-1, 1)))\n",
        "\n",
        "    # Calculate MAE and RMSE on the test set\n",
        "    actual_test_play_counts = test_df['play_count'].values\n",
        "    mae_test = mean_absolute_error(actual_test_play_counts, predicted_test_play_counts)\n",
        "    rmse_test = np.sqrt(mean_squared_error(actual_test_play_counts, predicted_test_play_counts))\n",
        "\n",
        "    print(f\"Test MAE: {mae_test}\")\n",
        "    print(f\"Test RMSE: {rmse_test}\")\n",
        "\n",
        "# Step 13: Make predictions for specific user-song pairs using the test set embeddings\n",
        "def predict_for_user_song(user_id, song_id, df, embeddings, edge_index):\n",
        "    try:\n",
        "        # Find the index of the user-song pair in the DataFrame\n",
        "        user_song_row = df[(df['user_id'] == user_id) & (df['song_id'] == song_id)]\n",
        "        if user_song_row.empty:\n",
        "            print(f\"No data found for user {user_id} and song {song_id}.\")\n",
        "            return None\n",
        "\n",
        "        # Extract the corresponding embedding\n",
        "        song_embedding = torch.tensor(np.stack(user_song_row['distilbert_embeddings']), dtype=torch.float32).to(device)\n",
        "\n",
        "        # Make prediction using the model\n",
        "        model.eval()\n",
        "        with torch.no_grad():\n",
        "            predicted_play_count = model(song_embedding, edge_index).cpu().numpy()\n",
        "            predicted_play_count = np.expm1(scaler_play_count.inverse_transform(predicted_play_count.reshape(-1, 1)))\n",
        "\n",
        "        # Return the predicted play count\n",
        "        return predicted_play_count.item()\n",
        "\n",
        "    except Exception as e:\n",
        "        print(f\"Error predicting for user {user_id} and song {song_id}: {str(e)}\")\n",
        "        return None\n",
        "\n",
        "# Example usage with test data:\n",
        "pred_22570_1286 = predict_for_user_song(22570, 1286, test_df, test_embeddings, edge_index_test)\n",
        "print(f\"Predicted play count for user 22570 and song 1286: {pred_22570_1286}\")\n",
        "\n",
        "pred_63855_1286 = predict_for_user_song(63855, 1286, test_df, test_embeddings, edge_index_test)\n",
        "print(f\"Predicted play count for user 63855 and song 1286: {pred_63855_1286}\")\n",
        "\n",
        "# Save model to google drive as a pickle file\n",
        "model_path = '/content/drive/MyDrive/Python Course/model.pkl'\n",
        "\n",
        "with open(model_path, 'wb') as file:\n",
        "    pickle.dump(model, file)\n",
        "\n",
        "print(f'Model saved to {model_path}')"
      ]
    },
    {
      "cell_type": "markdown",
      "source": [
        "create a recommendation system"
      ],
      "metadata": {
        "id": "dcccufvILonZ"
      }
    },
    {
      "cell_type": "code",
      "source": [
        "import pickle\n",
        "import torch\n",
        "import numpy as np\n",
        "import pandas as pd\n",
        "\n",
        "# Step 1: Mount Google Drive to access the model and dataset\n",
        "from google.colab import drive\n",
        "drive.mount('/content/drive')\n",
        "\n",
        "# Step 2: Load the saved GNN model\n",
        "model_path = '/content/drive/MyDrive/Python Course/model.pkl'\n",
        "with open(model_path, 'rb') as file:\n",
        "    gnn_model = pickle.load(file)\n",
        "\n",
        "# Step 3: Load the df_with_embeddings pickle file\n",
        "df_embeddings_path = '/content/drive/MyDrive/Python Course/df_with_embeddings.pkl'\n",
        "with open(df_embeddings_path, 'rb') as file:\n",
        "    df_with_embeddings = pickle.load(file)\n",
        "\n",
        "# Set device to GPU (or CPU if GPU is unavailable)\n",
        "device = torch.device(\"cuda\" if torch.cuda.is_available() else \"cpu\")\n",
        "print(f\"Using device: {device}\")\n",
        "\n",
        "# Ensure the model is in evaluation mode\n",
        "gnn_model.eval()\n",
        "gnn_model = gnn_model.to(device)\n",
        "\n",
        "# Apply log transformation and scaling (ensure the scaler is same as used during training)\n",
        "scaler_play_count = MinMaxScaler()\n",
        "df_with_embeddings['play_count_log'] = np.log1p(df_with_embeddings['play_count'])\n",
        "df_with_embeddings['play_count_scaled'] = scaler_play_count.fit_transform(df_with_embeddings[['play_count_log']])\n",
        "\n",
        "# Step 4: Define the sample user ID\n",
        "sample_user_id = 22570\n",
        "\n",
        "# Step 5: Filter out songs that the user has already listened to\n",
        "# Get the songs user 22570 has listened to\n",
        "user_songs = df_with_embeddings[df_with_embeddings['user_id'] == sample_user_id]\n",
        "\n",
        "# Songs the user has already listened to\n",
        "listened_songs = user_songs[['song_id', 'title', 'artist_name', 'play_count']]\n",
        "\n",
        "# Get all songs excluding the ones the user has already played\n",
        "unplayed_songs = df_with_embeddings[~df_with_embeddings['song_id'].isin(user_songs['song_id'])]\n",
        "\n",
        "# Step 6: Remove duplicates from the unplayed songs (based on song_id, or use other columns as needed)\n",
        "unplayed_songs = unplayed_songs.drop_duplicates(subset='song_id')\n",
        "\n",
        "# Step 7: Function to predict play count using the GNN model for recommendations\n",
        "def predict_play_count(model, song_row):\n",
        "    # Extract embeddings and move to the correct device\n",
        "    embeddings = torch.tensor(np.stack(song_row['distilbert_embeddings']), dtype=torch.float32).unsqueeze(0).to(device)\n",
        "\n",
        "    # Create an edge index for self-loop (since each song is treated as its own node)\n",
        "    edge_index = torch.tensor([[0], [0]], dtype=torch.long).to(device)\n",
        "\n",
        "    # Forward pass through the GNN model\n",
        "    with torch.no_grad():\n",
        "        predicted_play_count = model(embeddings, edge_index)  # Use edge_index like in training\n",
        "        predicted_play_count = predicted_play_count.cpu().numpy()\n",
        "\n",
        "    # Re-transform predicted play count back to original scale\n",
        "    predicted_play_count = np.expm1(scaler_play_count.inverse_transform(predicted_play_count.reshape(-1, 1)))\n",
        "\n",
        "    return predicted_play_count.item()\n",
        "\n",
        "# Step 8: Make predictions for the unplayed songs\n",
        "predictions = []\n",
        "for _, song_row in unplayed_songs.iterrows():\n",
        "    predicted_count = predict_play_count(gnn_model, song_row)\n",
        "    predictions.append((song_row['song_id'], song_row['title'], song_row['artist_name'], predicted_count))\n",
        "\n",
        "# Step 9: Convert predictions to a DataFrame\n",
        "predicted_df = pd.DataFrame(predictions, columns=['song_id', 'title', 'artist_name', 'predicted_play_count'])\n",
        "\n",
        "# Step 10: Rank the songs by predicted play count and recommend the top 5\n",
        "top_5_recommendations = predicted_df.sort_values(by='predicted_play_count', ascending=False).head(5)\n",
        "\n",
        "# Step 11: Get the top 5 songs user 22570 has already played\n",
        "top_5_listened_songs = listened_songs.sort_values(by='play_count', ascending=False).head(5)\n",
        "\n",
        "# Step 12: Display the results\n",
        "print(\"Top 5 Recommended Songs for User 22570:\")\n",
        "print(top_5_recommendations[['song_id', 'title', 'artist_name', 'predicted_play_count']])\n",
        "\n",
        "print(\"\\nTop 5 Songs User 22570 Has Already Played:\")\n",
        "print(top_5_listened_songs[['song_id', 'title', 'artist_name', 'play_count']])"
      ],
      "metadata": {
        "colab": {
          "base_uri": "https://localhost:8080/"
        },
        "id": "f_VVC8GcCU0-",
        "outputId": "2dc261e1-3212-4ae1-c93a-7f9999f37fb6"
      },
      "execution_count": null,
      "outputs": [
        {
          "output_type": "stream",
          "name": "stdout",
          "text": [
            "Drive already mounted at /content/drive; to attempt to forcibly remount, call drive.mount(\"/content/drive\", force_remount=True).\n",
            "Using device: cuda\n",
            "Top 5 Recommended Songs for User 22570:\n",
            "      song_id                                       title  \\\n",
            "143      6413                             Kaaos ei karkaa   \n",
            "7591      238                             TE QUIERO PUTA!   \n",
            "6662     7235                                        Rose   \n",
            "7645     3123                               Luz Dos Olhos   \n",
            "4429     1081  Acende O Candieiro (2003 Digital Remaster)   \n",
            "\n",
            "                             artist_name  predicted_play_count  \n",
            "143                      Haloo Helsinki!             45.885681  \n",
            "7591                           Rammstein             37.988350  \n",
            "6662                    A Perfect Circle             33.581852  \n",
            "7645                          Nando Reis             33.338898  \n",
            "4429  Adoniran Barbosa - Com Nosso Samba             33.188675  \n",
            "\n",
            "Top 5 Songs User 22570 Has Already Played:\n",
            "    song_id                                         title    artist_name  \\\n",
            "11     8773                                       Push It    Salt-N-Pepa   \n",
            "1      1811  Ghosts 'n' Stuff (Original Instrumental Mix)       Deadmau5   \n",
            "12     9037                                    Speechless      Lady GaGa   \n",
            "10     8654                                    Without Me         Eminem   \n",
            "0      1286                              Somebody To Love  Justin Bieber   \n",
            "\n",
            "    play_count  \n",
            "11          18  \n",
            "1           13  \n",
            "12          12  \n",
            "10           8  \n",
            "0            6  \n"
          ]
        }
      ]
    }
  ],
  "metadata": {
    "accelerator": "GPU",
    "colab": {
      "collapsed_sections": [
        "mc6qaCBw7Lqz"
      ],
      "gpuType": "T4",
      "machine_shape": "hm",
      "provenance": [],
      "authorship_tag": "ABX9TyMdmg5tB8NA1bmFHl9jXZxZ",
      "include_colab_link": true
    },
    "kernelspec": {
      "display_name": "Python 3",
      "name": "python3"
    },
    "language_info": {
      "name": "python"
    },
    "widgets": {
      "application/vnd.jupyter.widget-state+json": {
        "0002ebd199094c06a527e4d7d4af0fb6": {
          "model_module": "@jupyter-widgets/base",
          "model_module_version": "1.2.0",
          "model_name": "LayoutModel",
          "state": {
            "_model_module": "@jupyter-widgets/base",
            "_model_module_version": "1.2.0",
            "_model_name": "LayoutModel",
            "_view_count": null,
            "_view_module": "@jupyter-widgets/base",
            "_view_module_version": "1.2.0",
            "_view_name": "LayoutView",
            "align_content": null,
            "align_items": null,
            "align_self": null,
            "border": null,
            "bottom": null,
            "display": null,
            "flex": null,
            "flex_flow": null,
            "grid_area": null,
            "grid_auto_columns": null,
            "grid_auto_flow": null,
            "grid_auto_rows": null,
            "grid_column": null,
            "grid_gap": null,
            "grid_row": null,
            "grid_template_areas": null,
            "grid_template_columns": null,
            "grid_template_rows": null,
            "height": null,
            "justify_content": null,
            "justify_items": null,
            "left": null,
            "margin": null,
            "max_height": null,
            "max_width": null,
            "min_height": null,
            "min_width": null,
            "object_fit": null,
            "object_position": null,
            "order": null,
            "overflow": null,
            "overflow_x": null,
            "overflow_y": null,
            "padding": null,
            "right": null,
            "top": null,
            "visibility": null,
            "width": null
          }
        },
        "012dce7d37384ff9b6af4c2defbc940d": {
          "model_module": "@jupyter-widgets/controls",
          "model_module_version": "1.5.0",
          "model_name": "HTMLModel",
          "state": {
            "_dom_classes": [],
            "_model_module": "@jupyter-widgets/controls",
            "_model_module_version": "1.5.0",
            "_model_name": "HTMLModel",
            "_view_count": null,
            "_view_module": "@jupyter-widgets/controls",
            "_view_module_version": "1.5.0",
            "_view_name": "HTMLView",
            "description": "",
            "description_tooltip": null,
            "layout": "IPY_MODEL_c2e1ffd9188449368db51cb350a0731c",
            "placeholder": "​",
            "style": "IPY_MODEL_d6318d7cbde44993b5cd03c231594034",
            "value": "tokenizer.json: 100%"
          }
        },
        "068cd48b6c9a472fa1e41fefd6170abc": {
          "model_module": "@jupyter-widgets/controls",
          "model_module_version": "1.5.0",
          "model_name": "DescriptionStyleModel",
          "state": {
            "_model_module": "@jupyter-widgets/controls",
            "_model_module_version": "1.5.0",
            "_model_name": "DescriptionStyleModel",
            "_view_count": null,
            "_view_module": "@jupyter-widgets/base",
            "_view_module_version": "1.2.0",
            "_view_name": "StyleView",
            "description_width": ""
          }
        },
        "068e09e5337941be9c2ebd1800a14651": {
          "model_module": "@jupyter-widgets/base",
          "model_module_version": "1.2.0",
          "model_name": "LayoutModel",
          "state": {
            "_model_module": "@jupyter-widgets/base",
            "_model_module_version": "1.2.0",
            "_model_name": "LayoutModel",
            "_view_count": null,
            "_view_module": "@jupyter-widgets/base",
            "_view_module_version": "1.2.0",
            "_view_name": "LayoutView",
            "align_content": null,
            "align_items": null,
            "align_self": null,
            "border": null,
            "bottom": null,
            "display": null,
            "flex": null,
            "flex_flow": null,
            "grid_area": null,
            "grid_auto_columns": null,
            "grid_auto_flow": null,
            "grid_auto_rows": null,
            "grid_column": null,
            "grid_gap": null,
            "grid_row": null,
            "grid_template_areas": null,
            "grid_template_columns": null,
            "grid_template_rows": null,
            "height": null,
            "justify_content": null,
            "justify_items": null,
            "left": null,
            "margin": null,
            "max_height": null,
            "max_width": null,
            "min_height": null,
            "min_width": null,
            "object_fit": null,
            "object_position": null,
            "order": null,
            "overflow": null,
            "overflow_x": null,
            "overflow_y": null,
            "padding": null,
            "right": null,
            "top": null,
            "visibility": null,
            "width": null
          }
        },
        "0b07384060d04d5785d0fb6ec938ae11": {
          "model_module": "@jupyter-widgets/base",
          "model_module_version": "1.2.0",
          "model_name": "LayoutModel",
          "state": {
            "_model_module": "@jupyter-widgets/base",
            "_model_module_version": "1.2.0",
            "_model_name": "LayoutModel",
            "_view_count": null,
            "_view_module": "@jupyter-widgets/base",
            "_view_module_version": "1.2.0",
            "_view_name": "LayoutView",
            "align_content": null,
            "align_items": null,
            "align_self": null,
            "border": null,
            "bottom": null,
            "display": null,
            "flex": null,
            "flex_flow": null,
            "grid_area": null,
            "grid_auto_columns": null,
            "grid_auto_flow": null,
            "grid_auto_rows": null,
            "grid_column": null,
            "grid_gap": null,
            "grid_row": null,
            "grid_template_areas": null,
            "grid_template_columns": null,
            "grid_template_rows": null,
            "height": null,
            "justify_content": null,
            "justify_items": null,
            "left": null,
            "margin": null,
            "max_height": null,
            "max_width": null,
            "min_height": null,
            "min_width": null,
            "object_fit": null,
            "object_position": null,
            "order": null,
            "overflow": null,
            "overflow_x": null,
            "overflow_y": null,
            "padding": null,
            "right": null,
            "top": null,
            "visibility": null,
            "width": null
          }
        },
        "0cc219dfe1b7492aa9f38b6a955b3bc5": {
          "model_module": "@jupyter-widgets/controls",
          "model_module_version": "1.5.0",
          "model_name": "ProgressStyleModel",
          "state": {
            "_model_module": "@jupyter-widgets/controls",
            "_model_module_version": "1.5.0",
            "_model_name": "ProgressStyleModel",
            "_view_count": null,
            "_view_module": "@jupyter-widgets/base",
            "_view_module_version": "1.2.0",
            "_view_name": "StyleView",
            "bar_color": null,
            "description_width": ""
          }
        },
        "2a873839a5904f858e885d2a28183c6f": {
          "model_module": "@jupyter-widgets/base",
          "model_module_version": "1.2.0",
          "model_name": "LayoutModel",
          "state": {
            "_model_module": "@jupyter-widgets/base",
            "_model_module_version": "1.2.0",
            "_model_name": "LayoutModel",
            "_view_count": null,
            "_view_module": "@jupyter-widgets/base",
            "_view_module_version": "1.2.0",
            "_view_name": "LayoutView",
            "align_content": null,
            "align_items": null,
            "align_self": null,
            "border": null,
            "bottom": null,
            "display": null,
            "flex": null,
            "flex_flow": null,
            "grid_area": null,
            "grid_auto_columns": null,
            "grid_auto_flow": null,
            "grid_auto_rows": null,
            "grid_column": null,
            "grid_gap": null,
            "grid_row": null,
            "grid_template_areas": null,
            "grid_template_columns": null,
            "grid_template_rows": null,
            "height": null,
            "justify_content": null,
            "justify_items": null,
            "left": null,
            "margin": null,
            "max_height": null,
            "max_width": null,
            "min_height": null,
            "min_width": null,
            "object_fit": null,
            "object_position": null,
            "order": null,
            "overflow": null,
            "overflow_x": null,
            "overflow_y": null,
            "padding": null,
            "right": null,
            "top": null,
            "visibility": null,
            "width": null
          }
        },
        "34bfedbce9194e69ac053281ab21344c": {
          "model_module": "@jupyter-widgets/controls",
          "model_module_version": "1.5.0",
          "model_name": "HBoxModel",
          "state": {
            "_dom_classes": [],
            "_model_module": "@jupyter-widgets/controls",
            "_model_module_version": "1.5.0",
            "_model_name": "HBoxModel",
            "_view_count": null,
            "_view_module": "@jupyter-widgets/controls",
            "_view_module_version": "1.5.0",
            "_view_name": "HBoxView",
            "box_style": "",
            "children": [
              "IPY_MODEL_43ac27f104b24a04902dd289bb522541",
              "IPY_MODEL_5bf61f17b3244545b8bcbca85c01e1ee",
              "IPY_MODEL_ee4a82fab54d4e6790474d35322e5704"
            ],
            "layout": "IPY_MODEL_dc06f2d3bace433d8bdae9b92b28d201"
          }
        },
        "372439554271423394d67486747f7422": {
          "model_module": "@jupyter-widgets/controls",
          "model_module_version": "1.5.0",
          "model_name": "ProgressStyleModel",
          "state": {
            "_model_module": "@jupyter-widgets/controls",
            "_model_module_version": "1.5.0",
            "_model_name": "ProgressStyleModel",
            "_view_count": null,
            "_view_module": "@jupyter-widgets/base",
            "_view_module_version": "1.2.0",
            "_view_name": "StyleView",
            "bar_color": null,
            "description_width": ""
          }
        },
        "38c8bcaccfdd4d6fb75550a61d47e403": {
          "model_module": "@jupyter-widgets/base",
          "model_module_version": "1.2.0",
          "model_name": "LayoutModel",
          "state": {
            "_model_module": "@jupyter-widgets/base",
            "_model_module_version": "1.2.0",
            "_model_name": "LayoutModel",
            "_view_count": null,
            "_view_module": "@jupyter-widgets/base",
            "_view_module_version": "1.2.0",
            "_view_name": "LayoutView",
            "align_content": null,
            "align_items": null,
            "align_self": null,
            "border": null,
            "bottom": null,
            "display": null,
            "flex": null,
            "flex_flow": null,
            "grid_area": null,
            "grid_auto_columns": null,
            "grid_auto_flow": null,
            "grid_auto_rows": null,
            "grid_column": null,
            "grid_gap": null,
            "grid_row": null,
            "grid_template_areas": null,
            "grid_template_columns": null,
            "grid_template_rows": null,
            "height": null,
            "justify_content": null,
            "justify_items": null,
            "left": null,
            "margin": null,
            "max_height": null,
            "max_width": null,
            "min_height": null,
            "min_width": null,
            "object_fit": null,
            "object_position": null,
            "order": null,
            "overflow": null,
            "overflow_x": null,
            "overflow_y": null,
            "padding": null,
            "right": null,
            "top": null,
            "visibility": null,
            "width": null
          }
        },
        "3cb7463a4b344d5a82dde612605b2eff": {
          "model_module": "@jupyter-widgets/controls",
          "model_module_version": "1.5.0",
          "model_name": "FloatProgressModel",
          "state": {
            "_dom_classes": [],
            "_model_module": "@jupyter-widgets/controls",
            "_model_module_version": "1.5.0",
            "_model_name": "FloatProgressModel",
            "_view_count": null,
            "_view_module": "@jupyter-widgets/controls",
            "_view_module_version": "1.5.0",
            "_view_name": "ProgressView",
            "bar_style": "success",
            "description": "",
            "description_tooltip": null,
            "layout": "IPY_MODEL_458d0e7c18ef40a6b80470082208c4e0",
            "max": 483,
            "min": 0,
            "orientation": "horizontal",
            "style": "IPY_MODEL_943b4757543c41989ab805d7b25d4597",
            "value": 483
          }
        },
        "429c47e843d84b3a90e7f054346f2aaf": {
          "model_module": "@jupyter-widgets/controls",
          "model_module_version": "1.5.0",
          "model_name": "DescriptionStyleModel",
          "state": {
            "_model_module": "@jupyter-widgets/controls",
            "_model_module_version": "1.5.0",
            "_model_name": "DescriptionStyleModel",
            "_view_count": null,
            "_view_module": "@jupyter-widgets/base",
            "_view_module_version": "1.2.0",
            "_view_name": "StyleView",
            "description_width": ""
          }
        },
        "43ac27f104b24a04902dd289bb522541": {
          "model_module": "@jupyter-widgets/controls",
          "model_module_version": "1.5.0",
          "model_name": "HTMLModel",
          "state": {
            "_dom_classes": [],
            "_model_module": "@jupyter-widgets/controls",
            "_model_module_version": "1.5.0",
            "_model_name": "HTMLModel",
            "_view_count": null,
            "_view_module": "@jupyter-widgets/controls",
            "_view_module_version": "1.5.0",
            "_view_name": "HTMLView",
            "description": "",
            "description_tooltip": null,
            "layout": "IPY_MODEL_50f82436943248bfa1438d7b6715fcef",
            "placeholder": "​",
            "style": "IPY_MODEL_e2f1f1e4d47f4c68aa0bbb43a9bde97a",
            "value": "vocab.txt: 100%"
          }
        },
        "458d0e7c18ef40a6b80470082208c4e0": {
          "model_module": "@jupyter-widgets/base",
          "model_module_version": "1.2.0",
          "model_name": "LayoutModel",
          "state": {
            "_model_module": "@jupyter-widgets/base",
            "_model_module_version": "1.2.0",
            "_model_name": "LayoutModel",
            "_view_count": null,
            "_view_module": "@jupyter-widgets/base",
            "_view_module_version": "1.2.0",
            "_view_name": "LayoutView",
            "align_content": null,
            "align_items": null,
            "align_self": null,
            "border": null,
            "bottom": null,
            "display": null,
            "flex": null,
            "flex_flow": null,
            "grid_area": null,
            "grid_auto_columns": null,
            "grid_auto_flow": null,
            "grid_auto_rows": null,
            "grid_column": null,
            "grid_gap": null,
            "grid_row": null,
            "grid_template_areas": null,
            "grid_template_columns": null,
            "grid_template_rows": null,
            "height": null,
            "justify_content": null,
            "justify_items": null,
            "left": null,
            "margin": null,
            "max_height": null,
            "max_width": null,
            "min_height": null,
            "min_width": null,
            "object_fit": null,
            "object_position": null,
            "order": null,
            "overflow": null,
            "overflow_x": null,
            "overflow_y": null,
            "padding": null,
            "right": null,
            "top": null,
            "visibility": null,
            "width": null
          }
        },
        "4b010e5a0272489db7decd5684d3364a": {
          "model_module": "@jupyter-widgets/controls",
          "model_module_version": "1.5.0",
          "model_name": "ProgressStyleModel",
          "state": {
            "_model_module": "@jupyter-widgets/controls",
            "_model_module_version": "1.5.0",
            "_model_name": "ProgressStyleModel",
            "_view_count": null,
            "_view_module": "@jupyter-widgets/base",
            "_view_module_version": "1.2.0",
            "_view_name": "StyleView",
            "bar_color": null,
            "description_width": ""
          }
        },
        "4b6591103e574261a350c9a0b238a7a2": {
          "model_module": "@jupyter-widgets/controls",
          "model_module_version": "1.5.0",
          "model_name": "DescriptionStyleModel",
          "state": {
            "_model_module": "@jupyter-widgets/controls",
            "_model_module_version": "1.5.0",
            "_model_name": "DescriptionStyleModel",
            "_view_count": null,
            "_view_module": "@jupyter-widgets/base",
            "_view_module_version": "1.2.0",
            "_view_name": "StyleView",
            "description_width": ""
          }
        },
        "50f82436943248bfa1438d7b6715fcef": {
          "model_module": "@jupyter-widgets/base",
          "model_module_version": "1.2.0",
          "model_name": "LayoutModel",
          "state": {
            "_model_module": "@jupyter-widgets/base",
            "_model_module_version": "1.2.0",
            "_model_name": "LayoutModel",
            "_view_count": null,
            "_view_module": "@jupyter-widgets/base",
            "_view_module_version": "1.2.0",
            "_view_name": "LayoutView",
            "align_content": null,
            "align_items": null,
            "align_self": null,
            "border": null,
            "bottom": null,
            "display": null,
            "flex": null,
            "flex_flow": null,
            "grid_area": null,
            "grid_auto_columns": null,
            "grid_auto_flow": null,
            "grid_auto_rows": null,
            "grid_column": null,
            "grid_gap": null,
            "grid_row": null,
            "grid_template_areas": null,
            "grid_template_columns": null,
            "grid_template_rows": null,
            "height": null,
            "justify_content": null,
            "justify_items": null,
            "left": null,
            "margin": null,
            "max_height": null,
            "max_width": null,
            "min_height": null,
            "min_width": null,
            "object_fit": null,
            "object_position": null,
            "order": null,
            "overflow": null,
            "overflow_x": null,
            "overflow_y": null,
            "padding": null,
            "right": null,
            "top": null,
            "visibility": null,
            "width": null
          }
        },
        "5bf61f17b3244545b8bcbca85c01e1ee": {
          "model_module": "@jupyter-widgets/controls",
          "model_module_version": "1.5.0",
          "model_name": "FloatProgressModel",
          "state": {
            "_dom_classes": [],
            "_model_module": "@jupyter-widgets/controls",
            "_model_module_version": "1.5.0",
            "_model_name": "FloatProgressModel",
            "_view_count": null,
            "_view_module": "@jupyter-widgets/controls",
            "_view_module_version": "1.5.0",
            "_view_name": "ProgressView",
            "bar_style": "success",
            "description": "",
            "description_tooltip": null,
            "layout": "IPY_MODEL_77a1da7e3e9840dbae4043efa0d2721e",
            "max": 231508,
            "min": 0,
            "orientation": "horizontal",
            "style": "IPY_MODEL_4b010e5a0272489db7decd5684d3364a",
            "value": 231508
          }
        },
        "66100ef2fa1b4e56bbcc9aec12f7e35e": {
          "model_module": "@jupyter-widgets/controls",
          "model_module_version": "1.5.0",
          "model_name": "HTMLModel",
          "state": {
            "_dom_classes": [],
            "_model_module": "@jupyter-widgets/controls",
            "_model_module_version": "1.5.0",
            "_model_name": "HTMLModel",
            "_view_count": null,
            "_view_module": "@jupyter-widgets/controls",
            "_view_module_version": "1.5.0",
            "_view_name": "HTMLView",
            "description": "",
            "description_tooltip": null,
            "layout": "IPY_MODEL_874e0ccee1c54765ad8715decf6dc473",
            "placeholder": "​",
            "style": "IPY_MODEL_748023cb8a9e40c6930b3982e19c6060",
            "value": " 466k/466k [00:00&lt;00:00, 1.89MB/s]"
          }
        },
        "68c1a24464fc4c689d5e36cf8556d819": {
          "model_module": "@jupyter-widgets/base",
          "model_module_version": "1.2.0",
          "model_name": "LayoutModel",
          "state": {
            "_model_module": "@jupyter-widgets/base",
            "_model_module_version": "1.2.0",
            "_model_name": "LayoutModel",
            "_view_count": null,
            "_view_module": "@jupyter-widgets/base",
            "_view_module_version": "1.2.0",
            "_view_name": "LayoutView",
            "align_content": null,
            "align_items": null,
            "align_self": null,
            "border": null,
            "bottom": null,
            "display": null,
            "flex": null,
            "flex_flow": null,
            "grid_area": null,
            "grid_auto_columns": null,
            "grid_auto_flow": null,
            "grid_auto_rows": null,
            "grid_column": null,
            "grid_gap": null,
            "grid_row": null,
            "grid_template_areas": null,
            "grid_template_columns": null,
            "grid_template_rows": null,
            "height": null,
            "justify_content": null,
            "justify_items": null,
            "left": null,
            "margin": null,
            "max_height": null,
            "max_width": null,
            "min_height": null,
            "min_width": null,
            "object_fit": null,
            "object_position": null,
            "order": null,
            "overflow": null,
            "overflow_x": null,
            "overflow_y": null,
            "padding": null,
            "right": null,
            "top": null,
            "visibility": null,
            "width": null
          }
        },
        "6e700176e15b4344b24dcbd8d17c51f3": {
          "model_module": "@jupyter-widgets/controls",
          "model_module_version": "1.5.0",
          "model_name": "HBoxModel",
          "state": {
            "_dom_classes": [],
            "_model_module": "@jupyter-widgets/controls",
            "_model_module_version": "1.5.0",
            "_model_name": "HBoxModel",
            "_view_count": null,
            "_view_module": "@jupyter-widgets/controls",
            "_view_module_version": "1.5.0",
            "_view_name": "HBoxView",
            "box_style": "",
            "children": [
              "IPY_MODEL_d097e0e83cad4b278c7ae5f75a734896",
              "IPY_MODEL_cd3e4544cd5446c18edbbc37d8c2800d",
              "IPY_MODEL_e7191da831554ff3a0a64e2d7113433f"
            ],
            "layout": "IPY_MODEL_2a873839a5904f858e885d2a28183c6f"
          }
        },
        "6f8937b8e4e84e578efbaecb6e0207f3": {
          "model_module": "@jupyter-widgets/controls",
          "model_module_version": "1.5.0",
          "model_name": "DescriptionStyleModel",
          "state": {
            "_model_module": "@jupyter-widgets/controls",
            "_model_module_version": "1.5.0",
            "_model_name": "DescriptionStyleModel",
            "_view_count": null,
            "_view_module": "@jupyter-widgets/base",
            "_view_module_version": "1.2.0",
            "_view_name": "StyleView",
            "description_width": ""
          }
        },
        "748023cb8a9e40c6930b3982e19c6060": {
          "model_module": "@jupyter-widgets/controls",
          "model_module_version": "1.5.0",
          "model_name": "DescriptionStyleModel",
          "state": {
            "_model_module": "@jupyter-widgets/controls",
            "_model_module_version": "1.5.0",
            "_model_name": "DescriptionStyleModel",
            "_view_count": null,
            "_view_module": "@jupyter-widgets/base",
            "_view_module_version": "1.2.0",
            "_view_name": "StyleView",
            "description_width": ""
          }
        },
        "77a1da7e3e9840dbae4043efa0d2721e": {
          "model_module": "@jupyter-widgets/base",
          "model_module_version": "1.2.0",
          "model_name": "LayoutModel",
          "state": {
            "_model_module": "@jupyter-widgets/base",
            "_model_module_version": "1.2.0",
            "_model_name": "LayoutModel",
            "_view_count": null,
            "_view_module": "@jupyter-widgets/base",
            "_view_module_version": "1.2.0",
            "_view_name": "LayoutView",
            "align_content": null,
            "align_items": null,
            "align_self": null,
            "border": null,
            "bottom": null,
            "display": null,
            "flex": null,
            "flex_flow": null,
            "grid_area": null,
            "grid_auto_columns": null,
            "grid_auto_flow": null,
            "grid_auto_rows": null,
            "grid_column": null,
            "grid_gap": null,
            "grid_row": null,
            "grid_template_areas": null,
            "grid_template_columns": null,
            "grid_template_rows": null,
            "height": null,
            "justify_content": null,
            "justify_items": null,
            "left": null,
            "margin": null,
            "max_height": null,
            "max_width": null,
            "min_height": null,
            "min_width": null,
            "object_fit": null,
            "object_position": null,
            "order": null,
            "overflow": null,
            "overflow_x": null,
            "overflow_y": null,
            "padding": null,
            "right": null,
            "top": null,
            "visibility": null,
            "width": null
          }
        },
        "7973ec02313b49a3aba8b5346b3715bc": {
          "model_module": "@jupyter-widgets/controls",
          "model_module_version": "1.5.0",
          "model_name": "ProgressStyleModel",
          "state": {
            "_model_module": "@jupyter-widgets/controls",
            "_model_module_version": "1.5.0",
            "_model_name": "ProgressStyleModel",
            "_view_count": null,
            "_view_module": "@jupyter-widgets/base",
            "_view_module_version": "1.2.0",
            "_view_name": "StyleView",
            "bar_color": null,
            "description_width": ""
          }
        },
        "79dc6af6c4c44fa4b99536af8e067bb1": {
          "model_module": "@jupyter-widgets/base",
          "model_module_version": "1.2.0",
          "model_name": "LayoutModel",
          "state": {
            "_model_module": "@jupyter-widgets/base",
            "_model_module_version": "1.2.0",
            "_model_name": "LayoutModel",
            "_view_count": null,
            "_view_module": "@jupyter-widgets/base",
            "_view_module_version": "1.2.0",
            "_view_name": "LayoutView",
            "align_content": null,
            "align_items": null,
            "align_self": null,
            "border": null,
            "bottom": null,
            "display": null,
            "flex": null,
            "flex_flow": null,
            "grid_area": null,
            "grid_auto_columns": null,
            "grid_auto_flow": null,
            "grid_auto_rows": null,
            "grid_column": null,
            "grid_gap": null,
            "grid_row": null,
            "grid_template_areas": null,
            "grid_template_columns": null,
            "grid_template_rows": null,
            "height": null,
            "justify_content": null,
            "justify_items": null,
            "left": null,
            "margin": null,
            "max_height": null,
            "max_width": null,
            "min_height": null,
            "min_width": null,
            "object_fit": null,
            "object_position": null,
            "order": null,
            "overflow": null,
            "overflow_x": null,
            "overflow_y": null,
            "padding": null,
            "right": null,
            "top": null,
            "visibility": null,
            "width": null
          }
        },
        "7e83cdc93e7e441bbfc3f5787bdc291f": {
          "model_module": "@jupyter-widgets/controls",
          "model_module_version": "1.5.0",
          "model_name": "HBoxModel",
          "state": {
            "_dom_classes": [],
            "_model_module": "@jupyter-widgets/controls",
            "_model_module_version": "1.5.0",
            "_model_name": "HBoxModel",
            "_view_count": null,
            "_view_module": "@jupyter-widgets/controls",
            "_view_module_version": "1.5.0",
            "_view_name": "HBoxView",
            "box_style": "",
            "children": [
              "IPY_MODEL_8768cee66d60445692e0282656fa7b2d",
              "IPY_MODEL_efa5a4e4a494448495a03ed0bc33c5f0",
              "IPY_MODEL_92d68de1b5944f51b0d2c85c26444036"
            ],
            "layout": "IPY_MODEL_f7f3d49c9c174fd3b22d5df5b8ede87f"
          }
        },
        "85246481eee1438f9ac404a3aeea5835": {
          "model_module": "@jupyter-widgets/controls",
          "model_module_version": "1.5.0",
          "model_name": "HBoxModel",
          "state": {
            "_dom_classes": [],
            "_model_module": "@jupyter-widgets/controls",
            "_model_module_version": "1.5.0",
            "_model_name": "HBoxModel",
            "_view_count": null,
            "_view_module": "@jupyter-widgets/controls",
            "_view_module_version": "1.5.0",
            "_view_name": "HBoxView",
            "box_style": "",
            "children": [
              "IPY_MODEL_a262bf8ca37f47bfa0be53a332f0dfeb",
              "IPY_MODEL_3cb7463a4b344d5a82dde612605b2eff",
              "IPY_MODEL_c43ee43531e94548a1c2b58d3436e082"
            ],
            "layout": "IPY_MODEL_f8d94fe864874ba1b7081b38283a07c9"
          }
        },
        "874e0ccee1c54765ad8715decf6dc473": {
          "model_module": "@jupyter-widgets/base",
          "model_module_version": "1.2.0",
          "model_name": "LayoutModel",
          "state": {
            "_model_module": "@jupyter-widgets/base",
            "_model_module_version": "1.2.0",
            "_model_name": "LayoutModel",
            "_view_count": null,
            "_view_module": "@jupyter-widgets/base",
            "_view_module_version": "1.2.0",
            "_view_name": "LayoutView",
            "align_content": null,
            "align_items": null,
            "align_self": null,
            "border": null,
            "bottom": null,
            "display": null,
            "flex": null,
            "flex_flow": null,
            "grid_area": null,
            "grid_auto_columns": null,
            "grid_auto_flow": null,
            "grid_auto_rows": null,
            "grid_column": null,
            "grid_gap": null,
            "grid_row": null,
            "grid_template_areas": null,
            "grid_template_columns": null,
            "grid_template_rows": null,
            "height": null,
            "justify_content": null,
            "justify_items": null,
            "left": null,
            "margin": null,
            "max_height": null,
            "max_width": null,
            "min_height": null,
            "min_width": null,
            "object_fit": null,
            "object_position": null,
            "order": null,
            "overflow": null,
            "overflow_x": null,
            "overflow_y": null,
            "padding": null,
            "right": null,
            "top": null,
            "visibility": null,
            "width": null
          }
        },
        "8768cee66d60445692e0282656fa7b2d": {
          "model_module": "@jupyter-widgets/controls",
          "model_module_version": "1.5.0",
          "model_name": "HTMLModel",
          "state": {
            "_dom_classes": [],
            "_model_module": "@jupyter-widgets/controls",
            "_model_module_version": "1.5.0",
            "_model_name": "HTMLModel",
            "_view_count": null,
            "_view_module": "@jupyter-widgets/controls",
            "_view_module_version": "1.5.0",
            "_view_name": "HTMLView",
            "description": "",
            "description_tooltip": null,
            "layout": "IPY_MODEL_0002ebd199094c06a527e4d7d4af0fb6",
            "placeholder": "​",
            "style": "IPY_MODEL_068cd48b6c9a472fa1e41fefd6170abc",
            "value": "tokenizer_config.json: 100%"
          }
        },
        "92d68de1b5944f51b0d2c85c26444036": {
          "model_module": "@jupyter-widgets/controls",
          "model_module_version": "1.5.0",
          "model_name": "HTMLModel",
          "state": {
            "_dom_classes": [],
            "_model_module": "@jupyter-widgets/controls",
            "_model_module_version": "1.5.0",
            "_model_name": "HTMLModel",
            "_view_count": null,
            "_view_module": "@jupyter-widgets/controls",
            "_view_module_version": "1.5.0",
            "_view_name": "HTMLView",
            "description": "",
            "description_tooltip": null,
            "layout": "IPY_MODEL_a0787f0af7e54c0d864507b22a6b9be4",
            "placeholder": "​",
            "style": "IPY_MODEL_429c47e843d84b3a90e7f054346f2aaf",
            "value": " 48.0/48.0 [00:00&lt;00:00, 3.98kB/s]"
          }
        },
        "943b4757543c41989ab805d7b25d4597": {
          "model_module": "@jupyter-widgets/controls",
          "model_module_version": "1.5.0",
          "model_name": "ProgressStyleModel",
          "state": {
            "_model_module": "@jupyter-widgets/controls",
            "_model_module_version": "1.5.0",
            "_model_name": "ProgressStyleModel",
            "_view_count": null,
            "_view_module": "@jupyter-widgets/base",
            "_view_module_version": "1.2.0",
            "_view_name": "StyleView",
            "bar_color": null,
            "description_width": ""
          }
        },
        "9b6a710605a648598ee216599cf157a7": {
          "model_module": "@jupyter-widgets/base",
          "model_module_version": "1.2.0",
          "model_name": "LayoutModel",
          "state": {
            "_model_module": "@jupyter-widgets/base",
            "_model_module_version": "1.2.0",
            "_model_name": "LayoutModel",
            "_view_count": null,
            "_view_module": "@jupyter-widgets/base",
            "_view_module_version": "1.2.0",
            "_view_name": "LayoutView",
            "align_content": null,
            "align_items": null,
            "align_self": null,
            "border": null,
            "bottom": null,
            "display": null,
            "flex": null,
            "flex_flow": null,
            "grid_area": null,
            "grid_auto_columns": null,
            "grid_auto_flow": null,
            "grid_auto_rows": null,
            "grid_column": null,
            "grid_gap": null,
            "grid_row": null,
            "grid_template_areas": null,
            "grid_template_columns": null,
            "grid_template_rows": null,
            "height": null,
            "justify_content": null,
            "justify_items": null,
            "left": null,
            "margin": null,
            "max_height": null,
            "max_width": null,
            "min_height": null,
            "min_width": null,
            "object_fit": null,
            "object_position": null,
            "order": null,
            "overflow": null,
            "overflow_x": null,
            "overflow_y": null,
            "padding": null,
            "right": null,
            "top": null,
            "visibility": null,
            "width": null
          }
        },
        "a0787f0af7e54c0d864507b22a6b9be4": {
          "model_module": "@jupyter-widgets/base",
          "model_module_version": "1.2.0",
          "model_name": "LayoutModel",
          "state": {
            "_model_module": "@jupyter-widgets/base",
            "_model_module_version": "1.2.0",
            "_model_name": "LayoutModel",
            "_view_count": null,
            "_view_module": "@jupyter-widgets/base",
            "_view_module_version": "1.2.0",
            "_view_name": "LayoutView",
            "align_content": null,
            "align_items": null,
            "align_self": null,
            "border": null,
            "bottom": null,
            "display": null,
            "flex": null,
            "flex_flow": null,
            "grid_area": null,
            "grid_auto_columns": null,
            "grid_auto_flow": null,
            "grid_auto_rows": null,
            "grid_column": null,
            "grid_gap": null,
            "grid_row": null,
            "grid_template_areas": null,
            "grid_template_columns": null,
            "grid_template_rows": null,
            "height": null,
            "justify_content": null,
            "justify_items": null,
            "left": null,
            "margin": null,
            "max_height": null,
            "max_width": null,
            "min_height": null,
            "min_width": null,
            "object_fit": null,
            "object_position": null,
            "order": null,
            "overflow": null,
            "overflow_x": null,
            "overflow_y": null,
            "padding": null,
            "right": null,
            "top": null,
            "visibility": null,
            "width": null
          }
        },
        "a262bf8ca37f47bfa0be53a332f0dfeb": {
          "model_module": "@jupyter-widgets/controls",
          "model_module_version": "1.5.0",
          "model_name": "HTMLModel",
          "state": {
            "_dom_classes": [],
            "_model_module": "@jupyter-widgets/controls",
            "_model_module_version": "1.5.0",
            "_model_name": "HTMLModel",
            "_view_count": null,
            "_view_module": "@jupyter-widgets/controls",
            "_view_module_version": "1.5.0",
            "_view_name": "HTMLView",
            "description": "",
            "description_tooltip": null,
            "layout": "IPY_MODEL_e64b8fe6804f45a5a45d77fb1e11cc77",
            "placeholder": "​",
            "style": "IPY_MODEL_c515d27d281d4e51aa008b4556615d88",
            "value": "config.json: 100%"
          }
        },
        "b8f62614939847bc97e7956688d2807c": {
          "model_module": "@jupyter-widgets/controls",
          "model_module_version": "1.5.0",
          "model_name": "DescriptionStyleModel",
          "state": {
            "_model_module": "@jupyter-widgets/controls",
            "_model_module_version": "1.5.0",
            "_model_name": "DescriptionStyleModel",
            "_view_count": null,
            "_view_module": "@jupyter-widgets/base",
            "_view_module_version": "1.2.0",
            "_view_name": "StyleView",
            "description_width": ""
          }
        },
        "ba2dbfd1bb184d398a72adf85920390e": {
          "model_module": "@jupyter-widgets/base",
          "model_module_version": "1.2.0",
          "model_name": "LayoutModel",
          "state": {
            "_model_module": "@jupyter-widgets/base",
            "_model_module_version": "1.2.0",
            "_model_name": "LayoutModel",
            "_view_count": null,
            "_view_module": "@jupyter-widgets/base",
            "_view_module_version": "1.2.0",
            "_view_name": "LayoutView",
            "align_content": null,
            "align_items": null,
            "align_self": null,
            "border": null,
            "bottom": null,
            "display": null,
            "flex": null,
            "flex_flow": null,
            "grid_area": null,
            "grid_auto_columns": null,
            "grid_auto_flow": null,
            "grid_auto_rows": null,
            "grid_column": null,
            "grid_gap": null,
            "grid_row": null,
            "grid_template_areas": null,
            "grid_template_columns": null,
            "grid_template_rows": null,
            "height": null,
            "justify_content": null,
            "justify_items": null,
            "left": null,
            "margin": null,
            "max_height": null,
            "max_width": null,
            "min_height": null,
            "min_width": null,
            "object_fit": null,
            "object_position": null,
            "order": null,
            "overflow": null,
            "overflow_x": null,
            "overflow_y": null,
            "padding": null,
            "right": null,
            "top": null,
            "visibility": null,
            "width": null
          }
        },
        "be16923cf0e44d82ae6bbccd473599b3": {
          "model_module": "@jupyter-widgets/controls",
          "model_module_version": "1.5.0",
          "model_name": "HBoxModel",
          "state": {
            "_dom_classes": [],
            "_model_module": "@jupyter-widgets/controls",
            "_model_module_version": "1.5.0",
            "_model_name": "HBoxModel",
            "_view_count": null,
            "_view_module": "@jupyter-widgets/controls",
            "_view_module_version": "1.5.0",
            "_view_name": "HBoxView",
            "box_style": "",
            "children": [
              "IPY_MODEL_012dce7d37384ff9b6af4c2defbc940d",
              "IPY_MODEL_cc26407580ec44d4bc7e680bbefd8fee",
              "IPY_MODEL_66100ef2fa1b4e56bbcc9aec12f7e35e"
            ],
            "layout": "IPY_MODEL_79dc6af6c4c44fa4b99536af8e067bb1"
          }
        },
        "c2e1ffd9188449368db51cb350a0731c": {
          "model_module": "@jupyter-widgets/base",
          "model_module_version": "1.2.0",
          "model_name": "LayoutModel",
          "state": {
            "_model_module": "@jupyter-widgets/base",
            "_model_module_version": "1.2.0",
            "_model_name": "LayoutModel",
            "_view_count": null,
            "_view_module": "@jupyter-widgets/base",
            "_view_module_version": "1.2.0",
            "_view_name": "LayoutView",
            "align_content": null,
            "align_items": null,
            "align_self": null,
            "border": null,
            "bottom": null,
            "display": null,
            "flex": null,
            "flex_flow": null,
            "grid_area": null,
            "grid_auto_columns": null,
            "grid_auto_flow": null,
            "grid_auto_rows": null,
            "grid_column": null,
            "grid_gap": null,
            "grid_row": null,
            "grid_template_areas": null,
            "grid_template_columns": null,
            "grid_template_rows": null,
            "height": null,
            "justify_content": null,
            "justify_items": null,
            "left": null,
            "margin": null,
            "max_height": null,
            "max_width": null,
            "min_height": null,
            "min_width": null,
            "object_fit": null,
            "object_position": null,
            "order": null,
            "overflow": null,
            "overflow_x": null,
            "overflow_y": null,
            "padding": null,
            "right": null,
            "top": null,
            "visibility": null,
            "width": null
          }
        },
        "c43ee43531e94548a1c2b58d3436e082": {
          "model_module": "@jupyter-widgets/controls",
          "model_module_version": "1.5.0",
          "model_name": "HTMLModel",
          "state": {
            "_dom_classes": [],
            "_model_module": "@jupyter-widgets/controls",
            "_model_module_version": "1.5.0",
            "_model_name": "HTMLModel",
            "_view_count": null,
            "_view_module": "@jupyter-widgets/controls",
            "_view_module_version": "1.5.0",
            "_view_name": "HTMLView",
            "description": "",
            "description_tooltip": null,
            "layout": "IPY_MODEL_38c8bcaccfdd4d6fb75550a61d47e403",
            "placeholder": "​",
            "style": "IPY_MODEL_b8f62614939847bc97e7956688d2807c",
            "value": " 483/483 [00:00&lt;00:00, 37.2kB/s]"
          }
        },
        "c515d27d281d4e51aa008b4556615d88": {
          "model_module": "@jupyter-widgets/controls",
          "model_module_version": "1.5.0",
          "model_name": "DescriptionStyleModel",
          "state": {
            "_model_module": "@jupyter-widgets/controls",
            "_model_module_version": "1.5.0",
            "_model_name": "DescriptionStyleModel",
            "_view_count": null,
            "_view_module": "@jupyter-widgets/base",
            "_view_module_version": "1.2.0",
            "_view_name": "StyleView",
            "description_width": ""
          }
        },
        "cc26407580ec44d4bc7e680bbefd8fee": {
          "model_module": "@jupyter-widgets/controls",
          "model_module_version": "1.5.0",
          "model_name": "FloatProgressModel",
          "state": {
            "_dom_classes": [],
            "_model_module": "@jupyter-widgets/controls",
            "_model_module_version": "1.5.0",
            "_model_name": "FloatProgressModel",
            "_view_count": null,
            "_view_module": "@jupyter-widgets/controls",
            "_view_module_version": "1.5.0",
            "_view_name": "ProgressView",
            "bar_style": "success",
            "description": "",
            "description_tooltip": null,
            "layout": "IPY_MODEL_0b07384060d04d5785d0fb6ec938ae11",
            "max": 466062,
            "min": 0,
            "orientation": "horizontal",
            "style": "IPY_MODEL_7973ec02313b49a3aba8b5346b3715bc",
            "value": 466062
          }
        },
        "cd3e4544cd5446c18edbbc37d8c2800d": {
          "model_module": "@jupyter-widgets/controls",
          "model_module_version": "1.5.0",
          "model_name": "FloatProgressModel",
          "state": {
            "_dom_classes": [],
            "_model_module": "@jupyter-widgets/controls",
            "_model_module_version": "1.5.0",
            "_model_name": "FloatProgressModel",
            "_view_count": null,
            "_view_module": "@jupyter-widgets/controls",
            "_view_module_version": "1.5.0",
            "_view_name": "ProgressView",
            "bar_style": "success",
            "description": "",
            "description_tooltip": null,
            "layout": "IPY_MODEL_ba2dbfd1bb184d398a72adf85920390e",
            "max": 267954768,
            "min": 0,
            "orientation": "horizontal",
            "style": "IPY_MODEL_0cc219dfe1b7492aa9f38b6a955b3bc5",
            "value": 267954768
          }
        },
        "d097e0e83cad4b278c7ae5f75a734896": {
          "model_module": "@jupyter-widgets/controls",
          "model_module_version": "1.5.0",
          "model_name": "HTMLModel",
          "state": {
            "_dom_classes": [],
            "_model_module": "@jupyter-widgets/controls",
            "_model_module_version": "1.5.0",
            "_model_name": "HTMLModel",
            "_view_count": null,
            "_view_module": "@jupyter-widgets/controls",
            "_view_module_version": "1.5.0",
            "_view_name": "HTMLView",
            "description": "",
            "description_tooltip": null,
            "layout": "IPY_MODEL_068e09e5337941be9c2ebd1800a14651",
            "placeholder": "​",
            "style": "IPY_MODEL_d2ca4b5813be4069ab46f0ca64173614",
            "value": "model.safetensors: 100%"
          }
        },
        "d0dd5925b7144a7c90e336bc2d450a9d": {
          "model_module": "@jupyter-widgets/base",
          "model_module_version": "1.2.0",
          "model_name": "LayoutModel",
          "state": {
            "_model_module": "@jupyter-widgets/base",
            "_model_module_version": "1.2.0",
            "_model_name": "LayoutModel",
            "_view_count": null,
            "_view_module": "@jupyter-widgets/base",
            "_view_module_version": "1.2.0",
            "_view_name": "LayoutView",
            "align_content": null,
            "align_items": null,
            "align_self": null,
            "border": null,
            "bottom": null,
            "display": null,
            "flex": null,
            "flex_flow": null,
            "grid_area": null,
            "grid_auto_columns": null,
            "grid_auto_flow": null,
            "grid_auto_rows": null,
            "grid_column": null,
            "grid_gap": null,
            "grid_row": null,
            "grid_template_areas": null,
            "grid_template_columns": null,
            "grid_template_rows": null,
            "height": null,
            "justify_content": null,
            "justify_items": null,
            "left": null,
            "margin": null,
            "max_height": null,
            "max_width": null,
            "min_height": null,
            "min_width": null,
            "object_fit": null,
            "object_position": null,
            "order": null,
            "overflow": null,
            "overflow_x": null,
            "overflow_y": null,
            "padding": null,
            "right": null,
            "top": null,
            "visibility": null,
            "width": null
          }
        },
        "d2ca4b5813be4069ab46f0ca64173614": {
          "model_module": "@jupyter-widgets/controls",
          "model_module_version": "1.5.0",
          "model_name": "DescriptionStyleModel",
          "state": {
            "_model_module": "@jupyter-widgets/controls",
            "_model_module_version": "1.5.0",
            "_model_name": "DescriptionStyleModel",
            "_view_count": null,
            "_view_module": "@jupyter-widgets/base",
            "_view_module_version": "1.2.0",
            "_view_name": "StyleView",
            "description_width": ""
          }
        },
        "d6318d7cbde44993b5cd03c231594034": {
          "model_module": "@jupyter-widgets/controls",
          "model_module_version": "1.5.0",
          "model_name": "DescriptionStyleModel",
          "state": {
            "_model_module": "@jupyter-widgets/controls",
            "_model_module_version": "1.5.0",
            "_model_name": "DescriptionStyleModel",
            "_view_count": null,
            "_view_module": "@jupyter-widgets/base",
            "_view_module_version": "1.2.0",
            "_view_name": "StyleView",
            "description_width": ""
          }
        },
        "dc06f2d3bace433d8bdae9b92b28d201": {
          "model_module": "@jupyter-widgets/base",
          "model_module_version": "1.2.0",
          "model_name": "LayoutModel",
          "state": {
            "_model_module": "@jupyter-widgets/base",
            "_model_module_version": "1.2.0",
            "_model_name": "LayoutModel",
            "_view_count": null,
            "_view_module": "@jupyter-widgets/base",
            "_view_module_version": "1.2.0",
            "_view_name": "LayoutView",
            "align_content": null,
            "align_items": null,
            "align_self": null,
            "border": null,
            "bottom": null,
            "display": null,
            "flex": null,
            "flex_flow": null,
            "grid_area": null,
            "grid_auto_columns": null,
            "grid_auto_flow": null,
            "grid_auto_rows": null,
            "grid_column": null,
            "grid_gap": null,
            "grid_row": null,
            "grid_template_areas": null,
            "grid_template_columns": null,
            "grid_template_rows": null,
            "height": null,
            "justify_content": null,
            "justify_items": null,
            "left": null,
            "margin": null,
            "max_height": null,
            "max_width": null,
            "min_height": null,
            "min_width": null,
            "object_fit": null,
            "object_position": null,
            "order": null,
            "overflow": null,
            "overflow_x": null,
            "overflow_y": null,
            "padding": null,
            "right": null,
            "top": null,
            "visibility": null,
            "width": null
          }
        },
        "e2f1f1e4d47f4c68aa0bbb43a9bde97a": {
          "model_module": "@jupyter-widgets/controls",
          "model_module_version": "1.5.0",
          "model_name": "DescriptionStyleModel",
          "state": {
            "_model_module": "@jupyter-widgets/controls",
            "_model_module_version": "1.5.0",
            "_model_name": "DescriptionStyleModel",
            "_view_count": null,
            "_view_module": "@jupyter-widgets/base",
            "_view_module_version": "1.2.0",
            "_view_name": "StyleView",
            "description_width": ""
          }
        },
        "e64b8fe6804f45a5a45d77fb1e11cc77": {
          "model_module": "@jupyter-widgets/base",
          "model_module_version": "1.2.0",
          "model_name": "LayoutModel",
          "state": {
            "_model_module": "@jupyter-widgets/base",
            "_model_module_version": "1.2.0",
            "_model_name": "LayoutModel",
            "_view_count": null,
            "_view_module": "@jupyter-widgets/base",
            "_view_module_version": "1.2.0",
            "_view_name": "LayoutView",
            "align_content": null,
            "align_items": null,
            "align_self": null,
            "border": null,
            "bottom": null,
            "display": null,
            "flex": null,
            "flex_flow": null,
            "grid_area": null,
            "grid_auto_columns": null,
            "grid_auto_flow": null,
            "grid_auto_rows": null,
            "grid_column": null,
            "grid_gap": null,
            "grid_row": null,
            "grid_template_areas": null,
            "grid_template_columns": null,
            "grid_template_rows": null,
            "height": null,
            "justify_content": null,
            "justify_items": null,
            "left": null,
            "margin": null,
            "max_height": null,
            "max_width": null,
            "min_height": null,
            "min_width": null,
            "object_fit": null,
            "object_position": null,
            "order": null,
            "overflow": null,
            "overflow_x": null,
            "overflow_y": null,
            "padding": null,
            "right": null,
            "top": null,
            "visibility": null,
            "width": null
          }
        },
        "e7191da831554ff3a0a64e2d7113433f": {
          "model_module": "@jupyter-widgets/controls",
          "model_module_version": "1.5.0",
          "model_name": "HTMLModel",
          "state": {
            "_dom_classes": [],
            "_model_module": "@jupyter-widgets/controls",
            "_model_module_version": "1.5.0",
            "_model_name": "HTMLModel",
            "_view_count": null,
            "_view_module": "@jupyter-widgets/controls",
            "_view_module_version": "1.5.0",
            "_view_name": "HTMLView",
            "description": "",
            "description_tooltip": null,
            "layout": "IPY_MODEL_d0dd5925b7144a7c90e336bc2d450a9d",
            "placeholder": "​",
            "style": "IPY_MODEL_4b6591103e574261a350c9a0b238a7a2",
            "value": " 268M/268M [00:00&lt;00:00, 381MB/s]"
          }
        },
        "ee4a82fab54d4e6790474d35322e5704": {
          "model_module": "@jupyter-widgets/controls",
          "model_module_version": "1.5.0",
          "model_name": "HTMLModel",
          "state": {
            "_dom_classes": [],
            "_model_module": "@jupyter-widgets/controls",
            "_model_module_version": "1.5.0",
            "_model_name": "HTMLModel",
            "_view_count": null,
            "_view_module": "@jupyter-widgets/controls",
            "_view_module_version": "1.5.0",
            "_view_name": "HTMLView",
            "description": "",
            "description_tooltip": null,
            "layout": "IPY_MODEL_68c1a24464fc4c689d5e36cf8556d819",
            "placeholder": "​",
            "style": "IPY_MODEL_6f8937b8e4e84e578efbaecb6e0207f3",
            "value": " 232k/232k [00:00&lt;00:00, 2.64MB/s]"
          }
        },
        "efa5a4e4a494448495a03ed0bc33c5f0": {
          "model_module": "@jupyter-widgets/controls",
          "model_module_version": "1.5.0",
          "model_name": "FloatProgressModel",
          "state": {
            "_dom_classes": [],
            "_model_module": "@jupyter-widgets/controls",
            "_model_module_version": "1.5.0",
            "_model_name": "FloatProgressModel",
            "_view_count": null,
            "_view_module": "@jupyter-widgets/controls",
            "_view_module_version": "1.5.0",
            "_view_name": "ProgressView",
            "bar_style": "success",
            "description": "",
            "description_tooltip": null,
            "layout": "IPY_MODEL_9b6a710605a648598ee216599cf157a7",
            "max": 48,
            "min": 0,
            "orientation": "horizontal",
            "style": "IPY_MODEL_372439554271423394d67486747f7422",
            "value": 48
          }
        },
        "f7f3d49c9c174fd3b22d5df5b8ede87f": {
          "model_module": "@jupyter-widgets/base",
          "model_module_version": "1.2.0",
          "model_name": "LayoutModel",
          "state": {
            "_model_module": "@jupyter-widgets/base",
            "_model_module_version": "1.2.0",
            "_model_name": "LayoutModel",
            "_view_count": null,
            "_view_module": "@jupyter-widgets/base",
            "_view_module_version": "1.2.0",
            "_view_name": "LayoutView",
            "align_content": null,
            "align_items": null,
            "align_self": null,
            "border": null,
            "bottom": null,
            "display": null,
            "flex": null,
            "flex_flow": null,
            "grid_area": null,
            "grid_auto_columns": null,
            "grid_auto_flow": null,
            "grid_auto_rows": null,
            "grid_column": null,
            "grid_gap": null,
            "grid_row": null,
            "grid_template_areas": null,
            "grid_template_columns": null,
            "grid_template_rows": null,
            "height": null,
            "justify_content": null,
            "justify_items": null,
            "left": null,
            "margin": null,
            "max_height": null,
            "max_width": null,
            "min_height": null,
            "min_width": null,
            "object_fit": null,
            "object_position": null,
            "order": null,
            "overflow": null,
            "overflow_x": null,
            "overflow_y": null,
            "padding": null,
            "right": null,
            "top": null,
            "visibility": null,
            "width": null
          }
        },
        "f8d94fe864874ba1b7081b38283a07c9": {
          "model_module": "@jupyter-widgets/base",
          "model_module_version": "1.2.0",
          "model_name": "LayoutModel",
          "state": {
            "_model_module": "@jupyter-widgets/base",
            "_model_module_version": "1.2.0",
            "_model_name": "LayoutModel",
            "_view_count": null,
            "_view_module": "@jupyter-widgets/base",
            "_view_module_version": "1.2.0",
            "_view_name": "LayoutView",
            "align_content": null,
            "align_items": null,
            "align_self": null,
            "border": null,
            "bottom": null,
            "display": null,
            "flex": null,
            "flex_flow": null,
            "grid_area": null,
            "grid_auto_columns": null,
            "grid_auto_flow": null,
            "grid_auto_rows": null,
            "grid_column": null,
            "grid_gap": null,
            "grid_row": null,
            "grid_template_areas": null,
            "grid_template_columns": null,
            "grid_template_rows": null,
            "height": null,
            "justify_content": null,
            "justify_items": null,
            "left": null,
            "margin": null,
            "max_height": null,
            "max_width": null,
            "min_height": null,
            "min_width": null,
            "object_fit": null,
            "object_position": null,
            "order": null,
            "overflow": null,
            "overflow_x": null,
            "overflow_y": null,
            "padding": null,
            "right": null,
            "top": null,
            "visibility": null,
            "width": null
          }
        }
      }
    }
  },
  "nbformat": 4,
  "nbformat_minor": 0
}